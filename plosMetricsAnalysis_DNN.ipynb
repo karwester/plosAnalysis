{
 "cells": [
  {
   "cell_type": "code",
   "execution_count": 1,
   "id": "7e7dadf9",
   "metadata": {},
   "outputs": [
    {
     "data": {
      "text/html": [
       "<div>\n",
       "<style scoped>\n",
       "    .dataframe tbody tr th:only-of-type {\n",
       "        vertical-align: middle;\n",
       "    }\n",
       "\n",
       "    .dataframe tbody tr th {\n",
       "        vertical-align: top;\n",
       "    }\n",
       "\n",
       "    .dataframe thead th {\n",
       "        text-align: right;\n",
       "    }\n",
       "</style>\n",
       "<table border=\"1\" class=\"dataframe\">\n",
       "  <thead>\n",
       "    <tr style=\"text-align: right;\">\n",
       "      <th></th>\n",
       "      <th>id</th>\n",
       "      <th>title</th>\n",
       "      <th>abstract</th>\n",
       "      <th>journal</th>\n",
       "      <th>publication_date</th>\n",
       "      <th>received_date</th>\n",
       "      <th>accepted_date</th>\n",
       "      <th>counter_total_all</th>\n",
       "      <th>counter_total_month</th>\n",
       "    </tr>\n",
       "  </thead>\n",
       "  <tbody>\n",
       "    <tr>\n",
       "      <th>0</th>\n",
       "      <td>10.1371/journal.pone.0236792</td>\n",
       "      <td>The link between childhood psychological maltr...</td>\n",
       "      <td>['\\nBased on Attachment Theory, the Barlett an...</td>\n",
       "      <td>PLOS ONE</td>\n",
       "      <td>2020-09-03T00:00:00Z</td>\n",
       "      <td>2020-01-09T00:00:00Z</td>\n",
       "      <td>2020-07-06T00:00:00Z</td>\n",
       "      <td>2459</td>\n",
       "      <td>42</td>\n",
       "    </tr>\n",
       "    <tr>\n",
       "      <th>1</th>\n",
       "      <td>10.1371/journal.pone.0280457</td>\n",
       "      <td>Need for affect, need for cognition, and the d...</td>\n",
       "      <td>['\\nThe last decade has witnessed a significan...</td>\n",
       "      <td>PLOS ONE</td>\n",
       "      <td>2023-02-09T00:00:00Z</td>\n",
       "      <td>2021-10-08T00:00:00Z</td>\n",
       "      <td>2023-01-03T00:00:00Z</td>\n",
       "      <td>462</td>\n",
       "      <td>22</td>\n",
       "    </tr>\n",
       "    <tr>\n",
       "      <th>2</th>\n",
       "      <td>10.1371/journal.pone.0192907</td>\n",
       "      <td>The dominance of introspective measures and wh...</td>\n",
       "      <td>['\\nThe behavioral sciences, including most of...</td>\n",
       "      <td>PLOS ONE</td>\n",
       "      <td>2018-02-15T00:00:00Z</td>\n",
       "      <td>2016-11-16T00:00:00Z</td>\n",
       "      <td>2018-02-01T00:00:00Z</td>\n",
       "      <td>2424</td>\n",
       "      <td>11</td>\n",
       "    </tr>\n",
       "    <tr>\n",
       "      <th>3</th>\n",
       "      <td>10.1371/journal.pone.0224326</td>\n",
       "      <td>Does the psychological profile influence the p...</td>\n",
       "      <td>['\\nStress control as well as other psychologi...</td>\n",
       "      <td>PLOS ONE</td>\n",
       "      <td>2019-11-12T00:00:00Z</td>\n",
       "      <td>2019-05-14T00:00:00Z</td>\n",
       "      <td>2019-10-11T00:00:00Z</td>\n",
       "      <td>2637</td>\n",
       "      <td>15</td>\n",
       "    </tr>\n",
       "    <tr>\n",
       "      <th>4</th>\n",
       "      <td>10.1371/journal.pone.0245671</td>\n",
       "      <td>The effect of perceived interracial competitio...</td>\n",
       "      <td>['\\nThere remains a dearth of research on caus...</td>\n",
       "      <td>PLOS ONE</td>\n",
       "      <td>2021-01-29T00:00:00Z</td>\n",
       "      <td>2020-07-18T00:00:00Z</td>\n",
       "      <td>2021-01-05T00:00:00Z</td>\n",
       "      <td>2858</td>\n",
       "      <td>19</td>\n",
       "    </tr>\n",
       "  </tbody>\n",
       "</table>\n",
       "</div>"
      ],
      "text/plain": [
       "                             id  \\\n",
       "0  10.1371/journal.pone.0236792   \n",
       "1  10.1371/journal.pone.0280457   \n",
       "2  10.1371/journal.pone.0192907   \n",
       "3  10.1371/journal.pone.0224326   \n",
       "4  10.1371/journal.pone.0245671   \n",
       "\n",
       "                                               title  \\\n",
       "0  The link between childhood psychological maltr...   \n",
       "1  Need for affect, need for cognition, and the d...   \n",
       "2  The dominance of introspective measures and wh...   \n",
       "3  Does the psychological profile influence the p...   \n",
       "4  The effect of perceived interracial competitio...   \n",
       "\n",
       "                                            abstract   journal  \\\n",
       "0  ['\\nBased on Attachment Theory, the Barlett an...  PLOS ONE   \n",
       "1  ['\\nThe last decade has witnessed a significan...  PLOS ONE   \n",
       "2  ['\\nThe behavioral sciences, including most of...  PLOS ONE   \n",
       "3  ['\\nStress control as well as other psychologi...  PLOS ONE   \n",
       "4  ['\\nThere remains a dearth of research on caus...  PLOS ONE   \n",
       "\n",
       "       publication_date         received_date         accepted_date  \\\n",
       "0  2020-09-03T00:00:00Z  2020-01-09T00:00:00Z  2020-07-06T00:00:00Z   \n",
       "1  2023-02-09T00:00:00Z  2021-10-08T00:00:00Z  2023-01-03T00:00:00Z   \n",
       "2  2018-02-15T00:00:00Z  2016-11-16T00:00:00Z  2018-02-01T00:00:00Z   \n",
       "3  2019-11-12T00:00:00Z  2019-05-14T00:00:00Z  2019-10-11T00:00:00Z   \n",
       "4  2021-01-29T00:00:00Z  2020-07-18T00:00:00Z  2021-01-05T00:00:00Z   \n",
       "\n",
       "   counter_total_all  counter_total_month  \n",
       "0               2459                   42  \n",
       "1                462                   22  \n",
       "2               2424                   11  \n",
       "3               2637                   15  \n",
       "4               2858                   19  "
      ]
     },
     "execution_count": 1,
     "metadata": {},
     "output_type": "execute_result"
    }
   ],
   "source": [
    "import pandas as pd \n",
    "path = r'C:\\Users\\karol\\myenv\\myvenv\\data\\plosOnePsychologyMetrics.csv'#data downloaded before?28/06/2023? check github\n",
    "data = pd.read_csv(path)\n",
    "data.head()"
   ]
  },
  {
   "cell_type": "code",
   "execution_count": 2,
   "id": "1d7cb154",
   "metadata": {},
   "outputs": [
    {
     "data": {
      "text/html": [
       "<div>\n",
       "<style scoped>\n",
       "    .dataframe tbody tr th:only-of-type {\n",
       "        vertical-align: middle;\n",
       "    }\n",
       "\n",
       "    .dataframe tbody tr th {\n",
       "        vertical-align: top;\n",
       "    }\n",
       "\n",
       "    .dataframe thead th {\n",
       "        text-align: right;\n",
       "    }\n",
       "</style>\n",
       "<table border=\"1\" class=\"dataframe\">\n",
       "  <thead>\n",
       "    <tr style=\"text-align: right;\">\n",
       "      <th></th>\n",
       "      <th>id</th>\n",
       "      <th>title</th>\n",
       "      <th>abstract</th>\n",
       "      <th>journal</th>\n",
       "      <th>publication_date</th>\n",
       "      <th>received_date</th>\n",
       "      <th>accepted_date</th>\n",
       "      <th>counter_total_all</th>\n",
       "      <th>counter_total_month</th>\n",
       "    </tr>\n",
       "  </thead>\n",
       "  <tbody>\n",
       "    <tr>\n",
       "      <th>38451</th>\n",
       "      <td>10.1371/journal.pone.0143086</td>\n",
       "      <td>(In)Consistencies in Responses to Sodium Bicar...</td>\n",
       "      <td>['Objectives: Intervention studies do not acco...</td>\n",
       "      <td>PLOS ONE</td>\n",
       "      <td>2015-11-17T00:00:00Z</td>\n",
       "      <td>2015-06-20T00:00:00Z</td>\n",
       "      <td>2015-10-29T00:00:00Z</td>\n",
       "      <td>3170</td>\n",
       "      <td>6</td>\n",
       "    </tr>\n",
       "    <tr>\n",
       "      <th>38396</th>\n",
       "      <td>10.1371/journal.pone.0143086</td>\n",
       "      <td>(In)Consistencies in Responses to Sodium Bicar...</td>\n",
       "      <td>['Objectives: Intervention studies do not acco...</td>\n",
       "      <td>PLOS ONE</td>\n",
       "      <td>2015-11-17T00:00:00Z</td>\n",
       "      <td>2015-06-20T00:00:00Z</td>\n",
       "      <td>2015-10-29T00:00:00Z</td>\n",
       "      <td>3170</td>\n",
       "      <td>6</td>\n",
       "    </tr>\n",
       "    <tr>\n",
       "      <th>37214</th>\n",
       "      <td>10.1371/journal.pone.0247292</td>\n",
       "      <td>A 1-week diet break improves muscle endurance ...</td>\n",
       "      <td>['\\nAthletes undergoing energy restriction for...</td>\n",
       "      <td>PLOS ONE</td>\n",
       "      <td>2021-02-25T00:00:00Z</td>\n",
       "      <td>2020-09-14T00:00:00Z</td>\n",
       "      <td>2021-02-04T00:00:00Z</td>\n",
       "      <td>3012</td>\n",
       "      <td>16</td>\n",
       "    </tr>\n",
       "    <tr>\n",
       "      <th>37178</th>\n",
       "      <td>10.1371/journal.pone.0247292</td>\n",
       "      <td>A 1-week diet break improves muscle endurance ...</td>\n",
       "      <td>['\\nAthletes undergoing energy restriction for...</td>\n",
       "      <td>PLOS ONE</td>\n",
       "      <td>2021-02-25T00:00:00Z</td>\n",
       "      <td>2020-09-14T00:00:00Z</td>\n",
       "      <td>2021-02-04T00:00:00Z</td>\n",
       "      <td>3012</td>\n",
       "      <td>16</td>\n",
       "    </tr>\n",
       "    <tr>\n",
       "      <th>28805</th>\n",
       "      <td>10.1371/journal.pctr.0020026</td>\n",
       "      <td>A Cluster-Randomised Trial Evaluating an Inter...</td>\n",
       "      <td>[\"Objective: Mental health problems often affe...</td>\n",
       "      <td>PLoS Clinical Trials</td>\n",
       "      <td>2007-06-01T00:00:00Z</td>\n",
       "      <td>2006-11-14T00:00:00Z</td>\n",
       "      <td>2007-04-02T00:00:00Z</td>\n",
       "      <td>8186</td>\n",
       "      <td>15</td>\n",
       "    </tr>\n",
       "    <tr>\n",
       "      <th>28791</th>\n",
       "      <td>10.1371/journal.pctr.0020026</td>\n",
       "      <td>A Cluster-Randomised Trial Evaluating an Inter...</td>\n",
       "      <td>[\"Objective: Mental health problems often affe...</td>\n",
       "      <td>PLoS Clinical Trials</td>\n",
       "      <td>2007-06-01T00:00:00Z</td>\n",
       "      <td>2006-11-14T00:00:00Z</td>\n",
       "      <td>2007-04-02T00:00:00Z</td>\n",
       "      <td>8186</td>\n",
       "      <td>15</td>\n",
       "    </tr>\n",
       "    <tr>\n",
       "      <th>36218</th>\n",
       "      <td>10.1371/journal.pone.0079652</td>\n",
       "      <td>A Combination of Let-7d, Let-7g and Let-7i Ser...</td>\n",
       "      <td>['\\n\\t\\t\\t\\tRecent studies have indicated that...</td>\n",
       "      <td>PLoS ONE</td>\n",
       "      <td>2013-11-05T00:00:00Z</td>\n",
       "      <td>2013-05-14T00:00:00Z</td>\n",
       "      <td>2013-10-03T00:00:00Z</td>\n",
       "      <td>5520</td>\n",
       "      <td>15</td>\n",
       "    </tr>\n",
       "    <tr>\n",
       "      <th>36172</th>\n",
       "      <td>10.1371/journal.pone.0079652</td>\n",
       "      <td>A Combination of Let-7d, Let-7g and Let-7i Ser...</td>\n",
       "      <td>['\\n\\t\\t\\t\\tRecent studies have indicated that...</td>\n",
       "      <td>PLoS ONE</td>\n",
       "      <td>2013-11-05T00:00:00Z</td>\n",
       "      <td>2013-05-14T00:00:00Z</td>\n",
       "      <td>2013-10-03T00:00:00Z</td>\n",
       "      <td>5520</td>\n",
       "      <td>15</td>\n",
       "    </tr>\n",
       "  </tbody>\n",
       "</table>\n",
       "</div>"
      ],
      "text/plain": [
       "                                 id  \\\n",
       "38451  10.1371/journal.pone.0143086   \n",
       "38396  10.1371/journal.pone.0143086   \n",
       "37214  10.1371/journal.pone.0247292   \n",
       "37178  10.1371/journal.pone.0247292   \n",
       "28805  10.1371/journal.pctr.0020026   \n",
       "28791  10.1371/journal.pctr.0020026   \n",
       "36218  10.1371/journal.pone.0079652   \n",
       "36172  10.1371/journal.pone.0079652   \n",
       "\n",
       "                                                   title  \\\n",
       "38451  (In)Consistencies in Responses to Sodium Bicar...   \n",
       "38396  (In)Consistencies in Responses to Sodium Bicar...   \n",
       "37214  A 1-week diet break improves muscle endurance ...   \n",
       "37178  A 1-week diet break improves muscle endurance ...   \n",
       "28805  A Cluster-Randomised Trial Evaluating an Inter...   \n",
       "28791  A Cluster-Randomised Trial Evaluating an Inter...   \n",
       "36218  A Combination of Let-7d, Let-7g and Let-7i Ser...   \n",
       "36172  A Combination of Let-7d, Let-7g and Let-7i Ser...   \n",
       "\n",
       "                                                abstract  \\\n",
       "38451  ['Objectives: Intervention studies do not acco...   \n",
       "38396  ['Objectives: Intervention studies do not acco...   \n",
       "37214  ['\\nAthletes undergoing energy restriction for...   \n",
       "37178  ['\\nAthletes undergoing energy restriction for...   \n",
       "28805  [\"Objective: Mental health problems often affe...   \n",
       "28791  [\"Objective: Mental health problems often affe...   \n",
       "36218  ['\\n\\t\\t\\t\\tRecent studies have indicated that...   \n",
       "36172  ['\\n\\t\\t\\t\\tRecent studies have indicated that...   \n",
       "\n",
       "                    journal      publication_date         received_date  \\\n",
       "38451              PLOS ONE  2015-11-17T00:00:00Z  2015-06-20T00:00:00Z   \n",
       "38396              PLOS ONE  2015-11-17T00:00:00Z  2015-06-20T00:00:00Z   \n",
       "37214              PLOS ONE  2021-02-25T00:00:00Z  2020-09-14T00:00:00Z   \n",
       "37178              PLOS ONE  2021-02-25T00:00:00Z  2020-09-14T00:00:00Z   \n",
       "28805  PLoS Clinical Trials  2007-06-01T00:00:00Z  2006-11-14T00:00:00Z   \n",
       "28791  PLoS Clinical Trials  2007-06-01T00:00:00Z  2006-11-14T00:00:00Z   \n",
       "36218              PLoS ONE  2013-11-05T00:00:00Z  2013-05-14T00:00:00Z   \n",
       "36172              PLoS ONE  2013-11-05T00:00:00Z  2013-05-14T00:00:00Z   \n",
       "\n",
       "              accepted_date  counter_total_all  counter_total_month  \n",
       "38451  2015-10-29T00:00:00Z               3170                    6  \n",
       "38396  2015-10-29T00:00:00Z               3170                    6  \n",
       "37214  2021-02-04T00:00:00Z               3012                   16  \n",
       "37178  2021-02-04T00:00:00Z               3012                   16  \n",
       "28805  2007-04-02T00:00:00Z               8186                   15  \n",
       "28791  2007-04-02T00:00:00Z               8186                   15  \n",
       "36218  2013-10-03T00:00:00Z               5520                   15  \n",
       "36172  2013-10-03T00:00:00Z               5520                   15  "
      ]
     },
     "execution_count": 2,
     "metadata": {},
     "output_type": "execute_result"
    }
   ],
   "source": [
    "#REMOVE DUPLICATES\n",
    "data[data['title'].duplicated(keep=False)].sort_values('title').head(8)"
   ]
  },
  {
   "cell_type": "code",
   "execution_count": 3,
   "id": "e8cbc90a",
   "metadata": {},
   "outputs": [
    {
     "name": "stdout",
     "output_type": "stream",
     "text": [
      "<class 'pandas.core.frame.DataFrame'>\n",
      "Index: 50474 entries, 0 to 52435\n",
      "Data columns (total 9 columns):\n",
      " #   Column               Non-Null Count  Dtype \n",
      "---  ------               --------------  ----- \n",
      " 0   id                   50474 non-null  object\n",
      " 1   title                50474 non-null  object\n",
      " 2   abstract             50474 non-null  object\n",
      " 3   journal              49645 non-null  object\n",
      " 4   publication_date     50474 non-null  object\n",
      " 5   received_date        49115 non-null  object\n",
      " 6   accepted_date        49111 non-null  object\n",
      " 7   counter_total_all    50474 non-null  int64 \n",
      " 8   counter_total_month  50474 non-null  int64 \n",
      "dtypes: int64(2), object(7)\n",
      "memory usage: 3.9+ MB\n"
     ]
    }
   ],
   "source": [
    "data = data.drop_duplicates('title')\n",
    "data.info()"
   ]
  },
  {
   "cell_type": "code",
   "execution_count": 4,
   "id": "76441ac1",
   "metadata": {},
   "outputs": [
    {
     "data": {
      "text/html": [
       "<div>\n",
       "<style scoped>\n",
       "    .dataframe tbody tr th:only-of-type {\n",
       "        vertical-align: middle;\n",
       "    }\n",
       "\n",
       "    .dataframe tbody tr th {\n",
       "        vertical-align: top;\n",
       "    }\n",
       "\n",
       "    .dataframe thead th {\n",
       "        text-align: right;\n",
       "    }\n",
       "</style>\n",
       "<table border=\"1\" class=\"dataframe\">\n",
       "  <thead>\n",
       "    <tr style=\"text-align: right;\">\n",
       "      <th></th>\n",
       "      <th>id</th>\n",
       "      <th>title</th>\n",
       "      <th>abstract</th>\n",
       "      <th>journal</th>\n",
       "      <th>publication_date</th>\n",
       "      <th>received_date</th>\n",
       "      <th>accepted_date</th>\n",
       "      <th>counter_total_all</th>\n",
       "      <th>counter_total_month</th>\n",
       "      <th>days_published</th>\n",
       "      <th>views_per_day</th>\n",
       "    </tr>\n",
       "  </thead>\n",
       "  <tbody>\n",
       "    <tr>\n",
       "      <th>0</th>\n",
       "      <td>10.1371/journal.pone.0236792</td>\n",
       "      <td>The link between childhood psychological maltr...</td>\n",
       "      <td>['\\nBased on Attachment Theory, the Barlett an...</td>\n",
       "      <td>PLOS ONE</td>\n",
       "      <td>2020-09-03 00:00:00+00:00</td>\n",
       "      <td>2020-01-09T00:00:00Z</td>\n",
       "      <td>2020-07-06T00:00:00Z</td>\n",
       "      <td>2459</td>\n",
       "      <td>42</td>\n",
       "      <td>1028</td>\n",
       "      <td>2.392023</td>\n",
       "    </tr>\n",
       "    <tr>\n",
       "      <th>1</th>\n",
       "      <td>10.1371/journal.pone.0280457</td>\n",
       "      <td>Need for affect, need for cognition, and the d...</td>\n",
       "      <td>['\\nThe last decade has witnessed a significan...</td>\n",
       "      <td>PLOS ONE</td>\n",
       "      <td>2023-02-09 00:00:00+00:00</td>\n",
       "      <td>2021-10-08T00:00:00Z</td>\n",
       "      <td>2023-01-03T00:00:00Z</td>\n",
       "      <td>462</td>\n",
       "      <td>22</td>\n",
       "      <td>139</td>\n",
       "      <td>3.323741</td>\n",
       "    </tr>\n",
       "    <tr>\n",
       "      <th>2</th>\n",
       "      <td>10.1371/journal.pone.0192907</td>\n",
       "      <td>The dominance of introspective measures and wh...</td>\n",
       "      <td>['\\nThe behavioral sciences, including most of...</td>\n",
       "      <td>PLOS ONE</td>\n",
       "      <td>2018-02-15 00:00:00+00:00</td>\n",
       "      <td>2016-11-16T00:00:00Z</td>\n",
       "      <td>2018-02-01T00:00:00Z</td>\n",
       "      <td>2424</td>\n",
       "      <td>11</td>\n",
       "      <td>1959</td>\n",
       "      <td>1.237366</td>\n",
       "    </tr>\n",
       "    <tr>\n",
       "      <th>3</th>\n",
       "      <td>10.1371/journal.pone.0224326</td>\n",
       "      <td>Does the psychological profile influence the p...</td>\n",
       "      <td>['\\nStress control as well as other psychologi...</td>\n",
       "      <td>PLOS ONE</td>\n",
       "      <td>2019-11-12 00:00:00+00:00</td>\n",
       "      <td>2019-05-14T00:00:00Z</td>\n",
       "      <td>2019-10-11T00:00:00Z</td>\n",
       "      <td>2637</td>\n",
       "      <td>15</td>\n",
       "      <td>1324</td>\n",
       "      <td>1.991692</td>\n",
       "    </tr>\n",
       "    <tr>\n",
       "      <th>4</th>\n",
       "      <td>10.1371/journal.pone.0245671</td>\n",
       "      <td>The effect of perceived interracial competitio...</td>\n",
       "      <td>['\\nThere remains a dearth of research on caus...</td>\n",
       "      <td>PLOS ONE</td>\n",
       "      <td>2021-01-29 00:00:00+00:00</td>\n",
       "      <td>2020-07-18T00:00:00Z</td>\n",
       "      <td>2021-01-05T00:00:00Z</td>\n",
       "      <td>2858</td>\n",
       "      <td>19</td>\n",
       "      <td>880</td>\n",
       "      <td>3.247727</td>\n",
       "    </tr>\n",
       "  </tbody>\n",
       "</table>\n",
       "</div>"
      ],
      "text/plain": [
       "                             id  \\\n",
       "0  10.1371/journal.pone.0236792   \n",
       "1  10.1371/journal.pone.0280457   \n",
       "2  10.1371/journal.pone.0192907   \n",
       "3  10.1371/journal.pone.0224326   \n",
       "4  10.1371/journal.pone.0245671   \n",
       "\n",
       "                                               title  \\\n",
       "0  The link between childhood psychological maltr...   \n",
       "1  Need for affect, need for cognition, and the d...   \n",
       "2  The dominance of introspective measures and wh...   \n",
       "3  Does the psychological profile influence the p...   \n",
       "4  The effect of perceived interracial competitio...   \n",
       "\n",
       "                                            abstract   journal  \\\n",
       "0  ['\\nBased on Attachment Theory, the Barlett an...  PLOS ONE   \n",
       "1  ['\\nThe last decade has witnessed a significan...  PLOS ONE   \n",
       "2  ['\\nThe behavioral sciences, including most of...  PLOS ONE   \n",
       "3  ['\\nStress control as well as other psychologi...  PLOS ONE   \n",
       "4  ['\\nThere remains a dearth of research on caus...  PLOS ONE   \n",
       "\n",
       "           publication_date         received_date         accepted_date  \\\n",
       "0 2020-09-03 00:00:00+00:00  2020-01-09T00:00:00Z  2020-07-06T00:00:00Z   \n",
       "1 2023-02-09 00:00:00+00:00  2021-10-08T00:00:00Z  2023-01-03T00:00:00Z   \n",
       "2 2018-02-15 00:00:00+00:00  2016-11-16T00:00:00Z  2018-02-01T00:00:00Z   \n",
       "3 2019-11-12 00:00:00+00:00  2019-05-14T00:00:00Z  2019-10-11T00:00:00Z   \n",
       "4 2021-01-29 00:00:00+00:00  2020-07-18T00:00:00Z  2021-01-05T00:00:00Z   \n",
       "\n",
       "   counter_total_all  counter_total_month  days_published  views_per_day  \n",
       "0               2459                   42            1028       2.392023  \n",
       "1                462                   22             139       3.323741  \n",
       "2               2424                   11            1959       1.237366  \n",
       "3               2637                   15            1324       1.991692  \n",
       "4               2858                   19             880       3.247727  "
      ]
     },
     "execution_count": 4,
     "metadata": {},
     "output_type": "execute_result"
    }
   ],
   "source": [
    "#count views per day, from the download day\n",
    "#date = 28/06/2023\n",
    "#days_published = date - publication_date\n",
    "#views_per_day =days_published/counter_total_all \n",
    "\n",
    "import pandas as pd\n",
    "from datetime import datetime\n",
    "import pytz\n",
    "\n",
    "# Sample data\n",
    "#data = {'publication_date': ['2020-09-03T00:00:00Z', '2022-03-15T00:00:00Z', '2021-11-28T00:00:00Z']}\n",
    "#df = pd.DataFrame(data)\n",
    "\n",
    "# Convert publication_date column to datetime type\n",
    "data['publication_date'] = pd.to_datetime(data['publication_date'])\n",
    "\n",
    "# Convert given_date to datetime type and localize to UTC timezone\n",
    "given_date = datetime.strptime('28/06/2023', '%d/%m/%Y').replace(tzinfo=pytz.UTC)\n",
    "\n",
    "# Calculate the difference in days\n",
    "data['days_published'] = (given_date - data['publication_date']).dt.days\n",
    "\n",
    "# We have an issue here in that if we divide days published by 0 we will get infinity.\n",
    "# We should dump rows with 0 views\n",
    "\n",
    "data = data[data['counter_total_all'] != 0]\n",
    "\n",
    "data['views_per_day'] = data['counter_total_all']/data['days_published']\n",
    "\n",
    "# Display the resulting dataframe\n",
    "data.head()\n",
    "\n",
    "\n"
   ]
  },
  {
   "cell_type": "code",
   "execution_count": 5,
   "id": "20beff44",
   "metadata": {},
   "outputs": [
    {
     "data": {
      "text/html": [
       "<div>\n",
       "<style scoped>\n",
       "    .dataframe tbody tr th:only-of-type {\n",
       "        vertical-align: middle;\n",
       "    }\n",
       "\n",
       "    .dataframe tbody tr th {\n",
       "        vertical-align: top;\n",
       "    }\n",
       "\n",
       "    .dataframe thead th {\n",
       "        text-align: right;\n",
       "    }\n",
       "</style>\n",
       "<table border=\"1\" class=\"dataframe\">\n",
       "  <thead>\n",
       "    <tr style=\"text-align: right;\">\n",
       "      <th></th>\n",
       "      <th>id</th>\n",
       "      <th>title</th>\n",
       "      <th>abstract</th>\n",
       "      <th>journal</th>\n",
       "      <th>publication_date</th>\n",
       "      <th>received_date</th>\n",
       "      <th>accepted_date</th>\n",
       "      <th>counter_total_all</th>\n",
       "      <th>counter_total_month</th>\n",
       "      <th>days_published</th>\n",
       "      <th>views_per_day</th>\n",
       "      <th>received_to_accepted_days</th>\n",
       "      <th>accepted_to_published_days</th>\n",
       "    </tr>\n",
       "  </thead>\n",
       "  <tbody>\n",
       "    <tr>\n",
       "      <th>0</th>\n",
       "      <td>10.1371/journal.pone.0236792</td>\n",
       "      <td>The link between childhood psychological maltr...</td>\n",
       "      <td>['\\nBased on Attachment Theory, the Barlett an...</td>\n",
       "      <td>PLOS ONE</td>\n",
       "      <td>2020-09-03 00:00:00+00:00</td>\n",
       "      <td>2020-01-09 00:00:00+00:00</td>\n",
       "      <td>2020-07-06 00:00:00+00:00</td>\n",
       "      <td>2459</td>\n",
       "      <td>42</td>\n",
       "      <td>1028</td>\n",
       "      <td>2.392023</td>\n",
       "      <td>179.0</td>\n",
       "      <td>59.0</td>\n",
       "    </tr>\n",
       "    <tr>\n",
       "      <th>1</th>\n",
       "      <td>10.1371/journal.pone.0280457</td>\n",
       "      <td>Need for affect, need for cognition, and the d...</td>\n",
       "      <td>['\\nThe last decade has witnessed a significan...</td>\n",
       "      <td>PLOS ONE</td>\n",
       "      <td>2023-02-09 00:00:00+00:00</td>\n",
       "      <td>2021-10-08 00:00:00+00:00</td>\n",
       "      <td>2023-01-03 00:00:00+00:00</td>\n",
       "      <td>462</td>\n",
       "      <td>22</td>\n",
       "      <td>139</td>\n",
       "      <td>3.323741</td>\n",
       "      <td>452.0</td>\n",
       "      <td>37.0</td>\n",
       "    </tr>\n",
       "    <tr>\n",
       "      <th>2</th>\n",
       "      <td>10.1371/journal.pone.0192907</td>\n",
       "      <td>The dominance of introspective measures and wh...</td>\n",
       "      <td>['\\nThe behavioral sciences, including most of...</td>\n",
       "      <td>PLOS ONE</td>\n",
       "      <td>2018-02-15 00:00:00+00:00</td>\n",
       "      <td>2016-11-16 00:00:00+00:00</td>\n",
       "      <td>2018-02-01 00:00:00+00:00</td>\n",
       "      <td>2424</td>\n",
       "      <td>11</td>\n",
       "      <td>1959</td>\n",
       "      <td>1.237366</td>\n",
       "      <td>442.0</td>\n",
       "      <td>14.0</td>\n",
       "    </tr>\n",
       "    <tr>\n",
       "      <th>3</th>\n",
       "      <td>10.1371/journal.pone.0224326</td>\n",
       "      <td>Does the psychological profile influence the p...</td>\n",
       "      <td>['\\nStress control as well as other psychologi...</td>\n",
       "      <td>PLOS ONE</td>\n",
       "      <td>2019-11-12 00:00:00+00:00</td>\n",
       "      <td>2019-05-14 00:00:00+00:00</td>\n",
       "      <td>2019-10-11 00:00:00+00:00</td>\n",
       "      <td>2637</td>\n",
       "      <td>15</td>\n",
       "      <td>1324</td>\n",
       "      <td>1.991692</td>\n",
       "      <td>150.0</td>\n",
       "      <td>32.0</td>\n",
       "    </tr>\n",
       "    <tr>\n",
       "      <th>4</th>\n",
       "      <td>10.1371/journal.pone.0245671</td>\n",
       "      <td>The effect of perceived interracial competitio...</td>\n",
       "      <td>['\\nThere remains a dearth of research on caus...</td>\n",
       "      <td>PLOS ONE</td>\n",
       "      <td>2021-01-29 00:00:00+00:00</td>\n",
       "      <td>2020-07-18 00:00:00+00:00</td>\n",
       "      <td>2021-01-05 00:00:00+00:00</td>\n",
       "      <td>2858</td>\n",
       "      <td>19</td>\n",
       "      <td>880</td>\n",
       "      <td>3.247727</td>\n",
       "      <td>171.0</td>\n",
       "      <td>24.0</td>\n",
       "    </tr>\n",
       "  </tbody>\n",
       "</table>\n",
       "</div>"
      ],
      "text/plain": [
       "                             id  \\\n",
       "0  10.1371/journal.pone.0236792   \n",
       "1  10.1371/journal.pone.0280457   \n",
       "2  10.1371/journal.pone.0192907   \n",
       "3  10.1371/journal.pone.0224326   \n",
       "4  10.1371/journal.pone.0245671   \n",
       "\n",
       "                                               title  \\\n",
       "0  The link between childhood psychological maltr...   \n",
       "1  Need for affect, need for cognition, and the d...   \n",
       "2  The dominance of introspective measures and wh...   \n",
       "3  Does the psychological profile influence the p...   \n",
       "4  The effect of perceived interracial competitio...   \n",
       "\n",
       "                                            abstract   journal  \\\n",
       "0  ['\\nBased on Attachment Theory, the Barlett an...  PLOS ONE   \n",
       "1  ['\\nThe last decade has witnessed a significan...  PLOS ONE   \n",
       "2  ['\\nThe behavioral sciences, including most of...  PLOS ONE   \n",
       "3  ['\\nStress control as well as other psychologi...  PLOS ONE   \n",
       "4  ['\\nThere remains a dearth of research on caus...  PLOS ONE   \n",
       "\n",
       "           publication_date             received_date  \\\n",
       "0 2020-09-03 00:00:00+00:00 2020-01-09 00:00:00+00:00   \n",
       "1 2023-02-09 00:00:00+00:00 2021-10-08 00:00:00+00:00   \n",
       "2 2018-02-15 00:00:00+00:00 2016-11-16 00:00:00+00:00   \n",
       "3 2019-11-12 00:00:00+00:00 2019-05-14 00:00:00+00:00   \n",
       "4 2021-01-29 00:00:00+00:00 2020-07-18 00:00:00+00:00   \n",
       "\n",
       "              accepted_date  counter_total_all  counter_total_month  \\\n",
       "0 2020-07-06 00:00:00+00:00               2459                   42   \n",
       "1 2023-01-03 00:00:00+00:00                462                   22   \n",
       "2 2018-02-01 00:00:00+00:00               2424                   11   \n",
       "3 2019-10-11 00:00:00+00:00               2637                   15   \n",
       "4 2021-01-05 00:00:00+00:00               2858                   19   \n",
       "\n",
       "   days_published  views_per_day  received_to_accepted_days  \\\n",
       "0            1028       2.392023                      179.0   \n",
       "1             139       3.323741                      452.0   \n",
       "2            1959       1.237366                      442.0   \n",
       "3            1324       1.991692                      150.0   \n",
       "4             880       3.247727                      171.0   \n",
       "\n",
       "   accepted_to_published_days  \n",
       "0                        59.0  \n",
       "1                        37.0  \n",
       "2                        14.0  \n",
       "3                        32.0  \n",
       "4                        24.0  "
      ]
     },
     "execution_count": 5,
     "metadata": {},
     "output_type": "execute_result"
    }
   ],
   "source": [
    "#calculate received_to_accepted_days\n",
    "data['accepted_date'] = pd.to_datetime(data['accepted_date'])\n",
    "data['received_date'] = pd.to_datetime(data['received_date'])\n",
    "data['received_to_accepted_days'] = (data['accepted_date'] - data['received_date']).dt.days\n",
    "#accepted to published days\n",
    "data['accepted_to_published_days'] = (data['publication_date'] - data['accepted_date']).dt.days\n",
    "\n",
    "\n",
    "data.head()"
   ]
  },
  {
   "cell_type": "code",
   "execution_count": 6,
   "id": "5980cdb9",
   "metadata": {},
   "outputs": [
    {
     "name": "stdout",
     "output_type": "stream",
     "text": [
      "Minimum value: 0.005502751375687844\n",
      "Maximum value: 3323.1552810688177\n"
     ]
    }
   ],
   "source": [
    "import numpy as np\n",
    "# Calculate the minimum and maximum values\n",
    "y = data['views_per_day'].values\n",
    "min_value = np.min(y)\n",
    "max_value = np.max(y)\n",
    "\n",
    "print(\"Minimum value:\", min_value)\n",
    "print(\"Maximum value:\", max_value)"
   ]
  },
  {
   "cell_type": "code",
   "execution_count": 7,
   "id": "36ebb253",
   "metadata": {},
   "outputs": [
    {
     "data": {
      "image/png": "[encoded data removed]",
      "text/plain": [
       "<Figure size 640x480 with 1 Axes>"
      ]
     },
     "metadata": {},
     "output_type": "display_data"
    }
   ],
   "source": [
    "\n",
    "import matplotlib.pyplot as plt\n",
    "\n",
    "# The distribution is very skewed\n",
    "\n",
    "# Plotting the distribution of y\n",
    "\n",
    "plt.hist(y, bins=10)  # Adjust the number of bins as needed\n",
    "plt.xlabel('Y Values')\n",
    "plt.ylabel('Frequency')\n",
    "plt.title('Distribution of Y')\n",
    "plt.show()"
   ]
  },
  {
   "cell_type": "code",
   "execution_count": 8,
   "id": "4cef9840",
   "metadata": {},
   "outputs": [
    {
     "data": {
      "text/plain": [
       "counter_total_all             182.815214\n",
       "counter_total_month           118.022770\n",
       "days_published                  0.240935\n",
       "views_per_day                  95.120953\n",
       "received_to_accepted_days       2.090939\n",
       "accepted_to_published_days      5.748886\n",
       "dtype: float64"
      ]
     },
     "execution_count": 8,
     "metadata": {},
     "output_type": "execute_result"
    }
   ],
   "source": [
    "# numeric_only = True)\n",
    "data.skew(axis = 0, skipna = True, numeric_only = True)\n",
    "#weseedata is very skwwed"
   ]
  },
  {
   "cell_type": "code",
   "execution_count": 9,
   "id": "99bcaf21",
   "metadata": {},
   "outputs": [
    {
     "data": {
      "image/png": "[encoded data removed]",
      "text/plain": [
       "<Figure size 640x480 with 1 Axes>"
      ]
     },
     "metadata": {},
     "output_type": "display_data"
    }
   ],
   "source": [
    "from scipy import stats\n",
    "#try log transformation\n",
    "plt.hist(np.log(data['views_per_day']))\n",
    "#plt.hist(np.sqrt(data['views_per_day']))\n",
    "#plt.hist(stats.boxcox(data['views_per_day']))\n",
    "#plt.hist(data['views_per_day'])\n",
    "plt.show()"
   ]
  },
  {
   "cell_type": "code",
   "execution_count": 10,
   "id": "1c834051",
   "metadata": {},
   "outputs": [
    {
     "name": "stdout",
     "output_type": "stream",
     "text": [
      "Outliers: [  47.40282885   42.38016529   38.56928214  295.64904552   57.13651274\n",
      "   40.37066284   34.44532803   38.56338028   55.65714286   24.82118189\n",
      "  128.46578631   56.54549675  129.41422333   41.98126065   29.75725407\n",
      "   94.68441558   25.73447537 1145.40603645   25.34188511   35.14285714\n",
      "   34.28262826   38.32884097   50.77777778   34.86579967   36.44930268\n",
      "   26.5          33.95535714   24.22132797   30.09980431   33.76623377\n",
      "   24.21767363  168.67765568  120.1131815    24.76785714   27.30183221\n",
      "   46.93056943 1196.47437296  253.72894737   24.70974155   31.75638507\n",
      "   31.90156394   28.59821429   27.75         93.93531958   45.89689902\n",
      "   46.04710145   39.52037471   41.63466334   34.63559322   45.32408759\n",
      "   38.08816596  201.0907173    28.36220472   38.52077922   46.75795843\n",
      "   47.67791798   26.39906441   27.82022472   26.07142857   25.30365297\n",
      "   57.9707887    23.82563025   28.           26.42336683   37.12676056\n",
      "   24.74137931   57.99390244   24.26819923   33.42756184   32.97647059\n",
      "   46.14950166   37.72440476  334.82062392   76.33178439  139.59153953\n",
      "   51.98507917   46.14968308   32.9734028    34.41814838   26.88438617\n",
      "   39.88392857   50.90930788  217.51682243  103.01450935   66.54138019\n",
      "   62.92496723  223.79195046   25.28245192   25.11898017   29.9047619\n",
      "   36.88181532   34.20930233   28.27402253   31.05406427   34.87297634\n",
      "  206.37327189   44.77597403  130.49514563   30.57853337   45.92650919\n",
      "  286.37804878   41.77505568   25.25144509   39.14618974   27.61032864\n",
      "   52.06603774   38.8323058    55.54274354  175.6746988   252.46723647\n",
      "   23.82142857   28.0735786   102.42913386   56.19906819   47.64365374\n",
      "   66.39203926   37.77400468   56.36208531   31.14602588   66.32227351\n",
      "   23.78544061   46.49501661   26.08204676   39.47760403   23.90964819\n",
      "   45.87077769   60.69766397   35.08845209   24.31521739   58.74509804\n",
      "   78.72544379   23.93189964   44.78947368   29.81935484   30.7012987\n",
      "   39.57142857   26.44642857   27.03961196   30.5902876    27.1\n",
      "   44.91045168   96.33235294   38.68595288   37.69661267   36.06627978\n",
      "   25.37568526   58.48707909   24.60902256   25.39393939  128.08731809\n",
      "  123.94139194   25.65301479   27.62527352   59.65042811  207.38379814\n",
      "   54.57012195   26.20835594   24.31360397   45.14172376   24.49174444\n",
      "   44.0758226   108.30604288  662.54606142  117.51715686   27.13154689\n",
      "   26.72698413   27.48175182  154.09977064   91.21122112   28.48819876\n",
      "   24.06230937   62.48765432  369.99653979   73.71201814   31.46233766\n",
      "   31.06980455  144.21526803   40.84831846   26.86723314  102.53544495\n",
      "   25.64305177   84.42687747   34.35714286   47.40487637   77.67972871\n",
      "   57.24158598   45.6969697    82.37746806   31.078203     58.37218045\n",
      "   30.21036585   29.15591165   25.81947012  167.7872       35.30663146\n",
      "   58.2063655    67.74720812   37.59213251   26.8700565    25.61428571\n",
      "   56.95238095   38.56993702   41.63676864   33.8033839    27.21923621\n",
      "   28.26141553   35.54112554   37.16009852   64.04887218  393.38848921\n",
      "   24.75294118 3323.15528107   24.88338834  411.10903427   27.85582011\n",
      "   99.4159292    27.44856168   56.50201776   55.19047619   33.7867247\n",
      "   35.03246753  131.45714286  357.70868347   24.08688845   64.89469809\n",
      "   38.95566502   28.8982322    82.7836767    48.22641509   25.23469388\n",
      "  117.5952381    23.61894109   23.96232143   24.66666667   71.92307692\n",
      "   24.4880137   109.60288502   44.94810745   89.65714286   62.86676017\n",
      "   29.83061889   38.83039216   45.45535714   27.52112676  161.25179856\n",
      "  203.39278779   38.29311594   32.00593178   32.31276006   26.69287749\n",
      "   33.8385214    24.94871795   54.8745098    26.59796438   29.59006211\n",
      "   23.82237183  114.40570557   54.91277473  792.25369458   35.44459707\n",
      "   55.40465116   39.53225806   46.92643052   36.78846154   35.22055138\n",
      "   24.11538462   38.55102041   28.02592242   61.35966057   27.42261905\n",
      "   25.07457899   23.74705659  381.78265014   88.18191964  215.27867203\n",
      "   24.93642384   54.40672269   33.26678445  389.31654676   28.11111111\n",
      "   27.52420185   79.67011643   41.41876833  121.26772487   61.84029851\n",
      "   31.7705146    58.4978602    47.97435897   24.22772277   32.29444444\n",
      "   26.75266405   52.44464286   24.33710175   36.50307828   41.96701571\n",
      "   71.64711111  111.57855127   43.61904762  251.82708934   42.64324324\n",
      "   61.76785714   35.05179283   31.58201058   35.43853821   34.9352518\n",
      "   27.3          36.4516129    23.91535433   29.38679597   25.92627246\n",
      "   26.82632212   24.59304511   37.66750314  268.05694306  130.53664036\n",
      "  352.11401425  107.29004329   37.23121387   30.90177322   23.68067227\n",
      "   27.05740378   33.58218063   89.9047619    23.78952263   50.28717251\n",
      "   69.24823695   36.28135932   68.54538088   34.48745911  289.39875776\n",
      "   48.56838906  649.67330017   39.92667814  104.03462133   83.21666667\n",
      "   23.61538462   66.27619048  130.63636364   53.91961683   54.47916667\n",
      "   39.51002055   37.26597938   51.5462754    31.69174041   36.08309456\n",
      "  125.93891798   30.11814346   49.35275835   43.179        36.39215686\n",
      "   27.3674812    31.19541985   43.81277056   63.28235294   28.54054054\n",
      "  151.14285714   63.35180891   43.45836606   59.09433962   26.24528302\n",
      "   43.6155798    24.44952978   41.31762918   35.95238095   25.85634744\n",
      "  137.61278195   36.22131148   45.340055     76.48847926   36.25468165\n",
      "   35.64575646 1081.25274725   82.28132992   54.28358209   28.97916667\n",
      "   23.8372093    59.37037037   37.20670391   45.00059312   32.83571429\n",
      "   28.5047619    28.75251509   32.30753564   34.88794567  108.46610986\n",
      "   28.25114233   48.46512022   79.33191248   54.26655518   25.46739726\n",
      "   35.47725682   29.12753859   23.65412919   52.80834161   33.4516129\n",
      "   65.36290593   25.7934302   141.83272727   26.29516539   35.57971014\n",
      "   83.23582448   29.30830884   50.0992599    40.80343716   26.58737864\n",
      "   27.21136364   57.95273401  250.86100386   25.87614679   68.55813953\n",
      "  158.87221869   26.10155844   37.53808463  185.38496468   64.9183356\n",
      "   32.0759587    59.18430884   29.20725829   85.59014638   75.18971429\n",
      "   31.02623907   47.48031496   91.63335895  163.31774051   85.34495641\n",
      "   25.98959688   26.24242424 1261.20100503   24.24976168   64.3877551\n",
      "   29.92857143   49.59090909   31.38502773   81.91891892  105.72903226\n",
      "  187.85185185   25.14290706   70.16056166  178.30424242   25.32960894\n",
      "   30.37048193   25.35393258   54.79323671   66.99324324   26.25\n",
      "   69.77146631   35.36927817   40.42572741   23.59382265   24.10537558\n",
      "   38.80153159   30.9759904    65.45522388   55.06046512   44.13520408\n",
      "   31.36086957   25.92720236   30.2548404    48.36842105   65.56138889\n",
      "   85.78949275   54.6870229    24.21256454   30.16016598   49.09868421\n",
      "   40.3363029    67.51         27.9          24.32826087   32.24642857\n",
      "   60.57831325   39.2601605    36.81567489   63.81368357   37.56239782\n",
      "   54.63040446  291.2038835   364.49092742  244.73873874   36.3447205\n",
      "   24.45089286   43.20168067   75.63225806   26.31216931   44.16901408\n",
      "   25.08333333   51.25685279   24.75966993   24.04053506   59.17962628\n",
      "   28.59986859  122.10178117   31.14525547   24.32067932   59.0707483\n",
      "   28.22258772   34.22865854   67.57051282   24.05072464   49.23021583\n",
      "  120.97142857   30.71428571   36.33297929   49.29288976   24.3342723\n",
      "   25.36326531   59.72177419   37.40252454   24.67630854   33.89727127\n",
      "   25.90021008   72.75        144.82978723   36.18484252   31.11656442\n",
      "   31.88824214   25.12953368   25.23459119   31.70980392   43.18217822\n",
      "   89.64285714   34.28546579   35.63723608   32.8851752    56.08477998\n",
      "   32.71470076   28.62707692   31.63096397   42.40436457   24.62276786\n",
      "   46.10040161   27.01616162   31.04648391   26.22362869   25.71753247\n",
      "   32.31591563   28.41912633  199.6014944    23.93538693   91.34377276\n",
      "   41.24124514   26.02272727   47.06763285   25.3978907    39.45783133\n",
      "   23.87755102   25.23076923   29.96813208   26.18799368   33.17421603\n",
      "   41.37426901   76.65217391  119.08848821   49.37642045   24.57763975\n",
      "   24.97235023   23.92616226   38.           76.           26.33333333\n",
      "   25.75328593   25.50769231   48.07692308   26.13909924   76.515625\n",
      "   41.82008368  116.23076923   62.1019879    28.94520016   42.90893544\n",
      "   40.78573174   37.86886284   36.75548589   23.90836653   64.45\n",
      "  340.53333333   38.6180758    78.49744898   30.37755102   85.55405405\n",
      "   34.95         32.18253968   28.25         24.77671334   56.73034735\n",
      "  133.98888889   26.38368984]\n"
     ]
    }
   ],
   "source": [
    "#Let's find outliers\n",
    "\n",
    "\n",
    "# Calculate the quartiles\n",
    "Q1 = np.percentile(y, 25)\n",
    "Q3 = np.percentile(y, 75)\n",
    "\n",
    "# Calculate the IQR\n",
    "IQR = Q3 - Q1\n",
    "\n",
    "# Define a threshold for outlier detection (e.g., 1.5 times the IQR)\n",
    "threshold = 10\n",
    "\n",
    "# Identify outliers\n",
    "outliers = y[(y < Q1 - threshold * IQR) | (y > Q3 + threshold * IQR)]\n",
    "\n",
    "# Print the outliers\n",
    "print(\"Outliers:\", outliers)"
   ]
  },
  {
   "cell_type": "code",
   "execution_count": 11,
   "id": "16e65c85",
   "metadata": {},
   "outputs": [
    {
     "name": "stdout",
     "output_type": "stream",
     "text": [
      "9861                                                                                                                              Glass Shape Influences Consumption Rate for Alcoholic Beverages\n",
      "26930                                                                              Health literacy and associated factors among undergraduates: A university-based cross-sectional study in Nepal\n",
      "1108                                                                                                                             Diurnal variations of psychometric indicators in Twitter content\n",
      "364                                                                                                      Loneliness predicts a preference for larger interpersonal distance within intimate space\n",
      "23285                                                                                 Women’s techniques for pleasure from anal touch: Results from a U.S. probability sample of women ages 18–93\n",
      "12782                                                                                                                    Playing Super Mario 64 increases hippocampal grey matter in older adults\n",
      "7787                                                                                                     Battle for the thermostat: Gender and the effect of temperature on cognitive performance\n",
      "18024                                                                                        Alcohol abstinence and mortality in a general population sample of adults in Germany: A cohort study\n",
      "10059                                                                                                                  Altered smell and taste: Anosmia, parosmia and the impact of long Covid-19\n",
      "9780                                                                                     Performance of ChatGPT on USMLE: Potential for AI-assisted medical education using large language models\n",
      "14099                                                                  Tweet you right back: Follower anxiety predicts leader anxiety in social media interactions during the SARS-CoV-2 pandemic\n",
      "13993                                                                                                                            Mobile phones: The effect of its presence on learning and memory\n",
      "8444                                                                    The impact of COVID-19 pandemic on physical and mental health of Asians: A study of seven middle-income countries in Asia\n",
      "31840                                                                                                              Influence of COVID-19 confinement on students’ performance in higher education\n",
      "10601                                                                                                   Women's Preferences for Penis Size: A New Research Method Using Selection among 3D Models\n",
      "16848    Assessing the effect of the COVID-19 pandemic, shift to online learning, and social media use on the mental health of college students in the Philippines: A mixed-method study protocol\n",
      "49049                                                                                            Ring neurons in the Drosophila central complex act as a rheostat for sensory modulation of aging\n",
      "2591                                                                                            A threat to loyalty: Fear of missing out (FOMO) leads to reluctance to repeat current experiences\n",
      "75                                                                                                                       Psychological factors and consumer behavior during the COVID-19 pandemic\n",
      "31804                                                The experiences, challenges, and acceptance of e-learning as a tool for teaching during the COVID-19 pandemic among university medical staff\n",
      "Name: title, dtype: object 9861     3323.155281\n",
      "26930    1261.201005\n",
      "1108     1196.474373\n",
      "364      1145.406036\n",
      "23285    1081.252747\n",
      "12782     792.253695\n",
      "7787      662.546061\n",
      "18024     649.673300\n",
      "10059     411.109034\n",
      "9780      393.388489\n",
      "14099     389.316547\n",
      "13993     381.782650\n",
      "8444      369.996540\n",
      "31840     364.490927\n",
      "10601     357.708683\n",
      "16848     352.114014\n",
      "49049     340.533333\n",
      "2591      334.820624\n",
      "75        295.649046\n",
      "31804     291.203883\n",
      "Name: views_per_day, dtype: float64 9861    2012-08-17 00:00:00+00:00\n",
      "26930   2021-11-08 00:00:00+00:00\n",
      "1108    2018-06-20 00:00:00+00:00\n",
      "364     2018-09-06 00:00:00+00:00\n",
      "23285   2022-06-29 00:00:00+00:00\n",
      "12782   2017-12-06 00:00:00+00:00\n",
      "7787    2019-05-22 00:00:00+00:00\n",
      "18024   2021-11-02 00:00:00+00:00\n",
      "10059   2021-09-24 00:00:00+00:00\n",
      "9780    2023-02-09 00:00:00+00:00\n",
      "14099   2023-02-09 00:00:00+00:00\n",
      "13993   2020-08-13 00:00:00+00:00\n",
      "8444    2021-02-11 00:00:00+00:00\n",
      "31840   2020-10-09 00:00:00+00:00\n",
      "10601   2015-09-02 00:00:00+00:00\n",
      "16848   2022-05-03 00:00:00+00:00\n",
      "49049   2023-06-13 00:00:00+00:00\n",
      "2591    2020-04-30 00:00:00+00:00\n",
      "75      2021-08-16 00:00:00+00:00\n",
      "31804   2021-03-26 00:00:00+00:00\n",
      "Name: publication_date, dtype: datetime64[ns, UTC]\n"
     ]
    }
   ],
   "source": [
    "#Let's look at the most viewed papers\n",
    "top_10_papers = data.nlargest(20, 'views_per_day')\n",
    "\n",
    "# Print the rows of the top 10 papers\n",
    "pd.set_option('display.max_colwidth', None)\n",
    "print(top_10_papers['title'], top_10_papers['views_per_day'], top_10_papers['publication_date'])\n"
   ]
  },
  {
   "cell_type": "markdown",
   "id": "e0df1936",
   "metadata": {},
   "source": [
    "Let's try different types of transformation to deal with the skewness. First we need to remove the outliers but worth analysing them separately later."
   ]
  },
  {
   "cell_type": "code",
   "execution_count": 12,
   "id": "8931e975",
   "metadata": {},
   "outputs": [
    {
     "name": "stdout",
     "output_type": "stream",
     "text": [
      "5.199021151609961\n",
      "0.39136428970142756\n"
     ]
    },
    {
     "data": {
      "text/plain": [
       "Text(-3.8055555555555554, 0.5, 'frequency')"
      ]
     },
     "execution_count": 12,
     "metadata": {},
     "output_type": "execute_result"
    },
    {
     "data": {
      "image/png": "[encoded data removed]",
      "text/plain": [
       "<Figure size 500x500 with 1 Axes>"
      ]
     },
     "metadata": {},
     "output_type": "display_data"
    }
   ],
   "source": [
    "#!pip install seaborn\n",
    "import seaborn as sns \n",
    "no_outliers_df = data[data['views_per_day'] < 50]\n",
    "#plt.hist(no_outliers_df['views_per_day'], bins=50)\n",
    "#plt.hist(np.sqrt(no_outliers_df['views_per_day']))\n",
    "#plt.hist(stats.boxcox(no_outliers_df['views_per_day']))\n",
    "#plt.hist(np.log(no_outliers_df['views_per_day']))\n",
    "#plt.show()\n",
    "print(no_outliers_df['views_per_day'].skew())\n",
    "\n",
    "no_outliers_df_log = np.log(no_outliers_df['views_per_day'])\n",
    "print(no_outliers_df_log.skew())\n",
    "\n",
    "\n",
    "\n",
    "#sns.distplot(no_outliers_df['views_per_day'])\n",
    "sns.displot(no_outliers_df_log, kde=True)\n",
    "plt.title('Views per day without outliers logged', fontsize=18)\n",
    "plt.xlabel('views per day', fontsize=16)\n",
    "plt.ylabel('frequency', fontsize=16)"
   ]
  },
  {
   "cell_type": "code",
   "execution_count": 13,
   "id": "232b344b",
   "metadata": {},
   "outputs": [
    {
     "name": "stdout",
     "output_type": "stream",
     "text": [
      "2.4153057025747593\n"
     ]
    },
    {
     "data": {
      "text/plain": [
       "Text(-3.6805555555555554, 0.5, 'frequency')"
      ]
     },
     "execution_count": 13,
     "metadata": {},
     "output_type": "execute_result"
    },
    {
     "data": {
      "image/png": "[encoded data removed]",
      "text/plain": [
       "<Figure size 500x500 with 1 Axes>"
      ]
     },
     "metadata": {},
     "output_type": "display_data"
    }
   ],
   "source": [
    "no_outliers_df_sqrt = np.sqrt(no_outliers_df['views_per_day'])\n",
    "print(no_outliers_df_sqrt.skew())\n",
    "sns.displot(no_outliers_df_sqrt, kde=True)\n",
    "plt.title('Views per day without outliers squared', fontsize=18)\n",
    "plt.xlabel('views per day', fontsize=16)\n",
    "plt.ylabel('frequency', fontsize=16)"
   ]
  },
  {
   "cell_type": "code",
   "execution_count": 14,
   "id": "9d672b7d",
   "metadata": {},
   "outputs": [
    {
     "name": "stdout",
     "output_type": "stream",
     "text": [
      "-0.07283373285908652\n"
     ]
    },
    {
     "data": {
      "text/plain": [
       "Text(-3.8055555555555554, 0.5, 'frequency')"
      ]
     },
     "execution_count": 14,
     "metadata": {},
     "output_type": "execute_result"
    },
    {
     "data": {
      "image/png": "[encoded data removed]",
      "text/plain": [
       "<Figure size 500x500 with 1 Axes>"
      ]
     },
     "metadata": {},
     "output_type": "display_data"
    }
   ],
   "source": [
    "#let's also try box cox\n",
    "no_outliers_df_boxcox = stats.boxcox(no_outliers_df['views_per_day'])[0]#get first value of the tuple\n",
    "print(pd.Series(no_outliers_df_boxcox).skew())\n",
    "sns.displot(no_outliers_df_boxcox, kde=True)\n",
    "plt.title('Views per day without outliers boxcox', fontsize=18)\n",
    "plt.xlabel('views per day', fontsize=16)\n",
    "plt.ylabel('frequency', fontsize=16)"
   ]
  },
  {
   "cell_type": "code",
   "execution_count": 15,
   "id": "d254588f",
   "metadata": {},
   "outputs": [
    {
     "name": "stderr",
     "output_type": "stream",
     "text": [
      "C:\\Users\\karol\\AppData\\Local\\Temp\\ipykernel_23288\\2404008611.py:3: SettingWithCopyWarning: \n",
      "A value is trying to be set on a copy of a slice from a DataFrame.\n",
      "Try using .loc[row_indexer,col_indexer] = value instead\n",
      "\n",
      "See the caveats in the documentation: https://pandas.pydata.org/pandas-docs/stable/user_guide/indexing.html#returning-a-view-versus-a-copy\n",
      "  no_outliers_df.loc[:, 'boxcox_views_per_day'] = stats.boxcox(no_outliers_df['views_per_day'])[0]\n"
     ]
    }
   ],
   "source": [
    "#create dataframe with boxcox data\n",
    "#no_outliers_df['boxcox_views_per_day'] = stats.boxcox(no_outliers_df['views_per_day'])[0]\n",
    "no_outliers_df.loc[:, 'boxcox_views_per_day'] = stats.boxcox(no_outliers_df['views_per_day'])[0]\n",
    "\n"
   ]
  },
  {
   "cell_type": "code",
   "execution_count": 16,
   "id": "a352fda1",
   "metadata": {},
   "outputs": [
    {
     "name": "stdout",
     "output_type": "stream",
     "text": [
      "9223372036854775807\n"
     ]
    }
   ],
   "source": [
    "import sys\n",
    "\n",
    "print(sys.maxsize)"
   ]
  },
  {
   "cell_type": "markdown",
   "id": "8f21027c",
   "metadata": {},
   "source": [
    "Let's try to use a simple regression as a baseline model"
   ]
  },
  {
   "cell_type": "code",
   "execution_count": 17,
   "id": "e973376d",
   "metadata": {},
   "outputs": [],
   "source": [
    "from sklearn.model_selection import train_test_split\n",
    "\n",
    "abstracts = no_outliers_df['abstract'].values\n",
    "y = no_outliers_df['views_per_day'].values\n",
    "\n",
    "abstracts_train, abstracts_test, y_train, y_test = train_test_split(abstracts, y, test_size=0.2, random_state=1000)"
   ]
  },
  {
   "cell_type": "markdown",
   "id": "3b689d10",
   "metadata": {},
   "source": [
    "## The below take ages"
   ]
  },
  {
   "cell_type": "markdown",
   "id": "fb31df02",
   "metadata": {},
   "source": [
    "Best results with boxcox transormation"
   ]
  },
  {
   "cell_type": "code",
   "execution_count": 18,
   "id": "a653b85d",
   "metadata": {},
   "outputs": [],
   "source": [
    "# import numpy as np\n",
    "# from sentence_transformers import SentenceTransformer\n",
    "\n",
    "\n",
    "# #docs = ['the influence of human activity on the warming of the climate system has evolved from theory to established fact', \n",
    "# #        'cats can jump 5 times their own height']\n",
    "\n",
    "# model = SentenceTransformer('all-MiniLM-L6-v2')\n",
    "# #docs = data['titleText'].values\n",
    "# vectorized_abstracts_BERT_train = model.encode(np.asarray(abstracts_train))\n",
    "# print(\"Shape:\", vectorized_abstracts_BERT_train.shape)\n",
    "# #takes a long tm=ime"
   ]
  },
  {
   "cell_type": "code",
   "execution_count": 19,
   "id": "b44d481c",
   "metadata": {},
   "outputs": [],
   "source": [
    "# vectorized_abstracts_BERT_test = model.encode(np.asarray(abstracts_test))\n",
    "# print(\"Shape:\", vectorized_abstracts_BERT_test.shape)"
   ]
  },
  {
   "cell_type": "code",
   "execution_count": 20,
   "id": "f9b4f205",
   "metadata": {},
   "outputs": [],
   "source": [
    "# from sklearn.linear_model import LinearRegression\n",
    "\n",
    "# regression = LinearRegression()\n",
    "# regression.fit(vectorized_abstracts_BERT_train, y_train)\n",
    "# score = regression.score(vectorized_abstracts_BERT_test, y_test)\n",
    "\n",
    "# print(\"Accuracy:\", score)"
   ]
  },
  {
   "cell_type": "code",
   "execution_count": 21,
   "id": "63043320",
   "metadata": {},
   "outputs": [],
   "source": [
    "#not very good\n",
    "#try a more advanced NN model "
   ]
  },
  {
   "cell_type": "markdown",
   "id": "02c76e7d",
   "metadata": {},
   "source": [
    "## Let's try with TF-IDF vectorization and titles"
   ]
  },
  {
   "cell_type": "code",
   "execution_count": 43,
   "id": "0770f1cc",
   "metadata": {},
   "outputs": [],
   "source": [
    "titles = no_outliers_df['title'].values\n",
    "y = no_outliers_df['views_per_day'].values\n",
    "\n",
    "titles_train, titles_test, y_train, y_test = train_test_split(titles, y, test_size=0.2, random_state=1000)"
   ]
  },
  {
   "cell_type": "code",
   "execution_count": 45,
   "id": "ae5bd3d3",
   "metadata": {},
   "outputs": [],
   "source": [
    "#!pip install tensorflow\n",
    "import tensorflow as tf\n",
    "from tensorflow.keras import layers\n",
    "\n",
    "# vocab_size = 20000\n",
    "# X = df[\"text\"]\n",
    "# text_vectorizer = layers.TextVectorization(max_tokens=config.vocab_size, output_mode=\"tf-idf\", ngrams=2)\n",
    "# # Index the bigrams and learn the TF-IDF weights via `adapt()`\n",
    "# with tf.device(\"CPU\"):\n",
    "#     # A bug that prevents this from running on GPU for now.\n",
    "#     text_vectorizer.adapt(X)\n",
    "\n",
    "max_features = 10000\n",
    "#sequence_length = 250\n",
    "\n",
    "vectorize_layer = layers.TextVectorization(\n",
    "    max_tokens=max_features,\n",
    "    output_mode=\"tf-idf\", \n",
    "    ngrams=2\n",
    "    #output_sequence_length=sequence_length)\n",
    ")"
   ]
  },
  {
   "cell_type": "code",
   "execution_count": 46,
   "id": "c741a292",
   "metadata": {},
   "outputs": [],
   "source": [
    "# Make a text-only dataset (without labels), then call adapt\n",
    "\n",
    "vectorize_layer.adapt(titles_train)"
   ]
  },
  {
   "cell_type": "code",
   "execution_count": 47,
   "id": "783e6643",
   "metadata": {},
   "outputs": [
    {
     "data": {
      "text/plain": [
       "TensorShape([3, 10000])"
      ]
     },
     "execution_count": 47,
     "metadata": {},
     "output_type": "execute_result"
    }
   ],
   "source": [
    "sample = vectorize_layer(titles_train[0:3])\n",
    "sample.shape\n",
    "#because max features was 10000"
   ]
  },
  {
   "cell_type": "code",
   "execution_count": 48,
   "id": "1b57f0e3",
   "metadata": {},
   "outputs": [
    {
     "name": "stdout",
     "output_type": "stream",
     "text": [
      "Title: Weight Change Is a Characteristic Non-Motor Symptom in Drug-Naïve Parkinson’s Disease Patients with Non-Tremor Dominant Subtype: A Nation-Wide Observational Study\n",
      "Vectorized review tf.Tensor(\n",
      "[[115.061806    0.          1.0521923 ...   0.          0.\n",
      "    0.       ]], shape=(1, 10000), dtype=float32)\n"
     ]
    }
   ],
   "source": [
    "def vectorize_text(text):\n",
    "  text = tf.expand_dims(text, -1)\n",
    "  return vectorize_layer(text)\n",
    "\n",
    "# retrieve a batch (of 32 reviews and labels) from the dataset\n",
    "\n",
    "first_title= titles_train[0]\n",
    "print(\"Title:\", first_title)\n",
    "print(\"Vectorized review\", vectorize_text(first_title))"
   ]
  },
  {
   "cell_type": "code",
   "execution_count": 49,
   "id": "dc312ee1",
   "metadata": {},
   "outputs": [
    {
     "name": "stdout",
     "output_type": "stream",
     "text": [
      "Model: \"sequential_2\"\n",
      "_________________________________________________________________\n",
      " Layer (type)                Output Shape              Param #   \n",
      "=================================================================\n",
      " text_vectorization_2 (Text  (None, 10000)             1         \n",
      " Vectorization)                                                  \n",
      "                                                                 \n",
      " dense_6 (Dense)             (None, 256)               2560256   \n",
      "                                                                 \n",
      " dense_7 (Dense)             (None, 32)                8224      \n",
      "                                                                 \n",
      " dense_8 (Dense)             (None, 1)                 33        \n",
      "                                                                 \n",
      "=================================================================\n",
      "Total params: 2568514 (9.80 MB)\n",
      "Trainable params: 2568513 (9.80 MB)\n",
      "Non-trainable params: 1 (8.00 Byte)\n",
      "_________________________________________________________________\n"
     ]
    }
   ],
   "source": [
    "#!pip install keras\n",
    "import keras\n",
    "model = keras.Sequential([\n",
    "        keras.Input(shape=(1, ), dtype=\"string\"), #has to be shape 1\n",
    "        vectorize_layer,\n",
    "        layers.Dense(256, activation=\"relu\", kernel_regularizer=\"l2\"),\n",
    "        layers.Dense(32, activation=\"relu\", kernel_regularizer=\"l2\"),\n",
    "        layers.Dense(1)\n",
    "    ])\n",
    "model.compile(optimizer=\"adam\", loss='mean_absolute_error')\n",
    "\n",
    "model.summary()\n",
    "\n",
    "\n",
    "# horsepower_model = tf.keras.Sequential([\n",
    "#     horsepower_normalizer,\n",
    "#     layers.Dense(units=1)\n",
    "# ])\n",
    "\n",
    "# horsepower_model.summary()\n",
    "# ----\n",
    "# input_dim = vectorize_text.shape[1]  # Number of features\n",
    "\n",
    "# model = keras.Sequential()\n",
    "# model.add(keras.layers.Dense(10, input_dim=input_dim, activation='relu'))\n",
    "# model.add(keras.layers.Dense(1, activation='sigmoid'))\n",
    "# --\n",
    "#  Set up the network\n",
    "# #\n",
    "# network = models.Sequential()\n",
    "# network.add(layers.Dense(24, activation='relu', input_shape=(13,)))\n",
    "# network.add(layers.Dense(32, activation='relu'))\n",
    "# network.add(layers.Dense(1))"
   ]
  },
  {
   "cell_type": "code",
   "execution_count": 51,
   "id": "adbf09b0",
   "metadata": {},
   "outputs": [
    {
     "name": "stdout",
     "output_type": "stream",
     "text": [
      "1/1 [==============================] - 0s 134ms/step\n"
     ]
    },
    {
     "data": {
      "text/plain": [
       "array([[0.64978224],\n",
       "       [0.6588214 ],\n",
       "       [0.5515628 ],\n",
       "       [0.2553554 ],\n",
       "       [0.21067703],\n",
       "       [0.82286274],\n",
       "       [2.1070242 ],\n",
       "       [0.13304472],\n",
       "       [0.23812473],\n",
       "       [0.48587614]], dtype=float32)"
      ]
     },
     "execution_count": 51,
     "metadata": {},
     "output_type": "execute_result"
    }
   ],
   "source": [
    "#Run the untrained model on the first 10 'Horsepower' values. The output won't be good\n",
    "model.predict(titles_train[:10])"
   ]
  },
  {
   "cell_type": "code",
   "execution_count": 52,
   "id": "fd5cec2b",
   "metadata": {},
   "outputs": [],
   "source": [
    "model.compile(\n",
    "    optimizer=tf.keras.optimizers.Adam(learning_rate=0.1),\n",
    "    loss='mean_absolute_error')"
   ]
  },
  {
   "cell_type": "code",
   "execution_count": null,
   "id": "a078e2f6",
   "metadata": {},
   "outputs": [],
   "source": [
    "%%time\n",
    "history = model.fit(\n",
    "    titles_train,\n",
    "    y_train,\n",
    "    epochs=100,\n",
    "    # Suppress logging.\n",
    "    verbose=0,\n",
    "    # Calculate validation results on 20% of the training data.\n",
    "    validation_split = 0.2)"
   ]
  },
  {
   "cell_type": "code",
   "execution_count": null,
   "id": "d9785724",
   "metadata": {},
   "outputs": [],
   "source": [
    "def plot_loss(history):\n",
    "  plt.plot(history.history['loss'], label='loss')\n",
    "  plt.plot(history.history['val_loss'], label='val_loss')\n",
    "  plt.ylim([0, 10])\n",
    "  plt.xlabel('Epoch')\n",
    "  plt.ylabel('Error [MPG]')\n",
    "  plt.legend()\n",
    "  plt.grid(True)\n",
    "\n",
    "plot_loss(history)"
   ]
  }
 ],
 "metadata": {
  "kernelspec": {
   "display_name": "Python 3 (ipykernel)",
   "language": "python",
   "name": "python3"
  },
  "language_info": {
   "codemirror_mode": {
    "name": "ipython",
    "version": 3
   },
   "file_extension": ".py",
   "mimetype": "text/x-python",
   "name": "python",
   "nbconvert_exporter": "python",
   "pygments_lexer": "ipython3",
   "version": "3.11.3"
  }
 },
 "nbformat": 4,
 "nbformat_minor": 5
}
