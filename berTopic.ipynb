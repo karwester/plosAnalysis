{
 "cells": [
  {
   "cell_type": "markdown",
   "metadata": {
    "colab": {
     "base_uri": "https://localhost:8080/"
    },
    "id": "a47LcLpMyv5M",
    "outputId": "1e06dd13-c7c9-4d83-fd7b-801ef77ccb28"
   },
   "source": [
    "### Dynamic Topic Modeling for PLOS topics\n",
    "This notebook presents the analysis of pychology-related topics published in PLOS over time.\n"
   ]
  },
  {
   "cell_type": "code",
   "execution_count": 15,
   "metadata": {
    "id": "6FrhHfNhv3sS"
   },
   "outputs": [],
   "source": [
    "import pandas as pd\n",
    "#%ls\n",
    "data = pd.read_csv(r'C:\\Users\\karol\\projects\\plosAnalysis\\plosOnePsychologyMetrics.csv')\n",
    "# #data.head()"
   ]
  },
  {
   "cell_type": "code",
   "execution_count": 16,
   "metadata": {},
   "outputs": [
    {
     "data": {
      "text/html": [
       "<div>\n",
       "<style scoped>\n",
       "    .dataframe tbody tr th:only-of-type {\n",
       "        vertical-align: middle;\n",
       "    }\n",
       "\n",
       "    .dataframe tbody tr th {\n",
       "        vertical-align: top;\n",
       "    }\n",
       "\n",
       "    .dataframe thead th {\n",
       "        text-align: right;\n",
       "    }\n",
       "</style>\n",
       "<table border=\"1\" class=\"dataframe\">\n",
       "  <thead>\n",
       "    <tr style=\"text-align: right;\">\n",
       "      <th></th>\n",
       "      <th>id</th>\n",
       "      <th>title</th>\n",
       "      <th>abstract</th>\n",
       "      <th>journal</th>\n",
       "      <th>publication_date</th>\n",
       "      <th>received_date</th>\n",
       "      <th>accepted_date</th>\n",
       "      <th>counter_total_all</th>\n",
       "      <th>counter_total_month</th>\n",
       "      <th>citation_count</th>\n",
       "    </tr>\n",
       "  </thead>\n",
       "  <tbody>\n",
       "    <tr>\n",
       "      <th>0</th>\n",
       "      <td>10.1371/journal.pone.0236792</td>\n",
       "      <td>The link between childhood psychological maltr...</td>\n",
       "      <td>['\\nBased on Attachment Theory, the Barlett an...</td>\n",
       "      <td>PLOS ONE</td>\n",
       "      <td>2020-09-03T00:00:00Z</td>\n",
       "      <td>2020-01-09T00:00:00Z</td>\n",
       "      <td>2020-07-06T00:00:00Z</td>\n",
       "      <td>2465</td>\n",
       "      <td>48</td>\n",
       "      <td>14.0</td>\n",
       "    </tr>\n",
       "    <tr>\n",
       "      <th>1</th>\n",
       "      <td>10.1371/journal.pone.0280457</td>\n",
       "      <td>Need for affect, need for cognition, and the d...</td>\n",
       "      <td>['\\nThe last decade has witnessed a significan...</td>\n",
       "      <td>PLOS ONE</td>\n",
       "      <td>2023-02-09T00:00:00Z</td>\n",
       "      <td>2021-10-08T00:00:00Z</td>\n",
       "      <td>2023-01-03T00:00:00Z</td>\n",
       "      <td>465</td>\n",
       "      <td>25</td>\n",
       "      <td>0.0</td>\n",
       "    </tr>\n",
       "    <tr>\n",
       "      <th>2</th>\n",
       "      <td>10.1371/journal.pone.0192907</td>\n",
       "      <td>The dominance of introspective measures and wh...</td>\n",
       "      <td>['\\nThe behavioral sciences, including most of...</td>\n",
       "      <td>PLOS ONE</td>\n",
       "      <td>2018-02-15T00:00:00Z</td>\n",
       "      <td>2016-11-16T00:00:00Z</td>\n",
       "      <td>2018-02-01T00:00:00Z</td>\n",
       "      <td>2430</td>\n",
       "      <td>17</td>\n",
       "      <td>27.0</td>\n",
       "    </tr>\n",
       "    <tr>\n",
       "      <th>3</th>\n",
       "      <td>10.1371/journal.pone.0224326</td>\n",
       "      <td>Does the psychological profile influence the p...</td>\n",
       "      <td>['\\nStress control as well as other psychologi...</td>\n",
       "      <td>PLOS ONE</td>\n",
       "      <td>2019-11-12T00:00:00Z</td>\n",
       "      <td>2019-05-14T00:00:00Z</td>\n",
       "      <td>2019-10-11T00:00:00Z</td>\n",
       "      <td>2639</td>\n",
       "      <td>17</td>\n",
       "      <td>7.0</td>\n",
       "    </tr>\n",
       "    <tr>\n",
       "      <th>4</th>\n",
       "      <td>10.1371/journal.pone.0245671</td>\n",
       "      <td>The effect of perceived interracial competitio...</td>\n",
       "      <td>['\\nThere remains a dearth of research on caus...</td>\n",
       "      <td>PLOS ONE</td>\n",
       "      <td>2021-01-29T00:00:00Z</td>\n",
       "      <td>2020-07-18T00:00:00Z</td>\n",
       "      <td>2021-01-05T00:00:00Z</td>\n",
       "      <td>2861</td>\n",
       "      <td>22</td>\n",
       "      <td>4.0</td>\n",
       "    </tr>\n",
       "  </tbody>\n",
       "</table>\n",
       "</div>"
      ],
      "text/plain": [
       "                             id  \\\n",
       "0  10.1371/journal.pone.0236792   \n",
       "1  10.1371/journal.pone.0280457   \n",
       "2  10.1371/journal.pone.0192907   \n",
       "3  10.1371/journal.pone.0224326   \n",
       "4  10.1371/journal.pone.0245671   \n",
       "\n",
       "                                               title  \\\n",
       "0  The link between childhood psychological maltr...   \n",
       "1  Need for affect, need for cognition, and the d...   \n",
       "2  The dominance of introspective measures and wh...   \n",
       "3  Does the psychological profile influence the p...   \n",
       "4  The effect of perceived interracial competitio...   \n",
       "\n",
       "                                            abstract   journal  \\\n",
       "0  ['\\nBased on Attachment Theory, the Barlett an...  PLOS ONE   \n",
       "1  ['\\nThe last decade has witnessed a significan...  PLOS ONE   \n",
       "2  ['\\nThe behavioral sciences, including most of...  PLOS ONE   \n",
       "3  ['\\nStress control as well as other psychologi...  PLOS ONE   \n",
       "4  ['\\nThere remains a dearth of research on caus...  PLOS ONE   \n",
       "\n",
       "       publication_date         received_date         accepted_date  \\\n",
       "0  2020-09-03T00:00:00Z  2020-01-09T00:00:00Z  2020-07-06T00:00:00Z   \n",
       "1  2023-02-09T00:00:00Z  2021-10-08T00:00:00Z  2023-01-03T00:00:00Z   \n",
       "2  2018-02-15T00:00:00Z  2016-11-16T00:00:00Z  2018-02-01T00:00:00Z   \n",
       "3  2019-11-12T00:00:00Z  2019-05-14T00:00:00Z  2019-10-11T00:00:00Z   \n",
       "4  2021-01-29T00:00:00Z  2020-07-18T00:00:00Z  2021-01-05T00:00:00Z   \n",
       "\n",
       "   counter_total_all  counter_total_month citation_count  \n",
       "0               2465                   48           14.0  \n",
       "1                465                   25            0.0  \n",
       "2               2430                   17           27.0  \n",
       "3               2639                   17            7.0  \n",
       "4               2861                   22            4.0  "
      ]
     },
     "execution_count": 16,
     "metadata": {},
     "output_type": "execute_result"
    }
   ],
   "source": [
    "data.head()"
   ]
  },
  {
   "cell_type": "code",
   "execution_count": 19,
   "metadata": {
    "id": "pOuVUj960WOV"
   },
   "outputs": [],
   "source": [
    "data[data['title'].duplicated(keep=False)].sort_values('title').head(8)\n",
    "#drop duplicates\n",
    "data = data.drop_duplicates('title')\n",
    "#drop irrelevant titles\n",
    "data = data[~data['title'].str.contains('Issue Image | Vol.')]"
   ]
  },
  {
   "cell_type": "code",
   "execution_count": 21,
   "metadata": {
    "colab": {
     "base_uri": "https://localhost:8080/"
    },
    "id": "MJOGuBzoE9ST",
    "outputId": "b708a67e-e6bb-48d9-cb6c-83dad4d3f12b"
   },
   "outputs": [
    {
     "name": "stderr",
     "output_type": "stream",
     "text": [
      "[nltk_data] Downloading package stopwords to\n",
      "[nltk_data]     C:\\Users\\karol\\AppData\\Roaming\\nltk_data...\n",
      "[nltk_data]   Package stopwords is already up-to-date!\n"
     ]
    },
    {
     "data": {
      "text/html": [
       "<div>\n",
       "<style scoped>\n",
       "    .dataframe tbody tr th:only-of-type {\n",
       "        vertical-align: middle;\n",
       "    }\n",
       "\n",
       "    .dataframe tbody tr th {\n",
       "        vertical-align: top;\n",
       "    }\n",
       "\n",
       "    .dataframe thead th {\n",
       "        text-align: right;\n",
       "    }\n",
       "</style>\n",
       "<table border=\"1\" class=\"dataframe\">\n",
       "  <thead>\n",
       "    <tr style=\"text-align: right;\">\n",
       "      <th></th>\n",
       "      <th>id</th>\n",
       "      <th>title</th>\n",
       "      <th>abstract</th>\n",
       "      <th>journal</th>\n",
       "      <th>publication_date</th>\n",
       "      <th>received_date</th>\n",
       "      <th>accepted_date</th>\n",
       "      <th>counter_total_all</th>\n",
       "      <th>counter_total_month</th>\n",
       "      <th>citation_count</th>\n",
       "      <th>textClean</th>\n",
       "    </tr>\n",
       "  </thead>\n",
       "  <tbody>\n",
       "    <tr>\n",
       "      <th>0</th>\n",
       "      <td>10.1371/journal.pone.0236792</td>\n",
       "      <td>The link between childhood psychological maltr...</td>\n",
       "      <td>['\\nBased on Attachment Theory, the Barlett an...</td>\n",
       "      <td>PLOS ONE</td>\n",
       "      <td>2020-09-03T00:00:00Z</td>\n",
       "      <td>2020-01-09T00:00:00Z</td>\n",
       "      <td>2020-07-06T00:00:00Z</td>\n",
       "      <td>2465</td>\n",
       "      <td>48</td>\n",
       "      <td>14.0</td>\n",
       "      <td>link childhood psychological maltreatment cybe...</td>\n",
       "    </tr>\n",
       "    <tr>\n",
       "      <th>1</th>\n",
       "      <td>10.1371/journal.pone.0280457</td>\n",
       "      <td>Need for affect, need for cognition, and the d...</td>\n",
       "      <td>['\\nThe last decade has witnessed a significan...</td>\n",
       "      <td>PLOS ONE</td>\n",
       "      <td>2023-02-09T00:00:00Z</td>\n",
       "      <td>2021-10-08T00:00:00Z</td>\n",
       "      <td>2023-01-03T00:00:00Z</td>\n",
       "      <td>465</td>\n",
       "      <td>25</td>\n",
       "      <td>0.0</td>\n",
       "      <td>Need affect, need cognition, desire independence</td>\n",
       "    </tr>\n",
       "    <tr>\n",
       "      <th>2</th>\n",
       "      <td>10.1371/journal.pone.0192907</td>\n",
       "      <td>The dominance of introspective measures and wh...</td>\n",
       "      <td>['\\nThe behavioral sciences, including most of...</td>\n",
       "      <td>PLOS ONE</td>\n",
       "      <td>2018-02-15T00:00:00Z</td>\n",
       "      <td>2016-11-16T00:00:00Z</td>\n",
       "      <td>2018-02-01T00:00:00Z</td>\n",
       "      <td>2430</td>\n",
       "      <td>17</td>\n",
       "      <td>27.0</td>\n",
       "      <td>dominance introspective measures implies: exam...</td>\n",
       "    </tr>\n",
       "    <tr>\n",
       "      <th>3</th>\n",
       "      <td>10.1371/journal.pone.0224326</td>\n",
       "      <td>Does the psychological profile influence the p...</td>\n",
       "      <td>['\\nStress control as well as other psychologi...</td>\n",
       "      <td>PLOS ONE</td>\n",
       "      <td>2019-11-12T00:00:00Z</td>\n",
       "      <td>2019-05-14T00:00:00Z</td>\n",
       "      <td>2019-10-11T00:00:00Z</td>\n",
       "      <td>2639</td>\n",
       "      <td>17</td>\n",
       "      <td>7.0</td>\n",
       "      <td>psychological profile influence position promi...</td>\n",
       "    </tr>\n",
       "    <tr>\n",
       "      <th>4</th>\n",
       "      <td>10.1371/journal.pone.0245671</td>\n",
       "      <td>The effect of perceived interracial competitio...</td>\n",
       "      <td>['\\nThere remains a dearth of research on caus...</td>\n",
       "      <td>PLOS ONE</td>\n",
       "      <td>2021-01-29T00:00:00Z</td>\n",
       "      <td>2020-07-18T00:00:00Z</td>\n",
       "      <td>2021-01-05T00:00:00Z</td>\n",
       "      <td>2861</td>\n",
       "      <td>22</td>\n",
       "      <td>4.0</td>\n",
       "      <td>effect perceived interracial competition psych...</td>\n",
       "    </tr>\n",
       "  </tbody>\n",
       "</table>\n",
       "</div>"
      ],
      "text/plain": [
       "                             id  \\\n",
       "0  10.1371/journal.pone.0236792   \n",
       "1  10.1371/journal.pone.0280457   \n",
       "2  10.1371/journal.pone.0192907   \n",
       "3  10.1371/journal.pone.0224326   \n",
       "4  10.1371/journal.pone.0245671   \n",
       "\n",
       "                                               title  \\\n",
       "0  The link between childhood psychological maltr...   \n",
       "1  Need for affect, need for cognition, and the d...   \n",
       "2  The dominance of introspective measures and wh...   \n",
       "3  Does the psychological profile influence the p...   \n",
       "4  The effect of perceived interracial competitio...   \n",
       "\n",
       "                                            abstract   journal  \\\n",
       "0  ['\\nBased on Attachment Theory, the Barlett an...  PLOS ONE   \n",
       "1  ['\\nThe last decade has witnessed a significan...  PLOS ONE   \n",
       "2  ['\\nThe behavioral sciences, including most of...  PLOS ONE   \n",
       "3  ['\\nStress control as well as other psychologi...  PLOS ONE   \n",
       "4  ['\\nThere remains a dearth of research on caus...  PLOS ONE   \n",
       "\n",
       "       publication_date         received_date         accepted_date  \\\n",
       "0  2020-09-03T00:00:00Z  2020-01-09T00:00:00Z  2020-07-06T00:00:00Z   \n",
       "1  2023-02-09T00:00:00Z  2021-10-08T00:00:00Z  2023-01-03T00:00:00Z   \n",
       "2  2018-02-15T00:00:00Z  2016-11-16T00:00:00Z  2018-02-01T00:00:00Z   \n",
       "3  2019-11-12T00:00:00Z  2019-05-14T00:00:00Z  2019-10-11T00:00:00Z   \n",
       "4  2021-01-29T00:00:00Z  2020-07-18T00:00:00Z  2021-01-05T00:00:00Z   \n",
       "\n",
       "   counter_total_all  counter_total_month citation_count  \\\n",
       "0               2465                   48           14.0   \n",
       "1                465                   25            0.0   \n",
       "2               2430                   17           27.0   \n",
       "3               2639                   17            7.0   \n",
       "4               2861                   22            4.0   \n",
       "\n",
       "                                           textClean  \n",
       "0  link childhood psychological maltreatment cybe...  \n",
       "1   Need affect, need cognition, desire independence  \n",
       "2  dominance introspective measures implies: exam...  \n",
       "3  psychological profile influence position promi...  \n",
       "4  effect perceived interracial competition psych...  "
      ]
     },
     "execution_count": 21,
     "metadata": {},
     "output_type": "execute_result"
    }
   ],
   "source": [
    "#import nltk\n",
    "nltk.download('stopwords')\n",
    "from nltk.corpus import stopwords\n",
    "stop = set(stopwords.words(\"english\"))\n",
    "\n",
    "def remove_stopwords(text) -> str:\n",
    "   #Remove stopwords from text \"\"\"\n",
    "    filtered_words = [word for word in text.split() if word.lower() not in stop]\n",
    "    return \" \".join(filtered_words)\n",
    "data.loc[:, 'textClean'] = data['title'].apply(remove_stopwords)\n",
    "data.head()"
   ]
  },
  {
   "cell_type": "code",
   "execution_count": 29,
   "metadata": {},
   "outputs": [
    {
     "name": "stdout",
     "output_type": "stream",
     "text": [
      "['i', 'me', 'my', 'myself', 'we', 'our', 'ours', 'ourselves', 'you', \"you're\", \"you've\", \"you'll\", \"you'd\", 'your', 'yours', 'yourself', 'yourselves', 'he', 'him', 'his', 'himself', 'she', \"she's\", 'her', 'hers', 'herself', 'it', \"it's\", 'its', 'itself', 'they', 'them', 'their', 'theirs', 'themselves', 'what', 'which', 'who', 'whom', 'this', 'that', \"that'll\", 'these', 'those', 'am', 'is', 'are', 'was', 'were', 'be', 'been', 'being', 'have', 'has', 'had', 'having', 'do', 'does', 'did', 'doing', 'a', 'an', 'the', 'and', 'but', 'if', 'or', 'because', 'as', 'until', 'while', 'of', 'at', 'by', 'for', 'with', 'about', 'against', 'between', 'into', 'through', 'during', 'before', 'after', 'above', 'below', 'to', 'from', 'up', 'down', 'in', 'out', 'on', 'off', 'over', 'under', 'again', 'further', 'then', 'once', 'here', 'there', 'when', 'where', 'why', 'how', 'all', 'any', 'both', 'each', 'few', 'more', 'most', 'other', 'some', 'such', 'no', 'nor', 'not', 'only', 'own', 'same', 'so', 'than', 'too', 'very', 's', 't', 'can', 'will', 'just', 'don', \"don't\", 'should', \"should've\", 'now', 'd', 'll', 'm', 'o', 're', 've', 'y', 'ain', 'aren', \"aren't\", 'couldn', \"couldn't\", 'didn', \"didn't\", 'doesn', \"doesn't\", 'hadn', \"hadn't\", 'hasn', \"hasn't\", 'haven', \"haven't\", 'isn', \"isn't\", 'ma', 'mightn', \"mightn't\", 'mustn', \"mustn't\", 'needn', \"needn't\", 'shan', \"shan't\", 'shouldn', \"shouldn't\", 'wasn', \"wasn't\", 'weren', \"weren't\", 'won', \"won't\", 'wouldn', \"wouldn't\"]\n"
     ]
    }
   ],
   "source": [
    "print(stopwords.words('english'))"
   ]
  },
  {
   "cell_type": "code",
   "execution_count": 22,
   "metadata": {},
   "outputs": [],
   "source": [
    "#bert topic is very slow so selecting only 10% of data first\n",
    "# Determine the number of rows to select (10% of the total rows)\n",
    "subset_size = int(len(data) * 0.1)\n",
    "\n",
    "# Randomly select 10% of the rows\n",
    "random_subset = data.sample(n=subset_size, random_state=42)  # Setting random_state for reproducibility\n",
    "\n",
    "# Create a new DataFrame with the selected rows\n",
    "subset10 = pd.DataFrame(random_subset)"
   ]
  },
  {
   "cell_type": "code",
   "execution_count": 38,
   "metadata": {
    "id": "0haIOaJf5W6k"
   },
   "outputs": [],
   "source": [
    "#docs = data['textClean']\n",
    "# If you are passing strings (dates) instead of integers, then BERTopic will try to automatically \n",
    "# detect which datetime format your strings have. Unfortunately, this will not always work if \n",
    "# they are in an unexpected format. We can use datetime_format to pass the format the timestamps have:\n",
    "timestamps = subset10.publication_date.to_list()\n",
    "titles = subset10.textClean.to_list()\n",
    "\n",
    "# import random\n",
    "# docs_list = list(docs)\n",
    "\n",
    "# # Determine the size of the subset (10% of the data)\n",
    "# subset_size = int(len(docs_list) * 0.1)\n",
    "\n",
    "# # Randomly select 10% of the data\n",
    "# random_subset = random.sample(docs_list, subset_size)\n",
    "\n"
   ]
  },
  {
   "cell_type": "code",
   "execution_count": 39,
   "metadata": {
    "colab": {
     "base_uri": "https://localhost:8080/",
     "height": 101,
     "referenced_widgets": [
      "44f812f51e6e49ca9b0af7be7d855ebe",
      "2ef21d394aed4b1db1d02cd8ae0f6457",
      "ca568a3e59894ae6bb07c9508b7a09dc",
      "41783c46f0b645c08898e41a840fbce2",
      "dc5959a0334443b38bf2fdae68637c99",
      "fed28e7d6c5d4213ad5809d2a7724d4b",
      "d2347e4e99eb47e2999b6ec02b2e8891",
      "8c4553522e1144898dd47380db8a3297",
      "8b4f7b16fa444469993bac193d9a9846",
      "900bf7543e384c6cb2e1482d82e3a55e",
      "0c8f136c59b7415ba8125e44362095e8"
     ]
    },
    "id": "h-HCISRj5c8t",
    "outputId": "280f6115-fdcd-478d-dfe9-f1e75dd7416a"
   },
   "outputs": [
    {
     "name": "stderr",
     "output_type": "stream",
     "text": [
      "Batches: 100%|██████████████████████████████████████████████████████████████████████████████████████| 44/44 [00:21<00:00,  2.06it/s]\n",
      "2023-07-28 16:33:09,266 - BERTopic - Transformed documents to Embeddings\n",
      "2023-07-28 16:33:26,487 - BERTopic - Reduced dimensionality\n",
      "2023-07-28 16:33:26,788 - BERTopic - Clustered reduced embeddings\n"
     ]
    }
   ],
   "source": [
    "from bertopic import BERTopic\n",
    "\n",
    "topic_model = BERTopic(language=\"english\", calculate_probabilities=True, verbose=True)\n",
    "topics, probs = topic_model.fit_transform(titles)"
   ]
  },
  {
   "cell_type": "code",
   "execution_count": 40,
   "metadata": {},
   "outputs": [
    {
     "name": "stderr",
     "output_type": "stream",
     "text": [
      "20it [00:00, 20.42it/s]\n"
     ]
    }
   ],
   "source": [
    "# From these topics, we are going to generate the topic representations at each \n",
    "# timestamp for each topic. We do this by simply calling \n",
    "# topics_over_time and passing the titles, \n",
    "# the corresponding timestamps, and the related topics:\n",
    "topics_over_time = topic_model.topics_over_time(titles, timestamps, nr_bins=20)"
   ]
  },
  {
   "cell_type": "code",
   "execution_count": 41,
   "metadata": {},
   "outputs": [
    {
     "data": {
      "application/vnd.plotly.v1+json": {
       "config": {
        "plotlyServerURL": "https://plot.ly"
       },
       "data": [
        {
         "hoverinfo": "text",
         "hovertext": [
          "<b>Topic 0</b><br>Words: typhoon, earthquake, wenchuan, 2008, eye",
          "<b>Topic 0</b><br>Words: prevention, suicide, secondary, covid19, pandemic",
          "<b>Topic 0</b><br>Words: enhances, psychodynamic, hidden, trauma, childhood",
          "<b>Topic 0</b><br>Words: rating, love, airs, suicidal, suicide",
          "<b>Topic 0</b><br>Words: self, ethiopians, etisrsr, burn, pressure",
          "<b>Topic 0</b><br>Words: postearthquake, acquired, signs, microstructural, white",
          "<b>Topic 0</b><br>Words: violence, posttraumatic, immigrant, sick, palestinians",
          "<b>Topic 0</b><br>Words: water, nonsuidical, selfinjury, household, improvement",
          "<b>Topic 0</b><br>Words: thai, injury, following, large, cohort",
          "<b>Topic 0</b><br>Words: care, malawi, providing, suboptimal, hiv",
          "<b>Topic 0</b><br>Words: maltreatment, burnout, exposure, covid19, admitted",
          "<b>Topic 0</b><br>Words: covid19, pandemic, psychological, mental, health",
          "<b>Topic 0</b><br>Words: covid19, pandemic, burnout, healthcare, health",
          "<b>Topic 0</b><br>Words: covid19, pandemic, mental, health, burnout"
         ],
         "marker": {
          "color": "#E69F00"
         },
         "mode": "lines",
         "name": "0_covid19_pandemic_burnout_health",
         "type": "scatter",
         "x": [
          "2009-01-30T12:00:00+00:00",
          "2010-01-16T04:48:00+00:00",
          "2011-01-01T21:36:00+00:00",
          "2011-12-18T14:24:00+00:00",
          "2012-12-03T07:12:00+00:00",
          "2013-11-19T00:00:00+00:00",
          "2014-11-04T16:48:00+00:00",
          "2015-10-21T09:36:00+00:00",
          "2016-10-06T02:24:00+00:00",
          "2017-09-21T19:12:00+00:00",
          "2019-08-24T04:48:00+00:00",
          "2020-08-08T21:36:00+00:00",
          "2021-07-25T14:24:00+00:00",
          "2022-07-11T07:12:00+00:00"
         ],
         "y": [
          1,
          1,
          1,
          1,
          4,
          1,
          4,
          2,
          1,
          1,
          4,
          18,
          24,
          21
         ]
        },
        {
         "hoverinfo": "text",
         "hovertext": [
          "<b>Topic 1</b><br>Words: selfgenerated, touch, perspective, neural, perception",
          "<b>Topic 1</b><br>Words: tactile, temporally, rabbit, cutaneous, replicates",
          "<b>Topic 1</b><br>Words: repetition, swapping, naming, you, stages",
          "<b>Topic 1</b><br>Words: activated, crossorientation, facilitates, interpolation, loci",
          "<b>Topic 1</b><br>Words: augmented, younger, reference, intrinsic, visuomotor",
          "<b>Topic 1</b><br>Words: hand, rubber, anothers, drift, proprioceptive",
          "<b>Topic 1</b><br>Words: approachavoidance, fusional, prism, coarsetofine, mallett",
          "<b>Topic 1</b><br>Words: vestibular, touch, perception, face, human",
          "<b>Topic 1</b><br>Words: dexterity, acuity, wrinkles, wet, finger",
          "<b>Topic 1</b><br>Words: unintentional, reciprocal, intrapatch, afference, autoregressive",
          "<b>Topic 1</b><br>Words: vertical, postural, subjective, colorimetric, observer",
          "<b>Topic 1</b><br>Words: aesthetics, lines, figures, illusory, surfaces",
          "<b>Topic 1</b><br>Words: numerosity, independently, inclination, visuallyinduced, heading",
          "<b>Topic 1</b><br>Words: ownership, body, kinect, judo, executed",
          "<b>Topic 1</b><br>Words: motionindepth, intra, interhemispheric, vr, glaucoma",
          "<b>Topic 1</b><br>Words: putting, different, stance, abrupt, quiet",
          "<b>Topic 1</b><br>Words: caress, velocity, vicarious, tuned, location",
          "<b>Topic 1</b><br>Words: boundary, assessed, blurring, me, hold"
         ],
         "marker": {
          "color": "#56B4E9"
         },
         "mode": "lines",
         "name": "1_touch_perception_body_vestibular",
         "type": "scatter",
         "x": [
          "2005-03-29T16:48:00+00:00",
          "2007-03-01T02:24:00+00:00",
          "2008-02-14T19:12:00+00:00",
          "2009-01-30T12:00:00+00:00",
          "2010-01-16T04:48:00+00:00",
          "2011-01-01T21:36:00+00:00",
          "2011-12-18T14:24:00+00:00",
          "2012-12-03T07:12:00+00:00",
          "2013-11-19T00:00:00+00:00",
          "2014-11-04T16:48:00+00:00",
          "2015-10-21T09:36:00+00:00",
          "2016-10-06T02:24:00+00:00",
          "2017-09-21T19:12:00+00:00",
          "2018-09-07T12:00:00+00:00",
          "2019-08-24T04:48:00+00:00",
          "2020-08-08T21:36:00+00:00",
          "2021-07-25T14:24:00+00:00",
          "2022-07-11T07:12:00+00:00"
         ],
         "y": [
          1,
          2,
          2,
          2,
          2,
          2,
          3,
          8,
          3,
          4,
          5,
          3,
          3,
          5,
          3,
          3,
          1,
          2
         ]
        },
        {
         "hoverinfo": "text",
         "hovertext": [
          "<b>Topic 2</b><br>Words: feminine, biosocial, peacekeepers, warriors, masculine",
          "<b>Topic 2</b><br>Words: drive, forager, cognitivelybased, affectivecognitive, affectivelybased",
          "<b>Topic 2</b><br>Words: majority, game, skeptics, violent, assimilation",
          "<b>Topic 2</b><br>Words: betrayal, aversion, identity, zerosum, intrusions",
          "<b>Topic 2</b><br>Words: childrens, young, different, group, entitativity",
          "<b>Topic 2</b><br>Words: war, peace, toward, attitudes, projection",
          "<b>Topic 2</b><br>Words: multipleround, connecting, why, shaping, schoolage",
          "<b>Topic 2</b><br>Words: humanization, outgroup, ingroup, errorrelated, postnational",
          "<b>Topic 2</b><br>Words: rejection, benefit, popularity, activism, clinton",
          "<b>Topic 2</b><br>Words: hedonistic, saboteurs, outcasts, revenge, narcissism",
          "<b>Topic 2</b><br>Words: solitude, but, intergroup, humanization, cities",
          "<b>Topic 2</b><br>Words: intergroup, peace, flexroute, technological, transformational"
         ],
         "marker": {
          "color": "#009E73"
         },
         "mode": "lines",
         "name": "2_intergroup_social_ingroup_identity",
         "type": "scatter",
         "x": [
          "2011-12-18T14:24:00+00:00",
          "2012-12-03T07:12:00+00:00",
          "2013-11-19T00:00:00+00:00",
          "2014-11-04T16:48:00+00:00",
          "2015-10-21T09:36:00+00:00",
          "2016-10-06T02:24:00+00:00",
          "2017-09-21T19:12:00+00:00",
          "2018-09-07T12:00:00+00:00",
          "2019-08-24T04:48:00+00:00",
          "2020-08-08T21:36:00+00:00",
          "2021-07-25T14:24:00+00:00",
          "2022-07-11T07:12:00+00:00"
         ],
         "y": [
          1,
          2,
          5,
          7,
          5,
          2,
          3,
          6,
          3,
          2,
          5,
          6
         ]
        },
        {
         "hoverinfo": "text",
         "hovertext": [
          "<b>Topic 3</b><br>Words: enriched, depressivelike, overcomes, juvenile, induced",
          "<b>Topic 3</b><br>Words: illnesses, middleaged, chronic, wellbeing, older",
          "<b>Topic 3</b><br>Words: hypopituitarism, questionnaire, ahq, realism, assessing",
          "<b>Topic 3</b><br>Words: selfhelp, depression, email, determinants, randomised",
          "<b>Topic 3</b><br>Words: coping, manga, icbt, coexistence, bifactor",
          "<b>Topic 3</b><br>Words: stress, coping, crosssectional, women, transgender",
          "<b>Topic 3</b><br>Words: late, paradoxical, communitydwelling, fallrelated, scleroderma",
          "<b>Topic 3</b><br>Words: negative, icu, depressionrelated, surrogate, disengaging",
          "<b>Topic 3</b><br>Words: stress, trier, coping, longitudinal, test",
          "<b>Topic 3</b><br>Words: young, adults, reporting, microexpression, repeatedly",
          "<b>Topic 3</b><br>Words: petrochemical, japan, industry, physicians, safety",
          "<b>Topic 3</b><br>Words: stress, happy, inequalities, identifiable, helpif",
          "<b>Topic 3</b><br>Words: polish, stress, male, strategies, sadness",
          "<b>Topic 3</b><br>Words: cope, brief, depression, united, older"
         ],
         "marker": {
          "color": "#F0E442"
         },
         "mode": "lines",
         "name": "3_stress_coping_depression_life",
         "type": "scatter",
         "x": [
          "2008-02-14T19:12:00+00:00",
          "2011-01-01T21:36:00+00:00",
          "2011-12-18T14:24:00+00:00",
          "2012-12-03T07:12:00+00:00",
          "2013-11-19T00:00:00+00:00",
          "2014-11-04T16:48:00+00:00",
          "2015-10-21T09:36:00+00:00",
          "2016-10-06T02:24:00+00:00",
          "2017-09-21T19:12:00+00:00",
          "2018-09-07T12:00:00+00:00",
          "2019-08-24T04:48:00+00:00",
          "2020-08-08T21:36:00+00:00",
          "2021-07-25T14:24:00+00:00",
          "2022-07-11T07:12:00+00:00"
         ],
         "y": [
          1,
          1,
          2,
          2,
          2,
          5,
          3,
          2,
          5,
          4,
          2,
          5,
          5,
          7
         ]
        },
        {
         "hoverinfo": "text",
         "hovertext": [
          "<b>Topic 4</b><br>Words: successful, sternjudging, reciprocity, norm, cooperation",
          "<b>Topic 4</b><br>Words: subsets, egalitarian, alliance, recruit, revolution",
          "<b>Topic 4</b><br>Words: accidental, trembling, guide, punishment, hand",
          "<b>Topic 4</b><br>Words: reciprocity, incipient, conundrum, incomplete, observation",
          "<b>Topic 4</b><br>Words: games, rationality, nplayer, unique, epr",
          "<b>Topic 4</b><br>Words: punishment, dilemmas, cooperation, game, collectiverisk",
          "<b>Topic 4</b><br>Words: dilemmas, game, explorationexploitation, minimum, travelers",
          "<b>Topic 4</b><br>Words: evolution, cooperation, reciprocity, game, metaincentives",
          "<b>Topic 4</b><br>Words: cooperation, games, experimental, reciprocity, commons",
          "<b>Topic 4</b><br>Words: selfishly, behave, fuzzy, advocate, devils",
          "<b>Topic 4</b><br>Words: serious, selfdriving, tdma, examples, illustrated",
          "<b>Topic 4</b><br>Words: naively, help, overconfident, conveniently, spillovers",
          "<b>Topic 4</b><br>Words: riskseeking, provide, conditional, goods, selfish",
          "<b>Topic 4</b><br>Words: ethics, courtesy, mutations, multigames, cav"
         ],
         "marker": {
          "color": "#D55E00"
         },
         "mode": "lines",
         "name": "4_cooperation_game_games_reciprocity",
         "type": "scatter",
         "x": [
          "2006-03-15T09:36:00+00:00",
          "2008-02-14T19:12:00+00:00",
          "2009-01-30T12:00:00+00:00",
          "2011-01-01T21:36:00+00:00",
          "2011-12-18T14:24:00+00:00",
          "2012-12-03T07:12:00+00:00",
          "2013-11-19T00:00:00+00:00",
          "2014-11-04T16:48:00+00:00",
          "2015-10-21T09:36:00+00:00",
          "2016-10-06T02:24:00+00:00",
          "2017-09-21T19:12:00+00:00",
          "2018-09-07T12:00:00+00:00",
          "2021-07-25T14:24:00+00:00",
          "2022-07-11T07:12:00+00:00"
         ],
         "y": [
          1,
          3,
          1,
          4,
          3,
          5,
          2,
          5,
          5,
          3,
          2,
          2,
          1,
          2
         ]
        },
        {
         "hoverinfo": "text",
         "hovertext": [
          "<b>Topic 5</b><br>Words: ears, tune, sing, ultrasonic, mice",
          "<b>Topic 5</b><br>Words: reactivity, deaf, cortical, enhanced, individuals",
          "<b>Topic 5</b><br>Words: juggling, cons, amplitudemodulated, pros, audiotactile",
          "<b>Topic 5</b><br>Words: pitch, auditory, hearing, deaf, congenital",
          "<b>Topic 5</b><br>Words: speech, audiovisual, auditory, cortical, implant",
          "<b>Topic 5</b><br>Words: source, hearing, crystals, devices, localization",
          "<b>Topic 5</b><br>Words: accent, handled, switching, speaker, multistability",
          "<b>Topic 5</b><br>Words: gerbils, segmentation, asynchrony, unguiculatus, meriones",
          "<b>Topic 5</b><br>Words: special, listening, rate, speech, tracking",
          "<b>Topic 5</b><br>Words: flow, incongruent, chambers, induce, consonants",
          "<b>Topic 5</b><br>Words: echobot, echolocation, presentation, studies, automated",
          "<b>Topic 5</b><br>Words: tngara, midbrain, frog, neuronal, synchrony",
          "<b>Topic 5</b><br>Words: unitary, speechinnoise, objectively, including, maps"
         ],
         "marker": {
          "color": "#0072B2"
         },
         "mode": "lines",
         "name": "5_auditory_hearing_speech_audiovisual",
         "type": "scatter",
         "x": [
          "2005-03-29T16:48:00+00:00",
          "2011-01-01T21:36:00+00:00",
          "2011-12-18T14:24:00+00:00",
          "2012-12-03T07:12:00+00:00",
          "2013-11-19T00:00:00+00:00",
          "2014-11-04T16:48:00+00:00",
          "2015-10-21T09:36:00+00:00",
          "2016-10-06T02:24:00+00:00",
          "2017-09-21T19:12:00+00:00",
          "2018-09-07T12:00:00+00:00",
          "2019-08-24T04:48:00+00:00",
          "2021-07-25T14:24:00+00:00",
          "2022-07-11T07:12:00+00:00"
         ],
         "y": [
          1,
          1,
          2,
          7,
          7,
          3,
          5,
          3,
          1,
          3,
          1,
          2,
          3
         ]
        },
        {
         "hoverinfo": "text",
         "hovertext": [
          "<b>Topic 6</b><br>Words: rotation, soccer, players, male, performance",
          "<b>Topic 6</b><br>Words: 2997, doping, triathletes, crosssectional, associations",
          "<b>Topic 6</b><br>Words: under15, tactical, soccer, players, decisionmaking",
          "<b>Topic 6</b><br>Words: educational, executing, kick, placement, players",
          "<b>Topic 6</b><br>Words: sprinting, steptostep, breakpoint, accelerated, existence",
          "<b>Topic 6</b><br>Words: anova, technical, sem, soccer, adolescence",
          "<b>Topic 6</b><br>Words: age, players, championships, sportinduced, workload",
          "<b>Topic 6</b><br>Words: sport, swimmers, worldranked, grades, doping",
          "<b>Topic 6</b><br>Words: soccer, incidence, deceptive, defining, position",
          "<b>Topic 6</b><br>Words: players, elite, performance, handball, sport",
          "<b>Topic 6</b><br>Words: players, training, soccer, adding, progression",
          "<b>Topic 6</b><br>Words: performance, handball, players, smallsided, tactics"
         ],
         "marker": {
          "color": "#CC79A7"
         },
         "mode": "lines",
         "name": "6_players_soccer_performance_elite",
         "type": "scatter",
         "x": [
          "2011-12-18T14:24:00+00:00",
          "2012-12-03T07:12:00+00:00",
          "2013-11-19T00:00:00+00:00",
          "2014-11-04T16:48:00+00:00",
          "2015-10-21T09:36:00+00:00",
          "2016-10-06T02:24:00+00:00",
          "2017-09-21T19:12:00+00:00",
          "2018-09-07T12:00:00+00:00",
          "2019-08-24T04:48:00+00:00",
          "2020-08-08T21:36:00+00:00",
          "2021-07-25T14:24:00+00:00",
          "2022-07-11T07:12:00+00:00"
         ],
         "y": [
          1,
          1,
          1,
          2,
          3,
          1,
          3,
          3,
          5,
          9,
          4,
          5
         ]
        },
        {
         "hoverinfo": "text",
         "hovertext": [
          "<b>Topic 7</b><br>Words: alterations, posterior, cortices, disproportionate, insular",
          "<b>Topic 7</b><br>Words: faces, emotional, facial, processing, expressions",
          "<b>Topic 7</b><br>Words: facial, emotions, emotional, processing, stroop",
          "<b>Topic 7</b><br>Words: found, quickly, crowd, angry, tracking",
          "<b>Topic 7</b><br>Words: facial, investigation, concomitants, intrapersonal, blushing",
          "<b>Topic 7</b><br>Words: facial, emotional, mimicry, amyotrophic, flash",
          "<b>Topic 7</b><br>Words: retroactive, consolidation, intense, disrupt, facebody",
          "<b>Topic 7</b><br>Words: security, attachment, benefits, working, memory",
          "<b>Topic 7</b><br>Words: emotional, facial, 3yearolds, dlpc, pupillometry",
          "<b>Topic 7</b><br>Words: emotion, sensor, masks, interface, rgbd",
          "<b>Topic 7</b><br>Words: smiling, supramarginal, gyrus, laughter, generation",
          "<b>Topic 7</b><br>Words: surgical, mask, covariation, impair, robust",
          "<b>Topic 7</b><br>Words: headlines, transformer, tdcs, adverse, labelling"
         ],
         "marker": {
          "color": "#E69F00"
         },
         "mode": "lines",
         "name": "7_facial_emotional_emotion_faces",
         "type": "scatter",
         "x": [
          "2011-01-01T21:36:00+00:00",
          "2011-12-18T14:24:00+00:00",
          "2012-12-03T07:12:00+00:00",
          "2013-11-19T00:00:00+00:00",
          "2014-11-04T16:48:00+00:00",
          "2015-10-21T09:36:00+00:00",
          "2016-10-06T02:24:00+00:00",
          "2017-09-21T19:12:00+00:00",
          "2018-09-07T12:00:00+00:00",
          "2019-08-24T04:48:00+00:00",
          "2020-08-08T21:36:00+00:00",
          "2021-07-25T14:24:00+00:00",
          "2022-07-11T07:12:00+00:00"
         ],
         "y": [
          2,
          5,
          5,
          1,
          3,
          5,
          2,
          1,
          5,
          2,
          2,
          2,
          2
         ]
        },
        {
         "hoverinfo": "text",
         "hovertext": [
          "<b>Topic 8</b><br>Words: remnants, restlessness, move, ready, migratory",
          "<b>Topic 8</b><br>Words: songbird, proper, brains, could, vocal",
          "<b>Topic 8</b><br>Words: billardierii, macropodid, thylogale, twophase, disparate",
          "<b>Topic 8</b><br>Words: observing, familiar, ebird, parrots, travel",
          "<b>Topic 8</b><br>Words: caretta, ecological, conservation, restricted, peersocial",
          "<b>Topic 8</b><br>Words: breeding, shags, quantify, skuas, partially",
          "<b>Topic 8</b><br>Words: spawning, enrichment, clustered, seals, arctocephalus",
          "<b>Topic 8</b><br>Words: yearround, bicolor, alcidae, hour, hunger",
          "<b>Topic 8</b><br>Words: dispersal, ecosystem, breeding, birds, urban",
          "<b>Topic 8</b><br>Words: grunt, governing, timelapse, utility, photography",
          "<b>Topic 8</b><br>Words: melanoleuca, ailuropoda, giant, panda, season",
          "<b>Topic 8</b><br>Words: breeding, leader, orangefronted, conures, adlie",
          "<b>Topic 8</b><br>Words: breeding, conservation, atlantic, roundtrip, nonbreeding",
          "<b>Topic 8</b><br>Words: sclateri, reduction, obligate, erectcrested, eudyptes"
         ],
         "marker": {
          "color": "#56B4E9"
         },
         "mode": "lines",
         "name": "8_breeding_conservation_vocal_species",
         "type": "scatter",
         "x": [
          "2006-03-15T09:36:00+00:00",
          "2008-02-14T19:12:00+00:00",
          "2011-01-01T21:36:00+00:00",
          "2011-12-18T14:24:00+00:00",
          "2012-12-03T07:12:00+00:00",
          "2013-11-19T00:00:00+00:00",
          "2014-11-04T16:48:00+00:00",
          "2015-10-21T09:36:00+00:00",
          "2016-10-06T02:24:00+00:00",
          "2018-09-07T12:00:00+00:00",
          "2019-08-24T04:48:00+00:00",
          "2020-08-08T21:36:00+00:00",
          "2021-07-25T14:24:00+00:00",
          "2022-07-11T07:12:00+00:00"
         ],
         "y": [
          1,
          1,
          1,
          4,
          4,
          3,
          3,
          3,
          1,
          2,
          1,
          3,
          4,
          1
         ]
        },
        {
         "hoverinfo": "text",
         "hovertext": [
          "<b>Topic 9</b><br>Words: relativity, swearing, euphemisms, linguistic, language",
          "<b>Topic 9</b><br>Words: sentence, boundaries, twoitem, comprehension, familiaris",
          "<b>Topic 9</b><br>Words: eight, multimethod, receptive, composite, cas",
          "<b>Topic 9</b><br>Words: text, readerships, translated, computer, translations",
          "<b>Topic 9</b><br>Words: overnight, modality, term, crosslingual, meanings",
          "<b>Topic 9</b><br>Words: lexical, english, cantoneseenglish, crevice, cantonese",
          "<b>Topic 9</b><br>Words: language, chinese, early, children, thinkingevidence",
          "<b>Topic 9</b><br>Words: crosslinguistic, core, learner, selfserving, mechanics",
          "<b>Topic 9</b><br>Words: jeitinho, malandragem, simpatia, sentences, subjectonly",
          "<b>Topic 9</b><br>Words: names, semantic, supports, unseen, bilinguals",
          "<b>Topic 9</b><br>Words: debriefing, bilingual, flexibility, translation, absence",
          "<b>Topic 9</b><br>Words: lexical, californians, grammatical, intelligibility, texans"
         ],
         "marker": {
          "color": "#009E73"
         },
         "mode": "lines",
         "name": "9_language_lexical_chinese_children",
         "type": "scatter",
         "x": [
          "2011-01-01T21:36:00+00:00",
          "2011-12-18T14:24:00+00:00",
          "2012-12-03T07:12:00+00:00",
          "2013-11-19T00:00:00+00:00",
          "2014-11-04T16:48:00+00:00",
          "2015-10-21T09:36:00+00:00",
          "2016-10-06T02:24:00+00:00",
          "2017-09-21T19:12:00+00:00",
          "2018-09-07T12:00:00+00:00",
          "2020-08-08T21:36:00+00:00",
          "2021-07-25T14:24:00+00:00",
          "2022-07-11T07:12:00+00:00"
         ],
         "y": [
          1,
          2,
          3,
          2,
          2,
          4,
          4,
          2,
          3,
          2,
          2,
          3
         ]
        },
        {
         "hoverinfo": "text",
         "hovertext": [
          "<b>Topic 10</b><br>Words: willpower, sustained, theories, affect, learning",
          "<b>Topic 10</b><br>Words: scientists, curricula, admissions, essays, mentorship",
          "<b>Topic 10</b><br>Words: geek, culture, engagement, exploration, psychological",
          "<b>Topic 10</b><br>Words: career, beliefs, doctoral, preservice, pedagogical",
          "<b>Topic 10</b><br>Words: funny, educational, courses, instructor, undergraduates",
          "<b>Topic 10</b><br>Words: curricular, necessary, half, battle, clicking",
          "<b>Topic 10</b><br>Words: blended, usefulness, critical, higher, education",
          "<b>Topic 10</b><br>Words: laparoscopic, sleep, students, undergraduates, faculty",
          "<b>Topic 10</b><br>Words: knowledge, education, learning, engagement, instructor",
          "<b>Topic 10</b><br>Words: examining, syllabi, courses, salient, academic"
         ],
         "marker": {
          "color": "#F0E442"
         },
         "mode": "lines",
         "name": "10_students_knowledge_engagement_educati...",
         "type": "scatter",
         "x": [
          "2011-12-18T14:24:00+00:00",
          "2014-11-04T16:48:00+00:00",
          "2015-10-21T09:36:00+00:00",
          "2016-10-06T02:24:00+00:00",
          "2017-09-21T19:12:00+00:00",
          "2018-09-07T12:00:00+00:00",
          "2019-08-24T04:48:00+00:00",
          "2020-08-08T21:36:00+00:00",
          "2021-07-25T14:24:00+00:00",
          "2022-07-11T07:12:00+00:00"
         ],
         "y": [
          1,
          3,
          1,
          2,
          4,
          3,
          1,
          4,
          6,
          2
         ]
        },
        {
         "hoverinfo": "text",
         "hovertext": [
          "<b>Topic 11</b><br>Words: set, health, based, extracting, clinicians",
          "<b>Topic 11</b><br>Words: orthopedic, shoulder, surgery, kingdom, surgeons",
          "<b>Topic 11</b><br>Words: empowerment, patient, measures, systematic, review",
          "<b>Topic 11</b><br>Words: inpatient, rehabilitation, transitions, alcohol, examination",
          "<b>Topic 11</b><br>Words: project, families, workshop, rent, communitybased",
          "<b>Topic 11</b><br>Words: dilemmas, youth, interactions, health, normallyseated",
          "<b>Topic 11</b><br>Words: attend, psychiatric, groups, community, treatment",
          "<b>Topic 11</b><br>Words: illness, health, toward, attitudes, care",
          "<b>Topic 11</b><br>Words: pathway, cancer, new, unresolved, managing",
          "<b>Topic 11</b><br>Words: coaching, waiting, clinics, rooms, outpatient",
          "<b>Topic 11</b><br>Words: delphi, treatment, qualitative, international, health"
         ],
         "marker": {
          "color": "#D55E00"
         },
         "mode": "lines",
         "name": "11_health_treatment_patients_qualitative",
         "type": "scatter",
         "x": [
          "2012-12-03T07:12:00+00:00",
          "2013-11-19T00:00:00+00:00",
          "2014-11-04T16:48:00+00:00",
          "2015-10-21T09:36:00+00:00",
          "2016-10-06T02:24:00+00:00",
          "2017-09-21T19:12:00+00:00",
          "2018-09-07T12:00:00+00:00",
          "2019-08-24T04:48:00+00:00",
          "2020-08-08T21:36:00+00:00",
          "2021-07-25T14:24:00+00:00",
          "2022-07-11T07:12:00+00:00"
         ],
         "y": [
          3,
          1,
          1,
          1,
          1,
          3,
          1,
          5,
          3,
          1,
          7
         ]
        },
        {
         "hoverinfo": "text",
         "hovertext": [
          "<b>Topic 12</b><br>Words: gender, voting, inferences, political, gap",
          "<b>Topic 12</b><br>Words: babies, determined, attractiveness, motivational, facial",
          "<b>Topic 12</b><br>Words: humans, samesex, matechoice, amazon, photographs",
          "<b>Topic 12</b><br>Words: looking, lookings, sake, mars, venus",
          "<b>Topic 12</b><br>Words: cuing, matters, eyes, follow, gaze",
          "<b>Topic 12</b><br>Words: reflected, attracts, peoples, embodiment, signature",
          "<b>Topic 12</b><br>Words: loneliness, hypervigilance, penis, females, tits",
          "<b>Topic 12</b><br>Words: nature, nave, hollow, width, height",
          "<b>Topic 12</b><br>Words: ringtone, agreeableness, attractiveness, judgment, sequential",
          "<b>Topic 12</b><br>Words: objectification, beauty, sexiness, elegance, widthtoheight",
          "<b>Topic 12</b><br>Words: assertiveness, simon, beautification, allocentric, attraction",
          "<b>Topic 12</b><br>Words: react, positively, finding, malefavoring, counterintuitive"
         ],
         "marker": {
          "color": "#0072B2"
         },
         "mode": "lines",
         "name": "12_facial_sex_differences_gender",
         "type": "scatter",
         "x": [
          "2008-02-14T19:12:00+00:00",
          "2009-01-30T12:00:00+00:00",
          "2010-01-16T04:48:00+00:00",
          "2011-12-18T14:24:00+00:00",
          "2012-12-03T07:12:00+00:00",
          "2013-11-19T00:00:00+00:00",
          "2014-11-04T16:48:00+00:00",
          "2016-10-06T02:24:00+00:00",
          "2017-09-21T19:12:00+00:00",
          "2018-09-07T12:00:00+00:00",
          "2019-08-24T04:48:00+00:00",
          "2021-07-25T14:24:00+00:00"
         ],
         "y": [
          1,
          1,
          2,
          2,
          1,
          2,
          3,
          3,
          1,
          5,
          2,
          1
         ]
        },
        {
         "hoverinfo": "text",
         "hovertext": [
          "<b>Topic 13</b><br>Words: gsk3, anxietyrelated, fragile, autism, mouse",
          "<b>Topic 13</b><br>Words: symmetry, mirror, increased, autism, sensitivity",
          "<b>Topic 13</b><br>Words: recognizing, pointlight, biological, autism, displays",
          "<b>Topic 13</b><br>Words: retrospective, disabilities, intellectual, autism, clinical",
          "<b>Topic 13</b><br>Words: autism, spectrum, prepulse, irony, reflex",
          "<b>Topic 13</b><br>Words: autism, spectrum, take, he, asd",
          "<b>Topic 13</b><br>Words: autism, spectrum, disorder, without, intellectual",
          "<b>Topic 13</b><br>Words: autism, spectrum, fineform, gestalt, autistic",
          "<b>Topic 13</b><br>Words: animated, autism, spectrum, vehicles, improve",
          "<b>Topic 13</b><br>Words: owngender, autism, holistic, quotient, extraversion",
          "<b>Topic 13</b><br>Words: adaptation, autism, behavioural, social, spectrum",
          "<b>Topic 13</b><br>Words: autism, spectrum, supporting, dataset, dream",
          "<b>Topic 13</b><br>Words: spoken, corpus, autism, pragmatic, spectrum",
          "<b>Topic 13</b><br>Words: autism, spectrum, nabilone, openlabel, developmental"
         ],
         "marker": {
          "color": "#CC79A7"
         },
         "mode": "lines",
         "name": "13_autism_spectrum_disorder_intellectual",
         "type": "scatter",
         "x": [
          "2010-01-16T04:48:00+00:00",
          "2011-01-01T21:36:00+00:00",
          "2011-12-18T14:24:00+00:00",
          "2012-12-03T07:12:00+00:00",
          "2013-11-19T00:00:00+00:00",
          "2014-11-04T16:48:00+00:00",
          "2015-10-21T09:36:00+00:00",
          "2016-10-06T02:24:00+00:00",
          "2017-09-21T19:12:00+00:00",
          "2018-09-07T12:00:00+00:00",
          "2019-08-24T04:48:00+00:00",
          "2020-08-08T21:36:00+00:00",
          "2021-07-25T14:24:00+00:00",
          "2022-07-11T07:12:00+00:00"
         ],
         "y": [
          1,
          1,
          1,
          1,
          2,
          2,
          5,
          3,
          1,
          1,
          1,
          2,
          1,
          2
         ]
        },
        {
         "hoverinfo": "text",
         "hovertext": [
          "<b>Topic 14</b><br>Words: amygdala, activate, dynorphinkappa, chemosensory, crf1r",
          "<b>Topic 14</b><br>Words: hydroxylase, tryptophan, psychopathological, chimpanzee, tph2",
          "<b>Topic 14</b><br>Words: gene, fear, amygdala, receptor, serotonin",
          "<b>Topic 14</b><br>Words: receptor, glucocorticoid, lactation, 5ht2a, dioxin",
          "<b>Topic 14</b><br>Words: rats, behavior, receptor, fear, protein",
          "<b>Topic 14</b><br>Words: receiver, sender, chemical, drives, rapid",
          "<b>Topic 14</b><br>Words: whisker, fearanxietyrelated, trimming, neonatal, impairs",
          "<b>Topic 14</b><br>Words: counteracts, indomethacin, defeat, mice, chronic",
          "<b>Topic 14</b><br>Words: habituation, electrodermal, biological, correlate, resilience",
          "<b>Topic 14</b><br>Words: bidirectional, dcycloserine, danger, cingulatedependent, extinction",
          "<b>Topic 14</b><br>Words: stress, alleviates, bold, citrusbased, regular"
         ],
         "marker": {
          "color": "#E69F00"
         },
         "mode": "lines",
         "name": "14_fear_stress_amygdala_gene",
         "type": "scatter",
         "x": [
          "2009-01-30T12:00:00+00:00",
          "2011-01-01T21:36:00+00:00",
          "2011-12-18T14:24:00+00:00",
          "2012-12-03T07:12:00+00:00",
          "2013-11-19T00:00:00+00:00",
          "2014-11-04T16:48:00+00:00",
          "2015-10-21T09:36:00+00:00",
          "2016-10-06T02:24:00+00:00",
          "2018-09-07T12:00:00+00:00",
          "2019-08-24T04:48:00+00:00",
          "2020-08-08T21:36:00+00:00"
         ],
         "y": [
          2,
          3,
          5,
          3,
          4,
          1,
          1,
          1,
          1,
          2,
          1
         ]
        },
        {
         "hoverinfo": "text",
         "hovertext": [
          "<b>Topic 15</b><br>Words: craving, cingulate, reappraisal, dorsal, smokers",
          "<b>Topic 15</b><br>Words: tobaccorelated, warning, snus, labels, electronic",
          "<b>Topic 15</b><br>Words: preoperative, abstinence, applied, planned, smoking",
          "<b>Topic 15</b><br>Words: cigarette, electronic, towards, cigarettes, smokers",
          "<b>Topic 15</b><br>Words: nicotine, electronic, smoking, cigarettes, smokers",
          "<b>Topic 15</b><br>Words: electronic, use, cigarettes, nicotine, 20112015",
          "<b>Topic 15</b><br>Words: electronic, cigarette, cessation, smoking, ecigarette",
          "<b>Topic 15</b><br>Words: smoking, enrolled, qatari, quit, quitting",
          "<b>Topic 15</b><br>Words: support, smoking, shops, vape, 4s"
         ],
         "marker": {
          "color": "#56B4E9"
         },
         "mode": "lines",
         "name": "15_electronic_smoking_cigarettes_cigaret...",
         "type": "scatter",
         "x": [
          "2011-12-18T14:24:00+00:00",
          "2012-12-03T07:12:00+00:00",
          "2013-11-19T00:00:00+00:00",
          "2014-11-04T16:48:00+00:00",
          "2015-10-21T09:36:00+00:00",
          "2016-10-06T02:24:00+00:00",
          "2020-08-08T21:36:00+00:00",
          "2021-07-25T14:24:00+00:00",
          "2022-07-11T07:12:00+00:00"
         ],
         "y": [
          1,
          2,
          1,
          4,
          4,
          3,
          5,
          2,
          2
         ]
        },
        {
         "hoverinfo": "text",
         "hovertext": [
          "<b>Topic 16</b><br>Words: sequential, testing, tasks, decisionmaking, research",
          "<b>Topic 16</b><br>Words: uncertainty, discrete, unstable, confidence, correlate",
          "<b>Topic 16</b><br>Words: reviewing, answers, market, lead, making",
          "<b>Topic 16</b><br>Words: elderly, predictions, update, upcoming, leads",
          "<b>Topic 16</b><br>Words: affordable, architecture, accounts, sequential, consumers",
          "<b>Topic 16</b><br>Words: off, shock, spanning, stuck, constricts",
          "<b>Topic 16</b><br>Words: let, luminance, sunshine, timevarying, in",
          "<b>Topic 16</b><br>Words: choice, unifying, impose, valuebased, account",
          "<b>Topic 16</b><br>Words: learn, humans, models, decisionmaking, case",
          "<b>Topic 16</b><br>Words: conversations, iot, aided, product, dialogue",
          "<b>Topic 16</b><br>Words: endogenous, origin, options, repeated, default",
          "<b>Topic 16</b><br>Words: decisions, decisionmaking, sequential, choice, valuebased",
          "<b>Topic 16</b><br>Words: fail, suggested, weaker, exert, perceptualfluency"
         ],
         "marker": {
          "color": "#009E73"
         },
         "mode": "lines",
         "name": "16_choice_sequential_decisions_uncertain...",
         "type": "scatter",
         "x": [
          "2009-01-30T12:00:00+00:00",
          "2011-01-01T21:36:00+00:00",
          "2011-12-18T14:24:00+00:00",
          "2012-12-03T07:12:00+00:00",
          "2013-11-19T00:00:00+00:00",
          "2015-10-21T09:36:00+00:00",
          "2016-10-06T02:24:00+00:00",
          "2017-09-21T19:12:00+00:00",
          "2018-09-07T12:00:00+00:00",
          "2019-08-24T04:48:00+00:00",
          "2020-08-08T21:36:00+00:00",
          "2021-07-25T14:24:00+00:00",
          "2022-07-11T07:12:00+00:00"
         ],
         "y": [
          1,
          2,
          1,
          1,
          2,
          3,
          2,
          2,
          1,
          2,
          1,
          4,
          1
         ]
        },
        {
         "hoverinfo": "text",
         "hovertext": [
          "<b>Topic 17</b><br>Words: currency, transient, shifts, consistency, temporal",
          "<b>Topic 17</b><br>Words: awarenessdependent, astigmatism, correction, blink, natural",
          "<b>Topic 17</b><br>Words: recalibration, changing, window, demands, multisensory",
          "<b>Topic 17</b><br>Words: attention, contrast, saccadic, selective, suppression",
          "<b>Topic 17</b><br>Words: saccade, time, latency, switches, dualtask",
          "<b>Topic 17</b><br>Words: attentional, task, reversals, nonmonotonic, dynamically",
          "<b>Topic 17</b><br>Words: order, disambiguation, confounds, previous, response",
          "<b>Topic 17</b><br>Words: bottomup, topdown, expectation, pathways, signals",
          "<b>Topic 17</b><br>Words: phenomena, flicker, altered, light, induced",
          "<b>Topic 17</b><br>Words: preceding, fluctuation, emphasizing, diagnostics, decomposing"
         ],
         "marker": {
          "color": "#F0E442"
         },
         "mode": "lines",
         "name": "17_attentional_temporal_attention_integr...",
         "type": "scatter",
         "x": [
          "2010-01-16T04:48:00+00:00",
          "2011-12-18T14:24:00+00:00",
          "2012-12-03T07:12:00+00:00",
          "2013-11-19T00:00:00+00:00",
          "2014-11-04T16:48:00+00:00",
          "2015-10-21T09:36:00+00:00",
          "2016-10-06T02:24:00+00:00",
          "2018-09-07T12:00:00+00:00",
          "2020-08-08T21:36:00+00:00",
          "2022-07-11T07:12:00+00:00"
         ],
         "y": [
          1,
          2,
          1,
          6,
          3,
          3,
          2,
          1,
          1,
          2
         ]
        },
        {
         "hoverinfo": "text",
         "hovertext": [
          "<b>Topic 18</b><br>Words: xxy, candidates, transplant, chromosome, neuropsychological",
          "<b>Topic 18</b><br>Words: phobia, neuropsychological, lack, generalized, deficits",
          "<b>Topic 18</b><br>Words: connectivity, functional, depression, psychopathology, lateonset",
          "<b>Topic 18</b><br>Words: magnetic, imaging, resonance, functional, correlates",
          "<b>Topic 18</b><br>Words: ultrahigh, mode, aberrant, psychosis, salience",
          "<b>Topic 18</b><br>Words: anxiety, symptoms, 5htt, familial, maladaptive",
          "<b>Topic 18</b><br>Words: anxiety, skills, treatment, interoceptive, concomitant",
          "<b>Topic 18</b><br>Words: disorder, handwriting, lowerorder, subtypes, personality",
          "<b>Topic 18</b><br>Words: functional, anxiety, disorder, searches, ultrasoundguided"
         ],
         "marker": {
          "color": "#D55E00"
         },
         "mode": "lines",
         "name": "18_anxiety_functional_disorder_connectiv...",
         "type": "scatter",
         "x": [
          "2011-01-01T21:36:00+00:00",
          "2011-12-18T14:24:00+00:00",
          "2012-12-03T07:12:00+00:00",
          "2013-11-19T00:00:00+00:00",
          "2014-11-04T16:48:00+00:00",
          "2015-10-21T09:36:00+00:00",
          "2018-09-07T12:00:00+00:00",
          "2019-08-24T04:48:00+00:00",
          "2022-07-11T07:12:00+00:00"
         ],
         "y": [
          2,
          1,
          5,
          1,
          1,
          3,
          3,
          2,
          4
         ]
        },
        {
         "hoverinfo": "text",
         "hovertext": [
          "<b>Topic 19</b><br>Words: musicians, nonmusicians, music, alters, complex",
          "<b>Topic 19</b><br>Words: electromagnetic, musical, expertise, tone, correlates",
          "<b>Topic 19</b><br>Words: fourmonthsold, singing, dancing, music, precursors",
          "<b>Topic 19</b><br>Words: music, song, decrease, shark, viewers",
          "<b>Topic 19</b><br>Words: salty, crossmodal, music, sound, taste",
          "<b>Topic 19</b><br>Words: music, selfchosen, younger, regulates, listening",
          "<b>Topic 19</b><br>Words: music, discerning, musical, vocalizations, acoustic",
          "<b>Topic 19</b><br>Words: music, musical, memorable, musicevoked, speechtosong",
          "<b>Topic 19</b><br>Words: music, moved, influential, implosive, explosive",
          "<b>Topic 19</b><br>Words: music, musical, reproduction, perception, listener"
         ],
         "marker": {
          "color": "#0072B2"
         },
         "mode": "lines",
         "name": "19_music_musical_acoustic_perception",
         "type": "scatter",
         "x": [
          "2011-01-01T21:36:00+00:00",
          "2011-12-18T14:24:00+00:00",
          "2013-11-19T00:00:00+00:00",
          "2015-10-21T09:36:00+00:00",
          "2016-10-06T02:24:00+00:00",
          "2018-09-07T12:00:00+00:00",
          "2019-08-24T04:48:00+00:00",
          "2020-08-08T21:36:00+00:00",
          "2021-07-25T14:24:00+00:00",
          "2022-07-11T07:12:00+00:00"
         ],
         "y": [
          2,
          1,
          1,
          4,
          1,
          2,
          2,
          3,
          2,
          3
         ]
        }
       ],
       "layout": {
        "height": 450,
        "hoverlabel": {
         "bgcolor": "white",
         "font": {
          "family": "Rockwell",
          "size": 16
         }
        },
        "legend": {
         "title": {
          "text": "<b>Global Topic Representation"
         }
        },
        "template": {
         "data": {
          "bar": [
           {
            "error_x": {
             "color": "rgb(36,36,36)"
            },
            "error_y": {
             "color": "rgb(36,36,36)"
            },
            "marker": {
             "line": {
              "color": "white",
              "width": 0.5
             },
             "pattern": {
              "fillmode": "overlay",
              "size": 10,
              "solidity": 0.2
             }
            },
            "type": "bar"
           }
          ],
          "barpolar": [
           {
            "marker": {
             "line": {
              "color": "white",
              "width": 0.5
             },
             "pattern": {
              "fillmode": "overlay",
              "size": 10,
              "solidity": 0.2
             }
            },
            "type": "barpolar"
           }
          ],
          "carpet": [
           {
            "aaxis": {
             "endlinecolor": "rgb(36,36,36)",
             "gridcolor": "white",
             "linecolor": "white",
             "minorgridcolor": "white",
             "startlinecolor": "rgb(36,36,36)"
            },
            "baxis": {
             "endlinecolor": "rgb(36,36,36)",
             "gridcolor": "white",
             "linecolor": "white",
             "minorgridcolor": "white",
             "startlinecolor": "rgb(36,36,36)"
            },
            "type": "carpet"
           }
          ],
          "choropleth": [
           {
            "colorbar": {
             "outlinewidth": 1,
             "tickcolor": "rgb(36,36,36)",
             "ticks": "outside"
            },
            "type": "choropleth"
           }
          ],
          "contour": [
           {
            "colorbar": {
             "outlinewidth": 1,
             "tickcolor": "rgb(36,36,36)",
             "ticks": "outside"
            },
            "colorscale": [
             [
              0,
              "#440154"
             ],
             [
              0.1111111111111111,
              "#482878"
             ],
             [
              0.2222222222222222,
              "#3e4989"
             ],
             [
              0.3333333333333333,
              "#31688e"
             ],
             [
              0.4444444444444444,
              "#26828e"
             ],
             [
              0.5555555555555556,
              "#1f9e89"
             ],
             [
              0.6666666666666666,
              "#35b779"
             ],
             [
              0.7777777777777778,
              "#6ece58"
             ],
             [
              0.8888888888888888,
              "#b5de2b"
             ],
             [
              1,
              "#fde725"
             ]
            ],
            "type": "contour"
           }
          ],
          "contourcarpet": [
           {
            "colorbar": {
             "outlinewidth": 1,
             "tickcolor": "rgb(36,36,36)",
             "ticks": "outside"
            },
            "type": "contourcarpet"
           }
          ],
          "heatmap": [
           {
            "colorbar": {
             "outlinewidth": 1,
             "tickcolor": "rgb(36,36,36)",
             "ticks": "outside"
            },
            "colorscale": [
             [
              0,
              "#440154"
             ],
             [
              0.1111111111111111,
              "#482878"
             ],
             [
              0.2222222222222222,
              "#3e4989"
             ],
             [
              0.3333333333333333,
              "#31688e"
             ],
             [
              0.4444444444444444,
              "#26828e"
             ],
             [
              0.5555555555555556,
              "#1f9e89"
             ],
             [
              0.6666666666666666,
              "#35b779"
             ],
             [
              0.7777777777777778,
              "#6ece58"
             ],
             [
              0.8888888888888888,
              "#b5de2b"
             ],
             [
              1,
              "#fde725"
             ]
            ],
            "type": "heatmap"
           }
          ],
          "heatmapgl": [
           {
            "colorbar": {
             "outlinewidth": 1,
             "tickcolor": "rgb(36,36,36)",
             "ticks": "outside"
            },
            "colorscale": [
             [
              0,
              "#440154"
             ],
             [
              0.1111111111111111,
              "#482878"
             ],
             [
              0.2222222222222222,
              "#3e4989"
             ],
             [
              0.3333333333333333,
              "#31688e"
             ],
             [
              0.4444444444444444,
              "#26828e"
             ],
             [
              0.5555555555555556,
              "#1f9e89"
             ],
             [
              0.6666666666666666,
              "#35b779"
             ],
             [
              0.7777777777777778,
              "#6ece58"
             ],
             [
              0.8888888888888888,
              "#b5de2b"
             ],
             [
              1,
              "#fde725"
             ]
            ],
            "type": "heatmapgl"
           }
          ],
          "histogram": [
           {
            "marker": {
             "line": {
              "color": "white",
              "width": 0.6
             }
            },
            "type": "histogram"
           }
          ],
          "histogram2d": [
           {
            "colorbar": {
             "outlinewidth": 1,
             "tickcolor": "rgb(36,36,36)",
             "ticks": "outside"
            },
            "colorscale": [
             [
              0,
              "#440154"
             ],
             [
              0.1111111111111111,
              "#482878"
             ],
             [
              0.2222222222222222,
              "#3e4989"
             ],
             [
              0.3333333333333333,
              "#31688e"
             ],
             [
              0.4444444444444444,
              "#26828e"
             ],
             [
              0.5555555555555556,
              "#1f9e89"
             ],
             [
              0.6666666666666666,
              "#35b779"
             ],
             [
              0.7777777777777778,
              "#6ece58"
             ],
             [
              0.8888888888888888,
              "#b5de2b"
             ],
             [
              1,
              "#fde725"
             ]
            ],
            "type": "histogram2d"
           }
          ],
          "histogram2dcontour": [
           {
            "colorbar": {
             "outlinewidth": 1,
             "tickcolor": "rgb(36,36,36)",
             "ticks": "outside"
            },
            "colorscale": [
             [
              0,
              "#440154"
             ],
             [
              0.1111111111111111,
              "#482878"
             ],
             [
              0.2222222222222222,
              "#3e4989"
             ],
             [
              0.3333333333333333,
              "#31688e"
             ],
             [
              0.4444444444444444,
              "#26828e"
             ],
             [
              0.5555555555555556,
              "#1f9e89"
             ],
             [
              0.6666666666666666,
              "#35b779"
             ],
             [
              0.7777777777777778,
              "#6ece58"
             ],
             [
              0.8888888888888888,
              "#b5de2b"
             ],
             [
              1,
              "#fde725"
             ]
            ],
            "type": "histogram2dcontour"
           }
          ],
          "mesh3d": [
           {
            "colorbar": {
             "outlinewidth": 1,
             "tickcolor": "rgb(36,36,36)",
             "ticks": "outside"
            },
            "type": "mesh3d"
           }
          ],
          "parcoords": [
           {
            "line": {
             "colorbar": {
              "outlinewidth": 1,
              "tickcolor": "rgb(36,36,36)",
              "ticks": "outside"
             }
            },
            "type": "parcoords"
           }
          ],
          "pie": [
           {
            "automargin": true,
            "type": "pie"
           }
          ],
          "scatter": [
           {
            "fillpattern": {
             "fillmode": "overlay",
             "size": 10,
             "solidity": 0.2
            },
            "type": "scatter"
           }
          ],
          "scatter3d": [
           {
            "line": {
             "colorbar": {
              "outlinewidth": 1,
              "tickcolor": "rgb(36,36,36)",
              "ticks": "outside"
             }
            },
            "marker": {
             "colorbar": {
              "outlinewidth": 1,
              "tickcolor": "rgb(36,36,36)",
              "ticks": "outside"
             }
            },
            "type": "scatter3d"
           }
          ],
          "scattercarpet": [
           {
            "marker": {
             "colorbar": {
              "outlinewidth": 1,
              "tickcolor": "rgb(36,36,36)",
              "ticks": "outside"
             }
            },
            "type": "scattercarpet"
           }
          ],
          "scattergeo": [
           {
            "marker": {
             "colorbar": {
              "outlinewidth": 1,
              "tickcolor": "rgb(36,36,36)",
              "ticks": "outside"
             }
            },
            "type": "scattergeo"
           }
          ],
          "scattergl": [
           {
            "marker": {
             "colorbar": {
              "outlinewidth": 1,
              "tickcolor": "rgb(36,36,36)",
              "ticks": "outside"
             }
            },
            "type": "scattergl"
           }
          ],
          "scattermapbox": [
           {
            "marker": {
             "colorbar": {
              "outlinewidth": 1,
              "tickcolor": "rgb(36,36,36)",
              "ticks": "outside"
             }
            },
            "type": "scattermapbox"
           }
          ],
          "scatterpolar": [
           {
            "marker": {
             "colorbar": {
              "outlinewidth": 1,
              "tickcolor": "rgb(36,36,36)",
              "ticks": "outside"
             }
            },
            "type": "scatterpolar"
           }
          ],
          "scatterpolargl": [
           {
            "marker": {
             "colorbar": {
              "outlinewidth": 1,
              "tickcolor": "rgb(36,36,36)",
              "ticks": "outside"
             }
            },
            "type": "scatterpolargl"
           }
          ],
          "scatterternary": [
           {
            "marker": {
             "colorbar": {
              "outlinewidth": 1,
              "tickcolor": "rgb(36,36,36)",
              "ticks": "outside"
             }
            },
            "type": "scatterternary"
           }
          ],
          "surface": [
           {
            "colorbar": {
             "outlinewidth": 1,
             "tickcolor": "rgb(36,36,36)",
             "ticks": "outside"
            },
            "colorscale": [
             [
              0,
              "#440154"
             ],
             [
              0.1111111111111111,
              "#482878"
             ],
             [
              0.2222222222222222,
              "#3e4989"
             ],
             [
              0.3333333333333333,
              "#31688e"
             ],
             [
              0.4444444444444444,
              "#26828e"
             ],
             [
              0.5555555555555556,
              "#1f9e89"
             ],
             [
              0.6666666666666666,
              "#35b779"
             ],
             [
              0.7777777777777778,
              "#6ece58"
             ],
             [
              0.8888888888888888,
              "#b5de2b"
             ],
             [
              1,
              "#fde725"
             ]
            ],
            "type": "surface"
           }
          ],
          "table": [
           {
            "cells": {
             "fill": {
              "color": "rgb(237,237,237)"
             },
             "line": {
              "color": "white"
             }
            },
            "header": {
             "fill": {
              "color": "rgb(217,217,217)"
             },
             "line": {
              "color": "white"
             }
            },
            "type": "table"
           }
          ]
         },
         "layout": {
          "annotationdefaults": {
           "arrowhead": 0,
           "arrowwidth": 1
          },
          "autotypenumbers": "strict",
          "coloraxis": {
           "colorbar": {
            "outlinewidth": 1,
            "tickcolor": "rgb(36,36,36)",
            "ticks": "outside"
           }
          },
          "colorscale": {
           "diverging": [
            [
             0,
             "rgb(103,0,31)"
            ],
            [
             0.1,
             "rgb(178,24,43)"
            ],
            [
             0.2,
             "rgb(214,96,77)"
            ],
            [
             0.3,
             "rgb(244,165,130)"
            ],
            [
             0.4,
             "rgb(253,219,199)"
            ],
            [
             0.5,
             "rgb(247,247,247)"
            ],
            [
             0.6,
             "rgb(209,229,240)"
            ],
            [
             0.7,
             "rgb(146,197,222)"
            ],
            [
             0.8,
             "rgb(67,147,195)"
            ],
            [
             0.9,
             "rgb(33,102,172)"
            ],
            [
             1,
             "rgb(5,48,97)"
            ]
           ],
           "sequential": [
            [
             0,
             "#440154"
            ],
            [
             0.1111111111111111,
             "#482878"
            ],
            [
             0.2222222222222222,
             "#3e4989"
            ],
            [
             0.3333333333333333,
             "#31688e"
            ],
            [
             0.4444444444444444,
             "#26828e"
            ],
            [
             0.5555555555555556,
             "#1f9e89"
            ],
            [
             0.6666666666666666,
             "#35b779"
            ],
            [
             0.7777777777777778,
             "#6ece58"
            ],
            [
             0.8888888888888888,
             "#b5de2b"
            ],
            [
             1,
             "#fde725"
            ]
           ],
           "sequentialminus": [
            [
             0,
             "#440154"
            ],
            [
             0.1111111111111111,
             "#482878"
            ],
            [
             0.2222222222222222,
             "#3e4989"
            ],
            [
             0.3333333333333333,
             "#31688e"
            ],
            [
             0.4444444444444444,
             "#26828e"
            ],
            [
             0.5555555555555556,
             "#1f9e89"
            ],
            [
             0.6666666666666666,
             "#35b779"
            ],
            [
             0.7777777777777778,
             "#6ece58"
            ],
            [
             0.8888888888888888,
             "#b5de2b"
            ],
            [
             1,
             "#fde725"
            ]
           ]
          },
          "colorway": [
           "#1F77B4",
           "#FF7F0E",
           "#2CA02C",
           "#D62728",
           "#9467BD",
           "#8C564B",
           "#E377C2",
           "#7F7F7F",
           "#BCBD22",
           "#17BECF"
          ],
          "font": {
           "color": "rgb(36,36,36)"
          },
          "geo": {
           "bgcolor": "white",
           "lakecolor": "white",
           "landcolor": "white",
           "showlakes": true,
           "showland": true,
           "subunitcolor": "white"
          },
          "hoverlabel": {
           "align": "left"
          },
          "hovermode": "closest",
          "mapbox": {
           "style": "light"
          },
          "paper_bgcolor": "white",
          "plot_bgcolor": "white",
          "polar": {
           "angularaxis": {
            "gridcolor": "rgb(232,232,232)",
            "linecolor": "rgb(36,36,36)",
            "showgrid": false,
            "showline": true,
            "ticks": "outside"
           },
           "bgcolor": "white",
           "radialaxis": {
            "gridcolor": "rgb(232,232,232)",
            "linecolor": "rgb(36,36,36)",
            "showgrid": false,
            "showline": true,
            "ticks": "outside"
           }
          },
          "scene": {
           "xaxis": {
            "backgroundcolor": "white",
            "gridcolor": "rgb(232,232,232)",
            "gridwidth": 2,
            "linecolor": "rgb(36,36,36)",
            "showbackground": true,
            "showgrid": false,
            "showline": true,
            "ticks": "outside",
            "zeroline": false,
            "zerolinecolor": "rgb(36,36,36)"
           },
           "yaxis": {
            "backgroundcolor": "white",
            "gridcolor": "rgb(232,232,232)",
            "gridwidth": 2,
            "linecolor": "rgb(36,36,36)",
            "showbackground": true,
            "showgrid": false,
            "showline": true,
            "ticks": "outside",
            "zeroline": false,
            "zerolinecolor": "rgb(36,36,36)"
           },
           "zaxis": {
            "backgroundcolor": "white",
            "gridcolor": "rgb(232,232,232)",
            "gridwidth": 2,
            "linecolor": "rgb(36,36,36)",
            "showbackground": true,
            "showgrid": false,
            "showline": true,
            "ticks": "outside",
            "zeroline": false,
            "zerolinecolor": "rgb(36,36,36)"
           }
          },
          "shapedefaults": {
           "fillcolor": "black",
           "line": {
            "width": 0
           },
           "opacity": 0.3
          },
          "ternary": {
           "aaxis": {
            "gridcolor": "rgb(232,232,232)",
            "linecolor": "rgb(36,36,36)",
            "showgrid": false,
            "showline": true,
            "ticks": "outside"
           },
           "baxis": {
            "gridcolor": "rgb(232,232,232)",
            "linecolor": "rgb(36,36,36)",
            "showgrid": false,
            "showline": true,
            "ticks": "outside"
           },
           "bgcolor": "white",
           "caxis": {
            "gridcolor": "rgb(232,232,232)",
            "linecolor": "rgb(36,36,36)",
            "showgrid": false,
            "showline": true,
            "ticks": "outside"
           }
          },
          "title": {
           "x": 0.05
          },
          "xaxis": {
           "automargin": true,
           "gridcolor": "rgb(232,232,232)",
           "linecolor": "rgb(36,36,36)",
           "showgrid": false,
           "showline": true,
           "ticks": "outside",
           "title": {
            "standoff": 15
           },
           "zeroline": false,
           "zerolinecolor": "rgb(36,36,36)"
          },
          "yaxis": {
           "automargin": true,
           "gridcolor": "rgb(232,232,232)",
           "linecolor": "rgb(36,36,36)",
           "showgrid": false,
           "showline": true,
           "ticks": "outside",
           "title": {
            "standoff": 15
           },
           "zeroline": false,
           "zerolinecolor": "rgb(36,36,36)"
          }
         }
        },
        "title": {
         "font": {
          "color": "Black",
          "size": 22
         },
         "text": "<b>Topics over Time</b>",
         "x": 0.4,
         "xanchor": "center",
         "y": 0.95,
         "yanchor": "top"
        },
        "width": 1250,
        "xaxis": {
         "showgrid": true
        },
        "yaxis": {
         "showgrid": true,
         "title": {
          "text": "Frequency"
         }
        }
       }
      },
      "text/html": [
       "<div>                            <div id=\"20252f95-8a3a-452f-a3e6-ea12a749037f\" class=\"plotly-graph-div\" style=\"height:450px; width:1250px;\"></div>            <script type=\"text/javascript\">                require([\"plotly\"], function(Plotly) {                    window.PLOTLYENV=window.PLOTLYENV || {};                                    if (document.getElementById(\"20252f95-8a3a-452f-a3e6-ea12a749037f\")) {                    Plotly.newPlot(                        \"20252f95-8a3a-452f-a3e6-ea12a749037f\",                        [{\"hoverinfo\":\"text\",\"hovertext\":[\"\\u003cb\\u003eTopic 0\\u003c\\u002fb\\u003e\\u003cbr\\u003eWords: typhoon, earthquake, wenchuan, 2008, eye\",\"\\u003cb\\u003eTopic 0\\u003c\\u002fb\\u003e\\u003cbr\\u003eWords: prevention, suicide, secondary, covid19, pandemic\",\"\\u003cb\\u003eTopic 0\\u003c\\u002fb\\u003e\\u003cbr\\u003eWords: enhances, psychodynamic, hidden, trauma, childhood\",\"\\u003cb\\u003eTopic 0\\u003c\\u002fb\\u003e\\u003cbr\\u003eWords: rating, love, airs, suicidal, suicide\",\"\\u003cb\\u003eTopic 0\\u003c\\u002fb\\u003e\\u003cbr\\u003eWords: self, ethiopians, etisrsr, burn, pressure\",\"\\u003cb\\u003eTopic 0\\u003c\\u002fb\\u003e\\u003cbr\\u003eWords: postearthquake, acquired, signs, microstructural, white\",\"\\u003cb\\u003eTopic 0\\u003c\\u002fb\\u003e\\u003cbr\\u003eWords: violence, posttraumatic, immigrant, sick, palestinians\",\"\\u003cb\\u003eTopic 0\\u003c\\u002fb\\u003e\\u003cbr\\u003eWords: water, nonsuidical, selfinjury, household, improvement\",\"\\u003cb\\u003eTopic 0\\u003c\\u002fb\\u003e\\u003cbr\\u003eWords: thai, injury, following, large, cohort\",\"\\u003cb\\u003eTopic 0\\u003c\\u002fb\\u003e\\u003cbr\\u003eWords: care, malawi, providing, suboptimal, hiv\",\"\\u003cb\\u003eTopic 0\\u003c\\u002fb\\u003e\\u003cbr\\u003eWords: maltreatment, burnout, exposure, covid19, admitted\",\"\\u003cb\\u003eTopic 0\\u003c\\u002fb\\u003e\\u003cbr\\u003eWords: covid19, pandemic, psychological, mental, health\",\"\\u003cb\\u003eTopic 0\\u003c\\u002fb\\u003e\\u003cbr\\u003eWords: covid19, pandemic, burnout, healthcare, health\",\"\\u003cb\\u003eTopic 0\\u003c\\u002fb\\u003e\\u003cbr\\u003eWords: covid19, pandemic, mental, health, burnout\"],\"marker\":{\"color\":\"#E69F00\"},\"mode\":\"lines\",\"name\":\"0_covid19_pandemic_burnout_health\",\"x\":[\"2009-01-30T12:00:00+00:00\",\"2010-01-16T04:48:00+00:00\",\"2011-01-01T21:36:00+00:00\",\"2011-12-18T14:24:00+00:00\",\"2012-12-03T07:12:00+00:00\",\"2013-11-19T00:00:00+00:00\",\"2014-11-04T16:48:00+00:00\",\"2015-10-21T09:36:00+00:00\",\"2016-10-06T02:24:00+00:00\",\"2017-09-21T19:12:00+00:00\",\"2019-08-24T04:48:00+00:00\",\"2020-08-08T21:36:00+00:00\",\"2021-07-25T14:24:00+00:00\",\"2022-07-11T07:12:00+00:00\"],\"y\":[1,1,1,1,4,1,4,2,1,1,4,18,24,21],\"type\":\"scatter\"},{\"hoverinfo\":\"text\",\"hovertext\":[\"\\u003cb\\u003eTopic 1\\u003c\\u002fb\\u003e\\u003cbr\\u003eWords: selfgenerated, touch, perspective, neural, perception\",\"\\u003cb\\u003eTopic 1\\u003c\\u002fb\\u003e\\u003cbr\\u003eWords: tactile, temporally, rabbit, cutaneous, replicates\",\"\\u003cb\\u003eTopic 1\\u003c\\u002fb\\u003e\\u003cbr\\u003eWords: repetition, swapping, naming, you, stages\",\"\\u003cb\\u003eTopic 1\\u003c\\u002fb\\u003e\\u003cbr\\u003eWords: activated, crossorientation, facilitates, interpolation, loci\",\"\\u003cb\\u003eTopic 1\\u003c\\u002fb\\u003e\\u003cbr\\u003eWords: augmented, younger, reference, intrinsic, visuomotor\",\"\\u003cb\\u003eTopic 1\\u003c\\u002fb\\u003e\\u003cbr\\u003eWords: hand, rubber, anothers, drift, proprioceptive\",\"\\u003cb\\u003eTopic 1\\u003c\\u002fb\\u003e\\u003cbr\\u003eWords: approachavoidance, fusional, prism, coarsetofine, mallett\",\"\\u003cb\\u003eTopic 1\\u003c\\u002fb\\u003e\\u003cbr\\u003eWords: vestibular, touch, perception, face, human\",\"\\u003cb\\u003eTopic 1\\u003c\\u002fb\\u003e\\u003cbr\\u003eWords: dexterity, acuity, wrinkles, wet, finger\",\"\\u003cb\\u003eTopic 1\\u003c\\u002fb\\u003e\\u003cbr\\u003eWords: unintentional, reciprocal, intrapatch, afference, autoregressive\",\"\\u003cb\\u003eTopic 1\\u003c\\u002fb\\u003e\\u003cbr\\u003eWords: vertical, postural, subjective, colorimetric, observer\",\"\\u003cb\\u003eTopic 1\\u003c\\u002fb\\u003e\\u003cbr\\u003eWords: aesthetics, lines, figures, illusory, surfaces\",\"\\u003cb\\u003eTopic 1\\u003c\\u002fb\\u003e\\u003cbr\\u003eWords: numerosity, independently, inclination, visuallyinduced, heading\",\"\\u003cb\\u003eTopic 1\\u003c\\u002fb\\u003e\\u003cbr\\u003eWords: ownership, body, kinect, judo, executed\",\"\\u003cb\\u003eTopic 1\\u003c\\u002fb\\u003e\\u003cbr\\u003eWords: motionindepth, intra, interhemispheric, vr, glaucoma\",\"\\u003cb\\u003eTopic 1\\u003c\\u002fb\\u003e\\u003cbr\\u003eWords: putting, different, stance, abrupt, quiet\",\"\\u003cb\\u003eTopic 1\\u003c\\u002fb\\u003e\\u003cbr\\u003eWords: caress, velocity, vicarious, tuned, location\",\"\\u003cb\\u003eTopic 1\\u003c\\u002fb\\u003e\\u003cbr\\u003eWords: boundary, assessed, blurring, me, hold\"],\"marker\":{\"color\":\"#56B4E9\"},\"mode\":\"lines\",\"name\":\"1_touch_perception_body_vestibular\",\"x\":[\"2005-03-29T16:48:00+00:00\",\"2007-03-01T02:24:00+00:00\",\"2008-02-14T19:12:00+00:00\",\"2009-01-30T12:00:00+00:00\",\"2010-01-16T04:48:00+00:00\",\"2011-01-01T21:36:00+00:00\",\"2011-12-18T14:24:00+00:00\",\"2012-12-03T07:12:00+00:00\",\"2013-11-19T00:00:00+00:00\",\"2014-11-04T16:48:00+00:00\",\"2015-10-21T09:36:00+00:00\",\"2016-10-06T02:24:00+00:00\",\"2017-09-21T19:12:00+00:00\",\"2018-09-07T12:00:00+00:00\",\"2019-08-24T04:48:00+00:00\",\"2020-08-08T21:36:00+00:00\",\"2021-07-25T14:24:00+00:00\",\"2022-07-11T07:12:00+00:00\"],\"y\":[1,2,2,2,2,2,3,8,3,4,5,3,3,5,3,3,1,2],\"type\":\"scatter\"},{\"hoverinfo\":\"text\",\"hovertext\":[\"\\u003cb\\u003eTopic 2\\u003c\\u002fb\\u003e\\u003cbr\\u003eWords: feminine, biosocial, peacekeepers, warriors, masculine\",\"\\u003cb\\u003eTopic 2\\u003c\\u002fb\\u003e\\u003cbr\\u003eWords: drive, forager, cognitivelybased, affectivecognitive, affectivelybased\",\"\\u003cb\\u003eTopic 2\\u003c\\u002fb\\u003e\\u003cbr\\u003eWords: majority, game, skeptics, violent, assimilation\",\"\\u003cb\\u003eTopic 2\\u003c\\u002fb\\u003e\\u003cbr\\u003eWords: betrayal, aversion, identity, zerosum, intrusions\",\"\\u003cb\\u003eTopic 2\\u003c\\u002fb\\u003e\\u003cbr\\u003eWords: childrens, young, different, group, entitativity\",\"\\u003cb\\u003eTopic 2\\u003c\\u002fb\\u003e\\u003cbr\\u003eWords: war, peace, toward, attitudes, projection\",\"\\u003cb\\u003eTopic 2\\u003c\\u002fb\\u003e\\u003cbr\\u003eWords: multipleround, connecting, why, shaping, schoolage\",\"\\u003cb\\u003eTopic 2\\u003c\\u002fb\\u003e\\u003cbr\\u003eWords: humanization, outgroup, ingroup, errorrelated, postnational\",\"\\u003cb\\u003eTopic 2\\u003c\\u002fb\\u003e\\u003cbr\\u003eWords: rejection, benefit, popularity, activism, clinton\",\"\\u003cb\\u003eTopic 2\\u003c\\u002fb\\u003e\\u003cbr\\u003eWords: hedonistic, saboteurs, outcasts, revenge, narcissism\",\"\\u003cb\\u003eTopic 2\\u003c\\u002fb\\u003e\\u003cbr\\u003eWords: solitude, but, intergroup, humanization, cities\",\"\\u003cb\\u003eTopic 2\\u003c\\u002fb\\u003e\\u003cbr\\u003eWords: intergroup, peace, flexroute, technological, transformational\"],\"marker\":{\"color\":\"#009E73\"},\"mode\":\"lines\",\"name\":\"2_intergroup_social_ingroup_identity\",\"x\":[\"2011-12-18T14:24:00+00:00\",\"2012-12-03T07:12:00+00:00\",\"2013-11-19T00:00:00+00:00\",\"2014-11-04T16:48:00+00:00\",\"2015-10-21T09:36:00+00:00\",\"2016-10-06T02:24:00+00:00\",\"2017-09-21T19:12:00+00:00\",\"2018-09-07T12:00:00+00:00\",\"2019-08-24T04:48:00+00:00\",\"2020-08-08T21:36:00+00:00\",\"2021-07-25T14:24:00+00:00\",\"2022-07-11T07:12:00+00:00\"],\"y\":[1,2,5,7,5,2,3,6,3,2,5,6],\"type\":\"scatter\"},{\"hoverinfo\":\"text\",\"hovertext\":[\"\\u003cb\\u003eTopic 3\\u003c\\u002fb\\u003e\\u003cbr\\u003eWords: enriched, depressivelike, overcomes, juvenile, induced\",\"\\u003cb\\u003eTopic 3\\u003c\\u002fb\\u003e\\u003cbr\\u003eWords: illnesses, middleaged, chronic, wellbeing, older\",\"\\u003cb\\u003eTopic 3\\u003c\\u002fb\\u003e\\u003cbr\\u003eWords: hypopituitarism, questionnaire, ahq, realism, assessing\",\"\\u003cb\\u003eTopic 3\\u003c\\u002fb\\u003e\\u003cbr\\u003eWords: selfhelp, depression, email, determinants, randomised\",\"\\u003cb\\u003eTopic 3\\u003c\\u002fb\\u003e\\u003cbr\\u003eWords: coping, manga, icbt, coexistence, bifactor\",\"\\u003cb\\u003eTopic 3\\u003c\\u002fb\\u003e\\u003cbr\\u003eWords: stress, coping, crosssectional, women, transgender\",\"\\u003cb\\u003eTopic 3\\u003c\\u002fb\\u003e\\u003cbr\\u003eWords: late, paradoxical, communitydwelling, fallrelated, scleroderma\",\"\\u003cb\\u003eTopic 3\\u003c\\u002fb\\u003e\\u003cbr\\u003eWords: negative, icu, depressionrelated, surrogate, disengaging\",\"\\u003cb\\u003eTopic 3\\u003c\\u002fb\\u003e\\u003cbr\\u003eWords: stress, trier, coping, longitudinal, test\",\"\\u003cb\\u003eTopic 3\\u003c\\u002fb\\u003e\\u003cbr\\u003eWords: young, adults, reporting, microexpression, repeatedly\",\"\\u003cb\\u003eTopic 3\\u003c\\u002fb\\u003e\\u003cbr\\u003eWords: petrochemical, japan, industry, physicians, safety\",\"\\u003cb\\u003eTopic 3\\u003c\\u002fb\\u003e\\u003cbr\\u003eWords: stress, happy, inequalities, identifiable, helpif\",\"\\u003cb\\u003eTopic 3\\u003c\\u002fb\\u003e\\u003cbr\\u003eWords: polish, stress, male, strategies, sadness\",\"\\u003cb\\u003eTopic 3\\u003c\\u002fb\\u003e\\u003cbr\\u003eWords: cope, brief, depression, united, older\"],\"marker\":{\"color\":\"#F0E442\"},\"mode\":\"lines\",\"name\":\"3_stress_coping_depression_life\",\"x\":[\"2008-02-14T19:12:00+00:00\",\"2011-01-01T21:36:00+00:00\",\"2011-12-18T14:24:00+00:00\",\"2012-12-03T07:12:00+00:00\",\"2013-11-19T00:00:00+00:00\",\"2014-11-04T16:48:00+00:00\",\"2015-10-21T09:36:00+00:00\",\"2016-10-06T02:24:00+00:00\",\"2017-09-21T19:12:00+00:00\",\"2018-09-07T12:00:00+00:00\",\"2019-08-24T04:48:00+00:00\",\"2020-08-08T21:36:00+00:00\",\"2021-07-25T14:24:00+00:00\",\"2022-07-11T07:12:00+00:00\"],\"y\":[1,1,2,2,2,5,3,2,5,4,2,5,5,7],\"type\":\"scatter\"},{\"hoverinfo\":\"text\",\"hovertext\":[\"\\u003cb\\u003eTopic 4\\u003c\\u002fb\\u003e\\u003cbr\\u003eWords: successful, sternjudging, reciprocity, norm, cooperation\",\"\\u003cb\\u003eTopic 4\\u003c\\u002fb\\u003e\\u003cbr\\u003eWords: subsets, egalitarian, alliance, recruit, revolution\",\"\\u003cb\\u003eTopic 4\\u003c\\u002fb\\u003e\\u003cbr\\u003eWords: accidental, trembling, guide, punishment, hand\",\"\\u003cb\\u003eTopic 4\\u003c\\u002fb\\u003e\\u003cbr\\u003eWords: reciprocity, incipient, conundrum, incomplete, observation\",\"\\u003cb\\u003eTopic 4\\u003c\\u002fb\\u003e\\u003cbr\\u003eWords: games, rationality, nplayer, unique, epr\",\"\\u003cb\\u003eTopic 4\\u003c\\u002fb\\u003e\\u003cbr\\u003eWords: punishment, dilemmas, cooperation, game, collectiverisk\",\"\\u003cb\\u003eTopic 4\\u003c\\u002fb\\u003e\\u003cbr\\u003eWords: dilemmas, game, explorationexploitation, minimum, travelers\",\"\\u003cb\\u003eTopic 4\\u003c\\u002fb\\u003e\\u003cbr\\u003eWords: evolution, cooperation, reciprocity, game, metaincentives\",\"\\u003cb\\u003eTopic 4\\u003c\\u002fb\\u003e\\u003cbr\\u003eWords: cooperation, games, experimental, reciprocity, commons\",\"\\u003cb\\u003eTopic 4\\u003c\\u002fb\\u003e\\u003cbr\\u003eWords: selfishly, behave, fuzzy, advocate, devils\",\"\\u003cb\\u003eTopic 4\\u003c\\u002fb\\u003e\\u003cbr\\u003eWords: serious, selfdriving, tdma, examples, illustrated\",\"\\u003cb\\u003eTopic 4\\u003c\\u002fb\\u003e\\u003cbr\\u003eWords: naively, help, overconfident, conveniently, spillovers\",\"\\u003cb\\u003eTopic 4\\u003c\\u002fb\\u003e\\u003cbr\\u003eWords: riskseeking, provide, conditional, goods, selfish\",\"\\u003cb\\u003eTopic 4\\u003c\\u002fb\\u003e\\u003cbr\\u003eWords: ethics, courtesy, mutations, multigames, cav\"],\"marker\":{\"color\":\"#D55E00\"},\"mode\":\"lines\",\"name\":\"4_cooperation_game_games_reciprocity\",\"x\":[\"2006-03-15T09:36:00+00:00\",\"2008-02-14T19:12:00+00:00\",\"2009-01-30T12:00:00+00:00\",\"2011-01-01T21:36:00+00:00\",\"2011-12-18T14:24:00+00:00\",\"2012-12-03T07:12:00+00:00\",\"2013-11-19T00:00:00+00:00\",\"2014-11-04T16:48:00+00:00\",\"2015-10-21T09:36:00+00:00\",\"2016-10-06T02:24:00+00:00\",\"2017-09-21T19:12:00+00:00\",\"2018-09-07T12:00:00+00:00\",\"2021-07-25T14:24:00+00:00\",\"2022-07-11T07:12:00+00:00\"],\"y\":[1,3,1,4,3,5,2,5,5,3,2,2,1,2],\"type\":\"scatter\"},{\"hoverinfo\":\"text\",\"hovertext\":[\"\\u003cb\\u003eTopic 5\\u003c\\u002fb\\u003e\\u003cbr\\u003eWords: ears, tune, sing, ultrasonic, mice\",\"\\u003cb\\u003eTopic 5\\u003c\\u002fb\\u003e\\u003cbr\\u003eWords: reactivity, deaf, cortical, enhanced, individuals\",\"\\u003cb\\u003eTopic 5\\u003c\\u002fb\\u003e\\u003cbr\\u003eWords: juggling, cons, amplitudemodulated, pros, audiotactile\",\"\\u003cb\\u003eTopic 5\\u003c\\u002fb\\u003e\\u003cbr\\u003eWords: pitch, auditory, hearing, deaf, congenital\",\"\\u003cb\\u003eTopic 5\\u003c\\u002fb\\u003e\\u003cbr\\u003eWords: speech, audiovisual, auditory, cortical, implant\",\"\\u003cb\\u003eTopic 5\\u003c\\u002fb\\u003e\\u003cbr\\u003eWords: source, hearing, crystals, devices, localization\",\"\\u003cb\\u003eTopic 5\\u003c\\u002fb\\u003e\\u003cbr\\u003eWords: accent, handled, switching, speaker, multistability\",\"\\u003cb\\u003eTopic 5\\u003c\\u002fb\\u003e\\u003cbr\\u003eWords: gerbils, segmentation, asynchrony, unguiculatus, meriones\",\"\\u003cb\\u003eTopic 5\\u003c\\u002fb\\u003e\\u003cbr\\u003eWords: special, listening, rate, speech, tracking\",\"\\u003cb\\u003eTopic 5\\u003c\\u002fb\\u003e\\u003cbr\\u003eWords: flow, incongruent, chambers, induce, consonants\",\"\\u003cb\\u003eTopic 5\\u003c\\u002fb\\u003e\\u003cbr\\u003eWords: echobot, echolocation, presentation, studies, automated\",\"\\u003cb\\u003eTopic 5\\u003c\\u002fb\\u003e\\u003cbr\\u003eWords: tngara, midbrain, frog, neuronal, synchrony\",\"\\u003cb\\u003eTopic 5\\u003c\\u002fb\\u003e\\u003cbr\\u003eWords: unitary, speechinnoise, objectively, including, maps\"],\"marker\":{\"color\":\"#0072B2\"},\"mode\":\"lines\",\"name\":\"5_auditory_hearing_speech_audiovisual\",\"x\":[\"2005-03-29T16:48:00+00:00\",\"2011-01-01T21:36:00+00:00\",\"2011-12-18T14:24:00+00:00\",\"2012-12-03T07:12:00+00:00\",\"2013-11-19T00:00:00+00:00\",\"2014-11-04T16:48:00+00:00\",\"2015-10-21T09:36:00+00:00\",\"2016-10-06T02:24:00+00:00\",\"2017-09-21T19:12:00+00:00\",\"2018-09-07T12:00:00+00:00\",\"2019-08-24T04:48:00+00:00\",\"2021-07-25T14:24:00+00:00\",\"2022-07-11T07:12:00+00:00\"],\"y\":[1,1,2,7,7,3,5,3,1,3,1,2,3],\"type\":\"scatter\"},{\"hoverinfo\":\"text\",\"hovertext\":[\"\\u003cb\\u003eTopic 6\\u003c\\u002fb\\u003e\\u003cbr\\u003eWords: rotation, soccer, players, male, performance\",\"\\u003cb\\u003eTopic 6\\u003c\\u002fb\\u003e\\u003cbr\\u003eWords: 2997, doping, triathletes, crosssectional, associations\",\"\\u003cb\\u003eTopic 6\\u003c\\u002fb\\u003e\\u003cbr\\u003eWords: under15, tactical, soccer, players, decisionmaking\",\"\\u003cb\\u003eTopic 6\\u003c\\u002fb\\u003e\\u003cbr\\u003eWords: educational, executing, kick, placement, players\",\"\\u003cb\\u003eTopic 6\\u003c\\u002fb\\u003e\\u003cbr\\u003eWords: sprinting, steptostep, breakpoint, accelerated, existence\",\"\\u003cb\\u003eTopic 6\\u003c\\u002fb\\u003e\\u003cbr\\u003eWords: anova, technical, sem, soccer, adolescence\",\"\\u003cb\\u003eTopic 6\\u003c\\u002fb\\u003e\\u003cbr\\u003eWords: age, players, championships, sportinduced, workload\",\"\\u003cb\\u003eTopic 6\\u003c\\u002fb\\u003e\\u003cbr\\u003eWords: sport, swimmers, worldranked, grades, doping\",\"\\u003cb\\u003eTopic 6\\u003c\\u002fb\\u003e\\u003cbr\\u003eWords: soccer, incidence, deceptive, defining, position\",\"\\u003cb\\u003eTopic 6\\u003c\\u002fb\\u003e\\u003cbr\\u003eWords: players, elite, performance, handball, sport\",\"\\u003cb\\u003eTopic 6\\u003c\\u002fb\\u003e\\u003cbr\\u003eWords: players, training, soccer, adding, progression\",\"\\u003cb\\u003eTopic 6\\u003c\\u002fb\\u003e\\u003cbr\\u003eWords: performance, handball, players, smallsided, tactics\"],\"marker\":{\"color\":\"#CC79A7\"},\"mode\":\"lines\",\"name\":\"6_players_soccer_performance_elite\",\"x\":[\"2011-12-18T14:24:00+00:00\",\"2012-12-03T07:12:00+00:00\",\"2013-11-19T00:00:00+00:00\",\"2014-11-04T16:48:00+00:00\",\"2015-10-21T09:36:00+00:00\",\"2016-10-06T02:24:00+00:00\",\"2017-09-21T19:12:00+00:00\",\"2018-09-07T12:00:00+00:00\",\"2019-08-24T04:48:00+00:00\",\"2020-08-08T21:36:00+00:00\",\"2021-07-25T14:24:00+00:00\",\"2022-07-11T07:12:00+00:00\"],\"y\":[1,1,1,2,3,1,3,3,5,9,4,5],\"type\":\"scatter\"},{\"hoverinfo\":\"text\",\"hovertext\":[\"\\u003cb\\u003eTopic 7\\u003c\\u002fb\\u003e\\u003cbr\\u003eWords: alterations, posterior, cortices, disproportionate, insular\",\"\\u003cb\\u003eTopic 7\\u003c\\u002fb\\u003e\\u003cbr\\u003eWords: faces, emotional, facial, processing, expressions\",\"\\u003cb\\u003eTopic 7\\u003c\\u002fb\\u003e\\u003cbr\\u003eWords: facial, emotions, emotional, processing, stroop\",\"\\u003cb\\u003eTopic 7\\u003c\\u002fb\\u003e\\u003cbr\\u003eWords: found, quickly, crowd, angry, tracking\",\"\\u003cb\\u003eTopic 7\\u003c\\u002fb\\u003e\\u003cbr\\u003eWords: facial, investigation, concomitants, intrapersonal, blushing\",\"\\u003cb\\u003eTopic 7\\u003c\\u002fb\\u003e\\u003cbr\\u003eWords: facial, emotional, mimicry, amyotrophic, flash\",\"\\u003cb\\u003eTopic 7\\u003c\\u002fb\\u003e\\u003cbr\\u003eWords: retroactive, consolidation, intense, disrupt, facebody\",\"\\u003cb\\u003eTopic 7\\u003c\\u002fb\\u003e\\u003cbr\\u003eWords: security, attachment, benefits, working, memory\",\"\\u003cb\\u003eTopic 7\\u003c\\u002fb\\u003e\\u003cbr\\u003eWords: emotional, facial, 3yearolds, dlpc, pupillometry\",\"\\u003cb\\u003eTopic 7\\u003c\\u002fb\\u003e\\u003cbr\\u003eWords: emotion, sensor, masks, interface, rgbd\",\"\\u003cb\\u003eTopic 7\\u003c\\u002fb\\u003e\\u003cbr\\u003eWords: smiling, supramarginal, gyrus, laughter, generation\",\"\\u003cb\\u003eTopic 7\\u003c\\u002fb\\u003e\\u003cbr\\u003eWords: surgical, mask, covariation, impair, robust\",\"\\u003cb\\u003eTopic 7\\u003c\\u002fb\\u003e\\u003cbr\\u003eWords: headlines, transformer, tdcs, adverse, labelling\"],\"marker\":{\"color\":\"#E69F00\"},\"mode\":\"lines\",\"name\":\"7_facial_emotional_emotion_faces\",\"x\":[\"2011-01-01T21:36:00+00:00\",\"2011-12-18T14:24:00+00:00\",\"2012-12-03T07:12:00+00:00\",\"2013-11-19T00:00:00+00:00\",\"2014-11-04T16:48:00+00:00\",\"2015-10-21T09:36:00+00:00\",\"2016-10-06T02:24:00+00:00\",\"2017-09-21T19:12:00+00:00\",\"2018-09-07T12:00:00+00:00\",\"2019-08-24T04:48:00+00:00\",\"2020-08-08T21:36:00+00:00\",\"2021-07-25T14:24:00+00:00\",\"2022-07-11T07:12:00+00:00\"],\"y\":[2,5,5,1,3,5,2,1,5,2,2,2,2],\"type\":\"scatter\"},{\"hoverinfo\":\"text\",\"hovertext\":[\"\\u003cb\\u003eTopic 8\\u003c\\u002fb\\u003e\\u003cbr\\u003eWords: remnants, restlessness, move, ready, migratory\",\"\\u003cb\\u003eTopic 8\\u003c\\u002fb\\u003e\\u003cbr\\u003eWords: songbird, proper, brains, could, vocal\",\"\\u003cb\\u003eTopic 8\\u003c\\u002fb\\u003e\\u003cbr\\u003eWords: billardierii, macropodid, thylogale, twophase, disparate\",\"\\u003cb\\u003eTopic 8\\u003c\\u002fb\\u003e\\u003cbr\\u003eWords: observing, familiar, ebird, parrots, travel\",\"\\u003cb\\u003eTopic 8\\u003c\\u002fb\\u003e\\u003cbr\\u003eWords: caretta, ecological, conservation, restricted, peersocial\",\"\\u003cb\\u003eTopic 8\\u003c\\u002fb\\u003e\\u003cbr\\u003eWords: breeding, shags, quantify, skuas, partially\",\"\\u003cb\\u003eTopic 8\\u003c\\u002fb\\u003e\\u003cbr\\u003eWords: spawning, enrichment, clustered, seals, arctocephalus\",\"\\u003cb\\u003eTopic 8\\u003c\\u002fb\\u003e\\u003cbr\\u003eWords: yearround, bicolor, alcidae, hour, hunger\",\"\\u003cb\\u003eTopic 8\\u003c\\u002fb\\u003e\\u003cbr\\u003eWords: dispersal, ecosystem, breeding, birds, urban\",\"\\u003cb\\u003eTopic 8\\u003c\\u002fb\\u003e\\u003cbr\\u003eWords: grunt, governing, timelapse, utility, photography\",\"\\u003cb\\u003eTopic 8\\u003c\\u002fb\\u003e\\u003cbr\\u003eWords: melanoleuca, ailuropoda, giant, panda, season\",\"\\u003cb\\u003eTopic 8\\u003c\\u002fb\\u003e\\u003cbr\\u003eWords: breeding, leader, orangefronted, conures, adlie\",\"\\u003cb\\u003eTopic 8\\u003c\\u002fb\\u003e\\u003cbr\\u003eWords: breeding, conservation, atlantic, roundtrip, nonbreeding\",\"\\u003cb\\u003eTopic 8\\u003c\\u002fb\\u003e\\u003cbr\\u003eWords: sclateri, reduction, obligate, erectcrested, eudyptes\"],\"marker\":{\"color\":\"#56B4E9\"},\"mode\":\"lines\",\"name\":\"8_breeding_conservation_vocal_species\",\"x\":[\"2006-03-15T09:36:00+00:00\",\"2008-02-14T19:12:00+00:00\",\"2011-01-01T21:36:00+00:00\",\"2011-12-18T14:24:00+00:00\",\"2012-12-03T07:12:00+00:00\",\"2013-11-19T00:00:00+00:00\",\"2014-11-04T16:48:00+00:00\",\"2015-10-21T09:36:00+00:00\",\"2016-10-06T02:24:00+00:00\",\"2018-09-07T12:00:00+00:00\",\"2019-08-24T04:48:00+00:00\",\"2020-08-08T21:36:00+00:00\",\"2021-07-25T14:24:00+00:00\",\"2022-07-11T07:12:00+00:00\"],\"y\":[1,1,1,4,4,3,3,3,1,2,1,3,4,1],\"type\":\"scatter\"},{\"hoverinfo\":\"text\",\"hovertext\":[\"\\u003cb\\u003eTopic 9\\u003c\\u002fb\\u003e\\u003cbr\\u003eWords: relativity, swearing, euphemisms, linguistic, language\",\"\\u003cb\\u003eTopic 9\\u003c\\u002fb\\u003e\\u003cbr\\u003eWords: sentence, boundaries, twoitem, comprehension, familiaris\",\"\\u003cb\\u003eTopic 9\\u003c\\u002fb\\u003e\\u003cbr\\u003eWords: eight, multimethod, receptive, composite, cas\",\"\\u003cb\\u003eTopic 9\\u003c\\u002fb\\u003e\\u003cbr\\u003eWords: text, readerships, translated, computer, translations\",\"\\u003cb\\u003eTopic 9\\u003c\\u002fb\\u003e\\u003cbr\\u003eWords: overnight, modality, term, crosslingual, meanings\",\"\\u003cb\\u003eTopic 9\\u003c\\u002fb\\u003e\\u003cbr\\u003eWords: lexical, english, cantoneseenglish, crevice, cantonese\",\"\\u003cb\\u003eTopic 9\\u003c\\u002fb\\u003e\\u003cbr\\u003eWords: language, chinese, early, children, thinkingevidence\",\"\\u003cb\\u003eTopic 9\\u003c\\u002fb\\u003e\\u003cbr\\u003eWords: crosslinguistic, core, learner, selfserving, mechanics\",\"\\u003cb\\u003eTopic 9\\u003c\\u002fb\\u003e\\u003cbr\\u003eWords: jeitinho, malandragem, simpatia, sentences, subjectonly\",\"\\u003cb\\u003eTopic 9\\u003c\\u002fb\\u003e\\u003cbr\\u003eWords: names, semantic, supports, unseen, bilinguals\",\"\\u003cb\\u003eTopic 9\\u003c\\u002fb\\u003e\\u003cbr\\u003eWords: debriefing, bilingual, flexibility, translation, absence\",\"\\u003cb\\u003eTopic 9\\u003c\\u002fb\\u003e\\u003cbr\\u003eWords: lexical, californians, grammatical, intelligibility, texans\"],\"marker\":{\"color\":\"#009E73\"},\"mode\":\"lines\",\"name\":\"9_language_lexical_chinese_children\",\"x\":[\"2011-01-01T21:36:00+00:00\",\"2011-12-18T14:24:00+00:00\",\"2012-12-03T07:12:00+00:00\",\"2013-11-19T00:00:00+00:00\",\"2014-11-04T16:48:00+00:00\",\"2015-10-21T09:36:00+00:00\",\"2016-10-06T02:24:00+00:00\",\"2017-09-21T19:12:00+00:00\",\"2018-09-07T12:00:00+00:00\",\"2020-08-08T21:36:00+00:00\",\"2021-07-25T14:24:00+00:00\",\"2022-07-11T07:12:00+00:00\"],\"y\":[1,2,3,2,2,4,4,2,3,2,2,3],\"type\":\"scatter\"},{\"hoverinfo\":\"text\",\"hovertext\":[\"\\u003cb\\u003eTopic 10\\u003c\\u002fb\\u003e\\u003cbr\\u003eWords: willpower, sustained, theories, affect, learning\",\"\\u003cb\\u003eTopic 10\\u003c\\u002fb\\u003e\\u003cbr\\u003eWords: scientists, curricula, admissions, essays, mentorship\",\"\\u003cb\\u003eTopic 10\\u003c\\u002fb\\u003e\\u003cbr\\u003eWords: geek, culture, engagement, exploration, psychological\",\"\\u003cb\\u003eTopic 10\\u003c\\u002fb\\u003e\\u003cbr\\u003eWords: career, beliefs, doctoral, preservice, pedagogical\",\"\\u003cb\\u003eTopic 10\\u003c\\u002fb\\u003e\\u003cbr\\u003eWords: funny, educational, courses, instructor, undergraduates\",\"\\u003cb\\u003eTopic 10\\u003c\\u002fb\\u003e\\u003cbr\\u003eWords: curricular, necessary, half, battle, clicking\",\"\\u003cb\\u003eTopic 10\\u003c\\u002fb\\u003e\\u003cbr\\u003eWords: blended, usefulness, critical, higher, education\",\"\\u003cb\\u003eTopic 10\\u003c\\u002fb\\u003e\\u003cbr\\u003eWords: laparoscopic, sleep, students, undergraduates, faculty\",\"\\u003cb\\u003eTopic 10\\u003c\\u002fb\\u003e\\u003cbr\\u003eWords: knowledge, education, learning, engagement, instructor\",\"\\u003cb\\u003eTopic 10\\u003c\\u002fb\\u003e\\u003cbr\\u003eWords: examining, syllabi, courses, salient, academic\"],\"marker\":{\"color\":\"#F0E442\"},\"mode\":\"lines\",\"name\":\"10_students_knowledge_engagement_educati...\",\"x\":[\"2011-12-18T14:24:00+00:00\",\"2014-11-04T16:48:00+00:00\",\"2015-10-21T09:36:00+00:00\",\"2016-10-06T02:24:00+00:00\",\"2017-09-21T19:12:00+00:00\",\"2018-09-07T12:00:00+00:00\",\"2019-08-24T04:48:00+00:00\",\"2020-08-08T21:36:00+00:00\",\"2021-07-25T14:24:00+00:00\",\"2022-07-11T07:12:00+00:00\"],\"y\":[1,3,1,2,4,3,1,4,6,2],\"type\":\"scatter\"},{\"hoverinfo\":\"text\",\"hovertext\":[\"\\u003cb\\u003eTopic 11\\u003c\\u002fb\\u003e\\u003cbr\\u003eWords: set, health, based, extracting, clinicians\",\"\\u003cb\\u003eTopic 11\\u003c\\u002fb\\u003e\\u003cbr\\u003eWords: orthopedic, shoulder, surgery, kingdom, surgeons\",\"\\u003cb\\u003eTopic 11\\u003c\\u002fb\\u003e\\u003cbr\\u003eWords: empowerment, patient, measures, systematic, review\",\"\\u003cb\\u003eTopic 11\\u003c\\u002fb\\u003e\\u003cbr\\u003eWords: inpatient, rehabilitation, transitions, alcohol, examination\",\"\\u003cb\\u003eTopic 11\\u003c\\u002fb\\u003e\\u003cbr\\u003eWords: project, families, workshop, rent, communitybased\",\"\\u003cb\\u003eTopic 11\\u003c\\u002fb\\u003e\\u003cbr\\u003eWords: dilemmas, youth, interactions, health, normallyseated\",\"\\u003cb\\u003eTopic 11\\u003c\\u002fb\\u003e\\u003cbr\\u003eWords: attend, psychiatric, groups, community, treatment\",\"\\u003cb\\u003eTopic 11\\u003c\\u002fb\\u003e\\u003cbr\\u003eWords: illness, health, toward, attitudes, care\",\"\\u003cb\\u003eTopic 11\\u003c\\u002fb\\u003e\\u003cbr\\u003eWords: pathway, cancer, new, unresolved, managing\",\"\\u003cb\\u003eTopic 11\\u003c\\u002fb\\u003e\\u003cbr\\u003eWords: coaching, waiting, clinics, rooms, outpatient\",\"\\u003cb\\u003eTopic 11\\u003c\\u002fb\\u003e\\u003cbr\\u003eWords: delphi, treatment, qualitative, international, health\"],\"marker\":{\"color\":\"#D55E00\"},\"mode\":\"lines\",\"name\":\"11_health_treatment_patients_qualitative\",\"x\":[\"2012-12-03T07:12:00+00:00\",\"2013-11-19T00:00:00+00:00\",\"2014-11-04T16:48:00+00:00\",\"2015-10-21T09:36:00+00:00\",\"2016-10-06T02:24:00+00:00\",\"2017-09-21T19:12:00+00:00\",\"2018-09-07T12:00:00+00:00\",\"2019-08-24T04:48:00+00:00\",\"2020-08-08T21:36:00+00:00\",\"2021-07-25T14:24:00+00:00\",\"2022-07-11T07:12:00+00:00\"],\"y\":[3,1,1,1,1,3,1,5,3,1,7],\"type\":\"scatter\"},{\"hoverinfo\":\"text\",\"hovertext\":[\"\\u003cb\\u003eTopic 12\\u003c\\u002fb\\u003e\\u003cbr\\u003eWords: gender, voting, inferences, political, gap\",\"\\u003cb\\u003eTopic 12\\u003c\\u002fb\\u003e\\u003cbr\\u003eWords: babies, determined, attractiveness, motivational, facial\",\"\\u003cb\\u003eTopic 12\\u003c\\u002fb\\u003e\\u003cbr\\u003eWords: humans, samesex, matechoice, amazon, photographs\",\"\\u003cb\\u003eTopic 12\\u003c\\u002fb\\u003e\\u003cbr\\u003eWords: looking, lookings, sake, mars, venus\",\"\\u003cb\\u003eTopic 12\\u003c\\u002fb\\u003e\\u003cbr\\u003eWords: cuing, matters, eyes, follow, gaze\",\"\\u003cb\\u003eTopic 12\\u003c\\u002fb\\u003e\\u003cbr\\u003eWords: reflected, attracts, peoples, embodiment, signature\",\"\\u003cb\\u003eTopic 12\\u003c\\u002fb\\u003e\\u003cbr\\u003eWords: loneliness, hypervigilance, penis, females, tits\",\"\\u003cb\\u003eTopic 12\\u003c\\u002fb\\u003e\\u003cbr\\u003eWords: nature, nave, hollow, width, height\",\"\\u003cb\\u003eTopic 12\\u003c\\u002fb\\u003e\\u003cbr\\u003eWords: ringtone, agreeableness, attractiveness, judgment, sequential\",\"\\u003cb\\u003eTopic 12\\u003c\\u002fb\\u003e\\u003cbr\\u003eWords: objectification, beauty, sexiness, elegance, widthtoheight\",\"\\u003cb\\u003eTopic 12\\u003c\\u002fb\\u003e\\u003cbr\\u003eWords: assertiveness, simon, beautification, allocentric, attraction\",\"\\u003cb\\u003eTopic 12\\u003c\\u002fb\\u003e\\u003cbr\\u003eWords: react, positively, finding, malefavoring, counterintuitive\"],\"marker\":{\"color\":\"#0072B2\"},\"mode\":\"lines\",\"name\":\"12_facial_sex_differences_gender\",\"x\":[\"2008-02-14T19:12:00+00:00\",\"2009-01-30T12:00:00+00:00\",\"2010-01-16T04:48:00+00:00\",\"2011-12-18T14:24:00+00:00\",\"2012-12-03T07:12:00+00:00\",\"2013-11-19T00:00:00+00:00\",\"2014-11-04T16:48:00+00:00\",\"2016-10-06T02:24:00+00:00\",\"2017-09-21T19:12:00+00:00\",\"2018-09-07T12:00:00+00:00\",\"2019-08-24T04:48:00+00:00\",\"2021-07-25T14:24:00+00:00\"],\"y\":[1,1,2,2,1,2,3,3,1,5,2,1],\"type\":\"scatter\"},{\"hoverinfo\":\"text\",\"hovertext\":[\"\\u003cb\\u003eTopic 13\\u003c\\u002fb\\u003e\\u003cbr\\u003eWords: gsk3, anxietyrelated, fragile, autism, mouse\",\"\\u003cb\\u003eTopic 13\\u003c\\u002fb\\u003e\\u003cbr\\u003eWords: symmetry, mirror, increased, autism, sensitivity\",\"\\u003cb\\u003eTopic 13\\u003c\\u002fb\\u003e\\u003cbr\\u003eWords: recognizing, pointlight, biological, autism, displays\",\"\\u003cb\\u003eTopic 13\\u003c\\u002fb\\u003e\\u003cbr\\u003eWords: retrospective, disabilities, intellectual, autism, clinical\",\"\\u003cb\\u003eTopic 13\\u003c\\u002fb\\u003e\\u003cbr\\u003eWords: autism, spectrum, prepulse, irony, reflex\",\"\\u003cb\\u003eTopic 13\\u003c\\u002fb\\u003e\\u003cbr\\u003eWords: autism, spectrum, take, he, asd\",\"\\u003cb\\u003eTopic 13\\u003c\\u002fb\\u003e\\u003cbr\\u003eWords: autism, spectrum, disorder, without, intellectual\",\"\\u003cb\\u003eTopic 13\\u003c\\u002fb\\u003e\\u003cbr\\u003eWords: autism, spectrum, fineform, gestalt, autistic\",\"\\u003cb\\u003eTopic 13\\u003c\\u002fb\\u003e\\u003cbr\\u003eWords: animated, autism, spectrum, vehicles, improve\",\"\\u003cb\\u003eTopic 13\\u003c\\u002fb\\u003e\\u003cbr\\u003eWords: owngender, autism, holistic, quotient, extraversion\",\"\\u003cb\\u003eTopic 13\\u003c\\u002fb\\u003e\\u003cbr\\u003eWords: adaptation, autism, behavioural, social, spectrum\",\"\\u003cb\\u003eTopic 13\\u003c\\u002fb\\u003e\\u003cbr\\u003eWords: autism, spectrum, supporting, dataset, dream\",\"\\u003cb\\u003eTopic 13\\u003c\\u002fb\\u003e\\u003cbr\\u003eWords: spoken, corpus, autism, pragmatic, spectrum\",\"\\u003cb\\u003eTopic 13\\u003c\\u002fb\\u003e\\u003cbr\\u003eWords: autism, spectrum, nabilone, openlabel, developmental\"],\"marker\":{\"color\":\"#CC79A7\"},\"mode\":\"lines\",\"name\":\"13_autism_spectrum_disorder_intellectual\",\"x\":[\"2010-01-16T04:48:00+00:00\",\"2011-01-01T21:36:00+00:00\",\"2011-12-18T14:24:00+00:00\",\"2012-12-03T07:12:00+00:00\",\"2013-11-19T00:00:00+00:00\",\"2014-11-04T16:48:00+00:00\",\"2015-10-21T09:36:00+00:00\",\"2016-10-06T02:24:00+00:00\",\"2017-09-21T19:12:00+00:00\",\"2018-09-07T12:00:00+00:00\",\"2019-08-24T04:48:00+00:00\",\"2020-08-08T21:36:00+00:00\",\"2021-07-25T14:24:00+00:00\",\"2022-07-11T07:12:00+00:00\"],\"y\":[1,1,1,1,2,2,5,3,1,1,1,2,1,2],\"type\":\"scatter\"},{\"hoverinfo\":\"text\",\"hovertext\":[\"\\u003cb\\u003eTopic 14\\u003c\\u002fb\\u003e\\u003cbr\\u003eWords: amygdala, activate, dynorphinkappa, chemosensory, crf1r\",\"\\u003cb\\u003eTopic 14\\u003c\\u002fb\\u003e\\u003cbr\\u003eWords: hydroxylase, tryptophan, psychopathological, chimpanzee, tph2\",\"\\u003cb\\u003eTopic 14\\u003c\\u002fb\\u003e\\u003cbr\\u003eWords: gene, fear, amygdala, receptor, serotonin\",\"\\u003cb\\u003eTopic 14\\u003c\\u002fb\\u003e\\u003cbr\\u003eWords: receptor, glucocorticoid, lactation, 5ht2a, dioxin\",\"\\u003cb\\u003eTopic 14\\u003c\\u002fb\\u003e\\u003cbr\\u003eWords: rats, behavior, receptor, fear, protein\",\"\\u003cb\\u003eTopic 14\\u003c\\u002fb\\u003e\\u003cbr\\u003eWords: receiver, sender, chemical, drives, rapid\",\"\\u003cb\\u003eTopic 14\\u003c\\u002fb\\u003e\\u003cbr\\u003eWords: whisker, fearanxietyrelated, trimming, neonatal, impairs\",\"\\u003cb\\u003eTopic 14\\u003c\\u002fb\\u003e\\u003cbr\\u003eWords: counteracts, indomethacin, defeat, mice, chronic\",\"\\u003cb\\u003eTopic 14\\u003c\\u002fb\\u003e\\u003cbr\\u003eWords: habituation, electrodermal, biological, correlate, resilience\",\"\\u003cb\\u003eTopic 14\\u003c\\u002fb\\u003e\\u003cbr\\u003eWords: bidirectional, dcycloserine, danger, cingulatedependent, extinction\",\"\\u003cb\\u003eTopic 14\\u003c\\u002fb\\u003e\\u003cbr\\u003eWords: stress, alleviates, bold, citrusbased, regular\"],\"marker\":{\"color\":\"#E69F00\"},\"mode\":\"lines\",\"name\":\"14_fear_stress_amygdala_gene\",\"x\":[\"2009-01-30T12:00:00+00:00\",\"2011-01-01T21:36:00+00:00\",\"2011-12-18T14:24:00+00:00\",\"2012-12-03T07:12:00+00:00\",\"2013-11-19T00:00:00+00:00\",\"2014-11-04T16:48:00+00:00\",\"2015-10-21T09:36:00+00:00\",\"2016-10-06T02:24:00+00:00\",\"2018-09-07T12:00:00+00:00\",\"2019-08-24T04:48:00+00:00\",\"2020-08-08T21:36:00+00:00\"],\"y\":[2,3,5,3,4,1,1,1,1,2,1],\"type\":\"scatter\"},{\"hoverinfo\":\"text\",\"hovertext\":[\"\\u003cb\\u003eTopic 15\\u003c\\u002fb\\u003e\\u003cbr\\u003eWords: craving, cingulate, reappraisal, dorsal, smokers\",\"\\u003cb\\u003eTopic 15\\u003c\\u002fb\\u003e\\u003cbr\\u003eWords: tobaccorelated, warning, snus, labels, electronic\",\"\\u003cb\\u003eTopic 15\\u003c\\u002fb\\u003e\\u003cbr\\u003eWords: preoperative, abstinence, applied, planned, smoking\",\"\\u003cb\\u003eTopic 15\\u003c\\u002fb\\u003e\\u003cbr\\u003eWords: cigarette, electronic, towards, cigarettes, smokers\",\"\\u003cb\\u003eTopic 15\\u003c\\u002fb\\u003e\\u003cbr\\u003eWords: nicotine, electronic, smoking, cigarettes, smokers\",\"\\u003cb\\u003eTopic 15\\u003c\\u002fb\\u003e\\u003cbr\\u003eWords: electronic, use, cigarettes, nicotine, 20112015\",\"\\u003cb\\u003eTopic 15\\u003c\\u002fb\\u003e\\u003cbr\\u003eWords: electronic, cigarette, cessation, smoking, ecigarette\",\"\\u003cb\\u003eTopic 15\\u003c\\u002fb\\u003e\\u003cbr\\u003eWords: smoking, enrolled, qatari, quit, quitting\",\"\\u003cb\\u003eTopic 15\\u003c\\u002fb\\u003e\\u003cbr\\u003eWords: support, smoking, shops, vape, 4s\"],\"marker\":{\"color\":\"#56B4E9\"},\"mode\":\"lines\",\"name\":\"15_electronic_smoking_cigarettes_cigaret...\",\"x\":[\"2011-12-18T14:24:00+00:00\",\"2012-12-03T07:12:00+00:00\",\"2013-11-19T00:00:00+00:00\",\"2014-11-04T16:48:00+00:00\",\"2015-10-21T09:36:00+00:00\",\"2016-10-06T02:24:00+00:00\",\"2020-08-08T21:36:00+00:00\",\"2021-07-25T14:24:00+00:00\",\"2022-07-11T07:12:00+00:00\"],\"y\":[1,2,1,4,4,3,5,2,2],\"type\":\"scatter\"},{\"hoverinfo\":\"text\",\"hovertext\":[\"\\u003cb\\u003eTopic 16\\u003c\\u002fb\\u003e\\u003cbr\\u003eWords: sequential, testing, tasks, decisionmaking, research\",\"\\u003cb\\u003eTopic 16\\u003c\\u002fb\\u003e\\u003cbr\\u003eWords: uncertainty, discrete, unstable, confidence, correlate\",\"\\u003cb\\u003eTopic 16\\u003c\\u002fb\\u003e\\u003cbr\\u003eWords: reviewing, answers, market, lead, making\",\"\\u003cb\\u003eTopic 16\\u003c\\u002fb\\u003e\\u003cbr\\u003eWords: elderly, predictions, update, upcoming, leads\",\"\\u003cb\\u003eTopic 16\\u003c\\u002fb\\u003e\\u003cbr\\u003eWords: affordable, architecture, accounts, sequential, consumers\",\"\\u003cb\\u003eTopic 16\\u003c\\u002fb\\u003e\\u003cbr\\u003eWords: off, shock, spanning, stuck, constricts\",\"\\u003cb\\u003eTopic 16\\u003c\\u002fb\\u003e\\u003cbr\\u003eWords: let, luminance, sunshine, timevarying, in\",\"\\u003cb\\u003eTopic 16\\u003c\\u002fb\\u003e\\u003cbr\\u003eWords: choice, unifying, impose, valuebased, account\",\"\\u003cb\\u003eTopic 16\\u003c\\u002fb\\u003e\\u003cbr\\u003eWords: learn, humans, models, decisionmaking, case\",\"\\u003cb\\u003eTopic 16\\u003c\\u002fb\\u003e\\u003cbr\\u003eWords: conversations, iot, aided, product, dialogue\",\"\\u003cb\\u003eTopic 16\\u003c\\u002fb\\u003e\\u003cbr\\u003eWords: endogenous, origin, options, repeated, default\",\"\\u003cb\\u003eTopic 16\\u003c\\u002fb\\u003e\\u003cbr\\u003eWords: decisions, decisionmaking, sequential, choice, valuebased\",\"\\u003cb\\u003eTopic 16\\u003c\\u002fb\\u003e\\u003cbr\\u003eWords: fail, suggested, weaker, exert, perceptualfluency\"],\"marker\":{\"color\":\"#009E73\"},\"mode\":\"lines\",\"name\":\"16_choice_sequential_decisions_uncertain...\",\"x\":[\"2009-01-30T12:00:00+00:00\",\"2011-01-01T21:36:00+00:00\",\"2011-12-18T14:24:00+00:00\",\"2012-12-03T07:12:00+00:00\",\"2013-11-19T00:00:00+00:00\",\"2015-10-21T09:36:00+00:00\",\"2016-10-06T02:24:00+00:00\",\"2017-09-21T19:12:00+00:00\",\"2018-09-07T12:00:00+00:00\",\"2019-08-24T04:48:00+00:00\",\"2020-08-08T21:36:00+00:00\",\"2021-07-25T14:24:00+00:00\",\"2022-07-11T07:12:00+00:00\"],\"y\":[1,2,1,1,2,3,2,2,1,2,1,4,1],\"type\":\"scatter\"},{\"hoverinfo\":\"text\",\"hovertext\":[\"\\u003cb\\u003eTopic 17\\u003c\\u002fb\\u003e\\u003cbr\\u003eWords: currency, transient, shifts, consistency, temporal\",\"\\u003cb\\u003eTopic 17\\u003c\\u002fb\\u003e\\u003cbr\\u003eWords: awarenessdependent, astigmatism, correction, blink, natural\",\"\\u003cb\\u003eTopic 17\\u003c\\u002fb\\u003e\\u003cbr\\u003eWords: recalibration, changing, window, demands, multisensory\",\"\\u003cb\\u003eTopic 17\\u003c\\u002fb\\u003e\\u003cbr\\u003eWords: attention, contrast, saccadic, selective, suppression\",\"\\u003cb\\u003eTopic 17\\u003c\\u002fb\\u003e\\u003cbr\\u003eWords: saccade, time, latency, switches, dualtask\",\"\\u003cb\\u003eTopic 17\\u003c\\u002fb\\u003e\\u003cbr\\u003eWords: attentional, task, reversals, nonmonotonic, dynamically\",\"\\u003cb\\u003eTopic 17\\u003c\\u002fb\\u003e\\u003cbr\\u003eWords: order, disambiguation, confounds, previous, response\",\"\\u003cb\\u003eTopic 17\\u003c\\u002fb\\u003e\\u003cbr\\u003eWords: bottomup, topdown, expectation, pathways, signals\",\"\\u003cb\\u003eTopic 17\\u003c\\u002fb\\u003e\\u003cbr\\u003eWords: phenomena, flicker, altered, light, induced\",\"\\u003cb\\u003eTopic 17\\u003c\\u002fb\\u003e\\u003cbr\\u003eWords: preceding, fluctuation, emphasizing, diagnostics, decomposing\"],\"marker\":{\"color\":\"#F0E442\"},\"mode\":\"lines\",\"name\":\"17_attentional_temporal_attention_integr...\",\"x\":[\"2010-01-16T04:48:00+00:00\",\"2011-12-18T14:24:00+00:00\",\"2012-12-03T07:12:00+00:00\",\"2013-11-19T00:00:00+00:00\",\"2014-11-04T16:48:00+00:00\",\"2015-10-21T09:36:00+00:00\",\"2016-10-06T02:24:00+00:00\",\"2018-09-07T12:00:00+00:00\",\"2020-08-08T21:36:00+00:00\",\"2022-07-11T07:12:00+00:00\"],\"y\":[1,2,1,6,3,3,2,1,1,2],\"type\":\"scatter\"},{\"hoverinfo\":\"text\",\"hovertext\":[\"\\u003cb\\u003eTopic 18\\u003c\\u002fb\\u003e\\u003cbr\\u003eWords: xxy, candidates, transplant, chromosome, neuropsychological\",\"\\u003cb\\u003eTopic 18\\u003c\\u002fb\\u003e\\u003cbr\\u003eWords: phobia, neuropsychological, lack, generalized, deficits\",\"\\u003cb\\u003eTopic 18\\u003c\\u002fb\\u003e\\u003cbr\\u003eWords: connectivity, functional, depression, psychopathology, lateonset\",\"\\u003cb\\u003eTopic 18\\u003c\\u002fb\\u003e\\u003cbr\\u003eWords: magnetic, imaging, resonance, functional, correlates\",\"\\u003cb\\u003eTopic 18\\u003c\\u002fb\\u003e\\u003cbr\\u003eWords: ultrahigh, mode, aberrant, psychosis, salience\",\"\\u003cb\\u003eTopic 18\\u003c\\u002fb\\u003e\\u003cbr\\u003eWords: anxiety, symptoms, 5htt, familial, maladaptive\",\"\\u003cb\\u003eTopic 18\\u003c\\u002fb\\u003e\\u003cbr\\u003eWords: anxiety, skills, treatment, interoceptive, concomitant\",\"\\u003cb\\u003eTopic 18\\u003c\\u002fb\\u003e\\u003cbr\\u003eWords: disorder, handwriting, lowerorder, subtypes, personality\",\"\\u003cb\\u003eTopic 18\\u003c\\u002fb\\u003e\\u003cbr\\u003eWords: functional, anxiety, disorder, searches, ultrasoundguided\"],\"marker\":{\"color\":\"#D55E00\"},\"mode\":\"lines\",\"name\":\"18_anxiety_functional_disorder_connectiv...\",\"x\":[\"2011-01-01T21:36:00+00:00\",\"2011-12-18T14:24:00+00:00\",\"2012-12-03T07:12:00+00:00\",\"2013-11-19T00:00:00+00:00\",\"2014-11-04T16:48:00+00:00\",\"2015-10-21T09:36:00+00:00\",\"2018-09-07T12:00:00+00:00\",\"2019-08-24T04:48:00+00:00\",\"2022-07-11T07:12:00+00:00\"],\"y\":[2,1,5,1,1,3,3,2,4],\"type\":\"scatter\"},{\"hoverinfo\":\"text\",\"hovertext\":[\"\\u003cb\\u003eTopic 19\\u003c\\u002fb\\u003e\\u003cbr\\u003eWords: musicians, nonmusicians, music, alters, complex\",\"\\u003cb\\u003eTopic 19\\u003c\\u002fb\\u003e\\u003cbr\\u003eWords: electromagnetic, musical, expertise, tone, correlates\",\"\\u003cb\\u003eTopic 19\\u003c\\u002fb\\u003e\\u003cbr\\u003eWords: fourmonthsold, singing, dancing, music, precursors\",\"\\u003cb\\u003eTopic 19\\u003c\\u002fb\\u003e\\u003cbr\\u003eWords: music, song, decrease, shark, viewers\",\"\\u003cb\\u003eTopic 19\\u003c\\u002fb\\u003e\\u003cbr\\u003eWords: salty, crossmodal, music, sound, taste\",\"\\u003cb\\u003eTopic 19\\u003c\\u002fb\\u003e\\u003cbr\\u003eWords: music, selfchosen, younger, regulates, listening\",\"\\u003cb\\u003eTopic 19\\u003c\\u002fb\\u003e\\u003cbr\\u003eWords: music, discerning, musical, vocalizations, acoustic\",\"\\u003cb\\u003eTopic 19\\u003c\\u002fb\\u003e\\u003cbr\\u003eWords: music, musical, memorable, musicevoked, speechtosong\",\"\\u003cb\\u003eTopic 19\\u003c\\u002fb\\u003e\\u003cbr\\u003eWords: music, moved, influential, implosive, explosive\",\"\\u003cb\\u003eTopic 19\\u003c\\u002fb\\u003e\\u003cbr\\u003eWords: music, musical, reproduction, perception, listener\"],\"marker\":{\"color\":\"#0072B2\"},\"mode\":\"lines\",\"name\":\"19_music_musical_acoustic_perception\",\"x\":[\"2011-01-01T21:36:00+00:00\",\"2011-12-18T14:24:00+00:00\",\"2013-11-19T00:00:00+00:00\",\"2015-10-21T09:36:00+00:00\",\"2016-10-06T02:24:00+00:00\",\"2018-09-07T12:00:00+00:00\",\"2019-08-24T04:48:00+00:00\",\"2020-08-08T21:36:00+00:00\",\"2021-07-25T14:24:00+00:00\",\"2022-07-11T07:12:00+00:00\"],\"y\":[2,1,1,4,1,2,2,3,2,3],\"type\":\"scatter\"}],                        {\"template\":{\"data\":{\"barpolar\":[{\"marker\":{\"line\":{\"color\":\"white\",\"width\":0.5},\"pattern\":{\"fillmode\":\"overlay\",\"size\":10,\"solidity\":0.2}},\"type\":\"barpolar\"}],\"bar\":[{\"error_x\":{\"color\":\"rgb(36,36,36)\"},\"error_y\":{\"color\":\"rgb(36,36,36)\"},\"marker\":{\"line\":{\"color\":\"white\",\"width\":0.5},\"pattern\":{\"fillmode\":\"overlay\",\"size\":10,\"solidity\":0.2}},\"type\":\"bar\"}],\"carpet\":[{\"aaxis\":{\"endlinecolor\":\"rgb(36,36,36)\",\"gridcolor\":\"white\",\"linecolor\":\"white\",\"minorgridcolor\":\"white\",\"startlinecolor\":\"rgb(36,36,36)\"},\"baxis\":{\"endlinecolor\":\"rgb(36,36,36)\",\"gridcolor\":\"white\",\"linecolor\":\"white\",\"minorgridcolor\":\"white\",\"startlinecolor\":\"rgb(36,36,36)\"},\"type\":\"carpet\"}],\"choropleth\":[{\"colorbar\":{\"outlinewidth\":1,\"tickcolor\":\"rgb(36,36,36)\",\"ticks\":\"outside\"},\"type\":\"choropleth\"}],\"contourcarpet\":[{\"colorbar\":{\"outlinewidth\":1,\"tickcolor\":\"rgb(36,36,36)\",\"ticks\":\"outside\"},\"type\":\"contourcarpet\"}],\"contour\":[{\"colorbar\":{\"outlinewidth\":1,\"tickcolor\":\"rgb(36,36,36)\",\"ticks\":\"outside\"},\"colorscale\":[[0.0,\"#440154\"],[0.1111111111111111,\"#482878\"],[0.2222222222222222,\"#3e4989\"],[0.3333333333333333,\"#31688e\"],[0.4444444444444444,\"#26828e\"],[0.5555555555555556,\"#1f9e89\"],[0.6666666666666666,\"#35b779\"],[0.7777777777777778,\"#6ece58\"],[0.8888888888888888,\"#b5de2b\"],[1.0,\"#fde725\"]],\"type\":\"contour\"}],\"heatmapgl\":[{\"colorbar\":{\"outlinewidth\":1,\"tickcolor\":\"rgb(36,36,36)\",\"ticks\":\"outside\"},\"colorscale\":[[0.0,\"#440154\"],[0.1111111111111111,\"#482878\"],[0.2222222222222222,\"#3e4989\"],[0.3333333333333333,\"#31688e\"],[0.4444444444444444,\"#26828e\"],[0.5555555555555556,\"#1f9e89\"],[0.6666666666666666,\"#35b779\"],[0.7777777777777778,\"#6ece58\"],[0.8888888888888888,\"#b5de2b\"],[1.0,\"#fde725\"]],\"type\":\"heatmapgl\"}],\"heatmap\":[{\"colorbar\":{\"outlinewidth\":1,\"tickcolor\":\"rgb(36,36,36)\",\"ticks\":\"outside\"},\"colorscale\":[[0.0,\"#440154\"],[0.1111111111111111,\"#482878\"],[0.2222222222222222,\"#3e4989\"],[0.3333333333333333,\"#31688e\"],[0.4444444444444444,\"#26828e\"],[0.5555555555555556,\"#1f9e89\"],[0.6666666666666666,\"#35b779\"],[0.7777777777777778,\"#6ece58\"],[0.8888888888888888,\"#b5de2b\"],[1.0,\"#fde725\"]],\"type\":\"heatmap\"}],\"histogram2dcontour\":[{\"colorbar\":{\"outlinewidth\":1,\"tickcolor\":\"rgb(36,36,36)\",\"ticks\":\"outside\"},\"colorscale\":[[0.0,\"#440154\"],[0.1111111111111111,\"#482878\"],[0.2222222222222222,\"#3e4989\"],[0.3333333333333333,\"#31688e\"],[0.4444444444444444,\"#26828e\"],[0.5555555555555556,\"#1f9e89\"],[0.6666666666666666,\"#35b779\"],[0.7777777777777778,\"#6ece58\"],[0.8888888888888888,\"#b5de2b\"],[1.0,\"#fde725\"]],\"type\":\"histogram2dcontour\"}],\"histogram2d\":[{\"colorbar\":{\"outlinewidth\":1,\"tickcolor\":\"rgb(36,36,36)\",\"ticks\":\"outside\"},\"colorscale\":[[0.0,\"#440154\"],[0.1111111111111111,\"#482878\"],[0.2222222222222222,\"#3e4989\"],[0.3333333333333333,\"#31688e\"],[0.4444444444444444,\"#26828e\"],[0.5555555555555556,\"#1f9e89\"],[0.6666666666666666,\"#35b779\"],[0.7777777777777778,\"#6ece58\"],[0.8888888888888888,\"#b5de2b\"],[1.0,\"#fde725\"]],\"type\":\"histogram2d\"}],\"histogram\":[{\"marker\":{\"line\":{\"color\":\"white\",\"width\":0.6}},\"type\":\"histogram\"}],\"mesh3d\":[{\"colorbar\":{\"outlinewidth\":1,\"tickcolor\":\"rgb(36,36,36)\",\"ticks\":\"outside\"},\"type\":\"mesh3d\"}],\"parcoords\":[{\"line\":{\"colorbar\":{\"outlinewidth\":1,\"tickcolor\":\"rgb(36,36,36)\",\"ticks\":\"outside\"}},\"type\":\"parcoords\"}],\"pie\":[{\"automargin\":true,\"type\":\"pie\"}],\"scatter3d\":[{\"line\":{\"colorbar\":{\"outlinewidth\":1,\"tickcolor\":\"rgb(36,36,36)\",\"ticks\":\"outside\"}},\"marker\":{\"colorbar\":{\"outlinewidth\":1,\"tickcolor\":\"rgb(36,36,36)\",\"ticks\":\"outside\"}},\"type\":\"scatter3d\"}],\"scattercarpet\":[{\"marker\":{\"colorbar\":{\"outlinewidth\":1,\"tickcolor\":\"rgb(36,36,36)\",\"ticks\":\"outside\"}},\"type\":\"scattercarpet\"}],\"scattergeo\":[{\"marker\":{\"colorbar\":{\"outlinewidth\":1,\"tickcolor\":\"rgb(36,36,36)\",\"ticks\":\"outside\"}},\"type\":\"scattergeo\"}],\"scattergl\":[{\"marker\":{\"colorbar\":{\"outlinewidth\":1,\"tickcolor\":\"rgb(36,36,36)\",\"ticks\":\"outside\"}},\"type\":\"scattergl\"}],\"scattermapbox\":[{\"marker\":{\"colorbar\":{\"outlinewidth\":1,\"tickcolor\":\"rgb(36,36,36)\",\"ticks\":\"outside\"}},\"type\":\"scattermapbox\"}],\"scatterpolargl\":[{\"marker\":{\"colorbar\":{\"outlinewidth\":1,\"tickcolor\":\"rgb(36,36,36)\",\"ticks\":\"outside\"}},\"type\":\"scatterpolargl\"}],\"scatterpolar\":[{\"marker\":{\"colorbar\":{\"outlinewidth\":1,\"tickcolor\":\"rgb(36,36,36)\",\"ticks\":\"outside\"}},\"type\":\"scatterpolar\"}],\"scatter\":[{\"fillpattern\":{\"fillmode\":\"overlay\",\"size\":10,\"solidity\":0.2},\"type\":\"scatter\"}],\"scatterternary\":[{\"marker\":{\"colorbar\":{\"outlinewidth\":1,\"tickcolor\":\"rgb(36,36,36)\",\"ticks\":\"outside\"}},\"type\":\"scatterternary\"}],\"surface\":[{\"colorbar\":{\"outlinewidth\":1,\"tickcolor\":\"rgb(36,36,36)\",\"ticks\":\"outside\"},\"colorscale\":[[0.0,\"#440154\"],[0.1111111111111111,\"#482878\"],[0.2222222222222222,\"#3e4989\"],[0.3333333333333333,\"#31688e\"],[0.4444444444444444,\"#26828e\"],[0.5555555555555556,\"#1f9e89\"],[0.6666666666666666,\"#35b779\"],[0.7777777777777778,\"#6ece58\"],[0.8888888888888888,\"#b5de2b\"],[1.0,\"#fde725\"]],\"type\":\"surface\"}],\"table\":[{\"cells\":{\"fill\":{\"color\":\"rgb(237,237,237)\"},\"line\":{\"color\":\"white\"}},\"header\":{\"fill\":{\"color\":\"rgb(217,217,217)\"},\"line\":{\"color\":\"white\"}},\"type\":\"table\"}]},\"layout\":{\"annotationdefaults\":{\"arrowhead\":0,\"arrowwidth\":1},\"autotypenumbers\":\"strict\",\"coloraxis\":{\"colorbar\":{\"outlinewidth\":1,\"tickcolor\":\"rgb(36,36,36)\",\"ticks\":\"outside\"}},\"colorscale\":{\"diverging\":[[0.0,\"rgb(103,0,31)\"],[0.1,\"rgb(178,24,43)\"],[0.2,\"rgb(214,96,77)\"],[0.3,\"rgb(244,165,130)\"],[0.4,\"rgb(253,219,199)\"],[0.5,\"rgb(247,247,247)\"],[0.6,\"rgb(209,229,240)\"],[0.7,\"rgb(146,197,222)\"],[0.8,\"rgb(67,147,195)\"],[0.9,\"rgb(33,102,172)\"],[1.0,\"rgb(5,48,97)\"]],\"sequential\":[[0.0,\"#440154\"],[0.1111111111111111,\"#482878\"],[0.2222222222222222,\"#3e4989\"],[0.3333333333333333,\"#31688e\"],[0.4444444444444444,\"#26828e\"],[0.5555555555555556,\"#1f9e89\"],[0.6666666666666666,\"#35b779\"],[0.7777777777777778,\"#6ece58\"],[0.8888888888888888,\"#b5de2b\"],[1.0,\"#fde725\"]],\"sequentialminus\":[[0.0,\"#440154\"],[0.1111111111111111,\"#482878\"],[0.2222222222222222,\"#3e4989\"],[0.3333333333333333,\"#31688e\"],[0.4444444444444444,\"#26828e\"],[0.5555555555555556,\"#1f9e89\"],[0.6666666666666666,\"#35b779\"],[0.7777777777777778,\"#6ece58\"],[0.8888888888888888,\"#b5de2b\"],[1.0,\"#fde725\"]]},\"colorway\":[\"#1F77B4\",\"#FF7F0E\",\"#2CA02C\",\"#D62728\",\"#9467BD\",\"#8C564B\",\"#E377C2\",\"#7F7F7F\",\"#BCBD22\",\"#17BECF\"],\"font\":{\"color\":\"rgb(36,36,36)\"},\"geo\":{\"bgcolor\":\"white\",\"lakecolor\":\"white\",\"landcolor\":\"white\",\"showlakes\":true,\"showland\":true,\"subunitcolor\":\"white\"},\"hoverlabel\":{\"align\":\"left\"},\"hovermode\":\"closest\",\"mapbox\":{\"style\":\"light\"},\"paper_bgcolor\":\"white\",\"plot_bgcolor\":\"white\",\"polar\":{\"angularaxis\":{\"gridcolor\":\"rgb(232,232,232)\",\"linecolor\":\"rgb(36,36,36)\",\"showgrid\":false,\"showline\":true,\"ticks\":\"outside\"},\"bgcolor\":\"white\",\"radialaxis\":{\"gridcolor\":\"rgb(232,232,232)\",\"linecolor\":\"rgb(36,36,36)\",\"showgrid\":false,\"showline\":true,\"ticks\":\"outside\"}},\"scene\":{\"xaxis\":{\"backgroundcolor\":\"white\",\"gridcolor\":\"rgb(232,232,232)\",\"gridwidth\":2,\"linecolor\":\"rgb(36,36,36)\",\"showbackground\":true,\"showgrid\":false,\"showline\":true,\"ticks\":\"outside\",\"zeroline\":false,\"zerolinecolor\":\"rgb(36,36,36)\"},\"yaxis\":{\"backgroundcolor\":\"white\",\"gridcolor\":\"rgb(232,232,232)\",\"gridwidth\":2,\"linecolor\":\"rgb(36,36,36)\",\"showbackground\":true,\"showgrid\":false,\"showline\":true,\"ticks\":\"outside\",\"zeroline\":false,\"zerolinecolor\":\"rgb(36,36,36)\"},\"zaxis\":{\"backgroundcolor\":\"white\",\"gridcolor\":\"rgb(232,232,232)\",\"gridwidth\":2,\"linecolor\":\"rgb(36,36,36)\",\"showbackground\":true,\"showgrid\":false,\"showline\":true,\"ticks\":\"outside\",\"zeroline\":false,\"zerolinecolor\":\"rgb(36,36,36)\"}},\"shapedefaults\":{\"fillcolor\":\"black\",\"line\":{\"width\":0},\"opacity\":0.3},\"ternary\":{\"aaxis\":{\"gridcolor\":\"rgb(232,232,232)\",\"linecolor\":\"rgb(36,36,36)\",\"showgrid\":false,\"showline\":true,\"ticks\":\"outside\"},\"baxis\":{\"gridcolor\":\"rgb(232,232,232)\",\"linecolor\":\"rgb(36,36,36)\",\"showgrid\":false,\"showline\":true,\"ticks\":\"outside\"},\"bgcolor\":\"white\",\"caxis\":{\"gridcolor\":\"rgb(232,232,232)\",\"linecolor\":\"rgb(36,36,36)\",\"showgrid\":false,\"showline\":true,\"ticks\":\"outside\"}},\"title\":{\"x\":0.05},\"xaxis\":{\"automargin\":true,\"gridcolor\":\"rgb(232,232,232)\",\"linecolor\":\"rgb(36,36,36)\",\"showgrid\":false,\"showline\":true,\"ticks\":\"outside\",\"title\":{\"standoff\":15},\"zeroline\":false,\"zerolinecolor\":\"rgb(36,36,36)\"},\"yaxis\":{\"automargin\":true,\"gridcolor\":\"rgb(232,232,232)\",\"linecolor\":\"rgb(36,36,36)\",\"showgrid\":false,\"showline\":true,\"ticks\":\"outside\",\"title\":{\"standoff\":15},\"zeroline\":false,\"zerolinecolor\":\"rgb(36,36,36)\"}}},\"xaxis\":{\"showgrid\":true},\"yaxis\":{\"showgrid\":true,\"title\":{\"text\":\"Frequency\"}},\"title\":{\"font\":{\"size\":22,\"color\":\"Black\"},\"text\":\"\\u003cb\\u003eTopics over Time\\u003c\\u002fb\\u003e\",\"y\":0.95,\"x\":0.4,\"xanchor\":\"center\",\"yanchor\":\"top\"},\"hoverlabel\":{\"font\":{\"size\":16,\"family\":\"Rockwell\"},\"bgcolor\":\"white\"},\"width\":1250,\"height\":450,\"legend\":{\"title\":{\"text\":\"\\u003cb\\u003eGlobal Topic Representation\"}}},                        {\"responsive\": true}                    ).then(function(){\n",
       "                            \n",
       "var gd = document.getElementById('20252f95-8a3a-452f-a3e6-ea12a749037f');\n",
       "var x = new MutationObserver(function (mutations, observer) {{\n",
       "        var display = window.getComputedStyle(gd).display;\n",
       "        if (!display || display === 'none') {{\n",
       "            console.log([gd, 'removed!']);\n",
       "            Plotly.purge(gd);\n",
       "            observer.disconnect();\n",
       "        }}\n",
       "}});\n",
       "\n",
       "// Listen for the removal of the full notebook cells\n",
       "var notebookContainer = gd.closest('#notebook-container');\n",
       "if (notebookContainer) {{\n",
       "    x.observe(notebookContainer, {childList: true});\n",
       "}}\n",
       "\n",
       "// Listen for the clearing of the current output cell\n",
       "var outputEl = gd.closest('.output');\n",
       "if (outputEl) {{\n",
       "    x.observe(outputEl, {childList: true});\n",
       "}}\n",
       "\n",
       "                        })                };                });            </script>        </div>"
      ]
     },
     "metadata": {},
     "output_type": "display_data"
    }
   ],
   "source": [
    "topic_model.visualize_topics_over_time(topics_over_time, top_n_topics=20)"
   ]
  },
  {
   "cell_type": "code",
   "execution_count": 42,
   "metadata": {
    "colab": {
     "base_uri": "https://localhost:8080/",
     "height": 206
    },
    "id": "5NKwwGOa0j29",
    "outputId": "8da2ac85-42d6-4567-b4fc-6af836a8585e"
   },
   "outputs": [
    {
     "data": {
      "text/html": [
       "<div>\n",
       "<style scoped>\n",
       "    .dataframe tbody tr th:only-of-type {\n",
       "        vertical-align: middle;\n",
       "    }\n",
       "\n",
       "    .dataframe tbody tr th {\n",
       "        vertical-align: top;\n",
       "    }\n",
       "\n",
       "    .dataframe thead th {\n",
       "        text-align: right;\n",
       "    }\n",
       "</style>\n",
       "<table border=\"1\" class=\"dataframe\">\n",
       "  <thead>\n",
       "    <tr style=\"text-align: right;\">\n",
       "      <th></th>\n",
       "      <th>Topic</th>\n",
       "      <th>Count</th>\n",
       "      <th>Name</th>\n",
       "      <th>Representation</th>\n",
       "      <th>Representative_Docs</th>\n",
       "    </tr>\n",
       "  </thead>\n",
       "  <tbody>\n",
       "    <tr>\n",
       "      <th>0</th>\n",
       "      <td>-1</td>\n",
       "      <td>612</td>\n",
       "      <td>-1_social_learning_among_cognitive</td>\n",
       "      <td>[social, learning, among, cognitive, study, effects, behavior, using, children, task]</td>\n",
       "      <td>[Quality life associated factors among youth substance use Northwest Ethiopia: Using structural equation modeling, Training spiking neuronal network model visual-motor cortex play virtual racket-ball game using reinforcement learning, association disordered eating health-related quality life among children adolescents: systematic review population-based studies]</td>\n",
       "    </tr>\n",
       "    <tr>\n",
       "      <th>1</th>\n",
       "      <td>0</td>\n",
       "      <td>84</td>\n",
       "      <td>0_covid19_pandemic_burnout_health</td>\n",
       "      <td>[covid19, pandemic, burnout, health, psychological, distress, mental, among, healthcare, care]</td>\n",
       "      <td>[Burnout coping strategies among resident physicians Indonesian tertiary referral hospital COVID-19 pandemic, Job burnout among Israeli healthcare workers first months COVID-19 pandemic: role emotion regulation strategies psychological distress, Mental health, risk perception, coping strategies among healthcare workers Egypt COVID-19 pandemic]</td>\n",
       "    </tr>\n",
       "    <tr>\n",
       "      <th>2</th>\n",
       "      <td>1</td>\n",
       "      <td>54</td>\n",
       "      <td>1_touch_perception_body_vestibular</td>\n",
       "      <td>[touch, perception, body, vestibular, postural, orientation, binocular, ownership, visuomotor, hand]</td>\n",
       "      <td>[Viewing Pain Happy Faces Elicited Similar Changes Postural Body Sway, Direction Specific Biases Human Visual Vestibular Heading Perception, Changes perception upright body orientation age]</td>\n",
       "    </tr>\n",
       "    <tr>\n",
       "      <th>3</th>\n",
       "      <td>2</td>\n",
       "      <td>47</td>\n",
       "      <td>2_intergroup_social_ingroup_identity</td>\n",
       "      <td>[intergroup, social, ingroup, identity, humanization, peace, outgroup, aversion, leadership, increases]</td>\n",
       "      <td>[activating diversity alleviate, increase intergroup bias? ingroup projection perspective, Priming attachment security outgroup humanization: mediation role intergroup emotions, humanitarian aid humanization: outgroup, ingroup, helping increases humanization]</td>\n",
       "    </tr>\n",
       "    <tr>\n",
       "      <th>4</th>\n",
       "      <td>3</td>\n",
       "      <td>46</td>\n",
       "      <td>3_stress_coping_depression_life</td>\n",
       "      <td>[stress, coping, depression, life, study, wellbeing, adults, crosssectional, perceived, symptoms]</td>\n",
       "      <td>[Trier Social Stress Test Trier Social Stress Test groups: Qualitative investigations, Stress Effects Mood, HPA Axis, Autonomic Response: Comparison Three Psychosocial Stress Paradigms, Coexistence Coping Resources Specific Coping Styles Stress: Evidence Full Information Item Bifactor Analysis]</td>\n",
       "    </tr>\n",
       "  </tbody>\n",
       "</table>\n",
       "</div>"
      ],
      "text/plain": [
       "   Topic  Count                                  Name  \\\n",
       "0     -1    612    -1_social_learning_among_cognitive   \n",
       "1      0     84     0_covid19_pandemic_burnout_health   \n",
       "2      1     54    1_touch_perception_body_vestibular   \n",
       "3      2     47  2_intergroup_social_ingroup_identity   \n",
       "4      3     46       3_stress_coping_depression_life   \n",
       "\n",
       "                                                                                            Representation  \\\n",
       "0                    [social, learning, among, cognitive, study, effects, behavior, using, children, task]   \n",
       "1           [covid19, pandemic, burnout, health, psychological, distress, mental, among, healthcare, care]   \n",
       "2     [touch, perception, body, vestibular, postural, orientation, binocular, ownership, visuomotor, hand]   \n",
       "3  [intergroup, social, ingroup, identity, humanization, peace, outgroup, aversion, leadership, increases]   \n",
       "4        [stress, coping, depression, life, study, wellbeing, adults, crosssectional, perceived, symptoms]   \n",
       "\n",
       "                                                                                                                                                                                                                                                                                                                                                            Representative_Docs  \n",
       "0  [Quality life associated factors among youth substance use Northwest Ethiopia: Using structural equation modeling, Training spiking neuronal network model visual-motor cortex play virtual racket-ball game using reinforcement learning, association disordered eating health-related quality life among children adolescents: systematic review population-based studies]  \n",
       "1                     [Burnout coping strategies among resident physicians Indonesian tertiary referral hospital COVID-19 pandemic, Job burnout among Israeli healthcare workers first months COVID-19 pandemic: role emotion regulation strategies psychological distress, Mental health, risk perception, coping strategies among healthcare workers Egypt COVID-19 pandemic]  \n",
       "2                                                                                                                                                                                 [Viewing Pain Happy Faces Elicited Similar Changes Postural Body Sway, Direction Specific Biases Human Visual Vestibular Heading Perception, Changes perception upright body orientation age]  \n",
       "3                                                                                                           [activating diversity alleviate, increase intergroup bias? ingroup projection perspective, Priming attachment security outgroup humanization: mediation role intergroup emotions, humanitarian aid humanization: outgroup, ingroup, helping increases humanization]  \n",
       "4                                                                       [Trier Social Stress Test Trier Social Stress Test groups: Qualitative investigations, Stress Effects Mood, HPA Axis, Autonomic Response: Comparison Three Psychosocial Stress Paradigms, Coexistence Coping Resources Specific Coping Styles Stress: Evidence Full Information Item Bifactor Analysis]  "
      ]
     },
     "execution_count": 42,
     "metadata": {},
     "output_type": "execute_result"
    }
   ],
   "source": [
    "freq = topic_model.get_topic_info(); freq.head(5)\n",
    "#try to "
   ]
  },
  {
   "cell_type": "code",
   "execution_count": 49,
   "metadata": {},
   "outputs": [
    {
     "name": "stdout",
     "output_type": "stream",
     "text": [
      "Number of topics identified: 28\n"
     ]
    }
   ],
   "source": [
    "# Print the number of topics identified\n",
    "topic_freq = topic_model.get_topic_freq()\n",
    "num_topics = len(topic_freq)\n",
    "print(\"Number of topics identified:\", num_topics)"
   ]
  },
  {
   "cell_type": "code",
   "execution_count": 43,
   "metadata": {},
   "outputs": [
    {
     "name": "stdout",
     "output_type": "stream",
     "text": [
      "0    [Quality life associated factors among youth substance use Northwest Ethiopia: Using structural equation modeling, Training spiking neuronal network model visual-motor cortex play virtual racket-ball game using reinforcement learning, association disordered eating health-related quality life among children adolescents: systematic review population-based studies]\n",
      "Name: Representative_Docs, dtype: object\n"
     ]
    }
   ],
   "source": [
    "#I need to clean the data a bit better, investigate the -1 and 0 topics\n",
    "#freq.info()\n",
    "# Filter rows where 'Topic' is equal to -1\n",
    "filtered_df = freq[freq['Topic'] == -1]\n",
    "pd.set_option('display.max_colwidth', None)\n",
    "print(filtered_df['Representative_Docs'])"
   ]
  },
  {
   "cell_type": "code",
   "execution_count": 10,
   "metadata": {
    "colab": {
     "base_uri": "https://localhost:8080/"
    },
    "id": "TGv3v7dBC28F",
    "outputId": "48360681-aaf3-4101-a95a-72d40a1aeaab"
   },
   "outputs": [
    {
     "data": {
      "text/plain": [
       "[('covid19', 0.09156264287658607),\n",
       " ('pandemic', 0.058357277356814216),\n",
       " ('health', 0.02872718673942675),\n",
       " ('mental', 0.023546152663434246),\n",
       " ('crosssectional', 0.020759867517955565),\n",
       " ('ethiopia', 0.01854502618712158),\n",
       " ('among', 0.0181721462492378),\n",
       " ('knowledge', 0.017488218815033155),\n",
       " ('infection', 0.01700636844453755),\n",
       " ('practices', 0.016859114715565074)]"
      ]
     },
     "execution_count": 10,
     "metadata": {},
     "output_type": "execute_result"
    }
   ],
   "source": [
    "#remove stopwords\n",
    "topic_model.get_topic(0)"
   ]
  },
  {
   "cell_type": "code",
   "execution_count": 44,
   "metadata": {
    "colab": {
     "base_uri": "https://localhost:8080/",
     "height": 517
    },
    "id": "jkEuqlG2Dkov",
    "outputId": "fd6d1098-2083-4221-b441-5ed8ecd9048a"
   },
   "outputs": [
    {
     "data": {
      "application/vnd.plotly.v1+json": {
       "config": {
        "plotlyServerURL": "https://plot.ly"
       },
       "data": [
        {
         "hoverinfo": "text",
         "marker": {
          "color": "rgb(61,153,112)"
         },
         "mode": "lines",
         "type": "scatter",
         "x": [
          0,
          0.7265077267083901,
          0.7265077267083901,
          0
         ],
         "xaxis": "x",
         "y": [
          -15,
          -15,
          -25,
          -25
         ],
         "yaxis": "y"
        },
        {
         "hoverinfo": "text",
         "marker": {
          "color": "rgb(61,153,112)"
         },
         "mode": "lines",
         "type": "scatter",
         "x": [
          0.7265077267083901,
          0.8394563414736858,
          0.8394563414736858,
          0
         ],
         "xaxis": "x",
         "y": [
          -20,
          -20,
          -35,
          -35
         ],
         "yaxis": "y"
        },
        {
         "hoverinfo": "text",
         "marker": {
          "color": "rgb(61,153,112)"
         },
         "mode": "lines",
         "type": "scatter",
         "x": [
          0,
          0.9151627384888074,
          0.9151627384888074,
          0.8394563414736858
         ],
         "xaxis": "x",
         "y": [
          -5,
          -5,
          -27.5,
          -27.5
         ],
         "yaxis": "y"
        },
        {
         "hoverinfo": "text",
         "marker": {
          "color": "rgb(255,65,54)"
         },
         "mode": "lines",
         "type": "scatter",
         "x": [
          0,
          0.86158483879471,
          0.86158483879471,
          0
         ],
         "xaxis": "x",
         "y": [
          -45,
          -45,
          -55,
          -55
         ],
         "yaxis": "y"
        },
        {
         "hoverinfo": "text",
         "marker": {
          "color": "rgb(255,65,54)"
         },
         "mode": "lines",
         "type": "scatter",
         "x": [
          0.86158483879471,
          0.9354973274839675,
          0.9354973274839675,
          0
         ],
         "xaxis": "x",
         "y": [
          -50,
          -50,
          -65,
          -65
         ],
         "yaxis": "y"
        },
        {
         "hoverinfo": "text",
         "marker": {
          "color": "rgb(0,116,217)"
         },
         "mode": "lines",
         "type": "scatter",
         "x": [
          0.9151627384888074,
          1.0799120226711283,
          1.0799120226711283,
          0.9354973274839675
         ],
         "xaxis": "x",
         "y": [
          -16.25,
          -16.25,
          -57.5,
          -57.5
         ],
         "yaxis": "y"
        },
        {
         "hoverinfo": "text",
         "marker": {
          "color": "rgb(35,205,205)"
         },
         "mode": "lines",
         "type": "scatter",
         "x": [
          0,
          0.8488962270836631,
          0.8488962270836631,
          0
         ],
         "xaxis": "x",
         "y": [
          -75,
          -75,
          -85,
          -85
         ],
         "yaxis": "y"
        },
        {
         "hoverinfo": "text",
         "marker": {
          "color": "rgb(35,205,205)"
         },
         "mode": "lines",
         "type": "scatter",
         "x": [
          0,
          0.8644312179875351,
          0.8644312179875351,
          0
         ],
         "xaxis": "x",
         "y": [
          -95,
          -95,
          -105,
          -105
         ],
         "yaxis": "y"
        },
        {
         "hoverinfo": "text",
         "marker": {
          "color": "rgb(35,205,205)"
         },
         "mode": "lines",
         "type": "scatter",
         "x": [
          0.8488962270836631,
          0.9504932075249756,
          0.9504932075249756,
          0.8644312179875351
         ],
         "xaxis": "x",
         "y": [
          -80,
          -80,
          -100,
          -100
         ],
         "yaxis": "y"
        },
        {
         "hoverinfo": "text",
         "marker": {
          "color": "rgb(35,205,205)"
         },
         "mode": "lines",
         "type": "scatter",
         "x": [
          0,
          0.834287730460207,
          0.834287730460207,
          0
         ],
         "xaxis": "x",
         "y": [
          -115,
          -115,
          -125,
          -125
         ],
         "yaxis": "y"
        },
        {
         "hoverinfo": "text",
         "marker": {
          "color": "rgb(35,205,205)"
         },
         "mode": "lines",
         "type": "scatter",
         "x": [
          0.9504932075249756,
          0.9930084266290575,
          0.9930084266290575,
          0.834287730460207
         ],
         "xaxis": "x",
         "y": [
          -90,
          -90,
          -120,
          -120
         ],
         "yaxis": "y"
        },
        {
         "hoverinfo": "text",
         "marker": {
          "color": "rgb(133,20,75)"
         },
         "mode": "lines",
         "type": "scatter",
         "x": [
          0,
          0.9196295048197516,
          0.9196295048197516,
          0
         ],
         "xaxis": "x",
         "y": [
          -145,
          -145,
          -155,
          -155
         ],
         "yaxis": "y"
        },
        {
         "hoverinfo": "text",
         "marker": {
          "color": "rgb(133,20,75)"
         },
         "mode": "lines",
         "type": "scatter",
         "x": [
          0,
          0.9695970822285711,
          0.9695970822285711,
          0.9196295048197516
         ],
         "xaxis": "x",
         "y": [
          -135,
          -135,
          -150,
          -150
         ],
         "yaxis": "y"
        },
        {
         "hoverinfo": "text",
         "marker": {
          "color": "rgb(133,20,75)"
         },
         "mode": "lines",
         "type": "scatter",
         "x": [
          0,
          0.9122632276843518,
          0.9122632276843518,
          0
         ],
         "xaxis": "x",
         "y": [
          -175,
          -175,
          -185,
          -185
         ],
         "yaxis": "y"
        },
        {
         "hoverinfo": "text",
         "marker": {
          "color": "rgb(133,20,75)"
         },
         "mode": "lines",
         "type": "scatter",
         "x": [
          0,
          0.9412028141596961,
          0.9412028141596961,
          0.9122632276843518
         ],
         "xaxis": "x",
         "y": [
          -165,
          -165,
          -180,
          -180
         ],
         "yaxis": "y"
        },
        {
         "hoverinfo": "text",
         "marker": {
          "color": "rgb(133,20,75)"
         },
         "mode": "lines",
         "type": "scatter",
         "x": [
          0.9695970822285711,
          0.9738667186061152,
          0.9738667186061152,
          0.9412028141596961
         ],
         "xaxis": "x",
         "y": [
          -142.5,
          -142.5,
          -172.5,
          -172.5
         ],
         "yaxis": "y"
        },
        {
         "hoverinfo": "text",
         "marker": {
          "color": "rgb(133,20,75)"
         },
         "mode": "lines",
         "type": "scatter",
         "x": [
          0.9738667186061152,
          0.9798803544676983,
          0.9798803544676983,
          0
         ],
         "xaxis": "x",
         "y": [
          -157.5,
          -157.5,
          -195,
          -195
         ],
         "yaxis": "y"
        },
        {
         "hoverinfo": "text",
         "marker": {
          "color": "rgb(0,116,217)"
         },
         "mode": "lines",
         "type": "scatter",
         "x": [
          0.9930084266290575,
          1.0904781578718175,
          1.0904781578718175,
          0.9798803544676983
         ],
         "xaxis": "x",
         "y": [
          -105,
          -105,
          -176.25,
          -176.25
         ],
         "yaxis": "y"
        },
        {
         "hoverinfo": "text",
         "marker": {
          "color": "rgb(0,116,217)"
         },
         "mode": "lines",
         "type": "scatter",
         "x": [
          1.0799120226711283,
          1.1759068587436265,
          1.1759068587436265,
          1.0904781578718175
         ],
         "xaxis": "x",
         "y": [
          -36.875,
          -36.875,
          -140.625,
          -140.625
         ],
         "yaxis": "y"
        }
       ],
       "layout": {
        "autosize": false,
        "height": 500,
        "hoverlabel": {
         "bgcolor": "white",
         "font": {
          "family": "Rockwell",
          "size": 16
         }
        },
        "hovermode": "closest",
        "plot_bgcolor": "#ECEFF1",
        "showlegend": false,
        "template": {
         "data": {
          "bar": [
           {
            "error_x": {
             "color": "#2a3f5f"
            },
            "error_y": {
             "color": "#2a3f5f"
            },
            "marker": {
             "line": {
              "color": "white",
              "width": 0.5
             },
             "pattern": {
              "fillmode": "overlay",
              "size": 10,
              "solidity": 0.2
             }
            },
            "type": "bar"
           }
          ],
          "barpolar": [
           {
            "marker": {
             "line": {
              "color": "white",
              "width": 0.5
             },
             "pattern": {
              "fillmode": "overlay",
              "size": 10,
              "solidity": 0.2
             }
            },
            "type": "barpolar"
           }
          ],
          "carpet": [
           {
            "aaxis": {
             "endlinecolor": "#2a3f5f",
             "gridcolor": "#C8D4E3",
             "linecolor": "#C8D4E3",
             "minorgridcolor": "#C8D4E3",
             "startlinecolor": "#2a3f5f"
            },
            "baxis": {
             "endlinecolor": "#2a3f5f",
             "gridcolor": "#C8D4E3",
             "linecolor": "#C8D4E3",
             "minorgridcolor": "#C8D4E3",
             "startlinecolor": "#2a3f5f"
            },
            "type": "carpet"
           }
          ],
          "choropleth": [
           {
            "colorbar": {
             "outlinewidth": 0,
             "ticks": ""
            },
            "type": "choropleth"
           }
          ],
          "contour": [
           {
            "colorbar": {
             "outlinewidth": 0,
             "ticks": ""
            },
            "colorscale": [
             [
              0,
              "#0d0887"
             ],
             [
              0.1111111111111111,
              "#46039f"
             ],
             [
              0.2222222222222222,
              "#7201a8"
             ],
             [
              0.3333333333333333,
              "#9c179e"
             ],
             [
              0.4444444444444444,
              "#bd3786"
             ],
             [
              0.5555555555555556,
              "#d8576b"
             ],
             [
              0.6666666666666666,
              "#ed7953"
             ],
             [
              0.7777777777777778,
              "#fb9f3a"
             ],
             [
              0.8888888888888888,
              "#fdca26"
             ],
             [
              1,
              "#f0f921"
             ]
            ],
            "type": "contour"
           }
          ],
          "contourcarpet": [
           {
            "colorbar": {
             "outlinewidth": 0,
             "ticks": ""
            },
            "type": "contourcarpet"
           }
          ],
          "heatmap": [
           {
            "colorbar": {
             "outlinewidth": 0,
             "ticks": ""
            },
            "colorscale": [
             [
              0,
              "#0d0887"
             ],
             [
              0.1111111111111111,
              "#46039f"
             ],
             [
              0.2222222222222222,
              "#7201a8"
             ],
             [
              0.3333333333333333,
              "#9c179e"
             ],
             [
              0.4444444444444444,
              "#bd3786"
             ],
             [
              0.5555555555555556,
              "#d8576b"
             ],
             [
              0.6666666666666666,
              "#ed7953"
             ],
             [
              0.7777777777777778,
              "#fb9f3a"
             ],
             [
              0.8888888888888888,
              "#fdca26"
             ],
             [
              1,
              "#f0f921"
             ]
            ],
            "type": "heatmap"
           }
          ],
          "heatmapgl": [
           {
            "colorbar": {
             "outlinewidth": 0,
             "ticks": ""
            },
            "colorscale": [
             [
              0,
              "#0d0887"
             ],
             [
              0.1111111111111111,
              "#46039f"
             ],
             [
              0.2222222222222222,
              "#7201a8"
             ],
             [
              0.3333333333333333,
              "#9c179e"
             ],
             [
              0.4444444444444444,
              "#bd3786"
             ],
             [
              0.5555555555555556,
              "#d8576b"
             ],
             [
              0.6666666666666666,
              "#ed7953"
             ],
             [
              0.7777777777777778,
              "#fb9f3a"
             ],
             [
              0.8888888888888888,
              "#fdca26"
             ],
             [
              1,
              "#f0f921"
             ]
            ],
            "type": "heatmapgl"
           }
          ],
          "histogram": [
           {
            "marker": {
             "pattern": {
              "fillmode": "overlay",
              "size": 10,
              "solidity": 0.2
             }
            },
            "type": "histogram"
           }
          ],
          "histogram2d": [
           {
            "colorbar": {
             "outlinewidth": 0,
             "ticks": ""
            },
            "colorscale": [
             [
              0,
              "#0d0887"
             ],
             [
              0.1111111111111111,
              "#46039f"
             ],
             [
              0.2222222222222222,
              "#7201a8"
             ],
             [
              0.3333333333333333,
              "#9c179e"
             ],
             [
              0.4444444444444444,
              "#bd3786"
             ],
             [
              0.5555555555555556,
              "#d8576b"
             ],
             [
              0.6666666666666666,
              "#ed7953"
             ],
             [
              0.7777777777777778,
              "#fb9f3a"
             ],
             [
              0.8888888888888888,
              "#fdca26"
             ],
             [
              1,
              "#f0f921"
             ]
            ],
            "type": "histogram2d"
           }
          ],
          "histogram2dcontour": [
           {
            "colorbar": {
             "outlinewidth": 0,
             "ticks": ""
            },
            "colorscale": [
             [
              0,
              "#0d0887"
             ],
             [
              0.1111111111111111,
              "#46039f"
             ],
             [
              0.2222222222222222,
              "#7201a8"
             ],
             [
              0.3333333333333333,
              "#9c179e"
             ],
             [
              0.4444444444444444,
              "#bd3786"
             ],
             [
              0.5555555555555556,
              "#d8576b"
             ],
             [
              0.6666666666666666,
              "#ed7953"
             ],
             [
              0.7777777777777778,
              "#fb9f3a"
             ],
             [
              0.8888888888888888,
              "#fdca26"
             ],
             [
              1,
              "#f0f921"
             ]
            ],
            "type": "histogram2dcontour"
           }
          ],
          "mesh3d": [
           {
            "colorbar": {
             "outlinewidth": 0,
             "ticks": ""
            },
            "type": "mesh3d"
           }
          ],
          "parcoords": [
           {
            "line": {
             "colorbar": {
              "outlinewidth": 0,
              "ticks": ""
             }
            },
            "type": "parcoords"
           }
          ],
          "pie": [
           {
            "automargin": true,
            "type": "pie"
           }
          ],
          "scatter": [
           {
            "fillpattern": {
             "fillmode": "overlay",
             "size": 10,
             "solidity": 0.2
            },
            "type": "scatter"
           }
          ],
          "scatter3d": [
           {
            "line": {
             "colorbar": {
              "outlinewidth": 0,
              "ticks": ""
             }
            },
            "marker": {
             "colorbar": {
              "outlinewidth": 0,
              "ticks": ""
             }
            },
            "type": "scatter3d"
           }
          ],
          "scattercarpet": [
           {
            "marker": {
             "colorbar": {
              "outlinewidth": 0,
              "ticks": ""
             }
            },
            "type": "scattercarpet"
           }
          ],
          "scattergeo": [
           {
            "marker": {
             "colorbar": {
              "outlinewidth": 0,
              "ticks": ""
             }
            },
            "type": "scattergeo"
           }
          ],
          "scattergl": [
           {
            "marker": {
             "colorbar": {
              "outlinewidth": 0,
              "ticks": ""
             }
            },
            "type": "scattergl"
           }
          ],
          "scattermapbox": [
           {
            "marker": {
             "colorbar": {
              "outlinewidth": 0,
              "ticks": ""
             }
            },
            "type": "scattermapbox"
           }
          ],
          "scatterpolar": [
           {
            "marker": {
             "colorbar": {
              "outlinewidth": 0,
              "ticks": ""
             }
            },
            "type": "scatterpolar"
           }
          ],
          "scatterpolargl": [
           {
            "marker": {
             "colorbar": {
              "outlinewidth": 0,
              "ticks": ""
             }
            },
            "type": "scatterpolargl"
           }
          ],
          "scatterternary": [
           {
            "marker": {
             "colorbar": {
              "outlinewidth": 0,
              "ticks": ""
             }
            },
            "type": "scatterternary"
           }
          ],
          "surface": [
           {
            "colorbar": {
             "outlinewidth": 0,
             "ticks": ""
            },
            "colorscale": [
             [
              0,
              "#0d0887"
             ],
             [
              0.1111111111111111,
              "#46039f"
             ],
             [
              0.2222222222222222,
              "#7201a8"
             ],
             [
              0.3333333333333333,
              "#9c179e"
             ],
             [
              0.4444444444444444,
              "#bd3786"
             ],
             [
              0.5555555555555556,
              "#d8576b"
             ],
             [
              0.6666666666666666,
              "#ed7953"
             ],
             [
              0.7777777777777778,
              "#fb9f3a"
             ],
             [
              0.8888888888888888,
              "#fdca26"
             ],
             [
              1,
              "#f0f921"
             ]
            ],
            "type": "surface"
           }
          ],
          "table": [
           {
            "cells": {
             "fill": {
              "color": "#EBF0F8"
             },
             "line": {
              "color": "white"
             }
            },
            "header": {
             "fill": {
              "color": "#C8D4E3"
             },
             "line": {
              "color": "white"
             }
            },
            "type": "table"
           }
          ]
         },
         "layout": {
          "annotationdefaults": {
           "arrowcolor": "#2a3f5f",
           "arrowhead": 0,
           "arrowwidth": 1
          },
          "autotypenumbers": "strict",
          "coloraxis": {
           "colorbar": {
            "outlinewidth": 0,
            "ticks": ""
           }
          },
          "colorscale": {
           "diverging": [
            [
             0,
             "#8e0152"
            ],
            [
             0.1,
             "#c51b7d"
            ],
            [
             0.2,
             "#de77ae"
            ],
            [
             0.3,
             "#f1b6da"
            ],
            [
             0.4,
             "#fde0ef"
            ],
            [
             0.5,
             "#f7f7f7"
            ],
            [
             0.6,
             "#e6f5d0"
            ],
            [
             0.7,
             "#b8e186"
            ],
            [
             0.8,
             "#7fbc41"
            ],
            [
             0.9,
             "#4d9221"
            ],
            [
             1,
             "#276419"
            ]
           ],
           "sequential": [
            [
             0,
             "#0d0887"
            ],
            [
             0.1111111111111111,
             "#46039f"
            ],
            [
             0.2222222222222222,
             "#7201a8"
            ],
            [
             0.3333333333333333,
             "#9c179e"
            ],
            [
             0.4444444444444444,
             "#bd3786"
            ],
            [
             0.5555555555555556,
             "#d8576b"
            ],
            [
             0.6666666666666666,
             "#ed7953"
            ],
            [
             0.7777777777777778,
             "#fb9f3a"
            ],
            [
             0.8888888888888888,
             "#fdca26"
            ],
            [
             1,
             "#f0f921"
            ]
           ],
           "sequentialminus": [
            [
             0,
             "#0d0887"
            ],
            [
             0.1111111111111111,
             "#46039f"
            ],
            [
             0.2222222222222222,
             "#7201a8"
            ],
            [
             0.3333333333333333,
             "#9c179e"
            ],
            [
             0.4444444444444444,
             "#bd3786"
            ],
            [
             0.5555555555555556,
             "#d8576b"
            ],
            [
             0.6666666666666666,
             "#ed7953"
            ],
            [
             0.7777777777777778,
             "#fb9f3a"
            ],
            [
             0.8888888888888888,
             "#fdca26"
            ],
            [
             1,
             "#f0f921"
            ]
           ]
          },
          "colorway": [
           "#636efa",
           "#EF553B",
           "#00cc96",
           "#ab63fa",
           "#FFA15A",
           "#19d3f3",
           "#FF6692",
           "#B6E880",
           "#FF97FF",
           "#FECB52"
          ],
          "font": {
           "color": "#2a3f5f"
          },
          "geo": {
           "bgcolor": "white",
           "lakecolor": "white",
           "landcolor": "white",
           "showlakes": true,
           "showland": true,
           "subunitcolor": "#C8D4E3"
          },
          "hoverlabel": {
           "align": "left"
          },
          "hovermode": "closest",
          "mapbox": {
           "style": "light"
          },
          "paper_bgcolor": "white",
          "plot_bgcolor": "white",
          "polar": {
           "angularaxis": {
            "gridcolor": "#EBF0F8",
            "linecolor": "#EBF0F8",
            "ticks": ""
           },
           "bgcolor": "white",
           "radialaxis": {
            "gridcolor": "#EBF0F8",
            "linecolor": "#EBF0F8",
            "ticks": ""
           }
          },
          "scene": {
           "xaxis": {
            "backgroundcolor": "white",
            "gridcolor": "#DFE8F3",
            "gridwidth": 2,
            "linecolor": "#EBF0F8",
            "showbackground": true,
            "ticks": "",
            "zerolinecolor": "#EBF0F8"
           },
           "yaxis": {
            "backgroundcolor": "white",
            "gridcolor": "#DFE8F3",
            "gridwidth": 2,
            "linecolor": "#EBF0F8",
            "showbackground": true,
            "ticks": "",
            "zerolinecolor": "#EBF0F8"
           },
           "zaxis": {
            "backgroundcolor": "white",
            "gridcolor": "#DFE8F3",
            "gridwidth": 2,
            "linecolor": "#EBF0F8",
            "showbackground": true,
            "ticks": "",
            "zerolinecolor": "#EBF0F8"
           }
          },
          "shapedefaults": {
           "line": {
            "color": "#2a3f5f"
           }
          },
          "ternary": {
           "aaxis": {
            "gridcolor": "#DFE8F3",
            "linecolor": "#A2B1C6",
            "ticks": ""
           },
           "baxis": {
            "gridcolor": "#DFE8F3",
            "linecolor": "#A2B1C6",
            "ticks": ""
           },
           "bgcolor": "white",
           "caxis": {
            "gridcolor": "#DFE8F3",
            "linecolor": "#A2B1C6",
            "ticks": ""
           }
          },
          "title": {
           "x": 0.05
          },
          "xaxis": {
           "automargin": true,
           "gridcolor": "#EBF0F8",
           "linecolor": "#EBF0F8",
           "ticks": "",
           "title": {
            "standoff": 15
           },
           "zerolinecolor": "#EBF0F8",
           "zerolinewidth": 2
          },
          "yaxis": {
           "automargin": true,
           "gridcolor": "#EBF0F8",
           "linecolor": "#EBF0F8",
           "ticks": "",
           "title": {
            "standoff": 15
           },
           "zerolinecolor": "#EBF0F8",
           "zerolinewidth": 2
          }
         }
        },
        "title": {
         "font": {
          "color": "Black",
          "size": 22
         },
         "text": "<b>Hierarchical Clustering</b>",
         "x": 0.5,
         "xanchor": "center",
         "yanchor": "top"
        },
        "width": 1000,
        "xaxis": {
         "mirror": "allticks",
         "rangemode": "tozero",
         "showgrid": false,
         "showline": true,
         "showticklabels": true,
         "ticks": "outside",
         "type": "linear",
         "zeroline": false
        },
        "yaxis": {
         "mirror": "allticks",
         "range": [
          -200,
          0
         ],
         "rangemode": "tozero",
         "showgrid": false,
         "showline": true,
         "showticklabels": true,
         "tickmode": "array",
         "ticks": "outside",
         "ticktext": [
          "15_electronic_smoking_cigar...",
          "3_stress_coping_depression",
          "0_covid19_pandemic_burnout",
          "11_health_treatment_patients",
          "14_fear_stress_amygdala",
          "18_anxiety_functional_disor...",
          "13_autism_spectrum_disorder",
          "19_music_musical_acoustic",
          "5_auditory_hearing_speech",
          "17_attentional_temporal_att...",
          "1_touch_perception_body",
          "7_facial_emotional_emotion",
          "12_facial_sex_differences",
          "8_breeding_conservation_vocal",
          "2_intergroup_social_ingroup",
          "4_cooperation_game_games",
          "9_language_lexical_chinese",
          "10_students_knowledge_engag...",
          "6_players_soccer_performance",
          "16_choice_sequential_decisi..."
         ],
         "tickvals": [
          -5,
          -15,
          -25,
          -35,
          -45,
          -55,
          -65,
          -75,
          -85,
          -95,
          -105,
          -115,
          -125,
          -135,
          -145,
          -155,
          -165,
          -175,
          -185,
          -195
         ],
         "type": "linear",
         "zeroline": false
        }
       }
      },
      "text/html": [
       "<div>                            <div id=\"a4a28624-87cd-4ecf-b5be-31f63c743c61\" class=\"plotly-graph-div\" style=\"height:500px; width:1000px;\"></div>            <script type=\"text/javascript\">                require([\"plotly\"], function(Plotly) {                    window.PLOTLYENV=window.PLOTLYENV || {};                                    if (document.getElementById(\"a4a28624-87cd-4ecf-b5be-31f63c743c61\")) {                    Plotly.newPlot(                        \"a4a28624-87cd-4ecf-b5be-31f63c743c61\",                        [{\"hoverinfo\":\"text\",\"marker\":{\"color\":\"rgb(61,153,112)\"},\"mode\":\"lines\",\"x\":[0.0,0.7265077267083901,0.7265077267083901,0.0],\"xaxis\":\"x\",\"y\":[-15.0,-15.0,-25.0,-25.0],\"yaxis\":\"y\",\"type\":\"scatter\"},{\"hoverinfo\":\"text\",\"marker\":{\"color\":\"rgb(61,153,112)\"},\"mode\":\"lines\",\"x\":[0.7265077267083901,0.8394563414736858,0.8394563414736858,0.0],\"xaxis\":\"x\",\"y\":[-20.0,-20.0,-35.0,-35.0],\"yaxis\":\"y\",\"type\":\"scatter\"},{\"hoverinfo\":\"text\",\"marker\":{\"color\":\"rgb(61,153,112)\"},\"mode\":\"lines\",\"x\":[0.0,0.9151627384888074,0.9151627384888074,0.8394563414736858],\"xaxis\":\"x\",\"y\":[-5.0,-5.0,-27.5,-27.5],\"yaxis\":\"y\",\"type\":\"scatter\"},{\"hoverinfo\":\"text\",\"marker\":{\"color\":\"rgb(255,65,54)\"},\"mode\":\"lines\",\"x\":[0.0,0.86158483879471,0.86158483879471,0.0],\"xaxis\":\"x\",\"y\":[-45.0,-45.0,-55.0,-55.0],\"yaxis\":\"y\",\"type\":\"scatter\"},{\"hoverinfo\":\"text\",\"marker\":{\"color\":\"rgb(255,65,54)\"},\"mode\":\"lines\",\"x\":[0.86158483879471,0.9354973274839675,0.9354973274839675,0.0],\"xaxis\":\"x\",\"y\":[-50.0,-50.0,-65.0,-65.0],\"yaxis\":\"y\",\"type\":\"scatter\"},{\"hoverinfo\":\"text\",\"marker\":{\"color\":\"rgb(0,116,217)\"},\"mode\":\"lines\",\"x\":[0.9151627384888074,1.0799120226711283,1.0799120226711283,0.9354973274839675],\"xaxis\":\"x\",\"y\":[-16.25,-16.25,-57.5,-57.5],\"yaxis\":\"y\",\"type\":\"scatter\"},{\"hoverinfo\":\"text\",\"marker\":{\"color\":\"rgb(35,205,205)\"},\"mode\":\"lines\",\"x\":[0.0,0.8488962270836631,0.8488962270836631,0.0],\"xaxis\":\"x\",\"y\":[-75.0,-75.0,-85.0,-85.0],\"yaxis\":\"y\",\"type\":\"scatter\"},{\"hoverinfo\":\"text\",\"marker\":{\"color\":\"rgb(35,205,205)\"},\"mode\":\"lines\",\"x\":[0.0,0.8644312179875351,0.8644312179875351,0.0],\"xaxis\":\"x\",\"y\":[-95.0,-95.0,-105.0,-105.0],\"yaxis\":\"y\",\"type\":\"scatter\"},{\"hoverinfo\":\"text\",\"marker\":{\"color\":\"rgb(35,205,205)\"},\"mode\":\"lines\",\"x\":[0.8488962270836631,0.9504932075249756,0.9504932075249756,0.8644312179875351],\"xaxis\":\"x\",\"y\":[-80.0,-80.0,-100.0,-100.0],\"yaxis\":\"y\",\"type\":\"scatter\"},{\"hoverinfo\":\"text\",\"marker\":{\"color\":\"rgb(35,205,205)\"},\"mode\":\"lines\",\"x\":[0.0,0.834287730460207,0.834287730460207,0.0],\"xaxis\":\"x\",\"y\":[-115.0,-115.0,-125.0,-125.0],\"yaxis\":\"y\",\"type\":\"scatter\"},{\"hoverinfo\":\"text\",\"marker\":{\"color\":\"rgb(35,205,205)\"},\"mode\":\"lines\",\"x\":[0.9504932075249756,0.9930084266290575,0.9930084266290575,0.834287730460207],\"xaxis\":\"x\",\"y\":[-90.0,-90.0,-120.0,-120.0],\"yaxis\":\"y\",\"type\":\"scatter\"},{\"hoverinfo\":\"text\",\"marker\":{\"color\":\"rgb(133,20,75)\"},\"mode\":\"lines\",\"x\":[0.0,0.9196295048197516,0.9196295048197516,0.0],\"xaxis\":\"x\",\"y\":[-145.0,-145.0,-155.0,-155.0],\"yaxis\":\"y\",\"type\":\"scatter\"},{\"hoverinfo\":\"text\",\"marker\":{\"color\":\"rgb(133,20,75)\"},\"mode\":\"lines\",\"x\":[0.0,0.9695970822285711,0.9695970822285711,0.9196295048197516],\"xaxis\":\"x\",\"y\":[-135.0,-135.0,-150.0,-150.0],\"yaxis\":\"y\",\"type\":\"scatter\"},{\"hoverinfo\":\"text\",\"marker\":{\"color\":\"rgb(133,20,75)\"},\"mode\":\"lines\",\"x\":[0.0,0.9122632276843518,0.9122632276843518,0.0],\"xaxis\":\"x\",\"y\":[-175.0,-175.0,-185.0,-185.0],\"yaxis\":\"y\",\"type\":\"scatter\"},{\"hoverinfo\":\"text\",\"marker\":{\"color\":\"rgb(133,20,75)\"},\"mode\":\"lines\",\"x\":[0.0,0.9412028141596961,0.9412028141596961,0.9122632276843518],\"xaxis\":\"x\",\"y\":[-165.0,-165.0,-180.0,-180.0],\"yaxis\":\"y\",\"type\":\"scatter\"},{\"hoverinfo\":\"text\",\"marker\":{\"color\":\"rgb(133,20,75)\"},\"mode\":\"lines\",\"x\":[0.9695970822285711,0.9738667186061152,0.9738667186061152,0.9412028141596961],\"xaxis\":\"x\",\"y\":[-142.5,-142.5,-172.5,-172.5],\"yaxis\":\"y\",\"type\":\"scatter\"},{\"hoverinfo\":\"text\",\"marker\":{\"color\":\"rgb(133,20,75)\"},\"mode\":\"lines\",\"x\":[0.9738667186061152,0.9798803544676983,0.9798803544676983,0.0],\"xaxis\":\"x\",\"y\":[-157.5,-157.5,-195.0,-195.0],\"yaxis\":\"y\",\"type\":\"scatter\"},{\"hoverinfo\":\"text\",\"marker\":{\"color\":\"rgb(0,116,217)\"},\"mode\":\"lines\",\"x\":[0.9930084266290575,1.0904781578718175,1.0904781578718175,0.9798803544676983],\"xaxis\":\"x\",\"y\":[-105.0,-105.0,-176.25,-176.25],\"yaxis\":\"y\",\"type\":\"scatter\"},{\"hoverinfo\":\"text\",\"marker\":{\"color\":\"rgb(0,116,217)\"},\"mode\":\"lines\",\"x\":[1.0799120226711283,1.1759068587436265,1.1759068587436265,1.0904781578718175],\"xaxis\":\"x\",\"y\":[-36.875,-36.875,-140.625,-140.625],\"yaxis\":\"y\",\"type\":\"scatter\"}],                        {\"autosize\":false,\"height\":500,\"hovermode\":\"closest\",\"showlegend\":false,\"width\":1000,\"xaxis\":{\"mirror\":\"allticks\",\"rangemode\":\"tozero\",\"showgrid\":false,\"showline\":true,\"showticklabels\":true,\"ticks\":\"outside\",\"type\":\"linear\",\"zeroline\":false},\"yaxis\":{\"mirror\":\"allticks\",\"rangemode\":\"tozero\",\"showgrid\":false,\"showline\":true,\"showticklabels\":true,\"tickmode\":\"array\",\"ticks\":\"outside\",\"ticktext\":[\"15_electronic_smoking_cigar...\",\"3_stress_coping_depression\",\"0_covid19_pandemic_burnout\",\"11_health_treatment_patients\",\"14_fear_stress_amygdala\",\"18_anxiety_functional_disor...\",\"13_autism_spectrum_disorder\",\"19_music_musical_acoustic\",\"5_auditory_hearing_speech\",\"17_attentional_temporal_att...\",\"1_touch_perception_body\",\"7_facial_emotional_emotion\",\"12_facial_sex_differences\",\"8_breeding_conservation_vocal\",\"2_intergroup_social_ingroup\",\"4_cooperation_game_games\",\"9_language_lexical_chinese\",\"10_students_knowledge_engag...\",\"6_players_soccer_performance\",\"16_choice_sequential_decisi...\"],\"tickvals\":[-5.0,-15.0,-25.0,-35.0,-45.0,-55.0,-65.0,-75.0,-85.0,-95.0,-105.0,-115.0,-125.0,-135.0,-145.0,-155.0,-165.0,-175.0,-185.0,-195.0],\"type\":\"linear\",\"zeroline\":false,\"range\":[-200.0,0.0]},\"template\":{\"data\":{\"barpolar\":[{\"marker\":{\"line\":{\"color\":\"white\",\"width\":0.5},\"pattern\":{\"fillmode\":\"overlay\",\"size\":10,\"solidity\":0.2}},\"type\":\"barpolar\"}],\"bar\":[{\"error_x\":{\"color\":\"#2a3f5f\"},\"error_y\":{\"color\":\"#2a3f5f\"},\"marker\":{\"line\":{\"color\":\"white\",\"width\":0.5},\"pattern\":{\"fillmode\":\"overlay\",\"size\":10,\"solidity\":0.2}},\"type\":\"bar\"}],\"carpet\":[{\"aaxis\":{\"endlinecolor\":\"#2a3f5f\",\"gridcolor\":\"#C8D4E3\",\"linecolor\":\"#C8D4E3\",\"minorgridcolor\":\"#C8D4E3\",\"startlinecolor\":\"#2a3f5f\"},\"baxis\":{\"endlinecolor\":\"#2a3f5f\",\"gridcolor\":\"#C8D4E3\",\"linecolor\":\"#C8D4E3\",\"minorgridcolor\":\"#C8D4E3\",\"startlinecolor\":\"#2a3f5f\"},\"type\":\"carpet\"}],\"choropleth\":[{\"colorbar\":{\"outlinewidth\":0,\"ticks\":\"\"},\"type\":\"choropleth\"}],\"contourcarpet\":[{\"colorbar\":{\"outlinewidth\":0,\"ticks\":\"\"},\"type\":\"contourcarpet\"}],\"contour\":[{\"colorbar\":{\"outlinewidth\":0,\"ticks\":\"\"},\"colorscale\":[[0.0,\"#0d0887\"],[0.1111111111111111,\"#46039f\"],[0.2222222222222222,\"#7201a8\"],[0.3333333333333333,\"#9c179e\"],[0.4444444444444444,\"#bd3786\"],[0.5555555555555556,\"#d8576b\"],[0.6666666666666666,\"#ed7953\"],[0.7777777777777778,\"#fb9f3a\"],[0.8888888888888888,\"#fdca26\"],[1.0,\"#f0f921\"]],\"type\":\"contour\"}],\"heatmapgl\":[{\"colorbar\":{\"outlinewidth\":0,\"ticks\":\"\"},\"colorscale\":[[0.0,\"#0d0887\"],[0.1111111111111111,\"#46039f\"],[0.2222222222222222,\"#7201a8\"],[0.3333333333333333,\"#9c179e\"],[0.4444444444444444,\"#bd3786\"],[0.5555555555555556,\"#d8576b\"],[0.6666666666666666,\"#ed7953\"],[0.7777777777777778,\"#fb9f3a\"],[0.8888888888888888,\"#fdca26\"],[1.0,\"#f0f921\"]],\"type\":\"heatmapgl\"}],\"heatmap\":[{\"colorbar\":{\"outlinewidth\":0,\"ticks\":\"\"},\"colorscale\":[[0.0,\"#0d0887\"],[0.1111111111111111,\"#46039f\"],[0.2222222222222222,\"#7201a8\"],[0.3333333333333333,\"#9c179e\"],[0.4444444444444444,\"#bd3786\"],[0.5555555555555556,\"#d8576b\"],[0.6666666666666666,\"#ed7953\"],[0.7777777777777778,\"#fb9f3a\"],[0.8888888888888888,\"#fdca26\"],[1.0,\"#f0f921\"]],\"type\":\"heatmap\"}],\"histogram2dcontour\":[{\"colorbar\":{\"outlinewidth\":0,\"ticks\":\"\"},\"colorscale\":[[0.0,\"#0d0887\"],[0.1111111111111111,\"#46039f\"],[0.2222222222222222,\"#7201a8\"],[0.3333333333333333,\"#9c179e\"],[0.4444444444444444,\"#bd3786\"],[0.5555555555555556,\"#d8576b\"],[0.6666666666666666,\"#ed7953\"],[0.7777777777777778,\"#fb9f3a\"],[0.8888888888888888,\"#fdca26\"],[1.0,\"#f0f921\"]],\"type\":\"histogram2dcontour\"}],\"histogram2d\":[{\"colorbar\":{\"outlinewidth\":0,\"ticks\":\"\"},\"colorscale\":[[0.0,\"#0d0887\"],[0.1111111111111111,\"#46039f\"],[0.2222222222222222,\"#7201a8\"],[0.3333333333333333,\"#9c179e\"],[0.4444444444444444,\"#bd3786\"],[0.5555555555555556,\"#d8576b\"],[0.6666666666666666,\"#ed7953\"],[0.7777777777777778,\"#fb9f3a\"],[0.8888888888888888,\"#fdca26\"],[1.0,\"#f0f921\"]],\"type\":\"histogram2d\"}],\"histogram\":[{\"marker\":{\"pattern\":{\"fillmode\":\"overlay\",\"size\":10,\"solidity\":0.2}},\"type\":\"histogram\"}],\"mesh3d\":[{\"colorbar\":{\"outlinewidth\":0,\"ticks\":\"\"},\"type\":\"mesh3d\"}],\"parcoords\":[{\"line\":{\"colorbar\":{\"outlinewidth\":0,\"ticks\":\"\"}},\"type\":\"parcoords\"}],\"pie\":[{\"automargin\":true,\"type\":\"pie\"}],\"scatter3d\":[{\"line\":{\"colorbar\":{\"outlinewidth\":0,\"ticks\":\"\"}},\"marker\":{\"colorbar\":{\"outlinewidth\":0,\"ticks\":\"\"}},\"type\":\"scatter3d\"}],\"scattercarpet\":[{\"marker\":{\"colorbar\":{\"outlinewidth\":0,\"ticks\":\"\"}},\"type\":\"scattercarpet\"}],\"scattergeo\":[{\"marker\":{\"colorbar\":{\"outlinewidth\":0,\"ticks\":\"\"}},\"type\":\"scattergeo\"}],\"scattergl\":[{\"marker\":{\"colorbar\":{\"outlinewidth\":0,\"ticks\":\"\"}},\"type\":\"scattergl\"}],\"scattermapbox\":[{\"marker\":{\"colorbar\":{\"outlinewidth\":0,\"ticks\":\"\"}},\"type\":\"scattermapbox\"}],\"scatterpolargl\":[{\"marker\":{\"colorbar\":{\"outlinewidth\":0,\"ticks\":\"\"}},\"type\":\"scatterpolargl\"}],\"scatterpolar\":[{\"marker\":{\"colorbar\":{\"outlinewidth\":0,\"ticks\":\"\"}},\"type\":\"scatterpolar\"}],\"scatter\":[{\"fillpattern\":{\"fillmode\":\"overlay\",\"size\":10,\"solidity\":0.2},\"type\":\"scatter\"}],\"scatterternary\":[{\"marker\":{\"colorbar\":{\"outlinewidth\":0,\"ticks\":\"\"}},\"type\":\"scatterternary\"}],\"surface\":[{\"colorbar\":{\"outlinewidth\":0,\"ticks\":\"\"},\"colorscale\":[[0.0,\"#0d0887\"],[0.1111111111111111,\"#46039f\"],[0.2222222222222222,\"#7201a8\"],[0.3333333333333333,\"#9c179e\"],[0.4444444444444444,\"#bd3786\"],[0.5555555555555556,\"#d8576b\"],[0.6666666666666666,\"#ed7953\"],[0.7777777777777778,\"#fb9f3a\"],[0.8888888888888888,\"#fdca26\"],[1.0,\"#f0f921\"]],\"type\":\"surface\"}],\"table\":[{\"cells\":{\"fill\":{\"color\":\"#EBF0F8\"},\"line\":{\"color\":\"white\"}},\"header\":{\"fill\":{\"color\":\"#C8D4E3\"},\"line\":{\"color\":\"white\"}},\"type\":\"table\"}]},\"layout\":{\"annotationdefaults\":{\"arrowcolor\":\"#2a3f5f\",\"arrowhead\":0,\"arrowwidth\":1},\"autotypenumbers\":\"strict\",\"coloraxis\":{\"colorbar\":{\"outlinewidth\":0,\"ticks\":\"\"}},\"colorscale\":{\"diverging\":[[0,\"#8e0152\"],[0.1,\"#c51b7d\"],[0.2,\"#de77ae\"],[0.3,\"#f1b6da\"],[0.4,\"#fde0ef\"],[0.5,\"#f7f7f7\"],[0.6,\"#e6f5d0\"],[0.7,\"#b8e186\"],[0.8,\"#7fbc41\"],[0.9,\"#4d9221\"],[1,\"#276419\"]],\"sequential\":[[0.0,\"#0d0887\"],[0.1111111111111111,\"#46039f\"],[0.2222222222222222,\"#7201a8\"],[0.3333333333333333,\"#9c179e\"],[0.4444444444444444,\"#bd3786\"],[0.5555555555555556,\"#d8576b\"],[0.6666666666666666,\"#ed7953\"],[0.7777777777777778,\"#fb9f3a\"],[0.8888888888888888,\"#fdca26\"],[1.0,\"#f0f921\"]],\"sequentialminus\":[[0.0,\"#0d0887\"],[0.1111111111111111,\"#46039f\"],[0.2222222222222222,\"#7201a8\"],[0.3333333333333333,\"#9c179e\"],[0.4444444444444444,\"#bd3786\"],[0.5555555555555556,\"#d8576b\"],[0.6666666666666666,\"#ed7953\"],[0.7777777777777778,\"#fb9f3a\"],[0.8888888888888888,\"#fdca26\"],[1.0,\"#f0f921\"]]},\"colorway\":[\"#636efa\",\"#EF553B\",\"#00cc96\",\"#ab63fa\",\"#FFA15A\",\"#19d3f3\",\"#FF6692\",\"#B6E880\",\"#FF97FF\",\"#FECB52\"],\"font\":{\"color\":\"#2a3f5f\"},\"geo\":{\"bgcolor\":\"white\",\"lakecolor\":\"white\",\"landcolor\":\"white\",\"showlakes\":true,\"showland\":true,\"subunitcolor\":\"#C8D4E3\"},\"hoverlabel\":{\"align\":\"left\"},\"hovermode\":\"closest\",\"mapbox\":{\"style\":\"light\"},\"paper_bgcolor\":\"white\",\"plot_bgcolor\":\"white\",\"polar\":{\"angularaxis\":{\"gridcolor\":\"#EBF0F8\",\"linecolor\":\"#EBF0F8\",\"ticks\":\"\"},\"bgcolor\":\"white\",\"radialaxis\":{\"gridcolor\":\"#EBF0F8\",\"linecolor\":\"#EBF0F8\",\"ticks\":\"\"}},\"scene\":{\"xaxis\":{\"backgroundcolor\":\"white\",\"gridcolor\":\"#DFE8F3\",\"gridwidth\":2,\"linecolor\":\"#EBF0F8\",\"showbackground\":true,\"ticks\":\"\",\"zerolinecolor\":\"#EBF0F8\"},\"yaxis\":{\"backgroundcolor\":\"white\",\"gridcolor\":\"#DFE8F3\",\"gridwidth\":2,\"linecolor\":\"#EBF0F8\",\"showbackground\":true,\"ticks\":\"\",\"zerolinecolor\":\"#EBF0F8\"},\"zaxis\":{\"backgroundcolor\":\"white\",\"gridcolor\":\"#DFE8F3\",\"gridwidth\":2,\"linecolor\":\"#EBF0F8\",\"showbackground\":true,\"ticks\":\"\",\"zerolinecolor\":\"#EBF0F8\"}},\"shapedefaults\":{\"line\":{\"color\":\"#2a3f5f\"}},\"ternary\":{\"aaxis\":{\"gridcolor\":\"#DFE8F3\",\"linecolor\":\"#A2B1C6\",\"ticks\":\"\"},\"baxis\":{\"gridcolor\":\"#DFE8F3\",\"linecolor\":\"#A2B1C6\",\"ticks\":\"\"},\"bgcolor\":\"white\",\"caxis\":{\"gridcolor\":\"#DFE8F3\",\"linecolor\":\"#A2B1C6\",\"ticks\":\"\"}},\"title\":{\"x\":0.05},\"xaxis\":{\"automargin\":true,\"gridcolor\":\"#EBF0F8\",\"linecolor\":\"#EBF0F8\",\"ticks\":\"\",\"title\":{\"standoff\":15},\"zerolinecolor\":\"#EBF0F8\",\"zerolinewidth\":2},\"yaxis\":{\"automargin\":true,\"gridcolor\":\"#EBF0F8\",\"linecolor\":\"#EBF0F8\",\"ticks\":\"\",\"title\":{\"standoff\":15},\"zerolinecolor\":\"#EBF0F8\",\"zerolinewidth\":2}}},\"title\":{\"font\":{\"size\":22,\"color\":\"Black\"},\"text\":\"\\u003cb\\u003eHierarchical Clustering\\u003c\\u002fb\\u003e\",\"x\":0.5,\"xanchor\":\"center\",\"yanchor\":\"top\"},\"hoverlabel\":{\"font\":{\"size\":16,\"family\":\"Rockwell\"},\"bgcolor\":\"white\"},\"plot_bgcolor\":\"#ECEFF1\"},                        {\"responsive\": true}                    ).then(function(){\n",
       "                            \n",
       "var gd = document.getElementById('a4a28624-87cd-4ecf-b5be-31f63c743c61');\n",
       "var x = new MutationObserver(function (mutations, observer) {{\n",
       "        var display = window.getComputedStyle(gd).display;\n",
       "        if (!display || display === 'none') {{\n",
       "            console.log([gd, 'removed!']);\n",
       "            Plotly.purge(gd);\n",
       "            observer.disconnect();\n",
       "        }}\n",
       "}});\n",
       "\n",
       "// Listen for the removal of the full notebook cells\n",
       "var notebookContainer = gd.closest('#notebook-container');\n",
       "if (notebookContainer) {{\n",
       "    x.observe(notebookContainer, {childList: true});\n",
       "}}\n",
       "\n",
       "// Listen for the clearing of the current output cell\n",
       "var outputEl = gd.closest('.output');\n",
       "if (outputEl) {{\n",
       "    x.observe(outputEl, {childList: true});\n",
       "}}\n",
       "\n",
       "                        })                };                });            </script>        </div>"
      ]
     },
     "metadata": {},
     "output_type": "display_data"
    }
   ],
   "source": [
    "topic_model.visualize_hierarchy(top_n_topics=20)"
   ]
  },
  {
   "cell_type": "code",
   "execution_count": 48,
   "metadata": {
    "id": "reppjdxIEOxG"
   },
   "outputs": [
    {
     "data": {
      "application/vnd.plotly.v1+json": {
       "config": {
        "plotlyServerURL": "https://plot.ly"
       },
       "data": [
        {
         "marker": {
          "color": "#D55E00"
         },
         "orientation": "h",
         "type": "bar",
         "x": [
          0.041474189062985334,
          0.04253086759361577,
          0.04279089517462236,
          0.06693865291331412,
          0.10787852887158864
         ],
         "xaxis": "x",
         "y": [
          "psychological  ",
          "health  ",
          "burnout  ",
          "pandemic  ",
          "covid19  "
         ],
         "yaxis": "y"
        },
        {
         "marker": {
          "color": "#0072B2"
         },
         "orientation": "h",
         "type": "bar",
         "x": [
          0.051944405223669506,
          0.05407995487521133,
          0.06143010026791974,
          0.06307331981856185,
          0.0680190184450454
         ],
         "xaxis": "x2",
         "y": [
          "postural  ",
          "vestibular  ",
          "body  ",
          "perception  ",
          "touch  "
         ],
         "yaxis": "y2"
        },
        {
         "marker": {
          "color": "#CC79A7"
         },
         "orientation": "h",
         "type": "bar",
         "x": [
          0.03465374790767663,
          0.03736287117970603,
          0.041588593999706935,
          0.04219850005211324,
          0.0674811793962802
         ],
         "xaxis": "x3",
         "y": [
          "humanization  ",
          "identity  ",
          "ingroup  ",
          "social  ",
          "intergroup  "
         ],
         "yaxis": "y3"
        },
        {
         "marker": {
          "color": "#E69F00"
         },
         "orientation": "h",
         "type": "bar",
         "x": [
          0.03507974539276389,
          0.037463608214858925,
          0.05205026319344041,
          0.05967680738093186,
          0.09000737073619759
         ],
         "xaxis": "x4",
         "y": [
          "study  ",
          "life  ",
          "depression  ",
          "coping  ",
          "stress  "
         ],
         "yaxis": "y4"
        },
        {
         "marker": {
          "color": "#56B4E9"
         },
         "orientation": "h",
         "type": "bar",
         "x": [
          0.06543868374864281,
          0.08179835468580351,
          0.09291577889986426,
          0.10395314834097807,
          0.12521173541753022
         ],
         "xaxis": "x5",
         "y": [
          "coordination  ",
          "reciprocity  ",
          "games  ",
          "game  ",
          "cooperation  "
         ],
         "yaxis": "y5"
        },
        {
         "marker": {
          "color": "#009E73"
         },
         "orientation": "h",
         "type": "bar",
         "x": [
          0.046381083327652554,
          0.0750105203409647,
          0.07741525545723085,
          0.08019709391849462,
          0.0850330534146942
         ],
         "xaxis": "x6",
         "y": [
          "implant  ",
          "audiovisual  ",
          "speech  ",
          "hearing  ",
          "auditory  "
         ],
         "yaxis": "y6"
        },
        {
         "marker": {
          "color": "#F0E442"
         },
         "orientation": "h",
         "type": "bar",
         "x": [
          0.048847997781367204,
          0.05894197722834661,
          0.05911644906401325,
          0.07327199667205081,
          0.09989900547193234
         ],
         "xaxis": "x7",
         "y": [
          "sport  ",
          "elite  ",
          "performance  ",
          "soccer  ",
          "players  "
         ],
         "yaxis": "y7"
        },
        {
         "marker": {
          "color": "#D55E00"
         },
         "orientation": "h",
         "type": "bar",
         "x": [
          0.05499372759420693,
          0.05576959479803789,
          0.06886740858744807,
          0.08587487589656269,
          0.10603813314122425
         ],
         "xaxis": "x8",
         "y": [
          "processing  ",
          "faces  ",
          "emotion  ",
          "emotional  ",
          "facial  "
         ],
         "yaxis": "y8"
        },
        {
         "marker": {
          "color": "#0072B2"
         },
         "orientation": "h",
         "type": "bar",
         "x": [
          0.03891219941607432,
          0.04051196619646009,
          0.05401595492861344,
          0.05663202646498254,
          0.0675199436607668
         ],
         "xaxis": "x9",
         "y": [
          "birds  ",
          "species  ",
          "vocal  ",
          "conservation  ",
          "breeding  "
         ],
         "yaxis": "y9"
        },
        {
         "marker": {
          "color": "#CC79A7"
         },
         "orientation": "h",
         "type": "bar",
         "x": [
          0.05328032908328213,
          0.05375048834224624,
          0.05530436046474107,
          0.05919453436369665,
          0.0829565406971116
         ],
         "xaxis": "x10",
         "y": [
          "english  ",
          "children  ",
          "chinese  ",
          "lexical  ",
          "language  "
         ],
         "yaxis": "y10"
        }
       ],
       "layout": {
        "annotations": [
         {
          "font": {
           "size": 16
          },
          "showarrow": false,
          "text": "Topic 0",
          "x": 0.0875,
          "xanchor": "center",
          "xref": "paper",
          "y": 1,
          "yanchor": "bottom",
          "yref": "paper"
         },
         {
          "font": {
           "size": 16
          },
          "showarrow": false,
          "text": "Topic 1",
          "x": 0.36250000000000004,
          "xanchor": "center",
          "xref": "paper",
          "y": 1,
          "yanchor": "bottom",
          "yref": "paper"
         },
         {
          "font": {
           "size": 16
          },
          "showarrow": false,
          "text": "Topic 2",
          "x": 0.6375000000000001,
          "xanchor": "center",
          "xref": "paper",
          "y": 1,
          "yanchor": "bottom",
          "yref": "paper"
         },
         {
          "font": {
           "size": 16
          },
          "showarrow": false,
          "text": "Topic 3",
          "x": 0.9125,
          "xanchor": "center",
          "xref": "paper",
          "y": 1,
          "yanchor": "bottom",
          "yref": "paper"
         },
         {
          "font": {
           "size": 16
          },
          "showarrow": false,
          "text": "Topic 4",
          "x": 0.0875,
          "xanchor": "center",
          "xref": "paper",
          "y": 0.6222222222222222,
          "yanchor": "bottom",
          "yref": "paper"
         },
         {
          "font": {
           "size": 16
          },
          "showarrow": false,
          "text": "Topic 5",
          "x": 0.36250000000000004,
          "xanchor": "center",
          "xref": "paper",
          "y": 0.6222222222222222,
          "yanchor": "bottom",
          "yref": "paper"
         },
         {
          "font": {
           "size": 16
          },
          "showarrow": false,
          "text": "Topic 6",
          "x": 0.6375000000000001,
          "xanchor": "center",
          "xref": "paper",
          "y": 0.6222222222222222,
          "yanchor": "bottom",
          "yref": "paper"
         },
         {
          "font": {
           "size": 16
          },
          "showarrow": false,
          "text": "Topic 7",
          "x": 0.9125,
          "xanchor": "center",
          "xref": "paper",
          "y": 0.6222222222222222,
          "yanchor": "bottom",
          "yref": "paper"
         },
         {
          "font": {
           "size": 16
          },
          "showarrow": false,
          "text": "Topic 8",
          "x": 0.0875,
          "xanchor": "center",
          "xref": "paper",
          "y": 0.24444444444444446,
          "yanchor": "bottom",
          "yref": "paper"
         },
         {
          "font": {
           "size": 16
          },
          "showarrow": false,
          "text": "Topic 9",
          "x": 0.36250000000000004,
          "xanchor": "center",
          "xref": "paper",
          "y": 0.24444444444444446,
          "yanchor": "bottom",
          "yref": "paper"
         }
        ],
        "height": 750,
        "hoverlabel": {
         "bgcolor": "white",
         "font": {
          "family": "Rockwell",
          "size": 16
         }
        },
        "showlegend": false,
        "template": {
         "data": {
          "bar": [
           {
            "error_x": {
             "color": "#2a3f5f"
            },
            "error_y": {
             "color": "#2a3f5f"
            },
            "marker": {
             "line": {
              "color": "white",
              "width": 0.5
             },
             "pattern": {
              "fillmode": "overlay",
              "size": 10,
              "solidity": 0.2
             }
            },
            "type": "bar"
           }
          ],
          "barpolar": [
           {
            "marker": {
             "line": {
              "color": "white",
              "width": 0.5
             },
             "pattern": {
              "fillmode": "overlay",
              "size": 10,
              "solidity": 0.2
             }
            },
            "type": "barpolar"
           }
          ],
          "carpet": [
           {
            "aaxis": {
             "endlinecolor": "#2a3f5f",
             "gridcolor": "#C8D4E3",
             "linecolor": "#C8D4E3",
             "minorgridcolor": "#C8D4E3",
             "startlinecolor": "#2a3f5f"
            },
            "baxis": {
             "endlinecolor": "#2a3f5f",
             "gridcolor": "#C8D4E3",
             "linecolor": "#C8D4E3",
             "minorgridcolor": "#C8D4E3",
             "startlinecolor": "#2a3f5f"
            },
            "type": "carpet"
           }
          ],
          "choropleth": [
           {
            "colorbar": {
             "outlinewidth": 0,
             "ticks": ""
            },
            "type": "choropleth"
           }
          ],
          "contour": [
           {
            "colorbar": {
             "outlinewidth": 0,
             "ticks": ""
            },
            "colorscale": [
             [
              0,
              "#0d0887"
             ],
             [
              0.1111111111111111,
              "#46039f"
             ],
             [
              0.2222222222222222,
              "#7201a8"
             ],
             [
              0.3333333333333333,
              "#9c179e"
             ],
             [
              0.4444444444444444,
              "#bd3786"
             ],
             [
              0.5555555555555556,
              "#d8576b"
             ],
             [
              0.6666666666666666,
              "#ed7953"
             ],
             [
              0.7777777777777778,
              "#fb9f3a"
             ],
             [
              0.8888888888888888,
              "#fdca26"
             ],
             [
              1,
              "#f0f921"
             ]
            ],
            "type": "contour"
           }
          ],
          "contourcarpet": [
           {
            "colorbar": {
             "outlinewidth": 0,
             "ticks": ""
            },
            "type": "contourcarpet"
           }
          ],
          "heatmap": [
           {
            "colorbar": {
             "outlinewidth": 0,
             "ticks": ""
            },
            "colorscale": [
             [
              0,
              "#0d0887"
             ],
             [
              0.1111111111111111,
              "#46039f"
             ],
             [
              0.2222222222222222,
              "#7201a8"
             ],
             [
              0.3333333333333333,
              "#9c179e"
             ],
             [
              0.4444444444444444,
              "#bd3786"
             ],
             [
              0.5555555555555556,
              "#d8576b"
             ],
             [
              0.6666666666666666,
              "#ed7953"
             ],
             [
              0.7777777777777778,
              "#fb9f3a"
             ],
             [
              0.8888888888888888,
              "#fdca26"
             ],
             [
              1,
              "#f0f921"
             ]
            ],
            "type": "heatmap"
           }
          ],
          "heatmapgl": [
           {
            "colorbar": {
             "outlinewidth": 0,
             "ticks": ""
            },
            "colorscale": [
             [
              0,
              "#0d0887"
             ],
             [
              0.1111111111111111,
              "#46039f"
             ],
             [
              0.2222222222222222,
              "#7201a8"
             ],
             [
              0.3333333333333333,
              "#9c179e"
             ],
             [
              0.4444444444444444,
              "#bd3786"
             ],
             [
              0.5555555555555556,
              "#d8576b"
             ],
             [
              0.6666666666666666,
              "#ed7953"
             ],
             [
              0.7777777777777778,
              "#fb9f3a"
             ],
             [
              0.8888888888888888,
              "#fdca26"
             ],
             [
              1,
              "#f0f921"
             ]
            ],
            "type": "heatmapgl"
           }
          ],
          "histogram": [
           {
            "marker": {
             "pattern": {
              "fillmode": "overlay",
              "size": 10,
              "solidity": 0.2
             }
            },
            "type": "histogram"
           }
          ],
          "histogram2d": [
           {
            "colorbar": {
             "outlinewidth": 0,
             "ticks": ""
            },
            "colorscale": [
             [
              0,
              "#0d0887"
             ],
             [
              0.1111111111111111,
              "#46039f"
             ],
             [
              0.2222222222222222,
              "#7201a8"
             ],
             [
              0.3333333333333333,
              "#9c179e"
             ],
             [
              0.4444444444444444,
              "#bd3786"
             ],
             [
              0.5555555555555556,
              "#d8576b"
             ],
             [
              0.6666666666666666,
              "#ed7953"
             ],
             [
              0.7777777777777778,
              "#fb9f3a"
             ],
             [
              0.8888888888888888,
              "#fdca26"
             ],
             [
              1,
              "#f0f921"
             ]
            ],
            "type": "histogram2d"
           }
          ],
          "histogram2dcontour": [
           {
            "colorbar": {
             "outlinewidth": 0,
             "ticks": ""
            },
            "colorscale": [
             [
              0,
              "#0d0887"
             ],
             [
              0.1111111111111111,
              "#46039f"
             ],
             [
              0.2222222222222222,
              "#7201a8"
             ],
             [
              0.3333333333333333,
              "#9c179e"
             ],
             [
              0.4444444444444444,
              "#bd3786"
             ],
             [
              0.5555555555555556,
              "#d8576b"
             ],
             [
              0.6666666666666666,
              "#ed7953"
             ],
             [
              0.7777777777777778,
              "#fb9f3a"
             ],
             [
              0.8888888888888888,
              "#fdca26"
             ],
             [
              1,
              "#f0f921"
             ]
            ],
            "type": "histogram2dcontour"
           }
          ],
          "mesh3d": [
           {
            "colorbar": {
             "outlinewidth": 0,
             "ticks": ""
            },
            "type": "mesh3d"
           }
          ],
          "parcoords": [
           {
            "line": {
             "colorbar": {
              "outlinewidth": 0,
              "ticks": ""
             }
            },
            "type": "parcoords"
           }
          ],
          "pie": [
           {
            "automargin": true,
            "type": "pie"
           }
          ],
          "scatter": [
           {
            "fillpattern": {
             "fillmode": "overlay",
             "size": 10,
             "solidity": 0.2
            },
            "type": "scatter"
           }
          ],
          "scatter3d": [
           {
            "line": {
             "colorbar": {
              "outlinewidth": 0,
              "ticks": ""
             }
            },
            "marker": {
             "colorbar": {
              "outlinewidth": 0,
              "ticks": ""
             }
            },
            "type": "scatter3d"
           }
          ],
          "scattercarpet": [
           {
            "marker": {
             "colorbar": {
              "outlinewidth": 0,
              "ticks": ""
             }
            },
            "type": "scattercarpet"
           }
          ],
          "scattergeo": [
           {
            "marker": {
             "colorbar": {
              "outlinewidth": 0,
              "ticks": ""
             }
            },
            "type": "scattergeo"
           }
          ],
          "scattergl": [
           {
            "marker": {
             "colorbar": {
              "outlinewidth": 0,
              "ticks": ""
             }
            },
            "type": "scattergl"
           }
          ],
          "scattermapbox": [
           {
            "marker": {
             "colorbar": {
              "outlinewidth": 0,
              "ticks": ""
             }
            },
            "type": "scattermapbox"
           }
          ],
          "scatterpolar": [
           {
            "marker": {
             "colorbar": {
              "outlinewidth": 0,
              "ticks": ""
             }
            },
            "type": "scatterpolar"
           }
          ],
          "scatterpolargl": [
           {
            "marker": {
             "colorbar": {
              "outlinewidth": 0,
              "ticks": ""
             }
            },
            "type": "scatterpolargl"
           }
          ],
          "scatterternary": [
           {
            "marker": {
             "colorbar": {
              "outlinewidth": 0,
              "ticks": ""
             }
            },
            "type": "scatterternary"
           }
          ],
          "surface": [
           {
            "colorbar": {
             "outlinewidth": 0,
             "ticks": ""
            },
            "colorscale": [
             [
              0,
              "#0d0887"
             ],
             [
              0.1111111111111111,
              "#46039f"
             ],
             [
              0.2222222222222222,
              "#7201a8"
             ],
             [
              0.3333333333333333,
              "#9c179e"
             ],
             [
              0.4444444444444444,
              "#bd3786"
             ],
             [
              0.5555555555555556,
              "#d8576b"
             ],
             [
              0.6666666666666666,
              "#ed7953"
             ],
             [
              0.7777777777777778,
              "#fb9f3a"
             ],
             [
              0.8888888888888888,
              "#fdca26"
             ],
             [
              1,
              "#f0f921"
             ]
            ],
            "type": "surface"
           }
          ],
          "table": [
           {
            "cells": {
             "fill": {
              "color": "#EBF0F8"
             },
             "line": {
              "color": "white"
             }
            },
            "header": {
             "fill": {
              "color": "#C8D4E3"
             },
             "line": {
              "color": "white"
             }
            },
            "type": "table"
           }
          ]
         },
         "layout": {
          "annotationdefaults": {
           "arrowcolor": "#2a3f5f",
           "arrowhead": 0,
           "arrowwidth": 1
          },
          "autotypenumbers": "strict",
          "coloraxis": {
           "colorbar": {
            "outlinewidth": 0,
            "ticks": ""
           }
          },
          "colorscale": {
           "diverging": [
            [
             0,
             "#8e0152"
            ],
            [
             0.1,
             "#c51b7d"
            ],
            [
             0.2,
             "#de77ae"
            ],
            [
             0.3,
             "#f1b6da"
            ],
            [
             0.4,
             "#fde0ef"
            ],
            [
             0.5,
             "#f7f7f7"
            ],
            [
             0.6,
             "#e6f5d0"
            ],
            [
             0.7,
             "#b8e186"
            ],
            [
             0.8,
             "#7fbc41"
            ],
            [
             0.9,
             "#4d9221"
            ],
            [
             1,
             "#276419"
            ]
           ],
           "sequential": [
            [
             0,
             "#0d0887"
            ],
            [
             0.1111111111111111,
             "#46039f"
            ],
            [
             0.2222222222222222,
             "#7201a8"
            ],
            [
             0.3333333333333333,
             "#9c179e"
            ],
            [
             0.4444444444444444,
             "#bd3786"
            ],
            [
             0.5555555555555556,
             "#d8576b"
            ],
            [
             0.6666666666666666,
             "#ed7953"
            ],
            [
             0.7777777777777778,
             "#fb9f3a"
            ],
            [
             0.8888888888888888,
             "#fdca26"
            ],
            [
             1,
             "#f0f921"
            ]
           ],
           "sequentialminus": [
            [
             0,
             "#0d0887"
            ],
            [
             0.1111111111111111,
             "#46039f"
            ],
            [
             0.2222222222222222,
             "#7201a8"
            ],
            [
             0.3333333333333333,
             "#9c179e"
            ],
            [
             0.4444444444444444,
             "#bd3786"
            ],
            [
             0.5555555555555556,
             "#d8576b"
            ],
            [
             0.6666666666666666,
             "#ed7953"
            ],
            [
             0.7777777777777778,
             "#fb9f3a"
            ],
            [
             0.8888888888888888,
             "#fdca26"
            ],
            [
             1,
             "#f0f921"
            ]
           ]
          },
          "colorway": [
           "#636efa",
           "#EF553B",
           "#00cc96",
           "#ab63fa",
           "#FFA15A",
           "#19d3f3",
           "#FF6692",
           "#B6E880",
           "#FF97FF",
           "#FECB52"
          ],
          "font": {
           "color": "#2a3f5f"
          },
          "geo": {
           "bgcolor": "white",
           "lakecolor": "white",
           "landcolor": "white",
           "showlakes": true,
           "showland": true,
           "subunitcolor": "#C8D4E3"
          },
          "hoverlabel": {
           "align": "left"
          },
          "hovermode": "closest",
          "mapbox": {
           "style": "light"
          },
          "paper_bgcolor": "white",
          "plot_bgcolor": "white",
          "polar": {
           "angularaxis": {
            "gridcolor": "#EBF0F8",
            "linecolor": "#EBF0F8",
            "ticks": ""
           },
           "bgcolor": "white",
           "radialaxis": {
            "gridcolor": "#EBF0F8",
            "linecolor": "#EBF0F8",
            "ticks": ""
           }
          },
          "scene": {
           "xaxis": {
            "backgroundcolor": "white",
            "gridcolor": "#DFE8F3",
            "gridwidth": 2,
            "linecolor": "#EBF0F8",
            "showbackground": true,
            "ticks": "",
            "zerolinecolor": "#EBF0F8"
           },
           "yaxis": {
            "backgroundcolor": "white",
            "gridcolor": "#DFE8F3",
            "gridwidth": 2,
            "linecolor": "#EBF0F8",
            "showbackground": true,
            "ticks": "",
            "zerolinecolor": "#EBF0F8"
           },
           "zaxis": {
            "backgroundcolor": "white",
            "gridcolor": "#DFE8F3",
            "gridwidth": 2,
            "linecolor": "#EBF0F8",
            "showbackground": true,
            "ticks": "",
            "zerolinecolor": "#EBF0F8"
           }
          },
          "shapedefaults": {
           "line": {
            "color": "#2a3f5f"
           }
          },
          "ternary": {
           "aaxis": {
            "gridcolor": "#DFE8F3",
            "linecolor": "#A2B1C6",
            "ticks": ""
           },
           "baxis": {
            "gridcolor": "#DFE8F3",
            "linecolor": "#A2B1C6",
            "ticks": ""
           },
           "bgcolor": "white",
           "caxis": {
            "gridcolor": "#DFE8F3",
            "linecolor": "#A2B1C6",
            "ticks": ""
           }
          },
          "title": {
           "x": 0.05
          },
          "xaxis": {
           "automargin": true,
           "gridcolor": "#EBF0F8",
           "linecolor": "#EBF0F8",
           "ticks": "",
           "title": {
            "standoff": 15
           },
           "zerolinecolor": "#EBF0F8",
           "zerolinewidth": 2
          },
          "yaxis": {
           "automargin": true,
           "gridcolor": "#EBF0F8",
           "linecolor": "#EBF0F8",
           "ticks": "",
           "title": {
            "standoff": 15
           },
           "zerolinecolor": "#EBF0F8",
           "zerolinewidth": 2
          }
         }
        },
        "title": {
         "font": {
          "color": "Black",
          "size": 22
         },
         "text": "Topic Word Scores",
         "x": 0.5,
         "xanchor": "center",
         "yanchor": "top"
        },
        "width": 1000,
        "xaxis": {
         "anchor": "y",
         "domain": [
          0,
          0.175
         ],
         "showgrid": true
        },
        "xaxis10": {
         "anchor": "y10",
         "domain": [
          0.275,
          0.45
         ],
         "showgrid": true
        },
        "xaxis11": {
         "anchor": "y11",
         "domain": [
          0.55,
          0.7250000000000001
         ],
         "showgrid": true
        },
        "xaxis12": {
         "anchor": "y12",
         "domain": [
          0.825,
          1
         ],
         "showgrid": true
        },
        "xaxis2": {
         "anchor": "y2",
         "domain": [
          0.275,
          0.45
         ],
         "showgrid": true
        },
        "xaxis3": {
         "anchor": "y3",
         "domain": [
          0.55,
          0.7250000000000001
         ],
         "showgrid": true
        },
        "xaxis4": {
         "anchor": "y4",
         "domain": [
          0.825,
          1
         ],
         "showgrid": true
        },
        "xaxis5": {
         "anchor": "y5",
         "domain": [
          0,
          0.175
         ],
         "showgrid": true
        },
        "xaxis6": {
         "anchor": "y6",
         "domain": [
          0.275,
          0.45
         ],
         "showgrid": true
        },
        "xaxis7": {
         "anchor": "y7",
         "domain": [
          0.55,
          0.7250000000000001
         ],
         "showgrid": true
        },
        "xaxis8": {
         "anchor": "y8",
         "domain": [
          0.825,
          1
         ],
         "showgrid": true
        },
        "xaxis9": {
         "anchor": "y9",
         "domain": [
          0,
          0.175
         ],
         "showgrid": true
        },
        "yaxis": {
         "anchor": "x",
         "domain": [
          0.7555555555555555,
          1
         ],
         "showgrid": true
        },
        "yaxis10": {
         "anchor": "x10",
         "domain": [
          0,
          0.24444444444444446
         ],
         "showgrid": true
        },
        "yaxis11": {
         "anchor": "x11",
         "domain": [
          0,
          0.24444444444444446
         ],
         "showgrid": true
        },
        "yaxis12": {
         "anchor": "x12",
         "domain": [
          0,
          0.24444444444444446
         ],
         "showgrid": true
        },
        "yaxis2": {
         "anchor": "x2",
         "domain": [
          0.7555555555555555,
          1
         ],
         "showgrid": true
        },
        "yaxis3": {
         "anchor": "x3",
         "domain": [
          0.7555555555555555,
          1
         ],
         "showgrid": true
        },
        "yaxis4": {
         "anchor": "x4",
         "domain": [
          0.7555555555555555,
          1
         ],
         "showgrid": true
        },
        "yaxis5": {
         "anchor": "x5",
         "domain": [
          0.37777777777777777,
          0.6222222222222222
         ],
         "showgrid": true
        },
        "yaxis6": {
         "anchor": "x6",
         "domain": [
          0.37777777777777777,
          0.6222222222222222
         ],
         "showgrid": true
        },
        "yaxis7": {
         "anchor": "x7",
         "domain": [
          0.37777777777777777,
          0.6222222222222222
         ],
         "showgrid": true
        },
        "yaxis8": {
         "anchor": "x8",
         "domain": [
          0.37777777777777777,
          0.6222222222222222
         ],
         "showgrid": true
        },
        "yaxis9": {
         "anchor": "x9",
         "domain": [
          0,
          0.24444444444444446
         ],
         "showgrid": true
        }
       }
      },
      "text/html": [
       "<div>                            <div id=\"3bebc5f0-c04b-44d0-b746-ed10e5495dd3\" class=\"plotly-graph-div\" style=\"height:750px; width:1000px;\"></div>            <script type=\"text/javascript\">                require([\"plotly\"], function(Plotly) {                    window.PLOTLYENV=window.PLOTLYENV || {};                                    if (document.getElementById(\"3bebc5f0-c04b-44d0-b746-ed10e5495dd3\")) {                    Plotly.newPlot(                        \"3bebc5f0-c04b-44d0-b746-ed10e5495dd3\",                        [{\"marker\":{\"color\":\"#D55E00\"},\"orientation\":\"h\",\"x\":[0.041474189062985334,0.04253086759361577,0.04279089517462236,0.06693865291331412,0.10787852887158864],\"y\":[\"psychological  \",\"health  \",\"burnout  \",\"pandemic  \",\"covid19  \"],\"type\":\"bar\",\"xaxis\":\"x\",\"yaxis\":\"y\"},{\"marker\":{\"color\":\"#0072B2\"},\"orientation\":\"h\",\"x\":[0.051944405223669506,0.05407995487521133,0.06143010026791974,0.06307331981856185,0.0680190184450454],\"y\":[\"postural  \",\"vestibular  \",\"body  \",\"perception  \",\"touch  \"],\"type\":\"bar\",\"xaxis\":\"x2\",\"yaxis\":\"y2\"},{\"marker\":{\"color\":\"#CC79A7\"},\"orientation\":\"h\",\"x\":[0.03465374790767663,0.03736287117970603,0.041588593999706935,0.04219850005211324,0.0674811793962802],\"y\":[\"humanization  \",\"identity  \",\"ingroup  \",\"social  \",\"intergroup  \"],\"type\":\"bar\",\"xaxis\":\"x3\",\"yaxis\":\"y3\"},{\"marker\":{\"color\":\"#E69F00\"},\"orientation\":\"h\",\"x\":[0.03507974539276389,0.037463608214858925,0.05205026319344041,0.05967680738093186,0.09000737073619759],\"y\":[\"study  \",\"life  \",\"depression  \",\"coping  \",\"stress  \"],\"type\":\"bar\",\"xaxis\":\"x4\",\"yaxis\":\"y4\"},{\"marker\":{\"color\":\"#56B4E9\"},\"orientation\":\"h\",\"x\":[0.06543868374864281,0.08179835468580351,0.09291577889986426,0.10395314834097807,0.12521173541753022],\"y\":[\"coordination  \",\"reciprocity  \",\"games  \",\"game  \",\"cooperation  \"],\"type\":\"bar\",\"xaxis\":\"x5\",\"yaxis\":\"y5\"},{\"marker\":{\"color\":\"#009E73\"},\"orientation\":\"h\",\"x\":[0.046381083327652554,0.0750105203409647,0.07741525545723085,0.08019709391849462,0.0850330534146942],\"y\":[\"implant  \",\"audiovisual  \",\"speech  \",\"hearing  \",\"auditory  \"],\"type\":\"bar\",\"xaxis\":\"x6\",\"yaxis\":\"y6\"},{\"marker\":{\"color\":\"#F0E442\"},\"orientation\":\"h\",\"x\":[0.048847997781367204,0.05894197722834661,0.05911644906401325,0.07327199667205081,0.09989900547193234],\"y\":[\"sport  \",\"elite  \",\"performance  \",\"soccer  \",\"players  \"],\"type\":\"bar\",\"xaxis\":\"x7\",\"yaxis\":\"y7\"},{\"marker\":{\"color\":\"#D55E00\"},\"orientation\":\"h\",\"x\":[0.05499372759420693,0.05576959479803789,0.06886740858744807,0.08587487589656269,0.10603813314122425],\"y\":[\"processing  \",\"faces  \",\"emotion  \",\"emotional  \",\"facial  \"],\"type\":\"bar\",\"xaxis\":\"x8\",\"yaxis\":\"y8\"},{\"marker\":{\"color\":\"#0072B2\"},\"orientation\":\"h\",\"x\":[0.03891219941607432,0.04051196619646009,0.05401595492861344,0.05663202646498254,0.0675199436607668],\"y\":[\"birds  \",\"species  \",\"vocal  \",\"conservation  \",\"breeding  \"],\"type\":\"bar\",\"xaxis\":\"x9\",\"yaxis\":\"y9\"},{\"marker\":{\"color\":\"#CC79A7\"},\"orientation\":\"h\",\"x\":[0.05328032908328213,0.05375048834224624,0.05530436046474107,0.05919453436369665,0.0829565406971116],\"y\":[\"english  \",\"children  \",\"chinese  \",\"lexical  \",\"language  \"],\"type\":\"bar\",\"xaxis\":\"x10\",\"yaxis\":\"y10\"}],                        {\"template\":{\"data\":{\"barpolar\":[{\"marker\":{\"line\":{\"color\":\"white\",\"width\":0.5},\"pattern\":{\"fillmode\":\"overlay\",\"size\":10,\"solidity\":0.2}},\"type\":\"barpolar\"}],\"bar\":[{\"error_x\":{\"color\":\"#2a3f5f\"},\"error_y\":{\"color\":\"#2a3f5f\"},\"marker\":{\"line\":{\"color\":\"white\",\"width\":0.5},\"pattern\":{\"fillmode\":\"overlay\",\"size\":10,\"solidity\":0.2}},\"type\":\"bar\"}],\"carpet\":[{\"aaxis\":{\"endlinecolor\":\"#2a3f5f\",\"gridcolor\":\"#C8D4E3\",\"linecolor\":\"#C8D4E3\",\"minorgridcolor\":\"#C8D4E3\",\"startlinecolor\":\"#2a3f5f\"},\"baxis\":{\"endlinecolor\":\"#2a3f5f\",\"gridcolor\":\"#C8D4E3\",\"linecolor\":\"#C8D4E3\",\"minorgridcolor\":\"#C8D4E3\",\"startlinecolor\":\"#2a3f5f\"},\"type\":\"carpet\"}],\"choropleth\":[{\"colorbar\":{\"outlinewidth\":0,\"ticks\":\"\"},\"type\":\"choropleth\"}],\"contourcarpet\":[{\"colorbar\":{\"outlinewidth\":0,\"ticks\":\"\"},\"type\":\"contourcarpet\"}],\"contour\":[{\"colorbar\":{\"outlinewidth\":0,\"ticks\":\"\"},\"colorscale\":[[0.0,\"#0d0887\"],[0.1111111111111111,\"#46039f\"],[0.2222222222222222,\"#7201a8\"],[0.3333333333333333,\"#9c179e\"],[0.4444444444444444,\"#bd3786\"],[0.5555555555555556,\"#d8576b\"],[0.6666666666666666,\"#ed7953\"],[0.7777777777777778,\"#fb9f3a\"],[0.8888888888888888,\"#fdca26\"],[1.0,\"#f0f921\"]],\"type\":\"contour\"}],\"heatmapgl\":[{\"colorbar\":{\"outlinewidth\":0,\"ticks\":\"\"},\"colorscale\":[[0.0,\"#0d0887\"],[0.1111111111111111,\"#46039f\"],[0.2222222222222222,\"#7201a8\"],[0.3333333333333333,\"#9c179e\"],[0.4444444444444444,\"#bd3786\"],[0.5555555555555556,\"#d8576b\"],[0.6666666666666666,\"#ed7953\"],[0.7777777777777778,\"#fb9f3a\"],[0.8888888888888888,\"#fdca26\"],[1.0,\"#f0f921\"]],\"type\":\"heatmapgl\"}],\"heatmap\":[{\"colorbar\":{\"outlinewidth\":0,\"ticks\":\"\"},\"colorscale\":[[0.0,\"#0d0887\"],[0.1111111111111111,\"#46039f\"],[0.2222222222222222,\"#7201a8\"],[0.3333333333333333,\"#9c179e\"],[0.4444444444444444,\"#bd3786\"],[0.5555555555555556,\"#d8576b\"],[0.6666666666666666,\"#ed7953\"],[0.7777777777777778,\"#fb9f3a\"],[0.8888888888888888,\"#fdca26\"],[1.0,\"#f0f921\"]],\"type\":\"heatmap\"}],\"histogram2dcontour\":[{\"colorbar\":{\"outlinewidth\":0,\"ticks\":\"\"},\"colorscale\":[[0.0,\"#0d0887\"],[0.1111111111111111,\"#46039f\"],[0.2222222222222222,\"#7201a8\"],[0.3333333333333333,\"#9c179e\"],[0.4444444444444444,\"#bd3786\"],[0.5555555555555556,\"#d8576b\"],[0.6666666666666666,\"#ed7953\"],[0.7777777777777778,\"#fb9f3a\"],[0.8888888888888888,\"#fdca26\"],[1.0,\"#f0f921\"]],\"type\":\"histogram2dcontour\"}],\"histogram2d\":[{\"colorbar\":{\"outlinewidth\":0,\"ticks\":\"\"},\"colorscale\":[[0.0,\"#0d0887\"],[0.1111111111111111,\"#46039f\"],[0.2222222222222222,\"#7201a8\"],[0.3333333333333333,\"#9c179e\"],[0.4444444444444444,\"#bd3786\"],[0.5555555555555556,\"#d8576b\"],[0.6666666666666666,\"#ed7953\"],[0.7777777777777778,\"#fb9f3a\"],[0.8888888888888888,\"#fdca26\"],[1.0,\"#f0f921\"]],\"type\":\"histogram2d\"}],\"histogram\":[{\"marker\":{\"pattern\":{\"fillmode\":\"overlay\",\"size\":10,\"solidity\":0.2}},\"type\":\"histogram\"}],\"mesh3d\":[{\"colorbar\":{\"outlinewidth\":0,\"ticks\":\"\"},\"type\":\"mesh3d\"}],\"parcoords\":[{\"line\":{\"colorbar\":{\"outlinewidth\":0,\"ticks\":\"\"}},\"type\":\"parcoords\"}],\"pie\":[{\"automargin\":true,\"type\":\"pie\"}],\"scatter3d\":[{\"line\":{\"colorbar\":{\"outlinewidth\":0,\"ticks\":\"\"}},\"marker\":{\"colorbar\":{\"outlinewidth\":0,\"ticks\":\"\"}},\"type\":\"scatter3d\"}],\"scattercarpet\":[{\"marker\":{\"colorbar\":{\"outlinewidth\":0,\"ticks\":\"\"}},\"type\":\"scattercarpet\"}],\"scattergeo\":[{\"marker\":{\"colorbar\":{\"outlinewidth\":0,\"ticks\":\"\"}},\"type\":\"scattergeo\"}],\"scattergl\":[{\"marker\":{\"colorbar\":{\"outlinewidth\":0,\"ticks\":\"\"}},\"type\":\"scattergl\"}],\"scattermapbox\":[{\"marker\":{\"colorbar\":{\"outlinewidth\":0,\"ticks\":\"\"}},\"type\":\"scattermapbox\"}],\"scatterpolargl\":[{\"marker\":{\"colorbar\":{\"outlinewidth\":0,\"ticks\":\"\"}},\"type\":\"scatterpolargl\"}],\"scatterpolar\":[{\"marker\":{\"colorbar\":{\"outlinewidth\":0,\"ticks\":\"\"}},\"type\":\"scatterpolar\"}],\"scatter\":[{\"fillpattern\":{\"fillmode\":\"overlay\",\"size\":10,\"solidity\":0.2},\"type\":\"scatter\"}],\"scatterternary\":[{\"marker\":{\"colorbar\":{\"outlinewidth\":0,\"ticks\":\"\"}},\"type\":\"scatterternary\"}],\"surface\":[{\"colorbar\":{\"outlinewidth\":0,\"ticks\":\"\"},\"colorscale\":[[0.0,\"#0d0887\"],[0.1111111111111111,\"#46039f\"],[0.2222222222222222,\"#7201a8\"],[0.3333333333333333,\"#9c179e\"],[0.4444444444444444,\"#bd3786\"],[0.5555555555555556,\"#d8576b\"],[0.6666666666666666,\"#ed7953\"],[0.7777777777777778,\"#fb9f3a\"],[0.8888888888888888,\"#fdca26\"],[1.0,\"#f0f921\"]],\"type\":\"surface\"}],\"table\":[{\"cells\":{\"fill\":{\"color\":\"#EBF0F8\"},\"line\":{\"color\":\"white\"}},\"header\":{\"fill\":{\"color\":\"#C8D4E3\"},\"line\":{\"color\":\"white\"}},\"type\":\"table\"}]},\"layout\":{\"annotationdefaults\":{\"arrowcolor\":\"#2a3f5f\",\"arrowhead\":0,\"arrowwidth\":1},\"autotypenumbers\":\"strict\",\"coloraxis\":{\"colorbar\":{\"outlinewidth\":0,\"ticks\":\"\"}},\"colorscale\":{\"diverging\":[[0,\"#8e0152\"],[0.1,\"#c51b7d\"],[0.2,\"#de77ae\"],[0.3,\"#f1b6da\"],[0.4,\"#fde0ef\"],[0.5,\"#f7f7f7\"],[0.6,\"#e6f5d0\"],[0.7,\"#b8e186\"],[0.8,\"#7fbc41\"],[0.9,\"#4d9221\"],[1,\"#276419\"]],\"sequential\":[[0.0,\"#0d0887\"],[0.1111111111111111,\"#46039f\"],[0.2222222222222222,\"#7201a8\"],[0.3333333333333333,\"#9c179e\"],[0.4444444444444444,\"#bd3786\"],[0.5555555555555556,\"#d8576b\"],[0.6666666666666666,\"#ed7953\"],[0.7777777777777778,\"#fb9f3a\"],[0.8888888888888888,\"#fdca26\"],[1.0,\"#f0f921\"]],\"sequentialminus\":[[0.0,\"#0d0887\"],[0.1111111111111111,\"#46039f\"],[0.2222222222222222,\"#7201a8\"],[0.3333333333333333,\"#9c179e\"],[0.4444444444444444,\"#bd3786\"],[0.5555555555555556,\"#d8576b\"],[0.6666666666666666,\"#ed7953\"],[0.7777777777777778,\"#fb9f3a\"],[0.8888888888888888,\"#fdca26\"],[1.0,\"#f0f921\"]]},\"colorway\":[\"#636efa\",\"#EF553B\",\"#00cc96\",\"#ab63fa\",\"#FFA15A\",\"#19d3f3\",\"#FF6692\",\"#B6E880\",\"#FF97FF\",\"#FECB52\"],\"font\":{\"color\":\"#2a3f5f\"},\"geo\":{\"bgcolor\":\"white\",\"lakecolor\":\"white\",\"landcolor\":\"white\",\"showlakes\":true,\"showland\":true,\"subunitcolor\":\"#C8D4E3\"},\"hoverlabel\":{\"align\":\"left\"},\"hovermode\":\"closest\",\"mapbox\":{\"style\":\"light\"},\"paper_bgcolor\":\"white\",\"plot_bgcolor\":\"white\",\"polar\":{\"angularaxis\":{\"gridcolor\":\"#EBF0F8\",\"linecolor\":\"#EBF0F8\",\"ticks\":\"\"},\"bgcolor\":\"white\",\"radialaxis\":{\"gridcolor\":\"#EBF0F8\",\"linecolor\":\"#EBF0F8\",\"ticks\":\"\"}},\"scene\":{\"xaxis\":{\"backgroundcolor\":\"white\",\"gridcolor\":\"#DFE8F3\",\"gridwidth\":2,\"linecolor\":\"#EBF0F8\",\"showbackground\":true,\"ticks\":\"\",\"zerolinecolor\":\"#EBF0F8\"},\"yaxis\":{\"backgroundcolor\":\"white\",\"gridcolor\":\"#DFE8F3\",\"gridwidth\":2,\"linecolor\":\"#EBF0F8\",\"showbackground\":true,\"ticks\":\"\",\"zerolinecolor\":\"#EBF0F8\"},\"zaxis\":{\"backgroundcolor\":\"white\",\"gridcolor\":\"#DFE8F3\",\"gridwidth\":2,\"linecolor\":\"#EBF0F8\",\"showbackground\":true,\"ticks\":\"\",\"zerolinecolor\":\"#EBF0F8\"}},\"shapedefaults\":{\"line\":{\"color\":\"#2a3f5f\"}},\"ternary\":{\"aaxis\":{\"gridcolor\":\"#DFE8F3\",\"linecolor\":\"#A2B1C6\",\"ticks\":\"\"},\"baxis\":{\"gridcolor\":\"#DFE8F3\",\"linecolor\":\"#A2B1C6\",\"ticks\":\"\"},\"bgcolor\":\"white\",\"caxis\":{\"gridcolor\":\"#DFE8F3\",\"linecolor\":\"#A2B1C6\",\"ticks\":\"\"}},\"title\":{\"x\":0.05},\"xaxis\":{\"automargin\":true,\"gridcolor\":\"#EBF0F8\",\"linecolor\":\"#EBF0F8\",\"ticks\":\"\",\"title\":{\"standoff\":15},\"zerolinecolor\":\"#EBF0F8\",\"zerolinewidth\":2},\"yaxis\":{\"automargin\":true,\"gridcolor\":\"#EBF0F8\",\"linecolor\":\"#EBF0F8\",\"ticks\":\"\",\"title\":{\"standoff\":15},\"zerolinecolor\":\"#EBF0F8\",\"zerolinewidth\":2}}},\"xaxis\":{\"anchor\":\"y\",\"domain\":[0.0,0.175],\"showgrid\":true},\"yaxis\":{\"anchor\":\"x\",\"domain\":[0.7555555555555555,1.0],\"showgrid\":true},\"xaxis2\":{\"anchor\":\"y2\",\"domain\":[0.275,0.45],\"showgrid\":true},\"yaxis2\":{\"anchor\":\"x2\",\"domain\":[0.7555555555555555,1.0],\"showgrid\":true},\"xaxis3\":{\"anchor\":\"y3\",\"domain\":[0.55,0.7250000000000001],\"showgrid\":true},\"yaxis3\":{\"anchor\":\"x3\",\"domain\":[0.7555555555555555,1.0],\"showgrid\":true},\"xaxis4\":{\"anchor\":\"y4\",\"domain\":[0.825,1.0],\"showgrid\":true},\"yaxis4\":{\"anchor\":\"x4\",\"domain\":[0.7555555555555555,1.0],\"showgrid\":true},\"xaxis5\":{\"anchor\":\"y5\",\"domain\":[0.0,0.175],\"showgrid\":true},\"yaxis5\":{\"anchor\":\"x5\",\"domain\":[0.37777777777777777,0.6222222222222222],\"showgrid\":true},\"xaxis6\":{\"anchor\":\"y6\",\"domain\":[0.275,0.45],\"showgrid\":true},\"yaxis6\":{\"anchor\":\"x6\",\"domain\":[0.37777777777777777,0.6222222222222222],\"showgrid\":true},\"xaxis7\":{\"anchor\":\"y7\",\"domain\":[0.55,0.7250000000000001],\"showgrid\":true},\"yaxis7\":{\"anchor\":\"x7\",\"domain\":[0.37777777777777777,0.6222222222222222],\"showgrid\":true},\"xaxis8\":{\"anchor\":\"y8\",\"domain\":[0.825,1.0],\"showgrid\":true},\"yaxis8\":{\"anchor\":\"x8\",\"domain\":[0.37777777777777777,0.6222222222222222],\"showgrid\":true},\"xaxis9\":{\"anchor\":\"y9\",\"domain\":[0.0,0.175],\"showgrid\":true},\"yaxis9\":{\"anchor\":\"x9\",\"domain\":[0.0,0.24444444444444446],\"showgrid\":true},\"xaxis10\":{\"anchor\":\"y10\",\"domain\":[0.275,0.45],\"showgrid\":true},\"yaxis10\":{\"anchor\":\"x10\",\"domain\":[0.0,0.24444444444444446],\"showgrid\":true},\"xaxis11\":{\"anchor\":\"y11\",\"domain\":[0.55,0.7250000000000001],\"showgrid\":true},\"yaxis11\":{\"anchor\":\"x11\",\"domain\":[0.0,0.24444444444444446],\"showgrid\":true},\"xaxis12\":{\"anchor\":\"y12\",\"domain\":[0.825,1.0],\"showgrid\":true},\"yaxis12\":{\"anchor\":\"x12\",\"domain\":[0.0,0.24444444444444446],\"showgrid\":true},\"annotations\":[{\"font\":{\"size\":16},\"showarrow\":false,\"text\":\"Topic 0\",\"x\":0.0875,\"xanchor\":\"center\",\"xref\":\"paper\",\"y\":1.0,\"yanchor\":\"bottom\",\"yref\":\"paper\"},{\"font\":{\"size\":16},\"showarrow\":false,\"text\":\"Topic 1\",\"x\":0.36250000000000004,\"xanchor\":\"center\",\"xref\":\"paper\",\"y\":1.0,\"yanchor\":\"bottom\",\"yref\":\"paper\"},{\"font\":{\"size\":16},\"showarrow\":false,\"text\":\"Topic 2\",\"x\":0.6375000000000001,\"xanchor\":\"center\",\"xref\":\"paper\",\"y\":1.0,\"yanchor\":\"bottom\",\"yref\":\"paper\"},{\"font\":{\"size\":16},\"showarrow\":false,\"text\":\"Topic 3\",\"x\":0.9125,\"xanchor\":\"center\",\"xref\":\"paper\",\"y\":1.0,\"yanchor\":\"bottom\",\"yref\":\"paper\"},{\"font\":{\"size\":16},\"showarrow\":false,\"text\":\"Topic 4\",\"x\":0.0875,\"xanchor\":\"center\",\"xref\":\"paper\",\"y\":0.6222222222222222,\"yanchor\":\"bottom\",\"yref\":\"paper\"},{\"font\":{\"size\":16},\"showarrow\":false,\"text\":\"Topic 5\",\"x\":0.36250000000000004,\"xanchor\":\"center\",\"xref\":\"paper\",\"y\":0.6222222222222222,\"yanchor\":\"bottom\",\"yref\":\"paper\"},{\"font\":{\"size\":16},\"showarrow\":false,\"text\":\"Topic 6\",\"x\":0.6375000000000001,\"xanchor\":\"center\",\"xref\":\"paper\",\"y\":0.6222222222222222,\"yanchor\":\"bottom\",\"yref\":\"paper\"},{\"font\":{\"size\":16},\"showarrow\":false,\"text\":\"Topic 7\",\"x\":0.9125,\"xanchor\":\"center\",\"xref\":\"paper\",\"y\":0.6222222222222222,\"yanchor\":\"bottom\",\"yref\":\"paper\"},{\"font\":{\"size\":16},\"showarrow\":false,\"text\":\"Topic 8\",\"x\":0.0875,\"xanchor\":\"center\",\"xref\":\"paper\",\"y\":0.24444444444444446,\"yanchor\":\"bottom\",\"yref\":\"paper\"},{\"font\":{\"size\":16},\"showarrow\":false,\"text\":\"Topic 9\",\"x\":0.36250000000000004,\"xanchor\":\"center\",\"xref\":\"paper\",\"y\":0.24444444444444446,\"yanchor\":\"bottom\",\"yref\":\"paper\"}],\"title\":{\"font\":{\"size\":22,\"color\":\"Black\"},\"text\":\"Topic Word Scores\",\"x\":0.5,\"xanchor\":\"center\",\"yanchor\":\"top\"},\"hoverlabel\":{\"font\":{\"size\":16,\"family\":\"Rockwell\"},\"bgcolor\":\"white\"},\"showlegend\":false,\"width\":1000,\"height\":750},                        {\"responsive\": true}                    ).then(function(){\n",
       "                            \n",
       "var gd = document.getElementById('3bebc5f0-c04b-44d0-b746-ed10e5495dd3');\n",
       "var x = new MutationObserver(function (mutations, observer) {{\n",
       "        var display = window.getComputedStyle(gd).display;\n",
       "        if (!display || display === 'none') {{\n",
       "            console.log([gd, 'removed!']);\n",
       "            Plotly.purge(gd);\n",
       "            observer.disconnect();\n",
       "        }}\n",
       "}});\n",
       "\n",
       "// Listen for the removal of the full notebook cells\n",
       "var notebookContainer = gd.closest('#notebook-container');\n",
       "if (notebookContainer) {{\n",
       "    x.observe(notebookContainer, {childList: true});\n",
       "}}\n",
       "\n",
       "// Listen for the clearing of the current output cell\n",
       "var outputEl = gd.closest('.output');\n",
       "if (outputEl) {{\n",
       "    x.observe(outputEl, {childList: true});\n",
       "}}\n",
       "\n",
       "                        })                };                });            </script>        </div>"
      ]
     },
     "metadata": {},
     "output_type": "display_data"
    }
   ],
   "source": [
    "#topic_model.visualize_topics(top_n_topics=10)\n",
    "topic_model.visualize_barchart(top_n_topics=10)"
   ]
  },
  {
   "cell_type": "code",
   "execution_count": 12,
   "metadata": {
    "colab": {
     "base_uri": "https://localhost:8080/"
    },
    "id": "YtbDaRNqEI6U",
    "outputId": "cd916038-2508-4f63-c5e2-5837923da4cc"
   },
   "outputs": [
    {
     "ename": "ValueError",
     "evalue": "All arrays must be of the same length",
     "output_type": "error",
     "traceback": [
      "\u001b[1;31m---------------------------------------------------------------------------\u001b[0m",
      "\u001b[1;31mValueError\u001b[0m                                Traceback (most recent call last)",
      "Cell \u001b[1;32mIn[12], line 1\u001b[0m\n\u001b[1;32m----> 1\u001b[0m \u001b[43mtopic_model\u001b[49m\u001b[38;5;241;43m.\u001b[39;49m\u001b[43mreduce_topics\u001b[49m\u001b[43m(\u001b[49m\u001b[43mdocs\u001b[49m\u001b[43m,\u001b[49m\u001b[43m \u001b[49m\u001b[43mnr_topics\u001b[49m\u001b[38;5;241;43m=\u001b[39;49m\u001b[38;5;241;43m10\u001b[39;49m\u001b[43m)\u001b[49m\n",
      "File \u001b[1;32m~\\myvenv\\Lib\\site-packages\\bertopic\\_bertopic.py:1997\u001b[0m, in \u001b[0;36mBERTopic.reduce_topics\u001b[1;34m(self, docs, nr_topics, images)\u001b[0m\n\u001b[0;32m   1994\u001b[0m check_is_fitted(\u001b[38;5;28mself\u001b[39m)\n\u001b[0;32m   1996\u001b[0m \u001b[38;5;28mself\u001b[39m\u001b[38;5;241m.\u001b[39mnr_topics \u001b[38;5;241m=\u001b[39m nr_topics\n\u001b[1;32m-> 1997\u001b[0m documents \u001b[38;5;241m=\u001b[39m \u001b[43mpd\u001b[49m\u001b[38;5;241;43m.\u001b[39;49m\u001b[43mDataFrame\u001b[49m\u001b[43m(\u001b[49m\u001b[43m{\u001b[49m\u001b[38;5;124;43m\"\u001b[39;49m\u001b[38;5;124;43mDocument\u001b[39;49m\u001b[38;5;124;43m\"\u001b[39;49m\u001b[43m:\u001b[49m\u001b[43m \u001b[49m\u001b[43mdocs\u001b[49m\u001b[43m,\u001b[49m\u001b[43m \u001b[49m\u001b[38;5;124;43m\"\u001b[39;49m\u001b[38;5;124;43mTopic\u001b[39;49m\u001b[38;5;124;43m\"\u001b[39;49m\u001b[43m:\u001b[49m\u001b[43m \u001b[49m\u001b[38;5;28;43mself\u001b[39;49m\u001b[38;5;241;43m.\u001b[39;49m\u001b[43mtopics_\u001b[49m\u001b[43m,\u001b[49m\u001b[43m \u001b[49m\u001b[38;5;124;43m\"\u001b[39;49m\u001b[38;5;124;43mImage\u001b[39;49m\u001b[38;5;124;43m\"\u001b[39;49m\u001b[43m:\u001b[49m\u001b[43m \u001b[49m\u001b[43mimages\u001b[49m\u001b[43m,\u001b[49m\u001b[43m \u001b[49m\u001b[38;5;124;43m\"\u001b[39;49m\u001b[38;5;124;43mID\u001b[39;49m\u001b[38;5;124;43m\"\u001b[39;49m\u001b[43m:\u001b[49m\u001b[43m \u001b[49m\u001b[38;5;28;43mrange\u001b[39;49m\u001b[43m(\u001b[49m\u001b[38;5;28;43mlen\u001b[39;49m\u001b[43m(\u001b[49m\u001b[43mdocs\u001b[49m\u001b[43m)\u001b[49m\u001b[43m)\u001b[49m\u001b[43m}\u001b[49m\u001b[43m)\u001b[49m\n\u001b[0;32m   1999\u001b[0m \u001b[38;5;66;03m# Reduce number of topics\u001b[39;00m\n\u001b[0;32m   2000\u001b[0m documents \u001b[38;5;241m=\u001b[39m \u001b[38;5;28mself\u001b[39m\u001b[38;5;241m.\u001b[39m_reduce_topics(documents)\n",
      "File \u001b[1;32m~\\myvenv\\Lib\\site-packages\\pandas\\core\\frame.py:709\u001b[0m, in \u001b[0;36mDataFrame.__init__\u001b[1;34m(self, data, index, columns, dtype, copy)\u001b[0m\n\u001b[0;32m    703\u001b[0m     mgr \u001b[38;5;241m=\u001b[39m \u001b[38;5;28mself\u001b[39m\u001b[38;5;241m.\u001b[39m_init_mgr(\n\u001b[0;32m    704\u001b[0m         data, axes\u001b[38;5;241m=\u001b[39m{\u001b[38;5;124m\"\u001b[39m\u001b[38;5;124mindex\u001b[39m\u001b[38;5;124m\"\u001b[39m: index, \u001b[38;5;124m\"\u001b[39m\u001b[38;5;124mcolumns\u001b[39m\u001b[38;5;124m\"\u001b[39m: columns}, dtype\u001b[38;5;241m=\u001b[39mdtype, copy\u001b[38;5;241m=\u001b[39mcopy\n\u001b[0;32m    705\u001b[0m     )\n\u001b[0;32m    707\u001b[0m \u001b[38;5;28;01melif\u001b[39;00m \u001b[38;5;28misinstance\u001b[39m(data, \u001b[38;5;28mdict\u001b[39m):\n\u001b[0;32m    708\u001b[0m     \u001b[38;5;66;03m# GH#38939 de facto copy defaults to False only in non-dict cases\u001b[39;00m\n\u001b[1;32m--> 709\u001b[0m     mgr \u001b[38;5;241m=\u001b[39m \u001b[43mdict_to_mgr\u001b[49m\u001b[43m(\u001b[49m\u001b[43mdata\u001b[49m\u001b[43m,\u001b[49m\u001b[43m \u001b[49m\u001b[43mindex\u001b[49m\u001b[43m,\u001b[49m\u001b[43m \u001b[49m\u001b[43mcolumns\u001b[49m\u001b[43m,\u001b[49m\u001b[43m \u001b[49m\u001b[43mdtype\u001b[49m\u001b[38;5;241;43m=\u001b[39;49m\u001b[43mdtype\u001b[49m\u001b[43m,\u001b[49m\u001b[43m \u001b[49m\u001b[43mcopy\u001b[49m\u001b[38;5;241;43m=\u001b[39;49m\u001b[43mcopy\u001b[49m\u001b[43m,\u001b[49m\u001b[43m \u001b[49m\u001b[43mtyp\u001b[49m\u001b[38;5;241;43m=\u001b[39;49m\u001b[43mmanager\u001b[49m\u001b[43m)\u001b[49m\n\u001b[0;32m    710\u001b[0m \u001b[38;5;28;01melif\u001b[39;00m \u001b[38;5;28misinstance\u001b[39m(data, ma\u001b[38;5;241m.\u001b[39mMaskedArray):\n\u001b[0;32m    711\u001b[0m     \u001b[38;5;28;01mfrom\u001b[39;00m \u001b[38;5;21;01mnumpy\u001b[39;00m\u001b[38;5;21;01m.\u001b[39;00m\u001b[38;5;21;01mma\u001b[39;00m \u001b[38;5;28;01mimport\u001b[39;00m mrecords\n",
      "File \u001b[1;32m~\\myvenv\\Lib\\site-packages\\pandas\\core\\internals\\construction.py:481\u001b[0m, in \u001b[0;36mdict_to_mgr\u001b[1;34m(data, index, columns, dtype, typ, copy)\u001b[0m\n\u001b[0;32m    477\u001b[0m     \u001b[38;5;28;01melse\u001b[39;00m:\n\u001b[0;32m    478\u001b[0m         \u001b[38;5;66;03m# dtype check to exclude e.g. range objects, scalars\u001b[39;00m\n\u001b[0;32m    479\u001b[0m         arrays \u001b[38;5;241m=\u001b[39m [x\u001b[38;5;241m.\u001b[39mcopy() \u001b[38;5;28;01mif\u001b[39;00m \u001b[38;5;28mhasattr\u001b[39m(x, \u001b[38;5;124m\"\u001b[39m\u001b[38;5;124mdtype\u001b[39m\u001b[38;5;124m\"\u001b[39m) \u001b[38;5;28;01melse\u001b[39;00m x \u001b[38;5;28;01mfor\u001b[39;00m x \u001b[38;5;129;01min\u001b[39;00m arrays]\n\u001b[1;32m--> 481\u001b[0m \u001b[38;5;28;01mreturn\u001b[39;00m \u001b[43marrays_to_mgr\u001b[49m\u001b[43m(\u001b[49m\u001b[43marrays\u001b[49m\u001b[43m,\u001b[49m\u001b[43m \u001b[49m\u001b[43mcolumns\u001b[49m\u001b[43m,\u001b[49m\u001b[43m \u001b[49m\u001b[43mindex\u001b[49m\u001b[43m,\u001b[49m\u001b[43m \u001b[49m\u001b[43mdtype\u001b[49m\u001b[38;5;241;43m=\u001b[39;49m\u001b[43mdtype\u001b[49m\u001b[43m,\u001b[49m\u001b[43m \u001b[49m\u001b[43mtyp\u001b[49m\u001b[38;5;241;43m=\u001b[39;49m\u001b[43mtyp\u001b[49m\u001b[43m,\u001b[49m\u001b[43m \u001b[49m\u001b[43mconsolidate\u001b[49m\u001b[38;5;241;43m=\u001b[39;49m\u001b[43mcopy\u001b[49m\u001b[43m)\u001b[49m\n",
      "File \u001b[1;32m~\\myvenv\\Lib\\site-packages\\pandas\\core\\internals\\construction.py:115\u001b[0m, in \u001b[0;36marrays_to_mgr\u001b[1;34m(arrays, columns, index, dtype, verify_integrity, typ, consolidate)\u001b[0m\n\u001b[0;32m    112\u001b[0m \u001b[38;5;28;01mif\u001b[39;00m verify_integrity:\n\u001b[0;32m    113\u001b[0m     \u001b[38;5;66;03m# figure out the index, if necessary\u001b[39;00m\n\u001b[0;32m    114\u001b[0m     \u001b[38;5;28;01mif\u001b[39;00m index \u001b[38;5;129;01mis\u001b[39;00m \u001b[38;5;28;01mNone\u001b[39;00m:\n\u001b[1;32m--> 115\u001b[0m         index \u001b[38;5;241m=\u001b[39m \u001b[43m_extract_index\u001b[49m\u001b[43m(\u001b[49m\u001b[43marrays\u001b[49m\u001b[43m)\u001b[49m\n\u001b[0;32m    116\u001b[0m     \u001b[38;5;28;01melse\u001b[39;00m:\n\u001b[0;32m    117\u001b[0m         index \u001b[38;5;241m=\u001b[39m ensure_index(index)\n",
      "File \u001b[1;32m~\\myvenv\\Lib\\site-packages\\pandas\\core\\internals\\construction.py:655\u001b[0m, in \u001b[0;36m_extract_index\u001b[1;34m(data)\u001b[0m\n\u001b[0;32m    653\u001b[0m lengths \u001b[38;5;241m=\u001b[39m \u001b[38;5;28mlist\u001b[39m(\u001b[38;5;28mset\u001b[39m(raw_lengths))\n\u001b[0;32m    654\u001b[0m \u001b[38;5;28;01mif\u001b[39;00m \u001b[38;5;28mlen\u001b[39m(lengths) \u001b[38;5;241m>\u001b[39m \u001b[38;5;241m1\u001b[39m:\n\u001b[1;32m--> 655\u001b[0m     \u001b[38;5;28;01mraise\u001b[39;00m \u001b[38;5;167;01mValueError\u001b[39;00m(\u001b[38;5;124m\"\u001b[39m\u001b[38;5;124mAll arrays must be of the same length\u001b[39m\u001b[38;5;124m\"\u001b[39m)\n\u001b[0;32m    657\u001b[0m \u001b[38;5;28;01mif\u001b[39;00m have_dicts:\n\u001b[0;32m    658\u001b[0m     \u001b[38;5;28;01mraise\u001b[39;00m \u001b[38;5;167;01mValueError\u001b[39;00m(\n\u001b[0;32m    659\u001b[0m         \u001b[38;5;124m\"\u001b[39m\u001b[38;5;124mMixing dicts with non-Series may lead to ambiguous ordering.\u001b[39m\u001b[38;5;124m\"\u001b[39m\n\u001b[0;32m    660\u001b[0m     )\n",
      "\u001b[1;31mValueError\u001b[0m: All arrays must be of the same length"
     ]
    }
   ],
   "source": [
    "#topic_model.reduce_topics(docs, nr_topics=10)\n",
    "#https://www.vennify.ai/bertopic-topic-modeling/\n",
    "predict new topic"
   ]
  },
  {
   "cell_type": "code",
   "execution_count": null,
   "metadata": {},
   "outputs": [],
   "source": [
    "#https://maartengr.github.io/BERTopic/faq.html#why-does-it-take-so-long-to-import-bertopic"
   ]
  },
  {
   "cell_type": "code",
   "execution_count": null,
   "metadata": {
    "colab": {
     "base_uri": "https://localhost:8080/",
     "height": 352
    },
    "id": "414lnSgcEP48",
    "outputId": "dbd9645d-f51c-4916-e143-bf511b193833"
   },
   "outputs": [
    {
     "data": {
      "text/html": [
       "<html>\n",
       "<head><meta charset=\"utf-8\" /></head>\n",
       "<body>\n",
       "    <div>            <script src=\"https://cdnjs.cloudflare.com/ajax/libs/mathjax/2.7.5/MathJax.js?config=TeX-AMS-MML_SVG\"></script><script type=\"text/javascript\">if (window.MathJax && window.MathJax.Hub && window.MathJax.Hub.Config) {window.MathJax.Hub.Config({SVG: {font: \"STIX-Web\"}});}</script>                <script type=\"text/javascript\">window.PlotlyConfig = {MathJaxConfig: 'local'};</script>\n",
       "        <script src=\"https://cdn.plot.ly/plotly-2.18.2.min.js\"></script>                <div id=\"b554294b-07c5-4603-8046-9d7622710a76\" class=\"plotly-graph-div\" style=\"height:335px; width:1000px;\"></div>            <script type=\"text/javascript\">                                    window.PLOTLYENV=window.PLOTLYENV || {};                                    if (document.getElementById(\"b554294b-07c5-4603-8046-9d7622710a76\")) {                    Plotly.newPlot(                        \"b554294b-07c5-4603-8046-9d7622710a76\",                        [{\"hoverinfo\":\"text\",\"marker\":{\"color\":\"rgb(61,153,112)\"},\"mode\":\"lines\",\"x\":[0.0,0.21836226521302393,0.21836226521302393,0.0],\"xaxis\":\"x\",\"y\":[-25.0,-25.0,-35.0,-35.0],\"yaxis\":\"y\",\"type\":\"scatter\"},{\"hoverinfo\":\"text\",\"marker\":{\"color\":\"rgb(61,153,112)\"},\"mode\":\"lines\",\"x\":[0.21836226521302393,0.3324012240844657,0.3324012240844657,0.0],\"xaxis\":\"x\",\"y\":[-30.0,-30.0,-45.0,-45.0],\"yaxis\":\"y\",\"type\":\"scatter\"},{\"hoverinfo\":\"text\",\"marker\":{\"color\":\"rgb(61,153,112)\"},\"mode\":\"lines\",\"x\":[0.3324012240844657,0.41930720581473224,0.41930720581473224,0.0],\"xaxis\":\"x\",\"y\":[-37.5,-37.5,-55.0,-55.0],\"yaxis\":\"y\",\"type\":\"scatter\"},{\"hoverinfo\":\"text\",\"marker\":{\"color\":\"rgb(61,153,112)\"},\"mode\":\"lines\",\"x\":[0.0,0.5674762588563761,0.5674762588563761,0.41930720581473224],\"xaxis\":\"x\",\"y\":[-15.0,-15.0,-46.25,-46.25],\"yaxis\":\"y\",\"type\":\"scatter\"},{\"hoverinfo\":\"text\",\"marker\":{\"color\":\"rgb(61,153,112)\"},\"mode\":\"lines\",\"x\":[0.0,0.4451639498056702,0.4451639498056702,0.0],\"xaxis\":\"x\",\"y\":[-65.0,-65.0,-75.0,-75.0],\"yaxis\":\"y\",\"type\":\"scatter\"},{\"hoverinfo\":\"text\",\"marker\":{\"color\":\"rgb(61,153,112)\"},\"mode\":\"lines\",\"x\":[0.4451639498056702,0.60703004467689,0.60703004467689,0.0],\"xaxis\":\"x\",\"y\":[-70.0,-70.0,-85.0,-85.0],\"yaxis\":\"y\",\"type\":\"scatter\"},{\"hoverinfo\":\"text\",\"marker\":{\"color\":\"rgb(61,153,112)\"},\"mode\":\"lines\",\"x\":[0.5674762588563761,0.7264349111758727,0.7264349111758727,0.60703004467689],\"xaxis\":\"x\",\"y\":[-30.625,-30.625,-77.5,-77.5],\"yaxis\":\"y\",\"type\":\"scatter\"},{\"hoverinfo\":\"text\",\"marker\":{\"color\":\"rgb(0,116,217)\"},\"mode\":\"lines\",\"x\":[0.0,1.0420847981325805,1.0420847981325805,0.7264349111758727],\"xaxis\":\"x\",\"y\":[-5.0,-5.0,-54.0625,-54.0625],\"yaxis\":\"y\",\"type\":\"scatter\"}],                        {\"autosize\":false,\"height\":335,\"hovermode\":\"closest\",\"showlegend\":false,\"width\":1000,\"xaxis\":{\"mirror\":\"allticks\",\"rangemode\":\"tozero\",\"showgrid\":false,\"showline\":true,\"showticklabels\":true,\"ticks\":\"outside\",\"type\":\"linear\",\"zeroline\":false},\"yaxis\":{\"mirror\":\"allticks\",\"rangemode\":\"tozero\",\"showgrid\":false,\"showline\":true,\"showticklabels\":true,\"tickmode\":\"array\",\"ticks\":\"outside\",\"ticktext\":[\"8_flour_wheat_nutritional\",\"4_physical_activity_and\",\"2_and_of_in\",\"0_of_and_in\",\"1_of_in_the\",\"3_in_of_and\",\"6_networks_for_of\",\"5_the_of_and\",\"7_based_for_driving\"],\"tickvals\":[-5.0,-15.0,-25.0,-35.0,-45.0,-55.0,-65.0,-75.0,-85.0],\"type\":\"linear\",\"zeroline\":false,\"range\":[-90.0,0.0]},\"template\":{\"data\":{\"barpolar\":[{\"marker\":{\"line\":{\"color\":\"white\",\"width\":0.5},\"pattern\":{\"fillmode\":\"overlay\",\"size\":10,\"solidity\":0.2}},\"type\":\"barpolar\"}],\"bar\":[{\"error_x\":{\"color\":\"#2a3f5f\"},\"error_y\":{\"color\":\"#2a3f5f\"},\"marker\":{\"line\":{\"color\":\"white\",\"width\":0.5},\"pattern\":{\"fillmode\":\"overlay\",\"size\":10,\"solidity\":0.2}},\"type\":\"bar\"}],\"carpet\":[{\"aaxis\":{\"endlinecolor\":\"#2a3f5f\",\"gridcolor\":\"#C8D4E3\",\"linecolor\":\"#C8D4E3\",\"minorgridcolor\":\"#C8D4E3\",\"startlinecolor\":\"#2a3f5f\"},\"baxis\":{\"endlinecolor\":\"#2a3f5f\",\"gridcolor\":\"#C8D4E3\",\"linecolor\":\"#C8D4E3\",\"minorgridcolor\":\"#C8D4E3\",\"startlinecolor\":\"#2a3f5f\"},\"type\":\"carpet\"}],\"choropleth\":[{\"colorbar\":{\"outlinewidth\":0,\"ticks\":\"\"},\"type\":\"choropleth\"}],\"contourcarpet\":[{\"colorbar\":{\"outlinewidth\":0,\"ticks\":\"\"},\"type\":\"contourcarpet\"}],\"contour\":[{\"colorbar\":{\"outlinewidth\":0,\"ticks\":\"\"},\"colorscale\":[[0.0,\"#0d0887\"],[0.1111111111111111,\"#46039f\"],[0.2222222222222222,\"#7201a8\"],[0.3333333333333333,\"#9c179e\"],[0.4444444444444444,\"#bd3786\"],[0.5555555555555556,\"#d8576b\"],[0.6666666666666666,\"#ed7953\"],[0.7777777777777778,\"#fb9f3a\"],[0.8888888888888888,\"#fdca26\"],[1.0,\"#f0f921\"]],\"type\":\"contour\"}],\"heatmapgl\":[{\"colorbar\":{\"outlinewidth\":0,\"ticks\":\"\"},\"colorscale\":[[0.0,\"#0d0887\"],[0.1111111111111111,\"#46039f\"],[0.2222222222222222,\"#7201a8\"],[0.3333333333333333,\"#9c179e\"],[0.4444444444444444,\"#bd3786\"],[0.5555555555555556,\"#d8576b\"],[0.6666666666666666,\"#ed7953\"],[0.7777777777777778,\"#fb9f3a\"],[0.8888888888888888,\"#fdca26\"],[1.0,\"#f0f921\"]],\"type\":\"heatmapgl\"}],\"heatmap\":[{\"colorbar\":{\"outlinewidth\":0,\"ticks\":\"\"},\"colorscale\":[[0.0,\"#0d0887\"],[0.1111111111111111,\"#46039f\"],[0.2222222222222222,\"#7201a8\"],[0.3333333333333333,\"#9c179e\"],[0.4444444444444444,\"#bd3786\"],[0.5555555555555556,\"#d8576b\"],[0.6666666666666666,\"#ed7953\"],[0.7777777777777778,\"#fb9f3a\"],[0.8888888888888888,\"#fdca26\"],[1.0,\"#f0f921\"]],\"type\":\"heatmap\"}],\"histogram2dcontour\":[{\"colorbar\":{\"outlinewidth\":0,\"ticks\":\"\"},\"colorscale\":[[0.0,\"#0d0887\"],[0.1111111111111111,\"#46039f\"],[0.2222222222222222,\"#7201a8\"],[0.3333333333333333,\"#9c179e\"],[0.4444444444444444,\"#bd3786\"],[0.5555555555555556,\"#d8576b\"],[0.6666666666666666,\"#ed7953\"],[0.7777777777777778,\"#fb9f3a\"],[0.8888888888888888,\"#fdca26\"],[1.0,\"#f0f921\"]],\"type\":\"histogram2dcontour\"}],\"histogram2d\":[{\"colorbar\":{\"outlinewidth\":0,\"ticks\":\"\"},\"colorscale\":[[0.0,\"#0d0887\"],[0.1111111111111111,\"#46039f\"],[0.2222222222222222,\"#7201a8\"],[0.3333333333333333,\"#9c179e\"],[0.4444444444444444,\"#bd3786\"],[0.5555555555555556,\"#d8576b\"],[0.6666666666666666,\"#ed7953\"],[0.7777777777777778,\"#fb9f3a\"],[0.8888888888888888,\"#fdca26\"],[1.0,\"#f0f921\"]],\"type\":\"histogram2d\"}],\"histogram\":[{\"marker\":{\"pattern\":{\"fillmode\":\"overlay\",\"size\":10,\"solidity\":0.2}},\"type\":\"histogram\"}],\"mesh3d\":[{\"colorbar\":{\"outlinewidth\":0,\"ticks\":\"\"},\"type\":\"mesh3d\"}],\"parcoords\":[{\"line\":{\"colorbar\":{\"outlinewidth\":0,\"ticks\":\"\"}},\"type\":\"parcoords\"}],\"pie\":[{\"automargin\":true,\"type\":\"pie\"}],\"scatter3d\":[{\"line\":{\"colorbar\":{\"outlinewidth\":0,\"ticks\":\"\"}},\"marker\":{\"colorbar\":{\"outlinewidth\":0,\"ticks\":\"\"}},\"type\":\"scatter3d\"}],\"scattercarpet\":[{\"marker\":{\"colorbar\":{\"outlinewidth\":0,\"ticks\":\"\"}},\"type\":\"scattercarpet\"}],\"scattergeo\":[{\"marker\":{\"colorbar\":{\"outlinewidth\":0,\"ticks\":\"\"}},\"type\":\"scattergeo\"}],\"scattergl\":[{\"marker\":{\"colorbar\":{\"outlinewidth\":0,\"ticks\":\"\"}},\"type\":\"scattergl\"}],\"scattermapbox\":[{\"marker\":{\"colorbar\":{\"outlinewidth\":0,\"ticks\":\"\"}},\"type\":\"scattermapbox\"}],\"scatterpolargl\":[{\"marker\":{\"colorbar\":{\"outlinewidth\":0,\"ticks\":\"\"}},\"type\":\"scatterpolargl\"}],\"scatterpolar\":[{\"marker\":{\"colorbar\":{\"outlinewidth\":0,\"ticks\":\"\"}},\"type\":\"scatterpolar\"}],\"scatter\":[{\"fillpattern\":{\"fillmode\":\"overlay\",\"size\":10,\"solidity\":0.2},\"type\":\"scatter\"}],\"scatterternary\":[{\"marker\":{\"colorbar\":{\"outlinewidth\":0,\"ticks\":\"\"}},\"type\":\"scatterternary\"}],\"surface\":[{\"colorbar\":{\"outlinewidth\":0,\"ticks\":\"\"},\"colorscale\":[[0.0,\"#0d0887\"],[0.1111111111111111,\"#46039f\"],[0.2222222222222222,\"#7201a8\"],[0.3333333333333333,\"#9c179e\"],[0.4444444444444444,\"#bd3786\"],[0.5555555555555556,\"#d8576b\"],[0.6666666666666666,\"#ed7953\"],[0.7777777777777778,\"#fb9f3a\"],[0.8888888888888888,\"#fdca26\"],[1.0,\"#f0f921\"]],\"type\":\"surface\"}],\"table\":[{\"cells\":{\"fill\":{\"color\":\"#EBF0F8\"},\"line\":{\"color\":\"white\"}},\"header\":{\"fill\":{\"color\":\"#C8D4E3\"},\"line\":{\"color\":\"white\"}},\"type\":\"table\"}]},\"layout\":{\"annotationdefaults\":{\"arrowcolor\":\"#2a3f5f\",\"arrowhead\":0,\"arrowwidth\":1},\"autotypenumbers\":\"strict\",\"coloraxis\":{\"colorbar\":{\"outlinewidth\":0,\"ticks\":\"\"}},\"colorscale\":{\"diverging\":[[0,\"#8e0152\"],[0.1,\"#c51b7d\"],[0.2,\"#de77ae\"],[0.3,\"#f1b6da\"],[0.4,\"#fde0ef\"],[0.5,\"#f7f7f7\"],[0.6,\"#e6f5d0\"],[0.7,\"#b8e186\"],[0.8,\"#7fbc41\"],[0.9,\"#4d9221\"],[1,\"#276419\"]],\"sequential\":[[0.0,\"#0d0887\"],[0.1111111111111111,\"#46039f\"],[0.2222222222222222,\"#7201a8\"],[0.3333333333333333,\"#9c179e\"],[0.4444444444444444,\"#bd3786\"],[0.5555555555555556,\"#d8576b\"],[0.6666666666666666,\"#ed7953\"],[0.7777777777777778,\"#fb9f3a\"],[0.8888888888888888,\"#fdca26\"],[1.0,\"#f0f921\"]],\"sequentialminus\":[[0.0,\"#0d0887\"],[0.1111111111111111,\"#46039f\"],[0.2222222222222222,\"#7201a8\"],[0.3333333333333333,\"#9c179e\"],[0.4444444444444444,\"#bd3786\"],[0.5555555555555556,\"#d8576b\"],[0.6666666666666666,\"#ed7953\"],[0.7777777777777778,\"#fb9f3a\"],[0.8888888888888888,\"#fdca26\"],[1.0,\"#f0f921\"]]},\"colorway\":[\"#636efa\",\"#EF553B\",\"#00cc96\",\"#ab63fa\",\"#FFA15A\",\"#19d3f3\",\"#FF6692\",\"#B6E880\",\"#FF97FF\",\"#FECB52\"],\"font\":{\"color\":\"#2a3f5f\"},\"geo\":{\"bgcolor\":\"white\",\"lakecolor\":\"white\",\"landcolor\":\"white\",\"showlakes\":true,\"showland\":true,\"subunitcolor\":\"#C8D4E3\"},\"hoverlabel\":{\"align\":\"left\"},\"hovermode\":\"closest\",\"mapbox\":{\"style\":\"light\"},\"paper_bgcolor\":\"white\",\"plot_bgcolor\":\"white\",\"polar\":{\"angularaxis\":{\"gridcolor\":\"#EBF0F8\",\"linecolor\":\"#EBF0F8\",\"ticks\":\"\"},\"bgcolor\":\"white\",\"radialaxis\":{\"gridcolor\":\"#EBF0F8\",\"linecolor\":\"#EBF0F8\",\"ticks\":\"\"}},\"scene\":{\"xaxis\":{\"backgroundcolor\":\"white\",\"gridcolor\":\"#DFE8F3\",\"gridwidth\":2,\"linecolor\":\"#EBF0F8\",\"showbackground\":true,\"ticks\":\"\",\"zerolinecolor\":\"#EBF0F8\"},\"yaxis\":{\"backgroundcolor\":\"white\",\"gridcolor\":\"#DFE8F3\",\"gridwidth\":2,\"linecolor\":\"#EBF0F8\",\"showbackground\":true,\"ticks\":\"\",\"zerolinecolor\":\"#EBF0F8\"},\"zaxis\":{\"backgroundcolor\":\"white\",\"gridcolor\":\"#DFE8F3\",\"gridwidth\":2,\"linecolor\":\"#EBF0F8\",\"showbackground\":true,\"ticks\":\"\",\"zerolinecolor\":\"#EBF0F8\"}},\"shapedefaults\":{\"line\":{\"color\":\"#2a3f5f\"}},\"ternary\":{\"aaxis\":{\"gridcolor\":\"#DFE8F3\",\"linecolor\":\"#A2B1C6\",\"ticks\":\"\"},\"baxis\":{\"gridcolor\":\"#DFE8F3\",\"linecolor\":\"#A2B1C6\",\"ticks\":\"\"},\"bgcolor\":\"white\",\"caxis\":{\"gridcolor\":\"#DFE8F3\",\"linecolor\":\"#A2B1C6\",\"ticks\":\"\"}},\"title\":{\"x\":0.05},\"xaxis\":{\"automargin\":true,\"gridcolor\":\"#EBF0F8\",\"linecolor\":\"#EBF0F8\",\"ticks\":\"\",\"title\":{\"standoff\":15},\"zerolinecolor\":\"#EBF0F8\",\"zerolinewidth\":2},\"yaxis\":{\"automargin\":true,\"gridcolor\":\"#EBF0F8\",\"linecolor\":\"#EBF0F8\",\"ticks\":\"\",\"title\":{\"standoff\":15},\"zerolinecolor\":\"#EBF0F8\",\"zerolinewidth\":2}}},\"title\":{\"font\":{\"size\":22,\"color\":\"Black\"},\"text\":\"<b>Hierarchical Clustering</b>\",\"x\":0.5,\"xanchor\":\"center\",\"yanchor\":\"top\"},\"hoverlabel\":{\"font\":{\"size\":16,\"family\":\"Rockwell\"},\"bgcolor\":\"white\"},\"plot_bgcolor\":\"#ECEFF1\"},                        {\"responsive\": true}                    ).then(function(){\n",
       "                            \n",
       "var gd = document.getElementById('b554294b-07c5-4603-8046-9d7622710a76');\n",
       "var x = new MutationObserver(function (mutations, observer) {{\n",
       "        var display = window.getComputedStyle(gd).display;\n",
       "        if (!display || display === 'none') {{\n",
       "            console.log([gd, 'removed!']);\n",
       "            Plotly.purge(gd);\n",
       "            observer.disconnect();\n",
       "        }}\n",
       "}});\n",
       "\n",
       "// Listen for the removal of the full notebook cells\n",
       "var notebookContainer = gd.closest('#notebook-container');\n",
       "if (notebookContainer) {{\n",
       "    x.observe(notebookContainer, {childList: true});\n",
       "}}\n",
       "\n",
       "// Listen for the clearing of the current output cell\n",
       "var outputEl = gd.closest('.output');\n",
       "if (outputEl) {{\n",
       "    x.observe(outputEl, {childList: true});\n",
       "}}\n",
       "\n",
       "                        })                };                            </script>        </div>\n",
       "</body>\n",
       "</html>"
      ]
     },
     "metadata": {},
     "output_type": "display_data"
    }
   ],
   "source": [
    "topic_model.visualize_hierarchy(top_n_topics=10)"
   ]
  },
  {
   "cell_type": "markdown",
   "metadata": {
    "id": "iJ5DXpd9v9DU"
   },
   "source": [
    "# New Section"
   ]
  }
 ],
 "metadata": {
  "accelerator": "GPU",
  "colab": {
   "gpuType": "T4",
   "provenance": []
  },
  "kernelspec": {
   "display_name": "Python 3 (ipykernel)",
   "language": "python",
   "name": "python3"
  },
  "language_info": {
   "codemirror_mode": {
    "name": "ipython",
    "version": 3
   },
   "file_extension": ".py",
   "mimetype": "text/x-python",
   "name": "python",
   "nbconvert_exporter": "python",
   "pygments_lexer": "ipython3",
   "version": "3.11.0"
  },
  "widgets": {
   "application/vnd.jupyter.widget-state+json": {
    "0c8f136c59b7415ba8125e44362095e8": {
     "model_module": "@jupyter-widgets/controls",
     "model_module_version": "1.5.0",
     "model_name": "DescriptionStyleModel",
     "state": {
      "_model_module": "@jupyter-widgets/controls",
      "_model_module_version": "1.5.0",
      "_model_name": "DescriptionStyleModel",
      "_view_count": null,
      "_view_module": "@jupyter-widgets/base",
      "_view_module_version": "1.2.0",
      "_view_name": "StyleView",
      "description_width": ""
     }
    },
    "2ef21d394aed4b1db1d02cd8ae0f6457": {
     "model_module": "@jupyter-widgets/controls",
     "model_module_version": "1.5.0",
     "model_name": "HTMLModel",
     "state": {
      "_dom_classes": [],
      "_model_module": "@jupyter-widgets/controls",
      "_model_module_version": "1.5.0",
      "_model_name": "HTMLModel",
      "_view_count": null,
      "_view_module": "@jupyter-widgets/controls",
      "_view_module_version": "1.5.0",
      "_view_name": "HTMLView",
      "description": "",
      "description_tooltip": null,
      "layout": "IPY_MODEL_fed28e7d6c5d4213ad5809d2a7724d4b",
      "placeholder": "​",
      "style": "IPY_MODEL_d2347e4e99eb47e2999b6ec02b2e8891",
      "value": "Batches: 100%"
     }
    },
    "41783c46f0b645c08898e41a840fbce2": {
     "model_module": "@jupyter-widgets/controls",
     "model_module_version": "1.5.0",
     "model_name": "HTMLModel",
     "state": {
      "_dom_classes": [],
      "_model_module": "@jupyter-widgets/controls",
      "_model_module_version": "1.5.0",
      "_model_name": "HTMLModel",
      "_view_count": null,
      "_view_module": "@jupyter-widgets/controls",
      "_view_module_version": "1.5.0",
      "_view_name": "HTMLView",
      "description": "",
      "description_tooltip": null,
      "layout": "IPY_MODEL_900bf7543e384c6cb2e1482d82e3a55e",
      "placeholder": "​",
      "style": "IPY_MODEL_0c8f136c59b7415ba8125e44362095e8",
      "value": " 1556/1556 [00:21&lt;00:00, 96.97it/s]"
     }
    },
    "44f812f51e6e49ca9b0af7be7d855ebe": {
     "model_module": "@jupyter-widgets/controls",
     "model_module_version": "1.5.0",
     "model_name": "HBoxModel",
     "state": {
      "_dom_classes": [],
      "_model_module": "@jupyter-widgets/controls",
      "_model_module_version": "1.5.0",
      "_model_name": "HBoxModel",
      "_view_count": null,
      "_view_module": "@jupyter-widgets/controls",
      "_view_module_version": "1.5.0",
      "_view_name": "HBoxView",
      "box_style": "",
      "children": [
       "IPY_MODEL_2ef21d394aed4b1db1d02cd8ae0f6457",
       "IPY_MODEL_ca568a3e59894ae6bb07c9508b7a09dc",
       "IPY_MODEL_41783c46f0b645c08898e41a840fbce2"
      ],
      "layout": "IPY_MODEL_dc5959a0334443b38bf2fdae68637c99"
     }
    },
    "8b4f7b16fa444469993bac193d9a9846": {
     "model_module": "@jupyter-widgets/controls",
     "model_module_version": "1.5.0",
     "model_name": "ProgressStyleModel",
     "state": {
      "_model_module": "@jupyter-widgets/controls",
      "_model_module_version": "1.5.0",
      "_model_name": "ProgressStyleModel",
      "_view_count": null,
      "_view_module": "@jupyter-widgets/base",
      "_view_module_version": "1.2.0",
      "_view_name": "StyleView",
      "bar_color": null,
      "description_width": ""
     }
    },
    "8c4553522e1144898dd47380db8a3297": {
     "model_module": "@jupyter-widgets/base",
     "model_module_version": "1.2.0",
     "model_name": "LayoutModel",
     "state": {
      "_model_module": "@jupyter-widgets/base",
      "_model_module_version": "1.2.0",
      "_model_name": "LayoutModel",
      "_view_count": null,
      "_view_module": "@jupyter-widgets/base",
      "_view_module_version": "1.2.0",
      "_view_name": "LayoutView",
      "align_content": null,
      "align_items": null,
      "align_self": null,
      "border": null,
      "bottom": null,
      "display": null,
      "flex": null,
      "flex_flow": null,
      "grid_area": null,
      "grid_auto_columns": null,
      "grid_auto_flow": null,
      "grid_auto_rows": null,
      "grid_column": null,
      "grid_gap": null,
      "grid_row": null,
      "grid_template_areas": null,
      "grid_template_columns": null,
      "grid_template_rows": null,
      "height": null,
      "justify_content": null,
      "justify_items": null,
      "left": null,
      "margin": null,
      "max_height": null,
      "max_width": null,
      "min_height": null,
      "min_width": null,
      "object_fit": null,
      "object_position": null,
      "order": null,
      "overflow": null,
      "overflow_x": null,
      "overflow_y": null,
      "padding": null,
      "right": null,
      "top": null,
      "visibility": null,
      "width": null
     }
    },
    "900bf7543e384c6cb2e1482d82e3a55e": {
     "model_module": "@jupyter-widgets/base",
     "model_module_version": "1.2.0",
     "model_name": "LayoutModel",
     "state": {
      "_model_module": "@jupyter-widgets/base",
      "_model_module_version": "1.2.0",
      "_model_name": "LayoutModel",
      "_view_count": null,
      "_view_module": "@jupyter-widgets/base",
      "_view_module_version": "1.2.0",
      "_view_name": "LayoutView",
      "align_content": null,
      "align_items": null,
      "align_self": null,
      "border": null,
      "bottom": null,
      "display": null,
      "flex": null,
      "flex_flow": null,
      "grid_area": null,
      "grid_auto_columns": null,
      "grid_auto_flow": null,
      "grid_auto_rows": null,
      "grid_column": null,
      "grid_gap": null,
      "grid_row": null,
      "grid_template_areas": null,
      "grid_template_columns": null,
      "grid_template_rows": null,
      "height": null,
      "justify_content": null,
      "justify_items": null,
      "left": null,
      "margin": null,
      "max_height": null,
      "max_width": null,
      "min_height": null,
      "min_width": null,
      "object_fit": null,
      "object_position": null,
      "order": null,
      "overflow": null,
      "overflow_x": null,
      "overflow_y": null,
      "padding": null,
      "right": null,
      "top": null,
      "visibility": null,
      "width": null
     }
    },
    "ca568a3e59894ae6bb07c9508b7a09dc": {
     "model_module": "@jupyter-widgets/controls",
     "model_module_version": "1.5.0",
     "model_name": "FloatProgressModel",
     "state": {
      "_dom_classes": [],
      "_model_module": "@jupyter-widgets/controls",
      "_model_module_version": "1.5.0",
      "_model_name": "FloatProgressModel",
      "_view_count": null,
      "_view_module": "@jupyter-widgets/controls",
      "_view_module_version": "1.5.0",
      "_view_name": "ProgressView",
      "bar_style": "success",
      "description": "",
      "description_tooltip": null,
      "layout": "IPY_MODEL_8c4553522e1144898dd47380db8a3297",
      "max": 1556,
      "min": 0,
      "orientation": "horizontal",
      "style": "IPY_MODEL_8b4f7b16fa444469993bac193d9a9846",
      "value": 1556
     }
    },
    "d2347e4e99eb47e2999b6ec02b2e8891": {
     "model_module": "@jupyter-widgets/controls",
     "model_module_version": "1.5.0",
     "model_name": "DescriptionStyleModel",
     "state": {
      "_model_module": "@jupyter-widgets/controls",
      "_model_module_version": "1.5.0",
      "_model_name": "DescriptionStyleModel",
      "_view_count": null,
      "_view_module": "@jupyter-widgets/base",
      "_view_module_version": "1.2.0",
      "_view_name": "StyleView",
      "description_width": ""
     }
    },
    "dc5959a0334443b38bf2fdae68637c99": {
     "model_module": "@jupyter-widgets/base",
     "model_module_version": "1.2.0",
     "model_name": "LayoutModel",
     "state": {
      "_model_module": "@jupyter-widgets/base",
      "_model_module_version": "1.2.0",
      "_model_name": "LayoutModel",
      "_view_count": null,
      "_view_module": "@jupyter-widgets/base",
      "_view_module_version": "1.2.0",
      "_view_name": "LayoutView",
      "align_content": null,
      "align_items": null,
      "align_self": null,
      "border": null,
      "bottom": null,
      "display": null,
      "flex": null,
      "flex_flow": null,
      "grid_area": null,
      "grid_auto_columns": null,
      "grid_auto_flow": null,
      "grid_auto_rows": null,
      "grid_column": null,
      "grid_gap": null,
      "grid_row": null,
      "grid_template_areas": null,
      "grid_template_columns": null,
      "grid_template_rows": null,
      "height": null,
      "justify_content": null,
      "justify_items": null,
      "left": null,
      "margin": null,
      "max_height": null,
      "max_width": null,
      "min_height": null,
      "min_width": null,
      "object_fit": null,
      "object_position": null,
      "order": null,
      "overflow": null,
      "overflow_x": null,
      "overflow_y": null,
      "padding": null,
      "right": null,
      "top": null,
      "visibility": null,
      "width": null
     }
    },
    "fed28e7d6c5d4213ad5809d2a7724d4b": {
     "model_module": "@jupyter-widgets/base",
     "model_module_version": "1.2.0",
     "model_name": "LayoutModel",
     "state": {
      "_model_module": "@jupyter-widgets/base",
      "_model_module_version": "1.2.0",
      "_model_name": "LayoutModel",
      "_view_count": null,
      "_view_module": "@jupyter-widgets/base",
      "_view_module_version": "1.2.0",
      "_view_name": "LayoutView",
      "align_content": null,
      "align_items": null,
      "align_self": null,
      "border": null,
      "bottom": null,
      "display": null,
      "flex": null,
      "flex_flow": null,
      "grid_area": null,
      "grid_auto_columns": null,
      "grid_auto_flow": null,
      "grid_auto_rows": null,
      "grid_column": null,
      "grid_gap": null,
      "grid_row": null,
      "grid_template_areas": null,
      "grid_template_columns": null,
      "grid_template_rows": null,
      "height": null,
      "justify_content": null,
      "justify_items": null,
      "left": null,
      "margin": null,
      "max_height": null,
      "max_width": null,
      "min_height": null,
      "min_width": null,
      "object_fit": null,
      "object_position": null,
      "order": null,
      "overflow": null,
      "overflow_x": null,
      "overflow_y": null,
      "padding": null,
      "right": null,
      "top": null,
      "visibility": null,
      "width": null
     }
    }
   }
  }
 },
 "nbformat": 4,
 "nbformat_minor": 1
}
