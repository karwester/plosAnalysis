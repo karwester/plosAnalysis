{
 "cells": [
  {
   "cell_type": "markdown",
   "metadata": {
    "colab": {
     "base_uri": "https://localhost:8080/"
    },
    "id": "a47LcLpMyv5M",
    "outputId": "1e06dd13-c7c9-4d83-fd7b-801ef77ccb28"
   },
   "source": [
    "### Dynamic Topic Modeling for PLOS topics\n",
    "This notebook presents the analysis of pychology-related topics published in PLOS over time.\n"
   ]
  },
  {
   "cell_type": "code",
   "execution_count": 1,
   "metadata": {
    "id": "6FrhHfNhv3sS"
   },
   "outputs": [],
   "source": [
    "import pandas as pd\n",
    "#%ls\n",
    "data = pd.read_csv(r'C:\\Users\\karol\\projects\\plosAnalysis\\plosOnePsychologyMetrics.csv')\n",
    "# #data.head()"
   ]
  },
  {
   "cell_type": "code",
   "execution_count": 2,
   "metadata": {},
   "outputs": [
    {
     "data": {
      "text/html": [
       "<div>\n",
       "<style scoped>\n",
       "    .dataframe tbody tr th:only-of-type {\n",
       "        vertical-align: middle;\n",
       "    }\n",
       "\n",
       "    .dataframe tbody tr th {\n",
       "        vertical-align: top;\n",
       "    }\n",
       "\n",
       "    .dataframe thead th {\n",
       "        text-align: right;\n",
       "    }\n",
       "</style>\n",
       "<table border=\"1\" class=\"dataframe\">\n",
       "  <thead>\n",
       "    <tr style=\"text-align: right;\">\n",
       "      <th></th>\n",
       "      <th>id</th>\n",
       "      <th>title</th>\n",
       "      <th>abstract</th>\n",
       "      <th>journal</th>\n",
       "      <th>publication_date</th>\n",
       "      <th>received_date</th>\n",
       "      <th>accepted_date</th>\n",
       "      <th>counter_total_all</th>\n",
       "      <th>counter_total_month</th>\n",
       "      <th>citation_count</th>\n",
       "    </tr>\n",
       "  </thead>\n",
       "  <tbody>\n",
       "    <tr>\n",
       "      <th>0</th>\n",
       "      <td>10.1371/journal.pone.0236792</td>\n",
       "      <td>The link between childhood psychological maltr...</td>\n",
       "      <td>['\\nBased on Attachment Theory, the Barlett an...</td>\n",
       "      <td>PLOS ONE</td>\n",
       "      <td>2020-09-03T00:00:00Z</td>\n",
       "      <td>2020-01-09T00:00:00Z</td>\n",
       "      <td>2020-07-06T00:00:00Z</td>\n",
       "      <td>2465</td>\n",
       "      <td>48</td>\n",
       "      <td>14.0</td>\n",
       "    </tr>\n",
       "    <tr>\n",
       "      <th>1</th>\n",
       "      <td>10.1371/journal.pone.0280457</td>\n",
       "      <td>Need for affect, need for cognition, and the d...</td>\n",
       "      <td>['\\nThe last decade has witnessed a significan...</td>\n",
       "      <td>PLOS ONE</td>\n",
       "      <td>2023-02-09T00:00:00Z</td>\n",
       "      <td>2021-10-08T00:00:00Z</td>\n",
       "      <td>2023-01-03T00:00:00Z</td>\n",
       "      <td>465</td>\n",
       "      <td>25</td>\n",
       "      <td>0.0</td>\n",
       "    </tr>\n",
       "    <tr>\n",
       "      <th>2</th>\n",
       "      <td>10.1371/journal.pone.0192907</td>\n",
       "      <td>The dominance of introspective measures and wh...</td>\n",
       "      <td>['\\nThe behavioral sciences, including most of...</td>\n",
       "      <td>PLOS ONE</td>\n",
       "      <td>2018-02-15T00:00:00Z</td>\n",
       "      <td>2016-11-16T00:00:00Z</td>\n",
       "      <td>2018-02-01T00:00:00Z</td>\n",
       "      <td>2430</td>\n",
       "      <td>17</td>\n",
       "      <td>27.0</td>\n",
       "    </tr>\n",
       "    <tr>\n",
       "      <th>3</th>\n",
       "      <td>10.1371/journal.pone.0224326</td>\n",
       "      <td>Does the psychological profile influence the p...</td>\n",
       "      <td>['\\nStress control as well as other psychologi...</td>\n",
       "      <td>PLOS ONE</td>\n",
       "      <td>2019-11-12T00:00:00Z</td>\n",
       "      <td>2019-05-14T00:00:00Z</td>\n",
       "      <td>2019-10-11T00:00:00Z</td>\n",
       "      <td>2639</td>\n",
       "      <td>17</td>\n",
       "      <td>7.0</td>\n",
       "    </tr>\n",
       "    <tr>\n",
       "      <th>4</th>\n",
       "      <td>10.1371/journal.pone.0245671</td>\n",
       "      <td>The effect of perceived interracial competitio...</td>\n",
       "      <td>['\\nThere remains a dearth of research on caus...</td>\n",
       "      <td>PLOS ONE</td>\n",
       "      <td>2021-01-29T00:00:00Z</td>\n",
       "      <td>2020-07-18T00:00:00Z</td>\n",
       "      <td>2021-01-05T00:00:00Z</td>\n",
       "      <td>2861</td>\n",
       "      <td>22</td>\n",
       "      <td>4.0</td>\n",
       "    </tr>\n",
       "  </tbody>\n",
       "</table>\n",
       "</div>"
      ],
      "text/plain": [
       "                             id  \\\n",
       "0  10.1371/journal.pone.0236792   \n",
       "1  10.1371/journal.pone.0280457   \n",
       "2  10.1371/journal.pone.0192907   \n",
       "3  10.1371/journal.pone.0224326   \n",
       "4  10.1371/journal.pone.0245671   \n",
       "\n",
       "                                               title  \\\n",
       "0  The link between childhood psychological maltr...   \n",
       "1  Need for affect, need for cognition, and the d...   \n",
       "2  The dominance of introspective measures and wh...   \n",
       "3  Does the psychological profile influence the p...   \n",
       "4  The effect of perceived interracial competitio...   \n",
       "\n",
       "                                            abstract   journal  \\\n",
       "0  ['\\nBased on Attachment Theory, the Barlett an...  PLOS ONE   \n",
       "1  ['\\nThe last decade has witnessed a significan...  PLOS ONE   \n",
       "2  ['\\nThe behavioral sciences, including most of...  PLOS ONE   \n",
       "3  ['\\nStress control as well as other psychologi...  PLOS ONE   \n",
       "4  ['\\nThere remains a dearth of research on caus...  PLOS ONE   \n",
       "\n",
       "       publication_date         received_date         accepted_date  \\\n",
       "0  2020-09-03T00:00:00Z  2020-01-09T00:00:00Z  2020-07-06T00:00:00Z   \n",
       "1  2023-02-09T00:00:00Z  2021-10-08T00:00:00Z  2023-01-03T00:00:00Z   \n",
       "2  2018-02-15T00:00:00Z  2016-11-16T00:00:00Z  2018-02-01T00:00:00Z   \n",
       "3  2019-11-12T00:00:00Z  2019-05-14T00:00:00Z  2019-10-11T00:00:00Z   \n",
       "4  2021-01-29T00:00:00Z  2020-07-18T00:00:00Z  2021-01-05T00:00:00Z   \n",
       "\n",
       "   counter_total_all  counter_total_month citation_count  \n",
       "0               2465                   48           14.0  \n",
       "1                465                   25            0.0  \n",
       "2               2430                   17           27.0  \n",
       "3               2639                   17            7.0  \n",
       "4               2861                   22            4.0  "
      ]
     },
     "execution_count": 2,
     "metadata": {},
     "output_type": "execute_result"
    }
   ],
   "source": [
    "data.head()"
   ]
  },
  {
   "cell_type": "markdown",
   "metadata": {},
   "source": [
    "### Remove duplicates and image entries"
   ]
  },
  {
   "cell_type": "code",
   "execution_count": 3,
   "metadata": {
    "id": "pOuVUj960WOV"
   },
   "outputs": [],
   "source": [
    "data[data['title'].duplicated(keep=False)].sort_values('title').head(8)\n",
    "#drop duplicates\n",
    "data = data.drop_duplicates('title')\n",
    "#drop irrelevant titles\n",
    "data = data[~data['title'].str.contains('Issue Image | Vol.')]"
   ]
  },
  {
   "cell_type": "markdown",
   "metadata": {},
   "source": [
    "### Remove stopwords"
   ]
  },
  {
   "cell_type": "code",
   "execution_count": 5,
   "metadata": {
    "colab": {
     "base_uri": "https://localhost:8080/"
    },
    "id": "MJOGuBzoE9ST",
    "outputId": "b708a67e-e6bb-48d9-cb6c-83dad4d3f12b"
   },
   "outputs": [
    {
     "name": "stderr",
     "output_type": "stream",
     "text": [
      "[nltk_data] Downloading package stopwords to\n",
      "[nltk_data]     C:\\Users\\karol\\AppData\\Roaming\\nltk_data...\n",
      "[nltk_data]   Package stopwords is already up-to-date!\n"
     ]
    },
    {
     "data": {
      "text/html": [
       "<div>\n",
       "<style scoped>\n",
       "    .dataframe tbody tr th:only-of-type {\n",
       "        vertical-align: middle;\n",
       "    }\n",
       "\n",
       "    .dataframe tbody tr th {\n",
       "        vertical-align: top;\n",
       "    }\n",
       "\n",
       "    .dataframe thead th {\n",
       "        text-align: right;\n",
       "    }\n",
       "</style>\n",
       "<table border=\"1\" class=\"dataframe\">\n",
       "  <thead>\n",
       "    <tr style=\"text-align: right;\">\n",
       "      <th></th>\n",
       "      <th>id</th>\n",
       "      <th>title</th>\n",
       "      <th>abstract</th>\n",
       "      <th>journal</th>\n",
       "      <th>publication_date</th>\n",
       "      <th>received_date</th>\n",
       "      <th>accepted_date</th>\n",
       "      <th>counter_total_all</th>\n",
       "      <th>counter_total_month</th>\n",
       "      <th>citation_count</th>\n",
       "      <th>textClean</th>\n",
       "    </tr>\n",
       "  </thead>\n",
       "  <tbody>\n",
       "    <tr>\n",
       "      <th>0</th>\n",
       "      <td>10.1371/journal.pone.0236792</td>\n",
       "      <td>The link between childhood psychological maltr...</td>\n",
       "      <td>['\\nBased on Attachment Theory, the Barlett an...</td>\n",
       "      <td>PLOS ONE</td>\n",
       "      <td>2020-09-03T00:00:00Z</td>\n",
       "      <td>2020-01-09T00:00:00Z</td>\n",
       "      <td>2020-07-06T00:00:00Z</td>\n",
       "      <td>2465</td>\n",
       "      <td>48</td>\n",
       "      <td>14.0</td>\n",
       "      <td>link childhood psychological maltreatment cybe...</td>\n",
       "    </tr>\n",
       "    <tr>\n",
       "      <th>1</th>\n",
       "      <td>10.1371/journal.pone.0280457</td>\n",
       "      <td>Need for affect, need for cognition, and the d...</td>\n",
       "      <td>['\\nThe last decade has witnessed a significan...</td>\n",
       "      <td>PLOS ONE</td>\n",
       "      <td>2023-02-09T00:00:00Z</td>\n",
       "      <td>2021-10-08T00:00:00Z</td>\n",
       "      <td>2023-01-03T00:00:00Z</td>\n",
       "      <td>465</td>\n",
       "      <td>25</td>\n",
       "      <td>0.0</td>\n",
       "      <td>Need affect, need cognition, desire independence</td>\n",
       "    </tr>\n",
       "    <tr>\n",
       "      <th>2</th>\n",
       "      <td>10.1371/journal.pone.0192907</td>\n",
       "      <td>The dominance of introspective measures and wh...</td>\n",
       "      <td>['\\nThe behavioral sciences, including most of...</td>\n",
       "      <td>PLOS ONE</td>\n",
       "      <td>2018-02-15T00:00:00Z</td>\n",
       "      <td>2016-11-16T00:00:00Z</td>\n",
       "      <td>2018-02-01T00:00:00Z</td>\n",
       "      <td>2430</td>\n",
       "      <td>17</td>\n",
       "      <td>27.0</td>\n",
       "      <td>dominance introspective measures implies: exam...</td>\n",
       "    </tr>\n",
       "    <tr>\n",
       "      <th>3</th>\n",
       "      <td>10.1371/journal.pone.0224326</td>\n",
       "      <td>Does the psychological profile influence the p...</td>\n",
       "      <td>['\\nStress control as well as other psychologi...</td>\n",
       "      <td>PLOS ONE</td>\n",
       "      <td>2019-11-12T00:00:00Z</td>\n",
       "      <td>2019-05-14T00:00:00Z</td>\n",
       "      <td>2019-10-11T00:00:00Z</td>\n",
       "      <td>2639</td>\n",
       "      <td>17</td>\n",
       "      <td>7.0</td>\n",
       "      <td>psychological profile influence position promi...</td>\n",
       "    </tr>\n",
       "    <tr>\n",
       "      <th>4</th>\n",
       "      <td>10.1371/journal.pone.0245671</td>\n",
       "      <td>The effect of perceived interracial competitio...</td>\n",
       "      <td>['\\nThere remains a dearth of research on caus...</td>\n",
       "      <td>PLOS ONE</td>\n",
       "      <td>2021-01-29T00:00:00Z</td>\n",
       "      <td>2020-07-18T00:00:00Z</td>\n",
       "      <td>2021-01-05T00:00:00Z</td>\n",
       "      <td>2861</td>\n",
       "      <td>22</td>\n",
       "      <td>4.0</td>\n",
       "      <td>effect perceived interracial competition psych...</td>\n",
       "    </tr>\n",
       "  </tbody>\n",
       "</table>\n",
       "</div>"
      ],
      "text/plain": [
       "                             id  \\\n",
       "0  10.1371/journal.pone.0236792   \n",
       "1  10.1371/journal.pone.0280457   \n",
       "2  10.1371/journal.pone.0192907   \n",
       "3  10.1371/journal.pone.0224326   \n",
       "4  10.1371/journal.pone.0245671   \n",
       "\n",
       "                                               title  \\\n",
       "0  The link between childhood psychological maltr...   \n",
       "1  Need for affect, need for cognition, and the d...   \n",
       "2  The dominance of introspective measures and wh...   \n",
       "3  Does the psychological profile influence the p...   \n",
       "4  The effect of perceived interracial competitio...   \n",
       "\n",
       "                                            abstract   journal  \\\n",
       "0  ['\\nBased on Attachment Theory, the Barlett an...  PLOS ONE   \n",
       "1  ['\\nThe last decade has witnessed a significan...  PLOS ONE   \n",
       "2  ['\\nThe behavioral sciences, including most of...  PLOS ONE   \n",
       "3  ['\\nStress control as well as other psychologi...  PLOS ONE   \n",
       "4  ['\\nThere remains a dearth of research on caus...  PLOS ONE   \n",
       "\n",
       "       publication_date         received_date         accepted_date  \\\n",
       "0  2020-09-03T00:00:00Z  2020-01-09T00:00:00Z  2020-07-06T00:00:00Z   \n",
       "1  2023-02-09T00:00:00Z  2021-10-08T00:00:00Z  2023-01-03T00:00:00Z   \n",
       "2  2018-02-15T00:00:00Z  2016-11-16T00:00:00Z  2018-02-01T00:00:00Z   \n",
       "3  2019-11-12T00:00:00Z  2019-05-14T00:00:00Z  2019-10-11T00:00:00Z   \n",
       "4  2021-01-29T00:00:00Z  2020-07-18T00:00:00Z  2021-01-05T00:00:00Z   \n",
       "\n",
       "   counter_total_all  counter_total_month citation_count  \\\n",
       "0               2465                   48           14.0   \n",
       "1                465                   25            0.0   \n",
       "2               2430                   17           27.0   \n",
       "3               2639                   17            7.0   \n",
       "4               2861                   22            4.0   \n",
       "\n",
       "                                           textClean  \n",
       "0  link childhood psychological maltreatment cybe...  \n",
       "1   Need affect, need cognition, desire independence  \n",
       "2  dominance introspective measures implies: exam...  \n",
       "3  psychological profile influence position promi...  \n",
       "4  effect perceived interracial competition psych...  "
      ]
     },
     "execution_count": 5,
     "metadata": {},
     "output_type": "execute_result"
    }
   ],
   "source": [
    "import nltk\n",
    "nltk.download('stopwords')\n",
    "from nltk.corpus import stopwords\n",
    "stop = set(stopwords.words(\"english\"))\n",
    "\n",
    "def remove_stopwords(text) -> str:\n",
    "   #Remove stopwords from text \"\"\"\n",
    "    filtered_words = [word for word in text.split() if word.lower() not in stop]\n",
    "    return \" \".join(filtered_words)\n",
    "data.loc[:, 'textClean'] = data['title'].apply(remove_stopwords)\n",
    "data.head()"
   ]
  },
  {
   "cell_type": "code",
   "execution_count": 6,
   "metadata": {},
   "outputs": [
    {
     "name": "stdout",
     "output_type": "stream",
     "text": [
      "['i', 'me', 'my', 'myself', 'we', 'our', 'ours', 'ourselves', 'you', \"you're\", \"you've\", \"you'll\", \"you'd\", 'your', 'yours', 'yourself', 'yourselves', 'he', 'him', 'his', 'himself', 'she', \"she's\", 'her', 'hers', 'herself', 'it', \"it's\", 'its', 'itself', 'they', 'them', 'their', 'theirs', 'themselves', 'what', 'which', 'who', 'whom', 'this', 'that', \"that'll\", 'these', 'those', 'am', 'is', 'are', 'was', 'were', 'be', 'been', 'being', 'have', 'has', 'had', 'having', 'do', 'does', 'did', 'doing', 'a', 'an', 'the', 'and', 'but', 'if', 'or', 'because', 'as', 'until', 'while', 'of', 'at', 'by', 'for', 'with', 'about', 'against', 'between', 'into', 'through', 'during', 'before', 'after', 'above', 'below', 'to', 'from', 'up', 'down', 'in', 'out', 'on', 'off', 'over', 'under', 'again', 'further', 'then', 'once', 'here', 'there', 'when', 'where', 'why', 'how', 'all', 'any', 'both', 'each', 'few', 'more', 'most', 'other', 'some', 'such', 'no', 'nor', 'not', 'only', 'own', 'same', 'so', 'than', 'too', 'very', 's', 't', 'can', 'will', 'just', 'don', \"don't\", 'should', \"should've\", 'now', 'd', 'll', 'm', 'o', 're', 've', 'y', 'ain', 'aren', \"aren't\", 'couldn', \"couldn't\", 'didn', \"didn't\", 'doesn', \"doesn't\", 'hadn', \"hadn't\", 'hasn', \"hasn't\", 'haven', \"haven't\", 'isn', \"isn't\", 'ma', 'mightn', \"mightn't\", 'mustn', \"mustn't\", 'needn', \"needn't\", 'shan', \"shan't\", 'shouldn', \"shouldn't\", 'wasn', \"wasn't\", 'weren', \"weren't\", 'won', \"won't\", 'wouldn', \"wouldn't\"]\n"
     ]
    }
   ],
   "source": [
    "print(stopwords.words('english'))"
   ]
  },
  {
   "cell_type": "markdown",
   "metadata": {},
   "source": [
    "### Using BERTopic to cluster topics and visualise them over time"
   ]
  },
  {
   "cell_type": "code",
   "execution_count": 7,
   "metadata": {},
   "outputs": [],
   "source": [
    "#bert topic is very slow so selecting only 10% of data first\n",
    "# Determine the number of rows to select (10% of the total rows)\n",
    "subset_size = int(len(data) * 0.1)\n",
    "\n",
    "# Randomly select 10% of the rows\n",
    "random_subset = data.sample(n=subset_size, random_state=42)  # Setting random_state for reproducibility\n",
    "\n",
    "# Create a new DataFrame with the selected rows\n",
    "subset10 = pd.DataFrame(random_subset)"
   ]
  },
  {
   "cell_type": "code",
   "execution_count": 8,
   "metadata": {
    "id": "0haIOaJf5W6k"
   },
   "outputs": [],
   "source": [
    "#docs = data['textClean']\n",
    "# If you are passing strings (dates) instead of integers, then BERTopic will try to automatically \n",
    "# detect which datetime format your strings have. Unfortunately, this will not always work if \n",
    "# they are in an unexpected format. We can use datetime_format to pass the format the timestamps have:\n",
    "timestamps = subset10.publication_date.to_list()\n",
    "titles = subset10.textClean.to_list()\n",
    "\n",
    "# import random\n",
    "# docs_list = list(docs)\n",
    "\n",
    "# # Determine the size of the subset (10% of the data)\n",
    "# subset_size = int(len(docs_list) * 0.1)\n",
    "\n",
    "# # Randomly select 10% of the data\n",
    "# random_subset = random.sample(docs_list, subset_size)\n",
    "\n"
   ]
  },
  {
   "cell_type": "code",
   "execution_count": 9,
   "metadata": {
    "colab": {
     "base_uri": "https://localhost:8080/",
     "height": 101,
     "referenced_widgets": [
      "44f812f51e6e49ca9b0af7be7d855ebe",
      "2ef21d394aed4b1db1d02cd8ae0f6457",
      "ca568a3e59894ae6bb07c9508b7a09dc",
      "41783c46f0b645c08898e41a840fbce2",
      "dc5959a0334443b38bf2fdae68637c99",
      "fed28e7d6c5d4213ad5809d2a7724d4b",
      "d2347e4e99eb47e2999b6ec02b2e8891",
      "8c4553522e1144898dd47380db8a3297",
      "8b4f7b16fa444469993bac193d9a9846",
      "900bf7543e384c6cb2e1482d82e3a55e",
      "0c8f136c59b7415ba8125e44362095e8"
     ]
    },
    "id": "h-HCISRj5c8t",
    "outputId": "280f6115-fdcd-478d-dfe9-f1e75dd7416a"
   },
   "outputs": [
    {
     "name": "stderr",
     "output_type": "stream",
     "text": [
      "C:\\Users\\karol\\myvenv\\Lib\\site-packages\\umap\\distances.py:1063: NumbaDeprecationWarning: \u001b[1mThe 'nopython' keyword argument was not supplied to the 'numba.jit' decorator. The implicit default value for this argument is currently False, but it will be changed to True in Numba 0.59.0. See https://numba.readthedocs.io/en/stable/reference/deprecation.html#deprecation-of-object-mode-fall-back-behaviour-when-using-jit for details.\u001b[0m\n",
      "  @numba.jit()\n",
      "C:\\Users\\karol\\myvenv\\Lib\\site-packages\\umap\\distances.py:1071: NumbaDeprecationWarning: \u001b[1mThe 'nopython' keyword argument was not supplied to the 'numba.jit' decorator. The implicit default value for this argument is currently False, but it will be changed to True in Numba 0.59.0. See https://numba.readthedocs.io/en/stable/reference/deprecation.html#deprecation-of-object-mode-fall-back-behaviour-when-using-jit for details.\u001b[0m\n",
      "  @numba.jit()\n",
      "C:\\Users\\karol\\myvenv\\Lib\\site-packages\\umap\\distances.py:1086: NumbaDeprecationWarning: \u001b[1mThe 'nopython' keyword argument was not supplied to the 'numba.jit' decorator. The implicit default value for this argument is currently False, but it will be changed to True in Numba 0.59.0. See https://numba.readthedocs.io/en/stable/reference/deprecation.html#deprecation-of-object-mode-fall-back-behaviour-when-using-jit for details.\u001b[0m\n",
      "  @numba.jit()\n",
      "C:\\Users\\karol\\myvenv\\Lib\\site-packages\\tqdm\\auto.py:21: TqdmWarning: IProgress not found. Please update jupyter and ipywidgets. See https://ipywidgets.readthedocs.io/en/stable/user_install.html\n",
      "  from .autonotebook import tqdm as notebook_tqdm\n",
      "C:\\Users\\karol\\myvenv\\Lib\\site-packages\\umap\\umap_.py:660: NumbaDeprecationWarning: \u001b[1mThe 'nopython' keyword argument was not supplied to the 'numba.jit' decorator. The implicit default value for this argument is currently False, but it will be changed to True in Numba 0.59.0. See https://numba.readthedocs.io/en/stable/reference/deprecation.html#deprecation-of-object-mode-fall-back-behaviour-when-using-jit for details.\u001b[0m\n",
      "  @numba.jit()\n",
      "Batches: 100%|██████████████████████████████████████████████████████████████████████████████████████| 44/44 [00:21<00:00,  2.00it/s]\n",
      "2023-09-11 13:42:57,640 - BERTopic - Transformed documents to Embeddings\n",
      "2023-09-11 13:43:21,664 - BERTopic - Reduced dimensionality\n",
      "2023-09-11 13:43:21,941 - BERTopic - Clustered reduced embeddings\n"
     ]
    }
   ],
   "source": [
    "from bertopic import BERTopic\n",
    "\n",
    "topic_model = BERTopic(language=\"english\", calculate_probabilities=True, verbose=True)\n",
    "topics, probs = topic_model.fit_transform(titles)"
   ]
  },
  {
   "cell_type": "code",
   "execution_count": 10,
   "metadata": {},
   "outputs": [
    {
     "name": "stderr",
     "output_type": "stream",
     "text": [
      "20it [00:00, 21.77it/s]\n"
     ]
    }
   ],
   "source": [
    "# From these topics, we are going to generate the topic representations at each \n",
    "# timestamp for each topic. We do this by simply calling \n",
    "# topics_over_time and passing the titles, \n",
    "# the corresponding timestamps, and the related topics:\n",
    "topics_over_time = topic_model.topics_over_time(titles, timestamps, nr_bins=20)"
   ]
  },
  {
   "cell_type": "code",
   "execution_count": 13,
   "metadata": {},
   "outputs": [
    {
     "data": {
      "application/vnd.plotly.v1+json": {
       "config": {
        "plotlyServerURL": "https://plot.ly"
       },
       "data": [
        {
         "hoverinfo": "text",
         "hovertext": [
          "<b>Topic 0</b><br>Words: emergence, peaceful, baboons, wild, culture",
          "<b>Topic 0</b><br>Words: move, restlessness, genomics, ready, remnants",
          "<b>Topic 0</b><br>Words: proper, brains, songbird, could, linking",
          "<b>Topic 0</b><br>Words: forest, cohesion, househunting, gathering, chimpanzees",
          "<b>Topic 0</b><br>Words: billardierii, wasp, aggregatedfish, cuticular, bouquet",
          "<b>Topic 0</b><br>Words: ant, foraging, conservation, fish, birds",
          "<b>Topic 0</b><br>Words: caretta, ecological, ants, bifurcations, avoiding",
          "<b>Topic 0</b><br>Words: female, lizard, rut, ibex, foraging",
          "<b>Topic 0</b><br>Words: animal, behaviour, foraging, vasotocin, wood",
          "<b>Topic 0</b><br>Words: calls, fish, based, ant, elephas",
          "<b>Topic 0</b><br>Words: dispersal, caenorhabditis, heat, resource, stereotypical",
          "<b>Topic 0</b><br>Words: fortress, foragers, parasite, choosy, discriminated",
          "<b>Topic 0</b><br>Words: grunt, mating, olive, dipteratephritidae, coquillet",
          "<b>Topic 0</b><br>Words: panda, harrisii, ailuropoda, tasmanian, scavenger",
          "<b>Topic 0</b><br>Words: foraging, environmental, tetrao, orangefronted, grouse",
          "<b>Topic 0</b><br>Words: foraging, fenced, antipredator, northeast, nonbreeding",
          "<b>Topic 0</b><br>Words: reduction, passer, eudyptes, convey, sparrows"
         ],
         "marker": {
          "color": "#E69F00"
         },
         "mode": "lines",
         "name": "0_foraging_ant_breeding_ants",
         "type": "scatter",
         "x": [
          "2004-04-05T23:39:50.400000+00:00",
          "2006-03-15T09:36:00+00:00",
          "2008-02-14T19:12:00+00:00",
          "2010-01-16T04:48:00+00:00",
          "2011-01-01T21:36:00+00:00",
          "2011-12-18T14:24:00+00:00",
          "2012-12-03T07:12:00+00:00",
          "2013-11-19T00:00:00+00:00",
          "2014-11-04T16:48:00+00:00",
          "2015-10-21T09:36:00+00:00",
          "2016-10-06T02:24:00+00:00",
          "2017-09-21T19:12:00+00:00",
          "2018-09-07T12:00:00+00:00",
          "2019-08-24T04:48:00+00:00",
          "2020-08-08T21:36:00+00:00",
          "2021-07-25T14:24:00+00:00",
          "2022-07-11T07:12:00+00:00"
         ],
         "y": [
          1,
          2,
          1,
          2,
          5,
          12,
          8,
          11,
          8,
          9,
          3,
          2,
          7,
          3,
          7,
          7,
          4
         ]
        },
        {
         "hoverinfo": "text",
         "hovertext": [
          "<b>Topic 1</b><br>Words: biosocial, feminine, peacekeepers, warriors, masculine",
          "<b>Topic 1</b><br>Words: drive, affectivelybased, forager, cognitivelybased, affectivecognitive",
          "<b>Topic 1</b><br>Words: majority, stock, gender, parsimony, overtrading",
          "<b>Topic 1</b><br>Words: betrayal, aversion, identity, social, prosocial",
          "<b>Topic 1</b><br>Words: childrens, young, different, group, internalising",
          "<b>Topic 1</b><br>Words: war, peace, diversity, toward, attitudes",
          "<b>Topic 1</b><br>Words: trust, excluded, multipleround, bullshitsensitivity, varieties",
          "<b>Topic 1</b><br>Words: humanization, outgroup, ingroup, errorrelated, dualplayer",
          "<b>Topic 1</b><br>Words: rejection, presidential, benefit, election, activism",
          "<b>Topic 1</b><br>Words: contest, hedonistic, saboteurs, subsequent, revenge",
          "<b>Topic 1</b><br>Words: but, solitude, corporate, reputation, intergroup",
          "<b>Topic 1</b><br>Words: gender, intergroup, prosocial, stock, affect"
         ],
         "marker": {
          "color": "#56B4E9"
         },
         "mode": "lines",
         "name": "1_intergroup_prosocial_social_stock",
         "type": "scatter",
         "x": [
          "2011-12-18T14:24:00+00:00",
          "2012-12-03T07:12:00+00:00",
          "2013-11-19T00:00:00+00:00",
          "2014-11-04T16:48:00+00:00",
          "2015-10-21T09:36:00+00:00",
          "2016-10-06T02:24:00+00:00",
          "2017-09-21T19:12:00+00:00",
          "2018-09-07T12:00:00+00:00",
          "2019-08-24T04:48:00+00:00",
          "2020-08-08T21:36:00+00:00",
          "2021-07-25T14:24:00+00:00",
          "2022-07-11T07:12:00+00:00"
         ],
         "y": [
          1,
          2,
          5,
          10,
          5,
          4,
          6,
          5,
          4,
          3,
          7,
          9
         ]
        },
        {
         "hoverinfo": "text",
         "hovertext": [
          "<b>Topic 2</b><br>Words: rwanda, quasiexperimental, mass, survivors, violence",
          "<b>Topic 2</b><br>Words: posttraumatic, palestinians, infectedcan, immigrant, jews",
          "<b>Topic 2</b><br>Words: thai, injury, following, large, cohort",
          "<b>Topic 2</b><br>Words: covid19, pandemic, anxiety, psychological, health",
          "<b>Topic 2</b><br>Words: covid19, pandemic, health, healthcare, mental",
          "<b>Topic 2</b><br>Words: covid19, pandemic, mental, health, distress"
         ],
         "marker": {
          "color": "#009E73"
         },
         "mode": "lines",
         "name": "2_covid19_pandemic_health_mental",
         "type": "scatter",
         "x": [
          "2011-01-01T21:36:00+00:00",
          "2014-11-04T16:48:00+00:00",
          "2016-10-06T02:24:00+00:00",
          "2020-08-08T21:36:00+00:00",
          "2021-07-25T14:24:00+00:00",
          "2022-07-11T07:12:00+00:00"
         ],
         "y": [
          1,
          3,
          1,
          13,
          21,
          15
         ]
        },
        {
         "hoverinfo": "text",
         "hovertext": [
          "<b>Topic 3</b><br>Words: depressivelike, overcomes, enriched, juvenile, induced",
          "<b>Topic 3</b><br>Words: illnesses, middleaged, chronic, older, wellbeing",
          "<b>Topic 3</b><br>Words: realism, mediating, level, depressive, activity",
          "<b>Topic 3</b><br>Words: selfhelp, depression, email, intertemporal, determinants",
          "<b>Topic 3</b><br>Words: coping, item, bifactor, coexistence, styles",
          "<b>Topic 3</b><br>Words: coping, stress, 12045, breast, mass",
          "<b>Topic 3</b><br>Words: job, psychological, breach, paradoxical, internetdelivered",
          "<b>Topic 3</b><br>Words: icu, surrogate, preliminary, relevant, identification",
          "<b>Topic 3</b><br>Words: trier, stress, coping, longitudinal, test",
          "<b>Topic 3</b><br>Words: decore21, original, police, confirmatory, repeatedly",
          "<b>Topic 3</b><br>Words: petrochemical, volunteering, japan, industry, physicians",
          "<b>Topic 3</b><br>Words: stress, happy, helpif, laboratory, sad",
          "<b>Topic 3</b><br>Words: mindset, polish, stress, male, strategies",
          "<b>Topic 3</b><br>Words: cope, brief, united, older, depression"
         ],
         "marker": {
          "color": "#F0E442"
         },
         "mode": "lines",
         "name": "3_stress_coping_psychological_depression",
         "type": "scatter",
         "x": [
          "2008-02-14T19:12:00+00:00",
          "2011-01-01T21:36:00+00:00",
          "2011-12-18T14:24:00+00:00",
          "2012-12-03T07:12:00+00:00",
          "2013-11-19T00:00:00+00:00",
          "2014-11-04T16:48:00+00:00",
          "2015-10-21T09:36:00+00:00",
          "2016-10-06T02:24:00+00:00",
          "2017-09-21T19:12:00+00:00",
          "2018-09-07T12:00:00+00:00",
          "2019-08-24T04:48:00+00:00",
          "2020-08-08T21:36:00+00:00",
          "2021-07-25T14:24:00+00:00",
          "2022-07-11T07:12:00+00:00"
         ],
         "y": [
          1,
          1,
          1,
          3,
          1,
          3,
          5,
          1,
          4,
          3,
          3,
          6,
          6,
          7
         ]
        },
        {
         "hoverinfo": "text",
         "hovertext": [
          "<b>Topic 4</b><br>Words: sternjudging, successful, norm, reciprocity, cooperation",
          "<b>Topic 4</b><br>Words: recruit, egalitarian, subsets, alliance, theoryofmind",
          "<b>Topic 4</b><br>Words: accidental, trembling, guide, punishment, hand",
          "<b>Topic 4</b><br>Words: reciprocity, incomplete, conundrum, incipient, differentiation",
          "<b>Topic 4</b><br>Words: games, epr, unique, rationality, nplayer",
          "<b>Topic 4</b><br>Words: punishment, dilemmas, cooperation, game, coordination",
          "<b>Topic 4</b><br>Words: dilemmas, game, minimum, explorationexploitation, travelers",
          "<b>Topic 4</b><br>Words: evolution, cooperation, reciprocity, metaincentives, strong",
          "<b>Topic 4</b><br>Words: cooperation, games, experimental, reciprocity, inefficient",
          "<b>Topic 4</b><br>Words: fuzzy, behave, economics, economists, rulebased",
          "<b>Topic 4</b><br>Words: tdma, examples, illustrated, create, serious",
          "<b>Topic 4</b><br>Words: overconfident, help, spillovers, conveniently, naively",
          "<b>Topic 4</b><br>Words: conditional, riskseeking, goods, provide, selfish",
          "<b>Topic 4</b><br>Words: mutations, multigames, ethics, ecoevolutionary, cav"
         ],
         "marker": {
          "color": "#D55E00"
         },
         "mode": "lines",
         "name": "4_cooperation_game_games_reciprocity",
         "type": "scatter",
         "x": [
          "2006-03-15T09:36:00+00:00",
          "2008-02-14T19:12:00+00:00",
          "2009-01-30T12:00:00+00:00",
          "2011-01-01T21:36:00+00:00",
          "2011-12-18T14:24:00+00:00",
          "2012-12-03T07:12:00+00:00",
          "2013-11-19T00:00:00+00:00",
          "2014-11-04T16:48:00+00:00",
          "2015-10-21T09:36:00+00:00",
          "2016-10-06T02:24:00+00:00",
          "2017-09-21T19:12:00+00:00",
          "2018-09-07T12:00:00+00:00",
          "2021-07-25T14:24:00+00:00",
          "2022-07-11T07:12:00+00:00"
         ],
         "y": [
          1,
          3,
          1,
          4,
          3,
          6,
          2,
          5,
          5,
          3,
          2,
          2,
          1,
          2
         ]
        },
        {
         "hoverinfo": "text",
         "hovertext": [
          "<b>Topic 5</b><br>Words: selfgenerated, touch, perspective, neural, perception",
          "<b>Topic 5</b><br>Words: rabbit, cutaneous, tactile, replicates, spatiotemporal",
          "<b>Topic 5</b><br>Words: swapping, you, illusion, body, perceptual",
          "<b>Topic 5</b><br>Words: crossorientation, release, facilitates, shape, 3d",
          "<b>Topic 5</b><br>Words: reference, intrinsic, frames, multiple, space",
          "<b>Topic 5</b><br>Words: hand, rubber, anothers, drift, proprioceptive",
          "<b>Topic 5</b><br>Words: approachavoidance, posture, index, behavior, touch",
          "<b>Topic 5</b><br>Words: vestibular, touch, perception, face, human",
          "<b>Topic 5</b><br>Words: leaky, dexterity, flask, finger, acuity",
          "<b>Topic 5</b><br>Words: touch, vestibular, reciprocal, visuopostural, represented",
          "<b>Topic 5</b><br>Words: vertical, postural, subjective, vestibular, vection",
          "<b>Topic 5</b><br>Words: illusory, weak, aesthetics, curved, surfaces",
          "<b>Topic 5</b><br>Words: inclination, visuallyinduced, numerosity, independently, parallel",
          "<b>Topic 5</b><br>Words: ownership, body, executed, avatarsimon, observed",
          "<b>Topic 5</b><br>Words: cuedependent, upright, motionindepth, vr, orientation",
          "<b>Topic 5</b><br>Words: putting, quiet, visualviewing, stance, robot",
          "<b>Topic 5</b><br>Words: velocity, caress, vicarious, touch, location",
          "<b>Topic 5</b><br>Words: boundary, blurring, assessed, me, hold"
         ],
         "marker": {
          "color": "#0072B2"
         },
         "mode": "lines",
         "name": "5_touch_perception_vestibular_body",
         "type": "scatter",
         "x": [
          "2005-03-29T16:48:00+00:00",
          "2007-03-01T02:24:00+00:00",
          "2008-02-14T19:12:00+00:00",
          "2009-01-30T12:00:00+00:00",
          "2010-01-16T04:48:00+00:00",
          "2011-01-01T21:36:00+00:00",
          "2011-12-18T14:24:00+00:00",
          "2012-12-03T07:12:00+00:00",
          "2013-11-19T00:00:00+00:00",
          "2014-11-04T16:48:00+00:00",
          "2015-10-21T09:36:00+00:00",
          "2016-10-06T02:24:00+00:00",
          "2017-09-21T19:12:00+00:00",
          "2018-09-07T12:00:00+00:00",
          "2019-08-24T04:48:00+00:00",
          "2020-08-08T21:36:00+00:00",
          "2021-07-25T14:24:00+00:00",
          "2022-07-11T07:12:00+00:00"
         ],
         "y": [
          1,
          1,
          1,
          1,
          1,
          2,
          1,
          6,
          2,
          4,
          5,
          3,
          2,
          3,
          2,
          2,
          1,
          2
         ]
        },
        {
         "hoverinfo": "text",
         "hovertext": [
          "<b>Topic 6</b><br>Words: rotation, soccer, players, male, performance",
          "<b>Topic 6</b><br>Words: 2997, doping, triathletes, crosssectional, associations",
          "<b>Topic 6</b><br>Words: under15, tactical, soccer, players, decisionmaking",
          "<b>Topic 6</b><br>Words: educational, executing, kick, placement, players",
          "<b>Topic 6</b><br>Words: sprinting, breakpoint, accelerated, existence, u20",
          "<b>Topic 6</b><br>Words: anova, technical, sem, soccer, adolescence",
          "<b>Topic 6</b><br>Words: age, players, championships, sportinduced, workload",
          "<b>Topic 6</b><br>Words: sport, worldranked, swimmers, grades, doping",
          "<b>Topic 6</b><br>Words: soccer, recreational, defining, deceptive, position",
          "<b>Topic 6</b><br>Words: players, elite, performance, handball, sport",
          "<b>Topic 6</b><br>Words: players, training, soccer, adding, progression",
          "<b>Topic 6</b><br>Words: performance, handball, players, smallsided, tactics"
         ],
         "marker": {
          "color": "#CC79A7"
         },
         "mode": "lines",
         "name": "6_players_soccer_elite_performance",
         "type": "scatter",
         "x": [
          "2011-12-18T14:24:00+00:00",
          "2012-12-03T07:12:00+00:00",
          "2013-11-19T00:00:00+00:00",
          "2014-11-04T16:48:00+00:00",
          "2015-10-21T09:36:00+00:00",
          "2016-10-06T02:24:00+00:00",
          "2017-09-21T19:12:00+00:00",
          "2018-09-07T12:00:00+00:00",
          "2019-08-24T04:48:00+00:00",
          "2020-08-08T21:36:00+00:00",
          "2021-07-25T14:24:00+00:00",
          "2022-07-11T07:12:00+00:00"
         ],
         "y": [
          1,
          1,
          1,
          2,
          3,
          1,
          3,
          3,
          5,
          9,
          4,
          5
         ]
        },
        {
         "hoverinfo": "text",
         "hovertext": [
          "<b>Topic 7</b><br>Words: uncertainty, discrete, unstable, confidence, correlate",
          "<b>Topic 7</b><br>Words: reviewing, answers, something, split, theres",
          "<b>Topic 7</b><br>Words: correcting, elderly, instance, hardly, ways",
          "<b>Topic 7</b><br>Words: affordable, architecture, approaching, accounts, risktakers",
          "<b>Topic 7</b><br>Words: weighting, justice, inequality, merit, confidence",
          "<b>Topic 7</b><br>Words: deliberative, off, voters, modelbased, rational",
          "<b>Topic 7</b><br>Words: timevarying, violations, luminance, sunshine, in",
          "<b>Topic 7</b><br>Words: choice, intergenerational, instability, unifying, impose",
          "<b>Topic 7</b><br>Words: learn, mindsets, fortunes, acupuncture, scheme",
          "<b>Topic 7</b><br>Words: product, iot, multiintent, dialogue, conversations",
          "<b>Topic 7</b><br>Words: endogenous, origin, repeated, options, default",
          "<b>Topic 7</b><br>Words: claiming, decisions, costs, decisionmaking, choice",
          "<b>Topic 7</b><br>Words: win, its, price, fair, suggested"
         ],
         "marker": {
          "color": "#E69F00"
         },
         "mode": "lines",
         "name": "7_choice_decisions_uncertainty_confidenc...",
         "type": "scatter",
         "x": [
          "2011-01-01T21:36:00+00:00",
          "2011-12-18T14:24:00+00:00",
          "2012-12-03T07:12:00+00:00",
          "2013-11-19T00:00:00+00:00",
          "2014-11-04T16:48:00+00:00",
          "2015-10-21T09:36:00+00:00",
          "2016-10-06T02:24:00+00:00",
          "2017-09-21T19:12:00+00:00",
          "2018-09-07T12:00:00+00:00",
          "2019-08-24T04:48:00+00:00",
          "2020-08-08T21:36:00+00:00",
          "2021-07-25T14:24:00+00:00",
          "2022-07-11T07:12:00+00:00"
         ],
         "y": [
          2,
          2,
          2,
          4,
          2,
          3,
          2,
          5,
          3,
          2,
          1,
          6,
          3
         ]
        },
        {
         "hoverinfo": "text",
         "hovertext": [
          "<b>Topic 8</b><br>Words: cortices, insular, posterior, alterations, disproportionate",
          "<b>Topic 8</b><br>Words: faces, emotional, processing, facial, expressions",
          "<b>Topic 8</b><br>Words: facial, emotional, emotions, processing, stroop",
          "<b>Topic 8</b><br>Words: crowd, quickly, found, angry, tracking",
          "<b>Topic 8</b><br>Words: facial, investigation, fibromyalgia, intrapersonal, blushing",
          "<b>Topic 8</b><br>Words: facial, emotional, mimicry, faces, nondemented",
          "<b>Topic 8</b><br>Words: disrupt, consolidation, intense, facebody, victory",
          "<b>Topic 8</b><br>Words: security, attachment, benefits, working, memory",
          "<b>Topic 8</b><br>Words: emotional, 3yearolds, suggestions, strengthen, dlpc",
          "<b>Topic 8</b><br>Words: emotion, interface, sensor, rgbd, masks",
          "<b>Topic 8</b><br>Words: gyrus, supramarginal, volume, maintenance, right",
          "<b>Topic 8</b><br>Words: surgical, mask, covariation, impair, arousal",
          "<b>Topic 8</b><br>Words: tdcs, adverse, exclusion, underlying, mechanism"
         ],
         "marker": {
          "color": "#56B4E9"
         },
         "mode": "lines",
         "name": "8_facial_emotional_emotion_faces",
         "type": "scatter",
         "x": [
          "2011-01-01T21:36:00+00:00",
          "2011-12-18T14:24:00+00:00",
          "2012-12-03T07:12:00+00:00",
          "2013-11-19T00:00:00+00:00",
          "2014-11-04T16:48:00+00:00",
          "2015-10-21T09:36:00+00:00",
          "2016-10-06T02:24:00+00:00",
          "2017-09-21T19:12:00+00:00",
          "2018-09-07T12:00:00+00:00",
          "2019-08-24T04:48:00+00:00",
          "2020-08-08T21:36:00+00:00",
          "2021-07-25T14:24:00+00:00",
          "2022-07-11T07:12:00+00:00"
         ],
         "y": [
          2,
          5,
          5,
          1,
          3,
          5,
          2,
          1,
          4,
          2,
          1,
          2,
          1
         ]
        },
        {
         "hoverinfo": "text",
         "hovertext": [
          "<b>Topic 9</b><br>Words: relativity, euphemisms, swearing, linguistic, language",
          "<b>Topic 9</b><br>Words: sentence, boundaries, twoitem, familiaris, canis",
          "<b>Topic 9</b><br>Words: cas, receptive, composite, multimethod, eight",
          "<b>Topic 9</b><br>Words: translated, computer, text, readerships, translations",
          "<b>Topic 9</b><br>Words: meanings, modality, crosslingual, term, overnight",
          "<b>Topic 9</b><br>Words: lexical, english, language, madrid, crevice",
          "<b>Topic 9</b><br>Words: language, chinese, early, children, efl",
          "<b>Topic 9</b><br>Words: selfserving, crosslinguistic, core, learner, mechanics",
          "<b>Topic 9</b><br>Words: subjectonly, sentences, malandragem, firstperson, jeitinho",
          "<b>Topic 9</b><br>Words: semantic, supports, names, unseen, bilinguals",
          "<b>Topic 9</b><br>Words: debriefing, bilingual, communicate, second, flexibility",
          "<b>Topic 9</b><br>Words: lexical, nonspanishspeaking, grammatical, intelligibility, californians"
         ],
         "marker": {
          "color": "#009E73"
         },
         "mode": "lines",
         "name": "9_language_lexical_chinese_children",
         "type": "scatter",
         "x": [
          "2011-01-01T21:36:00+00:00",
          "2011-12-18T14:24:00+00:00",
          "2012-12-03T07:12:00+00:00",
          "2013-11-19T00:00:00+00:00",
          "2014-11-04T16:48:00+00:00",
          "2015-10-21T09:36:00+00:00",
          "2016-10-06T02:24:00+00:00",
          "2017-09-21T19:12:00+00:00",
          "2018-09-07T12:00:00+00:00",
          "2020-08-08T21:36:00+00:00",
          "2021-07-25T14:24:00+00:00",
          "2022-07-11T07:12:00+00:00"
         ],
         "y": [
          1,
          2,
          3,
          2,
          2,
          5,
          4,
          2,
          3,
          2,
          3,
          3
         ]
        }
       ],
       "layout": {
        "height": 450,
        "hoverlabel": {
         "bgcolor": "white",
         "font": {
          "family": "Rockwell",
          "size": 16
         }
        },
        "legend": {
         "title": {
          "text": "<b>Global Topic Representation"
         }
        },
        "template": {
         "data": {
          "bar": [
           {
            "error_x": {
             "color": "rgb(36,36,36)"
            },
            "error_y": {
             "color": "rgb(36,36,36)"
            },
            "marker": {
             "line": {
              "color": "white",
              "width": 0.5
             },
             "pattern": {
              "fillmode": "overlay",
              "size": 10,
              "solidity": 0.2
             }
            },
            "type": "bar"
           }
          ],
          "barpolar": [
           {
            "marker": {
             "line": {
              "color": "white",
              "width": 0.5
             },
             "pattern": {
              "fillmode": "overlay",
              "size": 10,
              "solidity": 0.2
             }
            },
            "type": "barpolar"
           }
          ],
          "carpet": [
           {
            "aaxis": {
             "endlinecolor": "rgb(36,36,36)",
             "gridcolor": "white",
             "linecolor": "white",
             "minorgridcolor": "white",
             "startlinecolor": "rgb(36,36,36)"
            },
            "baxis": {
             "endlinecolor": "rgb(36,36,36)",
             "gridcolor": "white",
             "linecolor": "white",
             "minorgridcolor": "white",
             "startlinecolor": "rgb(36,36,36)"
            },
            "type": "carpet"
           }
          ],
          "choropleth": [
           {
            "colorbar": {
             "outlinewidth": 1,
             "tickcolor": "rgb(36,36,36)",
             "ticks": "outside"
            },
            "type": "choropleth"
           }
          ],
          "contour": [
           {
            "colorbar": {
             "outlinewidth": 1,
             "tickcolor": "rgb(36,36,36)",
             "ticks": "outside"
            },
            "colorscale": [
             [
              0,
              "#440154"
             ],
             [
              0.1111111111111111,
              "#482878"
             ],
             [
              0.2222222222222222,
              "#3e4989"
             ],
             [
              0.3333333333333333,
              "#31688e"
             ],
             [
              0.4444444444444444,
              "#26828e"
             ],
             [
              0.5555555555555556,
              "#1f9e89"
             ],
             [
              0.6666666666666666,
              "#35b779"
             ],
             [
              0.7777777777777778,
              "#6ece58"
             ],
             [
              0.8888888888888888,
              "#b5de2b"
             ],
             [
              1,
              "#fde725"
             ]
            ],
            "type": "contour"
           }
          ],
          "contourcarpet": [
           {
            "colorbar": {
             "outlinewidth": 1,
             "tickcolor": "rgb(36,36,36)",
             "ticks": "outside"
            },
            "type": "contourcarpet"
           }
          ],
          "heatmap": [
           {
            "colorbar": {
             "outlinewidth": 1,
             "tickcolor": "rgb(36,36,36)",
             "ticks": "outside"
            },
            "colorscale": [
             [
              0,
              "#440154"
             ],
             [
              0.1111111111111111,
              "#482878"
             ],
             [
              0.2222222222222222,
              "#3e4989"
             ],
             [
              0.3333333333333333,
              "#31688e"
             ],
             [
              0.4444444444444444,
              "#26828e"
             ],
             [
              0.5555555555555556,
              "#1f9e89"
             ],
             [
              0.6666666666666666,
              "#35b779"
             ],
             [
              0.7777777777777778,
              "#6ece58"
             ],
             [
              0.8888888888888888,
              "#b5de2b"
             ],
             [
              1,
              "#fde725"
             ]
            ],
            "type": "heatmap"
           }
          ],
          "heatmapgl": [
           {
            "colorbar": {
             "outlinewidth": 1,
             "tickcolor": "rgb(36,36,36)",
             "ticks": "outside"
            },
            "colorscale": [
             [
              0,
              "#440154"
             ],
             [
              0.1111111111111111,
              "#482878"
             ],
             [
              0.2222222222222222,
              "#3e4989"
             ],
             [
              0.3333333333333333,
              "#31688e"
             ],
             [
              0.4444444444444444,
              "#26828e"
             ],
             [
              0.5555555555555556,
              "#1f9e89"
             ],
             [
              0.6666666666666666,
              "#35b779"
             ],
             [
              0.7777777777777778,
              "#6ece58"
             ],
             [
              0.8888888888888888,
              "#b5de2b"
             ],
             [
              1,
              "#fde725"
             ]
            ],
            "type": "heatmapgl"
           }
          ],
          "histogram": [
           {
            "marker": {
             "line": {
              "color": "white",
              "width": 0.6
             }
            },
            "type": "histogram"
           }
          ],
          "histogram2d": [
           {
            "colorbar": {
             "outlinewidth": 1,
             "tickcolor": "rgb(36,36,36)",
             "ticks": "outside"
            },
            "colorscale": [
             [
              0,
              "#440154"
             ],
             [
              0.1111111111111111,
              "#482878"
             ],
             [
              0.2222222222222222,
              "#3e4989"
             ],
             [
              0.3333333333333333,
              "#31688e"
             ],
             [
              0.4444444444444444,
              "#26828e"
             ],
             [
              0.5555555555555556,
              "#1f9e89"
             ],
             [
              0.6666666666666666,
              "#35b779"
             ],
             [
              0.7777777777777778,
              "#6ece58"
             ],
             [
              0.8888888888888888,
              "#b5de2b"
             ],
             [
              1,
              "#fde725"
             ]
            ],
            "type": "histogram2d"
           }
          ],
          "histogram2dcontour": [
           {
            "colorbar": {
             "outlinewidth": 1,
             "tickcolor": "rgb(36,36,36)",
             "ticks": "outside"
            },
            "colorscale": [
             [
              0,
              "#440154"
             ],
             [
              0.1111111111111111,
              "#482878"
             ],
             [
              0.2222222222222222,
              "#3e4989"
             ],
             [
              0.3333333333333333,
              "#31688e"
             ],
             [
              0.4444444444444444,
              "#26828e"
             ],
             [
              0.5555555555555556,
              "#1f9e89"
             ],
             [
              0.6666666666666666,
              "#35b779"
             ],
             [
              0.7777777777777778,
              "#6ece58"
             ],
             [
              0.8888888888888888,
              "#b5de2b"
             ],
             [
              1,
              "#fde725"
             ]
            ],
            "type": "histogram2dcontour"
           }
          ],
          "mesh3d": [
           {
            "colorbar": {
             "outlinewidth": 1,
             "tickcolor": "rgb(36,36,36)",
             "ticks": "outside"
            },
            "type": "mesh3d"
           }
          ],
          "parcoords": [
           {
            "line": {
             "colorbar": {
              "outlinewidth": 1,
              "tickcolor": "rgb(36,36,36)",
              "ticks": "outside"
             }
            },
            "type": "parcoords"
           }
          ],
          "pie": [
           {
            "automargin": true,
            "type": "pie"
           }
          ],
          "scatter": [
           {
            "fillpattern": {
             "fillmode": "overlay",
             "size": 10,
             "solidity": 0.2
            },
            "type": "scatter"
           }
          ],
          "scatter3d": [
           {
            "line": {
             "colorbar": {
              "outlinewidth": 1,
              "tickcolor": "rgb(36,36,36)",
              "ticks": "outside"
             }
            },
            "marker": {
             "colorbar": {
              "outlinewidth": 1,
              "tickcolor": "rgb(36,36,36)",
              "ticks": "outside"
             }
            },
            "type": "scatter3d"
           }
          ],
          "scattercarpet": [
           {
            "marker": {
             "colorbar": {
              "outlinewidth": 1,
              "tickcolor": "rgb(36,36,36)",
              "ticks": "outside"
             }
            },
            "type": "scattercarpet"
           }
          ],
          "scattergeo": [
           {
            "marker": {
             "colorbar": {
              "outlinewidth": 1,
              "tickcolor": "rgb(36,36,36)",
              "ticks": "outside"
             }
            },
            "type": "scattergeo"
           }
          ],
          "scattergl": [
           {
            "marker": {
             "colorbar": {
              "outlinewidth": 1,
              "tickcolor": "rgb(36,36,36)",
              "ticks": "outside"
             }
            },
            "type": "scattergl"
           }
          ],
          "scattermapbox": [
           {
            "marker": {
             "colorbar": {
              "outlinewidth": 1,
              "tickcolor": "rgb(36,36,36)",
              "ticks": "outside"
             }
            },
            "type": "scattermapbox"
           }
          ],
          "scatterpolar": [
           {
            "marker": {
             "colorbar": {
              "outlinewidth": 1,
              "tickcolor": "rgb(36,36,36)",
              "ticks": "outside"
             }
            },
            "type": "scatterpolar"
           }
          ],
          "scatterpolargl": [
           {
            "marker": {
             "colorbar": {
              "outlinewidth": 1,
              "tickcolor": "rgb(36,36,36)",
              "ticks": "outside"
             }
            },
            "type": "scatterpolargl"
           }
          ],
          "scatterternary": [
           {
            "marker": {
             "colorbar": {
              "outlinewidth": 1,
              "tickcolor": "rgb(36,36,36)",
              "ticks": "outside"
             }
            },
            "type": "scatterternary"
           }
          ],
          "surface": [
           {
            "colorbar": {
             "outlinewidth": 1,
             "tickcolor": "rgb(36,36,36)",
             "ticks": "outside"
            },
            "colorscale": [
             [
              0,
              "#440154"
             ],
             [
              0.1111111111111111,
              "#482878"
             ],
             [
              0.2222222222222222,
              "#3e4989"
             ],
             [
              0.3333333333333333,
              "#31688e"
             ],
             [
              0.4444444444444444,
              "#26828e"
             ],
             [
              0.5555555555555556,
              "#1f9e89"
             ],
             [
              0.6666666666666666,
              "#35b779"
             ],
             [
              0.7777777777777778,
              "#6ece58"
             ],
             [
              0.8888888888888888,
              "#b5de2b"
             ],
             [
              1,
              "#fde725"
             ]
            ],
            "type": "surface"
           }
          ],
          "table": [
           {
            "cells": {
             "fill": {
              "color": "rgb(237,237,237)"
             },
             "line": {
              "color": "white"
             }
            },
            "header": {
             "fill": {
              "color": "rgb(217,217,217)"
             },
             "line": {
              "color": "white"
             }
            },
            "type": "table"
           }
          ]
         },
         "layout": {
          "annotationdefaults": {
           "arrowhead": 0,
           "arrowwidth": 1
          },
          "autotypenumbers": "strict",
          "coloraxis": {
           "colorbar": {
            "outlinewidth": 1,
            "tickcolor": "rgb(36,36,36)",
            "ticks": "outside"
           }
          },
          "colorscale": {
           "diverging": [
            [
             0,
             "rgb(103,0,31)"
            ],
            [
             0.1,
             "rgb(178,24,43)"
            ],
            [
             0.2,
             "rgb(214,96,77)"
            ],
            [
             0.3,
             "rgb(244,165,130)"
            ],
            [
             0.4,
             "rgb(253,219,199)"
            ],
            [
             0.5,
             "rgb(247,247,247)"
            ],
            [
             0.6,
             "rgb(209,229,240)"
            ],
            [
             0.7,
             "rgb(146,197,222)"
            ],
            [
             0.8,
             "rgb(67,147,195)"
            ],
            [
             0.9,
             "rgb(33,102,172)"
            ],
            [
             1,
             "rgb(5,48,97)"
            ]
           ],
           "sequential": [
            [
             0,
             "#440154"
            ],
            [
             0.1111111111111111,
             "#482878"
            ],
            [
             0.2222222222222222,
             "#3e4989"
            ],
            [
             0.3333333333333333,
             "#31688e"
            ],
            [
             0.4444444444444444,
             "#26828e"
            ],
            [
             0.5555555555555556,
             "#1f9e89"
            ],
            [
             0.6666666666666666,
             "#35b779"
            ],
            [
             0.7777777777777778,
             "#6ece58"
            ],
            [
             0.8888888888888888,
             "#b5de2b"
            ],
            [
             1,
             "#fde725"
            ]
           ],
           "sequentialminus": [
            [
             0,
             "#440154"
            ],
            [
             0.1111111111111111,
             "#482878"
            ],
            [
             0.2222222222222222,
             "#3e4989"
            ],
            [
             0.3333333333333333,
             "#31688e"
            ],
            [
             0.4444444444444444,
             "#26828e"
            ],
            [
             0.5555555555555556,
             "#1f9e89"
            ],
            [
             0.6666666666666666,
             "#35b779"
            ],
            [
             0.7777777777777778,
             "#6ece58"
            ],
            [
             0.8888888888888888,
             "#b5de2b"
            ],
            [
             1,
             "#fde725"
            ]
           ]
          },
          "colorway": [
           "#1F77B4",
           "#FF7F0E",
           "#2CA02C",
           "#D62728",
           "#9467BD",
           "#8C564B",
           "#E377C2",
           "#7F7F7F",
           "#BCBD22",
           "#17BECF"
          ],
          "font": {
           "color": "rgb(36,36,36)"
          },
          "geo": {
           "bgcolor": "white",
           "lakecolor": "white",
           "landcolor": "white",
           "showlakes": true,
           "showland": true,
           "subunitcolor": "white"
          },
          "hoverlabel": {
           "align": "left"
          },
          "hovermode": "closest",
          "mapbox": {
           "style": "light"
          },
          "paper_bgcolor": "white",
          "plot_bgcolor": "white",
          "polar": {
           "angularaxis": {
            "gridcolor": "rgb(232,232,232)",
            "linecolor": "rgb(36,36,36)",
            "showgrid": false,
            "showline": true,
            "ticks": "outside"
           },
           "bgcolor": "white",
           "radialaxis": {
            "gridcolor": "rgb(232,232,232)",
            "linecolor": "rgb(36,36,36)",
            "showgrid": false,
            "showline": true,
            "ticks": "outside"
           }
          },
          "scene": {
           "xaxis": {
            "backgroundcolor": "white",
            "gridcolor": "rgb(232,232,232)",
            "gridwidth": 2,
            "linecolor": "rgb(36,36,36)",
            "showbackground": true,
            "showgrid": false,
            "showline": true,
            "ticks": "outside",
            "zeroline": false,
            "zerolinecolor": "rgb(36,36,36)"
           },
           "yaxis": {
            "backgroundcolor": "white",
            "gridcolor": "rgb(232,232,232)",
            "gridwidth": 2,
            "linecolor": "rgb(36,36,36)",
            "showbackground": true,
            "showgrid": false,
            "showline": true,
            "ticks": "outside",
            "zeroline": false,
            "zerolinecolor": "rgb(36,36,36)"
           },
           "zaxis": {
            "backgroundcolor": "white",
            "gridcolor": "rgb(232,232,232)",
            "gridwidth": 2,
            "linecolor": "rgb(36,36,36)",
            "showbackground": true,
            "showgrid": false,
            "showline": true,
            "ticks": "outside",
            "zeroline": false,
            "zerolinecolor": "rgb(36,36,36)"
           }
          },
          "shapedefaults": {
           "fillcolor": "black",
           "line": {
            "width": 0
           },
           "opacity": 0.3
          },
          "ternary": {
           "aaxis": {
            "gridcolor": "rgb(232,232,232)",
            "linecolor": "rgb(36,36,36)",
            "showgrid": false,
            "showline": true,
            "ticks": "outside"
           },
           "baxis": {
            "gridcolor": "rgb(232,232,232)",
            "linecolor": "rgb(36,36,36)",
            "showgrid": false,
            "showline": true,
            "ticks": "outside"
           },
           "bgcolor": "white",
           "caxis": {
            "gridcolor": "rgb(232,232,232)",
            "linecolor": "rgb(36,36,36)",
            "showgrid": false,
            "showline": true,
            "ticks": "outside"
           }
          },
          "title": {
           "x": 0.05
          },
          "xaxis": {
           "automargin": true,
           "gridcolor": "rgb(232,232,232)",
           "linecolor": "rgb(36,36,36)",
           "showgrid": false,
           "showline": true,
           "ticks": "outside",
           "title": {
            "standoff": 15
           },
           "zeroline": false,
           "zerolinecolor": "rgb(36,36,36)"
          },
          "yaxis": {
           "automargin": true,
           "gridcolor": "rgb(232,232,232)",
           "linecolor": "rgb(36,36,36)",
           "showgrid": false,
           "showline": true,
           "ticks": "outside",
           "title": {
            "standoff": 15
           },
           "zeroline": false,
           "zerolinecolor": "rgb(36,36,36)"
          }
         }
        },
        "title": {
         "font": {
          "color": "Black",
          "size": 22
         },
         "text": "<b>Topics over Time</b>",
         "x": 0.4,
         "xanchor": "center",
         "y": 0.95,
         "yanchor": "top"
        },
        "width": 1250,
        "xaxis": {
         "showgrid": true
        },
        "yaxis": {
         "showgrid": true,
         "title": {
          "text": "Frequency"
         }
        }
       }
      },
      "text/html": [
       "<div>                            <div id=\"032220d1-e90b-432c-91ee-691f6bd3e69d\" class=\"plotly-graph-div\" style=\"height:450px; width:1250px;\"></div>            <script type=\"text/javascript\">                require([\"plotly\"], function(Plotly) {                    window.PLOTLYENV=window.PLOTLYENV || {};                                    if (document.getElementById(\"032220d1-e90b-432c-91ee-691f6bd3e69d\")) {                    Plotly.newPlot(                        \"032220d1-e90b-432c-91ee-691f6bd3e69d\",                        [{\"hoverinfo\":\"text\",\"hovertext\":[\"\\u003cb\\u003eTopic 0\\u003c\\u002fb\\u003e\\u003cbr\\u003eWords: emergence, peaceful, baboons, wild, culture\",\"\\u003cb\\u003eTopic 0\\u003c\\u002fb\\u003e\\u003cbr\\u003eWords: move, restlessness, genomics, ready, remnants\",\"\\u003cb\\u003eTopic 0\\u003c\\u002fb\\u003e\\u003cbr\\u003eWords: proper, brains, songbird, could, linking\",\"\\u003cb\\u003eTopic 0\\u003c\\u002fb\\u003e\\u003cbr\\u003eWords: forest, cohesion, househunting, gathering, chimpanzees\",\"\\u003cb\\u003eTopic 0\\u003c\\u002fb\\u003e\\u003cbr\\u003eWords: billardierii, wasp, aggregatedfish, cuticular, bouquet\",\"\\u003cb\\u003eTopic 0\\u003c\\u002fb\\u003e\\u003cbr\\u003eWords: ant, foraging, conservation, fish, birds\",\"\\u003cb\\u003eTopic 0\\u003c\\u002fb\\u003e\\u003cbr\\u003eWords: caretta, ecological, ants, bifurcations, avoiding\",\"\\u003cb\\u003eTopic 0\\u003c\\u002fb\\u003e\\u003cbr\\u003eWords: female, lizard, rut, ibex, foraging\",\"\\u003cb\\u003eTopic 0\\u003c\\u002fb\\u003e\\u003cbr\\u003eWords: animal, behaviour, foraging, vasotocin, wood\",\"\\u003cb\\u003eTopic 0\\u003c\\u002fb\\u003e\\u003cbr\\u003eWords: calls, fish, based, ant, elephas\",\"\\u003cb\\u003eTopic 0\\u003c\\u002fb\\u003e\\u003cbr\\u003eWords: dispersal, caenorhabditis, heat, resource, stereotypical\",\"\\u003cb\\u003eTopic 0\\u003c\\u002fb\\u003e\\u003cbr\\u003eWords: fortress, foragers, parasite, choosy, discriminated\",\"\\u003cb\\u003eTopic 0\\u003c\\u002fb\\u003e\\u003cbr\\u003eWords: grunt, mating, olive, dipteratephritidae, coquillet\",\"\\u003cb\\u003eTopic 0\\u003c\\u002fb\\u003e\\u003cbr\\u003eWords: panda, harrisii, ailuropoda, tasmanian, scavenger\",\"\\u003cb\\u003eTopic 0\\u003c\\u002fb\\u003e\\u003cbr\\u003eWords: foraging, environmental, tetrao, orangefronted, grouse\",\"\\u003cb\\u003eTopic 0\\u003c\\u002fb\\u003e\\u003cbr\\u003eWords: foraging, fenced, antipredator, northeast, nonbreeding\",\"\\u003cb\\u003eTopic 0\\u003c\\u002fb\\u003e\\u003cbr\\u003eWords: reduction, passer, eudyptes, convey, sparrows\"],\"marker\":{\"color\":\"#E69F00\"},\"mode\":\"lines\",\"name\":\"0_foraging_ant_breeding_ants\",\"x\":[\"2004-04-05T23:39:50.400000+00:00\",\"2006-03-15T09:36:00+00:00\",\"2008-02-14T19:12:00+00:00\",\"2010-01-16T04:48:00+00:00\",\"2011-01-01T21:36:00+00:00\",\"2011-12-18T14:24:00+00:00\",\"2012-12-03T07:12:00+00:00\",\"2013-11-19T00:00:00+00:00\",\"2014-11-04T16:48:00+00:00\",\"2015-10-21T09:36:00+00:00\",\"2016-10-06T02:24:00+00:00\",\"2017-09-21T19:12:00+00:00\",\"2018-09-07T12:00:00+00:00\",\"2019-08-24T04:48:00+00:00\",\"2020-08-08T21:36:00+00:00\",\"2021-07-25T14:24:00+00:00\",\"2022-07-11T07:12:00+00:00\"],\"y\":[1,2,1,2,5,12,8,11,8,9,3,2,7,3,7,7,4],\"type\":\"scatter\"},{\"hoverinfo\":\"text\",\"hovertext\":[\"\\u003cb\\u003eTopic 1\\u003c\\u002fb\\u003e\\u003cbr\\u003eWords: biosocial, feminine, peacekeepers, warriors, masculine\",\"\\u003cb\\u003eTopic 1\\u003c\\u002fb\\u003e\\u003cbr\\u003eWords: drive, affectivelybased, forager, cognitivelybased, affectivecognitive\",\"\\u003cb\\u003eTopic 1\\u003c\\u002fb\\u003e\\u003cbr\\u003eWords: majority, stock, gender, parsimony, overtrading\",\"\\u003cb\\u003eTopic 1\\u003c\\u002fb\\u003e\\u003cbr\\u003eWords: betrayal, aversion, identity, social, prosocial\",\"\\u003cb\\u003eTopic 1\\u003c\\u002fb\\u003e\\u003cbr\\u003eWords: childrens, young, different, group, internalising\",\"\\u003cb\\u003eTopic 1\\u003c\\u002fb\\u003e\\u003cbr\\u003eWords: war, peace, diversity, toward, attitudes\",\"\\u003cb\\u003eTopic 1\\u003c\\u002fb\\u003e\\u003cbr\\u003eWords: trust, excluded, multipleround, bullshitsensitivity, varieties\",\"\\u003cb\\u003eTopic 1\\u003c\\u002fb\\u003e\\u003cbr\\u003eWords: humanization, outgroup, ingroup, errorrelated, dualplayer\",\"\\u003cb\\u003eTopic 1\\u003c\\u002fb\\u003e\\u003cbr\\u003eWords: rejection, presidential, benefit, election, activism\",\"\\u003cb\\u003eTopic 1\\u003c\\u002fb\\u003e\\u003cbr\\u003eWords: contest, hedonistic, saboteurs, subsequent, revenge\",\"\\u003cb\\u003eTopic 1\\u003c\\u002fb\\u003e\\u003cbr\\u003eWords: but, solitude, corporate, reputation, intergroup\",\"\\u003cb\\u003eTopic 1\\u003c\\u002fb\\u003e\\u003cbr\\u003eWords: gender, intergroup, prosocial, stock, affect\"],\"marker\":{\"color\":\"#56B4E9\"},\"mode\":\"lines\",\"name\":\"1_intergroup_prosocial_social_stock\",\"x\":[\"2011-12-18T14:24:00+00:00\",\"2012-12-03T07:12:00+00:00\",\"2013-11-19T00:00:00+00:00\",\"2014-11-04T16:48:00+00:00\",\"2015-10-21T09:36:00+00:00\",\"2016-10-06T02:24:00+00:00\",\"2017-09-21T19:12:00+00:00\",\"2018-09-07T12:00:00+00:00\",\"2019-08-24T04:48:00+00:00\",\"2020-08-08T21:36:00+00:00\",\"2021-07-25T14:24:00+00:00\",\"2022-07-11T07:12:00+00:00\"],\"y\":[1,2,5,10,5,4,6,5,4,3,7,9],\"type\":\"scatter\"},{\"hoverinfo\":\"text\",\"hovertext\":[\"\\u003cb\\u003eTopic 2\\u003c\\u002fb\\u003e\\u003cbr\\u003eWords: rwanda, quasiexperimental, mass, survivors, violence\",\"\\u003cb\\u003eTopic 2\\u003c\\u002fb\\u003e\\u003cbr\\u003eWords: posttraumatic, palestinians, infectedcan, immigrant, jews\",\"\\u003cb\\u003eTopic 2\\u003c\\u002fb\\u003e\\u003cbr\\u003eWords: thai, injury, following, large, cohort\",\"\\u003cb\\u003eTopic 2\\u003c\\u002fb\\u003e\\u003cbr\\u003eWords: covid19, pandemic, anxiety, psychological, health\",\"\\u003cb\\u003eTopic 2\\u003c\\u002fb\\u003e\\u003cbr\\u003eWords: covid19, pandemic, health, healthcare, mental\",\"\\u003cb\\u003eTopic 2\\u003c\\u002fb\\u003e\\u003cbr\\u003eWords: covid19, pandemic, mental, health, distress\"],\"marker\":{\"color\":\"#009E73\"},\"mode\":\"lines\",\"name\":\"2_covid19_pandemic_health_mental\",\"x\":[\"2011-01-01T21:36:00+00:00\",\"2014-11-04T16:48:00+00:00\",\"2016-10-06T02:24:00+00:00\",\"2020-08-08T21:36:00+00:00\",\"2021-07-25T14:24:00+00:00\",\"2022-07-11T07:12:00+00:00\"],\"y\":[1,3,1,13,21,15],\"type\":\"scatter\"},{\"hoverinfo\":\"text\",\"hovertext\":[\"\\u003cb\\u003eTopic 3\\u003c\\u002fb\\u003e\\u003cbr\\u003eWords: depressivelike, overcomes, enriched, juvenile, induced\",\"\\u003cb\\u003eTopic 3\\u003c\\u002fb\\u003e\\u003cbr\\u003eWords: illnesses, middleaged, chronic, older, wellbeing\",\"\\u003cb\\u003eTopic 3\\u003c\\u002fb\\u003e\\u003cbr\\u003eWords: realism, mediating, level, depressive, activity\",\"\\u003cb\\u003eTopic 3\\u003c\\u002fb\\u003e\\u003cbr\\u003eWords: selfhelp, depression, email, intertemporal, determinants\",\"\\u003cb\\u003eTopic 3\\u003c\\u002fb\\u003e\\u003cbr\\u003eWords: coping, item, bifactor, coexistence, styles\",\"\\u003cb\\u003eTopic 3\\u003c\\u002fb\\u003e\\u003cbr\\u003eWords: coping, stress, 12045, breast, mass\",\"\\u003cb\\u003eTopic 3\\u003c\\u002fb\\u003e\\u003cbr\\u003eWords: job, psychological, breach, paradoxical, internetdelivered\",\"\\u003cb\\u003eTopic 3\\u003c\\u002fb\\u003e\\u003cbr\\u003eWords: icu, surrogate, preliminary, relevant, identification\",\"\\u003cb\\u003eTopic 3\\u003c\\u002fb\\u003e\\u003cbr\\u003eWords: trier, stress, coping, longitudinal, test\",\"\\u003cb\\u003eTopic 3\\u003c\\u002fb\\u003e\\u003cbr\\u003eWords: decore21, original, police, confirmatory, repeatedly\",\"\\u003cb\\u003eTopic 3\\u003c\\u002fb\\u003e\\u003cbr\\u003eWords: petrochemical, volunteering, japan, industry, physicians\",\"\\u003cb\\u003eTopic 3\\u003c\\u002fb\\u003e\\u003cbr\\u003eWords: stress, happy, helpif, laboratory, sad\",\"\\u003cb\\u003eTopic 3\\u003c\\u002fb\\u003e\\u003cbr\\u003eWords: mindset, polish, stress, male, strategies\",\"\\u003cb\\u003eTopic 3\\u003c\\u002fb\\u003e\\u003cbr\\u003eWords: cope, brief, united, older, depression\"],\"marker\":{\"color\":\"#F0E442\"},\"mode\":\"lines\",\"name\":\"3_stress_coping_psychological_depression\",\"x\":[\"2008-02-14T19:12:00+00:00\",\"2011-01-01T21:36:00+00:00\",\"2011-12-18T14:24:00+00:00\",\"2012-12-03T07:12:00+00:00\",\"2013-11-19T00:00:00+00:00\",\"2014-11-04T16:48:00+00:00\",\"2015-10-21T09:36:00+00:00\",\"2016-10-06T02:24:00+00:00\",\"2017-09-21T19:12:00+00:00\",\"2018-09-07T12:00:00+00:00\",\"2019-08-24T04:48:00+00:00\",\"2020-08-08T21:36:00+00:00\",\"2021-07-25T14:24:00+00:00\",\"2022-07-11T07:12:00+00:00\"],\"y\":[1,1,1,3,1,3,5,1,4,3,3,6,6,7],\"type\":\"scatter\"},{\"hoverinfo\":\"text\",\"hovertext\":[\"\\u003cb\\u003eTopic 4\\u003c\\u002fb\\u003e\\u003cbr\\u003eWords: sternjudging, successful, norm, reciprocity, cooperation\",\"\\u003cb\\u003eTopic 4\\u003c\\u002fb\\u003e\\u003cbr\\u003eWords: recruit, egalitarian, subsets, alliance, theoryofmind\",\"\\u003cb\\u003eTopic 4\\u003c\\u002fb\\u003e\\u003cbr\\u003eWords: accidental, trembling, guide, punishment, hand\",\"\\u003cb\\u003eTopic 4\\u003c\\u002fb\\u003e\\u003cbr\\u003eWords: reciprocity, incomplete, conundrum, incipient, differentiation\",\"\\u003cb\\u003eTopic 4\\u003c\\u002fb\\u003e\\u003cbr\\u003eWords: games, epr, unique, rationality, nplayer\",\"\\u003cb\\u003eTopic 4\\u003c\\u002fb\\u003e\\u003cbr\\u003eWords: punishment, dilemmas, cooperation, game, coordination\",\"\\u003cb\\u003eTopic 4\\u003c\\u002fb\\u003e\\u003cbr\\u003eWords: dilemmas, game, minimum, explorationexploitation, travelers\",\"\\u003cb\\u003eTopic 4\\u003c\\u002fb\\u003e\\u003cbr\\u003eWords: evolution, cooperation, reciprocity, metaincentives, strong\",\"\\u003cb\\u003eTopic 4\\u003c\\u002fb\\u003e\\u003cbr\\u003eWords: cooperation, games, experimental, reciprocity, inefficient\",\"\\u003cb\\u003eTopic 4\\u003c\\u002fb\\u003e\\u003cbr\\u003eWords: fuzzy, behave, economics, economists, rulebased\",\"\\u003cb\\u003eTopic 4\\u003c\\u002fb\\u003e\\u003cbr\\u003eWords: tdma, examples, illustrated, create, serious\",\"\\u003cb\\u003eTopic 4\\u003c\\u002fb\\u003e\\u003cbr\\u003eWords: overconfident, help, spillovers, conveniently, naively\",\"\\u003cb\\u003eTopic 4\\u003c\\u002fb\\u003e\\u003cbr\\u003eWords: conditional, riskseeking, goods, provide, selfish\",\"\\u003cb\\u003eTopic 4\\u003c\\u002fb\\u003e\\u003cbr\\u003eWords: mutations, multigames, ethics, ecoevolutionary, cav\"],\"marker\":{\"color\":\"#D55E00\"},\"mode\":\"lines\",\"name\":\"4_cooperation_game_games_reciprocity\",\"x\":[\"2006-03-15T09:36:00+00:00\",\"2008-02-14T19:12:00+00:00\",\"2009-01-30T12:00:00+00:00\",\"2011-01-01T21:36:00+00:00\",\"2011-12-18T14:24:00+00:00\",\"2012-12-03T07:12:00+00:00\",\"2013-11-19T00:00:00+00:00\",\"2014-11-04T16:48:00+00:00\",\"2015-10-21T09:36:00+00:00\",\"2016-10-06T02:24:00+00:00\",\"2017-09-21T19:12:00+00:00\",\"2018-09-07T12:00:00+00:00\",\"2021-07-25T14:24:00+00:00\",\"2022-07-11T07:12:00+00:00\"],\"y\":[1,3,1,4,3,6,2,5,5,3,2,2,1,2],\"type\":\"scatter\"},{\"hoverinfo\":\"text\",\"hovertext\":[\"\\u003cb\\u003eTopic 5\\u003c\\u002fb\\u003e\\u003cbr\\u003eWords: selfgenerated, touch, perspective, neural, perception\",\"\\u003cb\\u003eTopic 5\\u003c\\u002fb\\u003e\\u003cbr\\u003eWords: rabbit, cutaneous, tactile, replicates, spatiotemporal\",\"\\u003cb\\u003eTopic 5\\u003c\\u002fb\\u003e\\u003cbr\\u003eWords: swapping, you, illusion, body, perceptual\",\"\\u003cb\\u003eTopic 5\\u003c\\u002fb\\u003e\\u003cbr\\u003eWords: crossorientation, release, facilitates, shape, 3d\",\"\\u003cb\\u003eTopic 5\\u003c\\u002fb\\u003e\\u003cbr\\u003eWords: reference, intrinsic, frames, multiple, space\",\"\\u003cb\\u003eTopic 5\\u003c\\u002fb\\u003e\\u003cbr\\u003eWords: hand, rubber, anothers, drift, proprioceptive\",\"\\u003cb\\u003eTopic 5\\u003c\\u002fb\\u003e\\u003cbr\\u003eWords: approachavoidance, posture, index, behavior, touch\",\"\\u003cb\\u003eTopic 5\\u003c\\u002fb\\u003e\\u003cbr\\u003eWords: vestibular, touch, perception, face, human\",\"\\u003cb\\u003eTopic 5\\u003c\\u002fb\\u003e\\u003cbr\\u003eWords: leaky, dexterity, flask, finger, acuity\",\"\\u003cb\\u003eTopic 5\\u003c\\u002fb\\u003e\\u003cbr\\u003eWords: touch, vestibular, reciprocal, visuopostural, represented\",\"\\u003cb\\u003eTopic 5\\u003c\\u002fb\\u003e\\u003cbr\\u003eWords: vertical, postural, subjective, vestibular, vection\",\"\\u003cb\\u003eTopic 5\\u003c\\u002fb\\u003e\\u003cbr\\u003eWords: illusory, weak, aesthetics, curved, surfaces\",\"\\u003cb\\u003eTopic 5\\u003c\\u002fb\\u003e\\u003cbr\\u003eWords: inclination, visuallyinduced, numerosity, independently, parallel\",\"\\u003cb\\u003eTopic 5\\u003c\\u002fb\\u003e\\u003cbr\\u003eWords: ownership, body, executed, avatarsimon, observed\",\"\\u003cb\\u003eTopic 5\\u003c\\u002fb\\u003e\\u003cbr\\u003eWords: cuedependent, upright, motionindepth, vr, orientation\",\"\\u003cb\\u003eTopic 5\\u003c\\u002fb\\u003e\\u003cbr\\u003eWords: putting, quiet, visualviewing, stance, robot\",\"\\u003cb\\u003eTopic 5\\u003c\\u002fb\\u003e\\u003cbr\\u003eWords: velocity, caress, vicarious, touch, location\",\"\\u003cb\\u003eTopic 5\\u003c\\u002fb\\u003e\\u003cbr\\u003eWords: boundary, blurring, assessed, me, hold\"],\"marker\":{\"color\":\"#0072B2\"},\"mode\":\"lines\",\"name\":\"5_touch_perception_vestibular_body\",\"x\":[\"2005-03-29T16:48:00+00:00\",\"2007-03-01T02:24:00+00:00\",\"2008-02-14T19:12:00+00:00\",\"2009-01-30T12:00:00+00:00\",\"2010-01-16T04:48:00+00:00\",\"2011-01-01T21:36:00+00:00\",\"2011-12-18T14:24:00+00:00\",\"2012-12-03T07:12:00+00:00\",\"2013-11-19T00:00:00+00:00\",\"2014-11-04T16:48:00+00:00\",\"2015-10-21T09:36:00+00:00\",\"2016-10-06T02:24:00+00:00\",\"2017-09-21T19:12:00+00:00\",\"2018-09-07T12:00:00+00:00\",\"2019-08-24T04:48:00+00:00\",\"2020-08-08T21:36:00+00:00\",\"2021-07-25T14:24:00+00:00\",\"2022-07-11T07:12:00+00:00\"],\"y\":[1,1,1,1,1,2,1,6,2,4,5,3,2,3,2,2,1,2],\"type\":\"scatter\"},{\"hoverinfo\":\"text\",\"hovertext\":[\"\\u003cb\\u003eTopic 6\\u003c\\u002fb\\u003e\\u003cbr\\u003eWords: rotation, soccer, players, male, performance\",\"\\u003cb\\u003eTopic 6\\u003c\\u002fb\\u003e\\u003cbr\\u003eWords: 2997, doping, triathletes, crosssectional, associations\",\"\\u003cb\\u003eTopic 6\\u003c\\u002fb\\u003e\\u003cbr\\u003eWords: under15, tactical, soccer, players, decisionmaking\",\"\\u003cb\\u003eTopic 6\\u003c\\u002fb\\u003e\\u003cbr\\u003eWords: educational, executing, kick, placement, players\",\"\\u003cb\\u003eTopic 6\\u003c\\u002fb\\u003e\\u003cbr\\u003eWords: sprinting, breakpoint, accelerated, existence, u20\",\"\\u003cb\\u003eTopic 6\\u003c\\u002fb\\u003e\\u003cbr\\u003eWords: anova, technical, sem, soccer, adolescence\",\"\\u003cb\\u003eTopic 6\\u003c\\u002fb\\u003e\\u003cbr\\u003eWords: age, players, championships, sportinduced, workload\",\"\\u003cb\\u003eTopic 6\\u003c\\u002fb\\u003e\\u003cbr\\u003eWords: sport, worldranked, swimmers, grades, doping\",\"\\u003cb\\u003eTopic 6\\u003c\\u002fb\\u003e\\u003cbr\\u003eWords: soccer, recreational, defining, deceptive, position\",\"\\u003cb\\u003eTopic 6\\u003c\\u002fb\\u003e\\u003cbr\\u003eWords: players, elite, performance, handball, sport\",\"\\u003cb\\u003eTopic 6\\u003c\\u002fb\\u003e\\u003cbr\\u003eWords: players, training, soccer, adding, progression\",\"\\u003cb\\u003eTopic 6\\u003c\\u002fb\\u003e\\u003cbr\\u003eWords: performance, handball, players, smallsided, tactics\"],\"marker\":{\"color\":\"#CC79A7\"},\"mode\":\"lines\",\"name\":\"6_players_soccer_elite_performance\",\"x\":[\"2011-12-18T14:24:00+00:00\",\"2012-12-03T07:12:00+00:00\",\"2013-11-19T00:00:00+00:00\",\"2014-11-04T16:48:00+00:00\",\"2015-10-21T09:36:00+00:00\",\"2016-10-06T02:24:00+00:00\",\"2017-09-21T19:12:00+00:00\",\"2018-09-07T12:00:00+00:00\",\"2019-08-24T04:48:00+00:00\",\"2020-08-08T21:36:00+00:00\",\"2021-07-25T14:24:00+00:00\",\"2022-07-11T07:12:00+00:00\"],\"y\":[1,1,1,2,3,1,3,3,5,9,4,5],\"type\":\"scatter\"},{\"hoverinfo\":\"text\",\"hovertext\":[\"\\u003cb\\u003eTopic 7\\u003c\\u002fb\\u003e\\u003cbr\\u003eWords: uncertainty, discrete, unstable, confidence, correlate\",\"\\u003cb\\u003eTopic 7\\u003c\\u002fb\\u003e\\u003cbr\\u003eWords: reviewing, answers, something, split, theres\",\"\\u003cb\\u003eTopic 7\\u003c\\u002fb\\u003e\\u003cbr\\u003eWords: correcting, elderly, instance, hardly, ways\",\"\\u003cb\\u003eTopic 7\\u003c\\u002fb\\u003e\\u003cbr\\u003eWords: affordable, architecture, approaching, accounts, risktakers\",\"\\u003cb\\u003eTopic 7\\u003c\\u002fb\\u003e\\u003cbr\\u003eWords: weighting, justice, inequality, merit, confidence\",\"\\u003cb\\u003eTopic 7\\u003c\\u002fb\\u003e\\u003cbr\\u003eWords: deliberative, off, voters, modelbased, rational\",\"\\u003cb\\u003eTopic 7\\u003c\\u002fb\\u003e\\u003cbr\\u003eWords: timevarying, violations, luminance, sunshine, in\",\"\\u003cb\\u003eTopic 7\\u003c\\u002fb\\u003e\\u003cbr\\u003eWords: choice, intergenerational, instability, unifying, impose\",\"\\u003cb\\u003eTopic 7\\u003c\\u002fb\\u003e\\u003cbr\\u003eWords: learn, mindsets, fortunes, acupuncture, scheme\",\"\\u003cb\\u003eTopic 7\\u003c\\u002fb\\u003e\\u003cbr\\u003eWords: product, iot, multiintent, dialogue, conversations\",\"\\u003cb\\u003eTopic 7\\u003c\\u002fb\\u003e\\u003cbr\\u003eWords: endogenous, origin, repeated, options, default\",\"\\u003cb\\u003eTopic 7\\u003c\\u002fb\\u003e\\u003cbr\\u003eWords: claiming, decisions, costs, decisionmaking, choice\",\"\\u003cb\\u003eTopic 7\\u003c\\u002fb\\u003e\\u003cbr\\u003eWords: win, its, price, fair, suggested\"],\"marker\":{\"color\":\"#E69F00\"},\"mode\":\"lines\",\"name\":\"7_choice_decisions_uncertainty_confidenc...\",\"x\":[\"2011-01-01T21:36:00+00:00\",\"2011-12-18T14:24:00+00:00\",\"2012-12-03T07:12:00+00:00\",\"2013-11-19T00:00:00+00:00\",\"2014-11-04T16:48:00+00:00\",\"2015-10-21T09:36:00+00:00\",\"2016-10-06T02:24:00+00:00\",\"2017-09-21T19:12:00+00:00\",\"2018-09-07T12:00:00+00:00\",\"2019-08-24T04:48:00+00:00\",\"2020-08-08T21:36:00+00:00\",\"2021-07-25T14:24:00+00:00\",\"2022-07-11T07:12:00+00:00\"],\"y\":[2,2,2,4,2,3,2,5,3,2,1,6,3],\"type\":\"scatter\"},{\"hoverinfo\":\"text\",\"hovertext\":[\"\\u003cb\\u003eTopic 8\\u003c\\u002fb\\u003e\\u003cbr\\u003eWords: cortices, insular, posterior, alterations, disproportionate\",\"\\u003cb\\u003eTopic 8\\u003c\\u002fb\\u003e\\u003cbr\\u003eWords: faces, emotional, processing, facial, expressions\",\"\\u003cb\\u003eTopic 8\\u003c\\u002fb\\u003e\\u003cbr\\u003eWords: facial, emotional, emotions, processing, stroop\",\"\\u003cb\\u003eTopic 8\\u003c\\u002fb\\u003e\\u003cbr\\u003eWords: crowd, quickly, found, angry, tracking\",\"\\u003cb\\u003eTopic 8\\u003c\\u002fb\\u003e\\u003cbr\\u003eWords: facial, investigation, fibromyalgia, intrapersonal, blushing\",\"\\u003cb\\u003eTopic 8\\u003c\\u002fb\\u003e\\u003cbr\\u003eWords: facial, emotional, mimicry, faces, nondemented\",\"\\u003cb\\u003eTopic 8\\u003c\\u002fb\\u003e\\u003cbr\\u003eWords: disrupt, consolidation, intense, facebody, victory\",\"\\u003cb\\u003eTopic 8\\u003c\\u002fb\\u003e\\u003cbr\\u003eWords: security, attachment, benefits, working, memory\",\"\\u003cb\\u003eTopic 8\\u003c\\u002fb\\u003e\\u003cbr\\u003eWords: emotional, 3yearolds, suggestions, strengthen, dlpc\",\"\\u003cb\\u003eTopic 8\\u003c\\u002fb\\u003e\\u003cbr\\u003eWords: emotion, interface, sensor, rgbd, masks\",\"\\u003cb\\u003eTopic 8\\u003c\\u002fb\\u003e\\u003cbr\\u003eWords: gyrus, supramarginal, volume, maintenance, right\",\"\\u003cb\\u003eTopic 8\\u003c\\u002fb\\u003e\\u003cbr\\u003eWords: surgical, mask, covariation, impair, arousal\",\"\\u003cb\\u003eTopic 8\\u003c\\u002fb\\u003e\\u003cbr\\u003eWords: tdcs, adverse, exclusion, underlying, mechanism\"],\"marker\":{\"color\":\"#56B4E9\"},\"mode\":\"lines\",\"name\":\"8_facial_emotional_emotion_faces\",\"x\":[\"2011-01-01T21:36:00+00:00\",\"2011-12-18T14:24:00+00:00\",\"2012-12-03T07:12:00+00:00\",\"2013-11-19T00:00:00+00:00\",\"2014-11-04T16:48:00+00:00\",\"2015-10-21T09:36:00+00:00\",\"2016-10-06T02:24:00+00:00\",\"2017-09-21T19:12:00+00:00\",\"2018-09-07T12:00:00+00:00\",\"2019-08-24T04:48:00+00:00\",\"2020-08-08T21:36:00+00:00\",\"2021-07-25T14:24:00+00:00\",\"2022-07-11T07:12:00+00:00\"],\"y\":[2,5,5,1,3,5,2,1,4,2,1,2,1],\"type\":\"scatter\"},{\"hoverinfo\":\"text\",\"hovertext\":[\"\\u003cb\\u003eTopic 9\\u003c\\u002fb\\u003e\\u003cbr\\u003eWords: relativity, euphemisms, swearing, linguistic, language\",\"\\u003cb\\u003eTopic 9\\u003c\\u002fb\\u003e\\u003cbr\\u003eWords: sentence, boundaries, twoitem, familiaris, canis\",\"\\u003cb\\u003eTopic 9\\u003c\\u002fb\\u003e\\u003cbr\\u003eWords: cas, receptive, composite, multimethod, eight\",\"\\u003cb\\u003eTopic 9\\u003c\\u002fb\\u003e\\u003cbr\\u003eWords: translated, computer, text, readerships, translations\",\"\\u003cb\\u003eTopic 9\\u003c\\u002fb\\u003e\\u003cbr\\u003eWords: meanings, modality, crosslingual, term, overnight\",\"\\u003cb\\u003eTopic 9\\u003c\\u002fb\\u003e\\u003cbr\\u003eWords: lexical, english, language, madrid, crevice\",\"\\u003cb\\u003eTopic 9\\u003c\\u002fb\\u003e\\u003cbr\\u003eWords: language, chinese, early, children, efl\",\"\\u003cb\\u003eTopic 9\\u003c\\u002fb\\u003e\\u003cbr\\u003eWords: selfserving, crosslinguistic, core, learner, mechanics\",\"\\u003cb\\u003eTopic 9\\u003c\\u002fb\\u003e\\u003cbr\\u003eWords: subjectonly, sentences, malandragem, firstperson, jeitinho\",\"\\u003cb\\u003eTopic 9\\u003c\\u002fb\\u003e\\u003cbr\\u003eWords: semantic, supports, names, unseen, bilinguals\",\"\\u003cb\\u003eTopic 9\\u003c\\u002fb\\u003e\\u003cbr\\u003eWords: debriefing, bilingual, communicate, second, flexibility\",\"\\u003cb\\u003eTopic 9\\u003c\\u002fb\\u003e\\u003cbr\\u003eWords: lexical, nonspanishspeaking, grammatical, intelligibility, californians\"],\"marker\":{\"color\":\"#009E73\"},\"mode\":\"lines\",\"name\":\"9_language_lexical_chinese_children\",\"x\":[\"2011-01-01T21:36:00+00:00\",\"2011-12-18T14:24:00+00:00\",\"2012-12-03T07:12:00+00:00\",\"2013-11-19T00:00:00+00:00\",\"2014-11-04T16:48:00+00:00\",\"2015-10-21T09:36:00+00:00\",\"2016-10-06T02:24:00+00:00\",\"2017-09-21T19:12:00+00:00\",\"2018-09-07T12:00:00+00:00\",\"2020-08-08T21:36:00+00:00\",\"2021-07-25T14:24:00+00:00\",\"2022-07-11T07:12:00+00:00\"],\"y\":[1,2,3,2,2,5,4,2,3,2,3,3],\"type\":\"scatter\"}],                        {\"template\":{\"data\":{\"barpolar\":[{\"marker\":{\"line\":{\"color\":\"white\",\"width\":0.5},\"pattern\":{\"fillmode\":\"overlay\",\"size\":10,\"solidity\":0.2}},\"type\":\"barpolar\"}],\"bar\":[{\"error_x\":{\"color\":\"rgb(36,36,36)\"},\"error_y\":{\"color\":\"rgb(36,36,36)\"},\"marker\":{\"line\":{\"color\":\"white\",\"width\":0.5},\"pattern\":{\"fillmode\":\"overlay\",\"size\":10,\"solidity\":0.2}},\"type\":\"bar\"}],\"carpet\":[{\"aaxis\":{\"endlinecolor\":\"rgb(36,36,36)\",\"gridcolor\":\"white\",\"linecolor\":\"white\",\"minorgridcolor\":\"white\",\"startlinecolor\":\"rgb(36,36,36)\"},\"baxis\":{\"endlinecolor\":\"rgb(36,36,36)\",\"gridcolor\":\"white\",\"linecolor\":\"white\",\"minorgridcolor\":\"white\",\"startlinecolor\":\"rgb(36,36,36)\"},\"type\":\"carpet\"}],\"choropleth\":[{\"colorbar\":{\"outlinewidth\":1,\"tickcolor\":\"rgb(36,36,36)\",\"ticks\":\"outside\"},\"type\":\"choropleth\"}],\"contourcarpet\":[{\"colorbar\":{\"outlinewidth\":1,\"tickcolor\":\"rgb(36,36,36)\",\"ticks\":\"outside\"},\"type\":\"contourcarpet\"}],\"contour\":[{\"colorbar\":{\"outlinewidth\":1,\"tickcolor\":\"rgb(36,36,36)\",\"ticks\":\"outside\"},\"colorscale\":[[0.0,\"#440154\"],[0.1111111111111111,\"#482878\"],[0.2222222222222222,\"#3e4989\"],[0.3333333333333333,\"#31688e\"],[0.4444444444444444,\"#26828e\"],[0.5555555555555556,\"#1f9e89\"],[0.6666666666666666,\"#35b779\"],[0.7777777777777778,\"#6ece58\"],[0.8888888888888888,\"#b5de2b\"],[1.0,\"#fde725\"]],\"type\":\"contour\"}],\"heatmapgl\":[{\"colorbar\":{\"outlinewidth\":1,\"tickcolor\":\"rgb(36,36,36)\",\"ticks\":\"outside\"},\"colorscale\":[[0.0,\"#440154\"],[0.1111111111111111,\"#482878\"],[0.2222222222222222,\"#3e4989\"],[0.3333333333333333,\"#31688e\"],[0.4444444444444444,\"#26828e\"],[0.5555555555555556,\"#1f9e89\"],[0.6666666666666666,\"#35b779\"],[0.7777777777777778,\"#6ece58\"],[0.8888888888888888,\"#b5de2b\"],[1.0,\"#fde725\"]],\"type\":\"heatmapgl\"}],\"heatmap\":[{\"colorbar\":{\"outlinewidth\":1,\"tickcolor\":\"rgb(36,36,36)\",\"ticks\":\"outside\"},\"colorscale\":[[0.0,\"#440154\"],[0.1111111111111111,\"#482878\"],[0.2222222222222222,\"#3e4989\"],[0.3333333333333333,\"#31688e\"],[0.4444444444444444,\"#26828e\"],[0.5555555555555556,\"#1f9e89\"],[0.6666666666666666,\"#35b779\"],[0.7777777777777778,\"#6ece58\"],[0.8888888888888888,\"#b5de2b\"],[1.0,\"#fde725\"]],\"type\":\"heatmap\"}],\"histogram2dcontour\":[{\"colorbar\":{\"outlinewidth\":1,\"tickcolor\":\"rgb(36,36,36)\",\"ticks\":\"outside\"},\"colorscale\":[[0.0,\"#440154\"],[0.1111111111111111,\"#482878\"],[0.2222222222222222,\"#3e4989\"],[0.3333333333333333,\"#31688e\"],[0.4444444444444444,\"#26828e\"],[0.5555555555555556,\"#1f9e89\"],[0.6666666666666666,\"#35b779\"],[0.7777777777777778,\"#6ece58\"],[0.8888888888888888,\"#b5de2b\"],[1.0,\"#fde725\"]],\"type\":\"histogram2dcontour\"}],\"histogram2d\":[{\"colorbar\":{\"outlinewidth\":1,\"tickcolor\":\"rgb(36,36,36)\",\"ticks\":\"outside\"},\"colorscale\":[[0.0,\"#440154\"],[0.1111111111111111,\"#482878\"],[0.2222222222222222,\"#3e4989\"],[0.3333333333333333,\"#31688e\"],[0.4444444444444444,\"#26828e\"],[0.5555555555555556,\"#1f9e89\"],[0.6666666666666666,\"#35b779\"],[0.7777777777777778,\"#6ece58\"],[0.8888888888888888,\"#b5de2b\"],[1.0,\"#fde725\"]],\"type\":\"histogram2d\"}],\"histogram\":[{\"marker\":{\"line\":{\"color\":\"white\",\"width\":0.6}},\"type\":\"histogram\"}],\"mesh3d\":[{\"colorbar\":{\"outlinewidth\":1,\"tickcolor\":\"rgb(36,36,36)\",\"ticks\":\"outside\"},\"type\":\"mesh3d\"}],\"parcoords\":[{\"line\":{\"colorbar\":{\"outlinewidth\":1,\"tickcolor\":\"rgb(36,36,36)\",\"ticks\":\"outside\"}},\"type\":\"parcoords\"}],\"pie\":[{\"automargin\":true,\"type\":\"pie\"}],\"scatter3d\":[{\"line\":{\"colorbar\":{\"outlinewidth\":1,\"tickcolor\":\"rgb(36,36,36)\",\"ticks\":\"outside\"}},\"marker\":{\"colorbar\":{\"outlinewidth\":1,\"tickcolor\":\"rgb(36,36,36)\",\"ticks\":\"outside\"}},\"type\":\"scatter3d\"}],\"scattercarpet\":[{\"marker\":{\"colorbar\":{\"outlinewidth\":1,\"tickcolor\":\"rgb(36,36,36)\",\"ticks\":\"outside\"}},\"type\":\"scattercarpet\"}],\"scattergeo\":[{\"marker\":{\"colorbar\":{\"outlinewidth\":1,\"tickcolor\":\"rgb(36,36,36)\",\"ticks\":\"outside\"}},\"type\":\"scattergeo\"}],\"scattergl\":[{\"marker\":{\"colorbar\":{\"outlinewidth\":1,\"tickcolor\":\"rgb(36,36,36)\",\"ticks\":\"outside\"}},\"type\":\"scattergl\"}],\"scattermapbox\":[{\"marker\":{\"colorbar\":{\"outlinewidth\":1,\"tickcolor\":\"rgb(36,36,36)\",\"ticks\":\"outside\"}},\"type\":\"scattermapbox\"}],\"scatterpolargl\":[{\"marker\":{\"colorbar\":{\"outlinewidth\":1,\"tickcolor\":\"rgb(36,36,36)\",\"ticks\":\"outside\"}},\"type\":\"scatterpolargl\"}],\"scatterpolar\":[{\"marker\":{\"colorbar\":{\"outlinewidth\":1,\"tickcolor\":\"rgb(36,36,36)\",\"ticks\":\"outside\"}},\"type\":\"scatterpolar\"}],\"scatter\":[{\"fillpattern\":{\"fillmode\":\"overlay\",\"size\":10,\"solidity\":0.2},\"type\":\"scatter\"}],\"scatterternary\":[{\"marker\":{\"colorbar\":{\"outlinewidth\":1,\"tickcolor\":\"rgb(36,36,36)\",\"ticks\":\"outside\"}},\"type\":\"scatterternary\"}],\"surface\":[{\"colorbar\":{\"outlinewidth\":1,\"tickcolor\":\"rgb(36,36,36)\",\"ticks\":\"outside\"},\"colorscale\":[[0.0,\"#440154\"],[0.1111111111111111,\"#482878\"],[0.2222222222222222,\"#3e4989\"],[0.3333333333333333,\"#31688e\"],[0.4444444444444444,\"#26828e\"],[0.5555555555555556,\"#1f9e89\"],[0.6666666666666666,\"#35b779\"],[0.7777777777777778,\"#6ece58\"],[0.8888888888888888,\"#b5de2b\"],[1.0,\"#fde725\"]],\"type\":\"surface\"}],\"table\":[{\"cells\":{\"fill\":{\"color\":\"rgb(237,237,237)\"},\"line\":{\"color\":\"white\"}},\"header\":{\"fill\":{\"color\":\"rgb(217,217,217)\"},\"line\":{\"color\":\"white\"}},\"type\":\"table\"}]},\"layout\":{\"annotationdefaults\":{\"arrowhead\":0,\"arrowwidth\":1},\"autotypenumbers\":\"strict\",\"coloraxis\":{\"colorbar\":{\"outlinewidth\":1,\"tickcolor\":\"rgb(36,36,36)\",\"ticks\":\"outside\"}},\"colorscale\":{\"diverging\":[[0.0,\"rgb(103,0,31)\"],[0.1,\"rgb(178,24,43)\"],[0.2,\"rgb(214,96,77)\"],[0.3,\"rgb(244,165,130)\"],[0.4,\"rgb(253,219,199)\"],[0.5,\"rgb(247,247,247)\"],[0.6,\"rgb(209,229,240)\"],[0.7,\"rgb(146,197,222)\"],[0.8,\"rgb(67,147,195)\"],[0.9,\"rgb(33,102,172)\"],[1.0,\"rgb(5,48,97)\"]],\"sequential\":[[0.0,\"#440154\"],[0.1111111111111111,\"#482878\"],[0.2222222222222222,\"#3e4989\"],[0.3333333333333333,\"#31688e\"],[0.4444444444444444,\"#26828e\"],[0.5555555555555556,\"#1f9e89\"],[0.6666666666666666,\"#35b779\"],[0.7777777777777778,\"#6ece58\"],[0.8888888888888888,\"#b5de2b\"],[1.0,\"#fde725\"]],\"sequentialminus\":[[0.0,\"#440154\"],[0.1111111111111111,\"#482878\"],[0.2222222222222222,\"#3e4989\"],[0.3333333333333333,\"#31688e\"],[0.4444444444444444,\"#26828e\"],[0.5555555555555556,\"#1f9e89\"],[0.6666666666666666,\"#35b779\"],[0.7777777777777778,\"#6ece58\"],[0.8888888888888888,\"#b5de2b\"],[1.0,\"#fde725\"]]},\"colorway\":[\"#1F77B4\",\"#FF7F0E\",\"#2CA02C\",\"#D62728\",\"#9467BD\",\"#8C564B\",\"#E377C2\",\"#7F7F7F\",\"#BCBD22\",\"#17BECF\"],\"font\":{\"color\":\"rgb(36,36,36)\"},\"geo\":{\"bgcolor\":\"white\",\"lakecolor\":\"white\",\"landcolor\":\"white\",\"showlakes\":true,\"showland\":true,\"subunitcolor\":\"white\"},\"hoverlabel\":{\"align\":\"left\"},\"hovermode\":\"closest\",\"mapbox\":{\"style\":\"light\"},\"paper_bgcolor\":\"white\",\"plot_bgcolor\":\"white\",\"polar\":{\"angularaxis\":{\"gridcolor\":\"rgb(232,232,232)\",\"linecolor\":\"rgb(36,36,36)\",\"showgrid\":false,\"showline\":true,\"ticks\":\"outside\"},\"bgcolor\":\"white\",\"radialaxis\":{\"gridcolor\":\"rgb(232,232,232)\",\"linecolor\":\"rgb(36,36,36)\",\"showgrid\":false,\"showline\":true,\"ticks\":\"outside\"}},\"scene\":{\"xaxis\":{\"backgroundcolor\":\"white\",\"gridcolor\":\"rgb(232,232,232)\",\"gridwidth\":2,\"linecolor\":\"rgb(36,36,36)\",\"showbackground\":true,\"showgrid\":false,\"showline\":true,\"ticks\":\"outside\",\"zeroline\":false,\"zerolinecolor\":\"rgb(36,36,36)\"},\"yaxis\":{\"backgroundcolor\":\"white\",\"gridcolor\":\"rgb(232,232,232)\",\"gridwidth\":2,\"linecolor\":\"rgb(36,36,36)\",\"showbackground\":true,\"showgrid\":false,\"showline\":true,\"ticks\":\"outside\",\"zeroline\":false,\"zerolinecolor\":\"rgb(36,36,36)\"},\"zaxis\":{\"backgroundcolor\":\"white\",\"gridcolor\":\"rgb(232,232,232)\",\"gridwidth\":2,\"linecolor\":\"rgb(36,36,36)\",\"showbackground\":true,\"showgrid\":false,\"showline\":true,\"ticks\":\"outside\",\"zeroline\":false,\"zerolinecolor\":\"rgb(36,36,36)\"}},\"shapedefaults\":{\"fillcolor\":\"black\",\"line\":{\"width\":0},\"opacity\":0.3},\"ternary\":{\"aaxis\":{\"gridcolor\":\"rgb(232,232,232)\",\"linecolor\":\"rgb(36,36,36)\",\"showgrid\":false,\"showline\":true,\"ticks\":\"outside\"},\"baxis\":{\"gridcolor\":\"rgb(232,232,232)\",\"linecolor\":\"rgb(36,36,36)\",\"showgrid\":false,\"showline\":true,\"ticks\":\"outside\"},\"bgcolor\":\"white\",\"caxis\":{\"gridcolor\":\"rgb(232,232,232)\",\"linecolor\":\"rgb(36,36,36)\",\"showgrid\":false,\"showline\":true,\"ticks\":\"outside\"}},\"title\":{\"x\":0.05},\"xaxis\":{\"automargin\":true,\"gridcolor\":\"rgb(232,232,232)\",\"linecolor\":\"rgb(36,36,36)\",\"showgrid\":false,\"showline\":true,\"ticks\":\"outside\",\"title\":{\"standoff\":15},\"zeroline\":false,\"zerolinecolor\":\"rgb(36,36,36)\"},\"yaxis\":{\"automargin\":true,\"gridcolor\":\"rgb(232,232,232)\",\"linecolor\":\"rgb(36,36,36)\",\"showgrid\":false,\"showline\":true,\"ticks\":\"outside\",\"title\":{\"standoff\":15},\"zeroline\":false,\"zerolinecolor\":\"rgb(36,36,36)\"}}},\"xaxis\":{\"showgrid\":true},\"yaxis\":{\"showgrid\":true,\"title\":{\"text\":\"Frequency\"}},\"title\":{\"font\":{\"size\":22,\"color\":\"Black\"},\"text\":\"\\u003cb\\u003eTopics over Time\\u003c\\u002fb\\u003e\",\"y\":0.95,\"x\":0.4,\"xanchor\":\"center\",\"yanchor\":\"top\"},\"hoverlabel\":{\"font\":{\"size\":16,\"family\":\"Rockwell\"},\"bgcolor\":\"white\"},\"width\":1250,\"height\":450,\"legend\":{\"title\":{\"text\":\"\\u003cb\\u003eGlobal Topic Representation\"}}},                        {\"responsive\": true}                    ).then(function(){\n",
       "                            \n",
       "var gd = document.getElementById('032220d1-e90b-432c-91ee-691f6bd3e69d');\n",
       "var x = new MutationObserver(function (mutations, observer) {{\n",
       "        var display = window.getComputedStyle(gd).display;\n",
       "        if (!display || display === 'none') {{\n",
       "            console.log([gd, 'removed!']);\n",
       "            Plotly.purge(gd);\n",
       "            observer.disconnect();\n",
       "        }}\n",
       "}});\n",
       "\n",
       "// Listen for the removal of the full notebook cells\n",
       "var notebookContainer = gd.closest('#notebook-container');\n",
       "if (notebookContainer) {{\n",
       "    x.observe(notebookContainer, {childList: true});\n",
       "}}\n",
       "\n",
       "// Listen for the clearing of the current output cell\n",
       "var outputEl = gd.closest('.output');\n",
       "if (outputEl) {{\n",
       "    x.observe(outputEl, {childList: true});\n",
       "}}\n",
       "\n",
       "                        })                };                });            </script>        </div>"
      ]
     },
     "metadata": {},
     "output_type": "display_data"
    }
   ],
   "source": [
    "topic_model.visualize_topics_over_time(topics_over_time, top_n_topics=10)"
   ]
  },
  {
   "cell_type": "code",
   "execution_count": 12,
   "metadata": {
    "colab": {
     "base_uri": "https://localhost:8080/",
     "height": 206
    },
    "id": "5NKwwGOa0j29",
    "outputId": "8da2ac85-42d6-4567-b4fc-6af836a8585e"
   },
   "outputs": [
    {
     "data": {
      "text/html": [
       "<div>\n",
       "<style scoped>\n",
       "    .dataframe tbody tr th:only-of-type {\n",
       "        vertical-align: middle;\n",
       "    }\n",
       "\n",
       "    .dataframe tbody tr th {\n",
       "        vertical-align: top;\n",
       "    }\n",
       "\n",
       "    .dataframe thead th {\n",
       "        text-align: right;\n",
       "    }\n",
       "</style>\n",
       "<table border=\"1\" class=\"dataframe\">\n",
       "  <thead>\n",
       "    <tr style=\"text-align: right;\">\n",
       "      <th></th>\n",
       "      <th>Topic</th>\n",
       "      <th>Count</th>\n",
       "      <th>Name</th>\n",
       "      <th>Representation</th>\n",
       "      <th>Representative_Docs</th>\n",
       "    </tr>\n",
       "  </thead>\n",
       "  <tbody>\n",
       "    <tr>\n",
       "      <th>0</th>\n",
       "      <td>-1</td>\n",
       "      <td>547</td>\n",
       "      <td>-1_among_study_cognitive_effects</td>\n",
       "      <td>[among, study, cognitive, effects, learning, s...</td>\n",
       "      <td>[High perceived stress social interaction beha...</td>\n",
       "    </tr>\n",
       "    <tr>\n",
       "      <th>1</th>\n",
       "      <td>0</td>\n",
       "      <td>92</td>\n",
       "      <td>0_foraging_ant_breeding_ants</td>\n",
       "      <td>[foraging, ant, breeding, ants, female, fish, ...</td>\n",
       "      <td>[New Method Quantify within Dive Foraging Beha...</td>\n",
       "    </tr>\n",
       "    <tr>\n",
       "      <th>2</th>\n",
       "      <td>1</td>\n",
       "      <td>61</td>\n",
       "      <td>1_intergroup_prosocial_social_stock</td>\n",
       "      <td>[intergroup, prosocial, social, stock, ingroup...</td>\n",
       "      <td>[Bullshit-sensitivity predicts prosocial behav...</td>\n",
       "    </tr>\n",
       "    <tr>\n",
       "      <th>3</th>\n",
       "      <td>2</td>\n",
       "      <td>54</td>\n",
       "      <td>2_covid19_pandemic_health_mental</td>\n",
       "      <td>[covid19, pandemic, health, mental, distress, ...</td>\n",
       "      <td>[Impact COVID-19 pandemic mental physical heal...</td>\n",
       "    </tr>\n",
       "    <tr>\n",
       "      <th>4</th>\n",
       "      <td>3</td>\n",
       "      <td>45</td>\n",
       "      <td>3_stress_coping_psychological_depression</td>\n",
       "      <td>[stress, coping, psychological, depression, ol...</td>\n",
       "      <td>[Psychological, social cognitive resources men...</td>\n",
       "    </tr>\n",
       "  </tbody>\n",
       "</table>\n",
       "</div>"
      ],
      "text/plain": [
       "   Topic  Count                                      Name  \\\n",
       "0     -1    547          -1_among_study_cognitive_effects   \n",
       "1      0     92              0_foraging_ant_breeding_ants   \n",
       "2      1     61       1_intergroup_prosocial_social_stock   \n",
       "3      2     54          2_covid19_pandemic_health_mental   \n",
       "4      3     45  3_stress_coping_psychological_depression   \n",
       "\n",
       "                                      Representation  \\\n",
       "0  [among, study, cognitive, effects, learning, s...   \n",
       "1  [foraging, ant, breeding, ants, female, fish, ...   \n",
       "2  [intergroup, prosocial, social, stock, ingroup...   \n",
       "3  [covid19, pandemic, health, mental, distress, ...   \n",
       "4  [stress, coping, psychological, depression, ol...   \n",
       "\n",
       "                                 Representative_Docs  \n",
       "0  [High perceived stress social interaction beha...  \n",
       "1  [New Method Quantify within Dive Foraging Beha...  \n",
       "2  [Bullshit-sensitivity predicts prosocial behav...  \n",
       "3  [Impact COVID-19 pandemic mental physical heal...  \n",
       "4  [Psychological, social cognitive resources men...  "
      ]
     },
     "execution_count": 12,
     "metadata": {},
     "output_type": "execute_result"
    }
   ],
   "source": [
    "freq = topic_model.get_topic_info(); freq.head(5)\n",
    "#try to "
   ]
  },
  {
   "cell_type": "code",
   "execution_count": 14,
   "metadata": {},
   "outputs": [
    {
     "name": "stdout",
     "output_type": "stream",
     "text": [
      "Number of topics identified: 30\n"
     ]
    }
   ],
   "source": [
    "# Print the number of topics identified\n",
    "topic_freq = topic_model.get_topic_freq()\n",
    "num_topics = len(topic_freq)\n",
    "print(\"Number of topics identified:\", num_topics)"
   ]
  },
  {
   "cell_type": "code",
   "execution_count": 15,
   "metadata": {},
   "outputs": [
    {
     "name": "stdout",
     "output_type": "stream",
     "text": [
      "0    [High perceived stress social interaction behaviour among young adults. study based objective measures face-to-face smartphone interactions, Multilevel analysis personality, family, classroom influences emotional behavioral problems among Chinese adolescent students, association disordered eating health-related quality life among children adolescents: systematic review population-based studies]\n",
      "Name: Representative_Docs, dtype: object\n"
     ]
    }
   ],
   "source": [
    "#I need to clean the data a bit better, investigate the -1 and 0 topics\n",
    "#freq.info()\n",
    "# Filter rows where 'Topic' is equal to -1\n",
    "filtered_df = freq[freq['Topic'] == -1]\n",
    "pd.set_option('display.max_colwidth', None)\n",
    "print(filtered_df['Representative_Docs'])"
   ]
  },
  {
   "cell_type": "code",
   "execution_count": 16,
   "metadata": {
    "colab": {
     "base_uri": "https://localhost:8080/"
    },
    "id": "TGv3v7dBC28F",
    "outputId": "48360681-aaf3-4101-a95a-72d40a1aeaab"
   },
   "outputs": [
    {
     "data": {
      "text/plain": [
       "[('foraging', 0.038090747272365034),\n",
       " ('ant', 0.024946477913323443),\n",
       " ('breeding', 0.024946477913323443),\n",
       " ('ants', 0.024946477913323443),\n",
       " ('female', 0.024773819701951017),\n",
       " ('fish', 0.023947077794196442),\n",
       " ('birds', 0.023947077794196442),\n",
       " ('social', 0.02148861890259227),\n",
       " ('conservation', 0.020937910026609007),\n",
       " ('behaviour', 0.020317391468783842)]"
      ]
     },
     "execution_count": 16,
     "metadata": {},
     "output_type": "execute_result"
    }
   ],
   "source": [
    "#remove stopwords\n",
    "topic_model.get_topic(0)"
   ]
  },
  {
   "cell_type": "code",
   "execution_count": 17,
   "metadata": {
    "colab": {
     "base_uri": "https://localhost:8080/",
     "height": 517
    },
    "id": "jkEuqlG2Dkov",
    "outputId": "fd6d1098-2083-4221-b441-5ed8ecd9048a"
   },
   "outputs": [
    {
     "data": {
      "application/vnd.plotly.v1+json": {
       "config": {
        "plotlyServerURL": "https://plot.ly"
       },
       "data": [
        {
         "hoverinfo": "text",
         "marker": {
          "color": "rgb(61,153,112)"
         },
         "mode": "lines",
         "type": "scatter",
         "x": [
          0,
          0.7561209600178747,
          0.7561209600178747,
          0
         ],
         "xaxis": "x",
         "y": [
          -25,
          -25,
          -35,
          -35
         ],
         "yaxis": "y"
        },
        {
         "hoverinfo": "text",
         "marker": {
          "color": "rgb(61,153,112)"
         },
         "mode": "lines",
         "type": "scatter",
         "x": [
          0,
          0.84773820743003,
          0.84773820743003,
          0.7561209600178747
         ],
         "xaxis": "x",
         "y": [
          -15,
          -15,
          -30,
          -30
         ],
         "yaxis": "y"
        },
        {
         "hoverinfo": "text",
         "marker": {
          "color": "rgb(61,153,112)"
         },
         "mode": "lines",
         "type": "scatter",
         "x": [
          0,
          0.9209551785004165,
          0.9209551785004165,
          0.84773820743003
         ],
         "xaxis": "x",
         "y": [
          -5,
          -5,
          -22.5,
          -22.5
         ],
         "yaxis": "y"
        },
        {
         "hoverinfo": "text",
         "marker": {
          "color": "rgb(255,65,54)"
         },
         "mode": "lines",
         "type": "scatter",
         "x": [
          0,
          0.8318917264629122,
          0.8318917264629122,
          0
         ],
         "xaxis": "x",
         "y": [
          -45,
          -45,
          -55,
          -55
         ],
         "yaxis": "y"
        },
        {
         "hoverinfo": "text",
         "marker": {
          "color": "rgb(255,65,54)"
         },
         "mode": "lines",
         "type": "scatter",
         "x": [
          0.8318917264629122,
          0.9364272630685664,
          0.9364272630685664,
          0
         ],
         "xaxis": "x",
         "y": [
          -50,
          -50,
          -65,
          -65
         ],
         "yaxis": "y"
        },
        {
         "hoverinfo": "text",
         "marker": {
          "color": "rgb(255,65,54)"
         },
         "mode": "lines",
         "type": "scatter",
         "x": [
          0.9364272630685664,
          0.9654824314947312,
          0.9654824314947312,
          0
         ],
         "xaxis": "x",
         "y": [
          -57.5,
          -57.5,
          -75,
          -75
         ],
         "yaxis": "y"
        },
        {
         "hoverinfo": "text",
         "marker": {
          "color": "rgb(0,116,217)"
         },
         "mode": "lines",
         "type": "scatter",
         "x": [
          0.9209551785004165,
          1.0522820857262885,
          1.0522820857262885,
          0.9654824314947312
         ],
         "xaxis": "x",
         "y": [
          -13.75,
          -13.75,
          -66.25,
          -66.25
         ],
         "yaxis": "y"
        },
        {
         "hoverinfo": "text",
         "marker": {
          "color": "rgb(35,205,205)"
         },
         "mode": "lines",
         "type": "scatter",
         "x": [
          0,
          0.8382401604323889,
          0.8382401604323889,
          0
         ],
         "xaxis": "x",
         "y": [
          -85,
          -85,
          -95,
          -95
         ],
         "yaxis": "y"
        },
        {
         "hoverinfo": "text",
         "marker": {
          "color": "rgb(133,20,75)"
         },
         "mode": "lines",
         "type": "scatter",
         "x": [
          0,
          0.8770455264419197,
          0.8770455264419197,
          0
         ],
         "xaxis": "x",
         "y": [
          -115,
          -115,
          -125,
          -125
         ],
         "yaxis": "y"
        },
        {
         "hoverinfo": "text",
         "marker": {
          "color": "rgb(133,20,75)"
         },
         "mode": "lines",
         "type": "scatter",
         "x": [
          0,
          0.917743107541342,
          0.917743107541342,
          0.8770455264419197
         ],
         "xaxis": "x",
         "y": [
          -105,
          -105,
          -120,
          -120
         ],
         "yaxis": "y"
        },
        {
         "hoverinfo": "text",
         "marker": {
          "color": "rgb(0,116,217)"
         },
         "mode": "lines",
         "type": "scatter",
         "x": [
          0.8382401604323889,
          1.0047443988917204,
          1.0047443988917204,
          0.917743107541342
         ],
         "xaxis": "x",
         "y": [
          -90,
          -90,
          -112.5,
          -112.5
         ],
         "yaxis": "y"
        },
        {
         "hoverinfo": "text",
         "marker": {
          "color": "rgb(255,220,0)"
         },
         "mode": "lines",
         "type": "scatter",
         "x": [
          0,
          0.908785035660213,
          0.908785035660213,
          0
         ],
         "xaxis": "x",
         "y": [
          -145,
          -145,
          -155,
          -155
         ],
         "yaxis": "y"
        },
        {
         "hoverinfo": "text",
         "marker": {
          "color": "rgb(255,220,0)"
         },
         "mode": "lines",
         "type": "scatter",
         "x": [
          0,
          0.9381180451609377,
          0.9381180451609377,
          0.908785035660213
         ],
         "xaxis": "x",
         "y": [
          -135,
          -135,
          -150,
          -150
         ],
         "yaxis": "y"
        },
        {
         "hoverinfo": "text",
         "marker": {
          "color": "rgb(255,220,0)"
         },
         "mode": "lines",
         "type": "scatter",
         "x": [
          0,
          0.8965461737499516,
          0.8965461737499516,
          0
         ],
         "xaxis": "x",
         "y": [
          -175,
          -175,
          -185,
          -185
         ],
         "yaxis": "y"
        },
        {
         "hoverinfo": "text",
         "marker": {
          "color": "rgb(255,220,0)"
         },
         "mode": "lines",
         "type": "scatter",
         "x": [
          0,
          0.9240646702079317,
          0.9240646702079317,
          0.8965461737499516
         ],
         "xaxis": "x",
         "y": [
          -165,
          -165,
          -180,
          -180
         ],
         "yaxis": "y"
        },
        {
         "hoverinfo": "text",
         "marker": {
          "color": "rgb(255,220,0)"
         },
         "mode": "lines",
         "type": "scatter",
         "x": [
          0.9240646702079317,
          0.930383838422749,
          0.930383838422749,
          0
         ],
         "xaxis": "x",
         "y": [
          -172.5,
          -172.5,
          -195,
          -195
         ],
         "yaxis": "y"
        },
        {
         "hoverinfo": "text",
         "marker": {
          "color": "rgb(255,220,0)"
         },
         "mode": "lines",
         "type": "scatter",
         "x": [
          0.9381180451609377,
          0.9947320307900747,
          0.9947320307900747,
          0.930383838422749
         ],
         "xaxis": "x",
         "y": [
          -142.5,
          -142.5,
          -183.75,
          -183.75
         ],
         "yaxis": "y"
        },
        {
         "hoverinfo": "text",
         "marker": {
          "color": "rgb(0,116,217)"
         },
         "mode": "lines",
         "type": "scatter",
         "x": [
          1.0047443988917204,
          1.0582910956561058,
          1.0582910956561058,
          0.9947320307900747
         ],
         "xaxis": "x",
         "y": [
          -101.25,
          -101.25,
          -163.125,
          -163.125
         ],
         "yaxis": "y"
        },
        {
         "hoverinfo": "text",
         "marker": {
          "color": "rgb(0,116,217)"
         },
         "mode": "lines",
         "type": "scatter",
         "x": [
          1.0522820857262885,
          1.1621214168518432,
          1.1621214168518432,
          1.0582910956561058
         ],
         "xaxis": "x",
         "y": [
          -40,
          -40,
          -132.1875,
          -132.1875
         ],
         "yaxis": "y"
        }
       ],
       "layout": {
        "autosize": false,
        "height": 500,
        "hoverlabel": {
         "bgcolor": "white",
         "font": {
          "family": "Rockwell",
          "size": 16
         }
        },
        "hovermode": "closest",
        "plot_bgcolor": "#ECEFF1",
        "showlegend": false,
        "template": {
         "data": {
          "bar": [
           {
            "error_x": {
             "color": "#2a3f5f"
            },
            "error_y": {
             "color": "#2a3f5f"
            },
            "marker": {
             "line": {
              "color": "white",
              "width": 0.5
             },
             "pattern": {
              "fillmode": "overlay",
              "size": 10,
              "solidity": 0.2
             }
            },
            "type": "bar"
           }
          ],
          "barpolar": [
           {
            "marker": {
             "line": {
              "color": "white",
              "width": 0.5
             },
             "pattern": {
              "fillmode": "overlay",
              "size": 10,
              "solidity": 0.2
             }
            },
            "type": "barpolar"
           }
          ],
          "carpet": [
           {
            "aaxis": {
             "endlinecolor": "#2a3f5f",
             "gridcolor": "#C8D4E3",
             "linecolor": "#C8D4E3",
             "minorgridcolor": "#C8D4E3",
             "startlinecolor": "#2a3f5f"
            },
            "baxis": {
             "endlinecolor": "#2a3f5f",
             "gridcolor": "#C8D4E3",
             "linecolor": "#C8D4E3",
             "minorgridcolor": "#C8D4E3",
             "startlinecolor": "#2a3f5f"
            },
            "type": "carpet"
           }
          ],
          "choropleth": [
           {
            "colorbar": {
             "outlinewidth": 0,
             "ticks": ""
            },
            "type": "choropleth"
           }
          ],
          "contour": [
           {
            "colorbar": {
             "outlinewidth": 0,
             "ticks": ""
            },
            "colorscale": [
             [
              0,
              "#0d0887"
             ],
             [
              0.1111111111111111,
              "#46039f"
             ],
             [
              0.2222222222222222,
              "#7201a8"
             ],
             [
              0.3333333333333333,
              "#9c179e"
             ],
             [
              0.4444444444444444,
              "#bd3786"
             ],
             [
              0.5555555555555556,
              "#d8576b"
             ],
             [
              0.6666666666666666,
              "#ed7953"
             ],
             [
              0.7777777777777778,
              "#fb9f3a"
             ],
             [
              0.8888888888888888,
              "#fdca26"
             ],
             [
              1,
              "#f0f921"
             ]
            ],
            "type": "contour"
           }
          ],
          "contourcarpet": [
           {
            "colorbar": {
             "outlinewidth": 0,
             "ticks": ""
            },
            "type": "contourcarpet"
           }
          ],
          "heatmap": [
           {
            "colorbar": {
             "outlinewidth": 0,
             "ticks": ""
            },
            "colorscale": [
             [
              0,
              "#0d0887"
             ],
             [
              0.1111111111111111,
              "#46039f"
             ],
             [
              0.2222222222222222,
              "#7201a8"
             ],
             [
              0.3333333333333333,
              "#9c179e"
             ],
             [
              0.4444444444444444,
              "#bd3786"
             ],
             [
              0.5555555555555556,
              "#d8576b"
             ],
             [
              0.6666666666666666,
              "#ed7953"
             ],
             [
              0.7777777777777778,
              "#fb9f3a"
             ],
             [
              0.8888888888888888,
              "#fdca26"
             ],
             [
              1,
              "#f0f921"
             ]
            ],
            "type": "heatmap"
           }
          ],
          "heatmapgl": [
           {
            "colorbar": {
             "outlinewidth": 0,
             "ticks": ""
            },
            "colorscale": [
             [
              0,
              "#0d0887"
             ],
             [
              0.1111111111111111,
              "#46039f"
             ],
             [
              0.2222222222222222,
              "#7201a8"
             ],
             [
              0.3333333333333333,
              "#9c179e"
             ],
             [
              0.4444444444444444,
              "#bd3786"
             ],
             [
              0.5555555555555556,
              "#d8576b"
             ],
             [
              0.6666666666666666,
              "#ed7953"
             ],
             [
              0.7777777777777778,
              "#fb9f3a"
             ],
             [
              0.8888888888888888,
              "#fdca26"
             ],
             [
              1,
              "#f0f921"
             ]
            ],
            "type": "heatmapgl"
           }
          ],
          "histogram": [
           {
            "marker": {
             "pattern": {
              "fillmode": "overlay",
              "size": 10,
              "solidity": 0.2
             }
            },
            "type": "histogram"
           }
          ],
          "histogram2d": [
           {
            "colorbar": {
             "outlinewidth": 0,
             "ticks": ""
            },
            "colorscale": [
             [
              0,
              "#0d0887"
             ],
             [
              0.1111111111111111,
              "#46039f"
             ],
             [
              0.2222222222222222,
              "#7201a8"
             ],
             [
              0.3333333333333333,
              "#9c179e"
             ],
             [
              0.4444444444444444,
              "#bd3786"
             ],
             [
              0.5555555555555556,
              "#d8576b"
             ],
             [
              0.6666666666666666,
              "#ed7953"
             ],
             [
              0.7777777777777778,
              "#fb9f3a"
             ],
             [
              0.8888888888888888,
              "#fdca26"
             ],
             [
              1,
              "#f0f921"
             ]
            ],
            "type": "histogram2d"
           }
          ],
          "histogram2dcontour": [
           {
            "colorbar": {
             "outlinewidth": 0,
             "ticks": ""
            },
            "colorscale": [
             [
              0,
              "#0d0887"
             ],
             [
              0.1111111111111111,
              "#46039f"
             ],
             [
              0.2222222222222222,
              "#7201a8"
             ],
             [
              0.3333333333333333,
              "#9c179e"
             ],
             [
              0.4444444444444444,
              "#bd3786"
             ],
             [
              0.5555555555555556,
              "#d8576b"
             ],
             [
              0.6666666666666666,
              "#ed7953"
             ],
             [
              0.7777777777777778,
              "#fb9f3a"
             ],
             [
              0.8888888888888888,
              "#fdca26"
             ],
             [
              1,
              "#f0f921"
             ]
            ],
            "type": "histogram2dcontour"
           }
          ],
          "mesh3d": [
           {
            "colorbar": {
             "outlinewidth": 0,
             "ticks": ""
            },
            "type": "mesh3d"
           }
          ],
          "parcoords": [
           {
            "line": {
             "colorbar": {
              "outlinewidth": 0,
              "ticks": ""
             }
            },
            "type": "parcoords"
           }
          ],
          "pie": [
           {
            "automargin": true,
            "type": "pie"
           }
          ],
          "scatter": [
           {
            "fillpattern": {
             "fillmode": "overlay",
             "size": 10,
             "solidity": 0.2
            },
            "type": "scatter"
           }
          ],
          "scatter3d": [
           {
            "line": {
             "colorbar": {
              "outlinewidth": 0,
              "ticks": ""
             }
            },
            "marker": {
             "colorbar": {
              "outlinewidth": 0,
              "ticks": ""
             }
            },
            "type": "scatter3d"
           }
          ],
          "scattercarpet": [
           {
            "marker": {
             "colorbar": {
              "outlinewidth": 0,
              "ticks": ""
             }
            },
            "type": "scattercarpet"
           }
          ],
          "scattergeo": [
           {
            "marker": {
             "colorbar": {
              "outlinewidth": 0,
              "ticks": ""
             }
            },
            "type": "scattergeo"
           }
          ],
          "scattergl": [
           {
            "marker": {
             "colorbar": {
              "outlinewidth": 0,
              "ticks": ""
             }
            },
            "type": "scattergl"
           }
          ],
          "scattermapbox": [
           {
            "marker": {
             "colorbar": {
              "outlinewidth": 0,
              "ticks": ""
             }
            },
            "type": "scattermapbox"
           }
          ],
          "scatterpolar": [
           {
            "marker": {
             "colorbar": {
              "outlinewidth": 0,
              "ticks": ""
             }
            },
            "type": "scatterpolar"
           }
          ],
          "scatterpolargl": [
           {
            "marker": {
             "colorbar": {
              "outlinewidth": 0,
              "ticks": ""
             }
            },
            "type": "scatterpolargl"
           }
          ],
          "scatterternary": [
           {
            "marker": {
             "colorbar": {
              "outlinewidth": 0,
              "ticks": ""
             }
            },
            "type": "scatterternary"
           }
          ],
          "surface": [
           {
            "colorbar": {
             "outlinewidth": 0,
             "ticks": ""
            },
            "colorscale": [
             [
              0,
              "#0d0887"
             ],
             [
              0.1111111111111111,
              "#46039f"
             ],
             [
              0.2222222222222222,
              "#7201a8"
             ],
             [
              0.3333333333333333,
              "#9c179e"
             ],
             [
              0.4444444444444444,
              "#bd3786"
             ],
             [
              0.5555555555555556,
              "#d8576b"
             ],
             [
              0.6666666666666666,
              "#ed7953"
             ],
             [
              0.7777777777777778,
              "#fb9f3a"
             ],
             [
              0.8888888888888888,
              "#fdca26"
             ],
             [
              1,
              "#f0f921"
             ]
            ],
            "type": "surface"
           }
          ],
          "table": [
           {
            "cells": {
             "fill": {
              "color": "#EBF0F8"
             },
             "line": {
              "color": "white"
             }
            },
            "header": {
             "fill": {
              "color": "#C8D4E3"
             },
             "line": {
              "color": "white"
             }
            },
            "type": "table"
           }
          ]
         },
         "layout": {
          "annotationdefaults": {
           "arrowcolor": "#2a3f5f",
           "arrowhead": 0,
           "arrowwidth": 1
          },
          "autotypenumbers": "strict",
          "coloraxis": {
           "colorbar": {
            "outlinewidth": 0,
            "ticks": ""
           }
          },
          "colorscale": {
           "diverging": [
            [
             0,
             "#8e0152"
            ],
            [
             0.1,
             "#c51b7d"
            ],
            [
             0.2,
             "#de77ae"
            ],
            [
             0.3,
             "#f1b6da"
            ],
            [
             0.4,
             "#fde0ef"
            ],
            [
             0.5,
             "#f7f7f7"
            ],
            [
             0.6,
             "#e6f5d0"
            ],
            [
             0.7,
             "#b8e186"
            ],
            [
             0.8,
             "#7fbc41"
            ],
            [
             0.9,
             "#4d9221"
            ],
            [
             1,
             "#276419"
            ]
           ],
           "sequential": [
            [
             0,
             "#0d0887"
            ],
            [
             0.1111111111111111,
             "#46039f"
            ],
            [
             0.2222222222222222,
             "#7201a8"
            ],
            [
             0.3333333333333333,
             "#9c179e"
            ],
            [
             0.4444444444444444,
             "#bd3786"
            ],
            [
             0.5555555555555556,
             "#d8576b"
            ],
            [
             0.6666666666666666,
             "#ed7953"
            ],
            [
             0.7777777777777778,
             "#fb9f3a"
            ],
            [
             0.8888888888888888,
             "#fdca26"
            ],
            [
             1,
             "#f0f921"
            ]
           ],
           "sequentialminus": [
            [
             0,
             "#0d0887"
            ],
            [
             0.1111111111111111,
             "#46039f"
            ],
            [
             0.2222222222222222,
             "#7201a8"
            ],
            [
             0.3333333333333333,
             "#9c179e"
            ],
            [
             0.4444444444444444,
             "#bd3786"
            ],
            [
             0.5555555555555556,
             "#d8576b"
            ],
            [
             0.6666666666666666,
             "#ed7953"
            ],
            [
             0.7777777777777778,
             "#fb9f3a"
            ],
            [
             0.8888888888888888,
             "#fdca26"
            ],
            [
             1,
             "#f0f921"
            ]
           ]
          },
          "colorway": [
           "#636efa",
           "#EF553B",
           "#00cc96",
           "#ab63fa",
           "#FFA15A",
           "#19d3f3",
           "#FF6692",
           "#B6E880",
           "#FF97FF",
           "#FECB52"
          ],
          "font": {
           "color": "#2a3f5f"
          },
          "geo": {
           "bgcolor": "white",
           "lakecolor": "white",
           "landcolor": "white",
           "showlakes": true,
           "showland": true,
           "subunitcolor": "#C8D4E3"
          },
          "hoverlabel": {
           "align": "left"
          },
          "hovermode": "closest",
          "mapbox": {
           "style": "light"
          },
          "paper_bgcolor": "white",
          "plot_bgcolor": "white",
          "polar": {
           "angularaxis": {
            "gridcolor": "#EBF0F8",
            "linecolor": "#EBF0F8",
            "ticks": ""
           },
           "bgcolor": "white",
           "radialaxis": {
            "gridcolor": "#EBF0F8",
            "linecolor": "#EBF0F8",
            "ticks": ""
           }
          },
          "scene": {
           "xaxis": {
            "backgroundcolor": "white",
            "gridcolor": "#DFE8F3",
            "gridwidth": 2,
            "linecolor": "#EBF0F8",
            "showbackground": true,
            "ticks": "",
            "zerolinecolor": "#EBF0F8"
           },
           "yaxis": {
            "backgroundcolor": "white",
            "gridcolor": "#DFE8F3",
            "gridwidth": 2,
            "linecolor": "#EBF0F8",
            "showbackground": true,
            "ticks": "",
            "zerolinecolor": "#EBF0F8"
           },
           "zaxis": {
            "backgroundcolor": "white",
            "gridcolor": "#DFE8F3",
            "gridwidth": 2,
            "linecolor": "#EBF0F8",
            "showbackground": true,
            "ticks": "",
            "zerolinecolor": "#EBF0F8"
           }
          },
          "shapedefaults": {
           "line": {
            "color": "#2a3f5f"
           }
          },
          "ternary": {
           "aaxis": {
            "gridcolor": "#DFE8F3",
            "linecolor": "#A2B1C6",
            "ticks": ""
           },
           "baxis": {
            "gridcolor": "#DFE8F3",
            "linecolor": "#A2B1C6",
            "ticks": ""
           },
           "bgcolor": "white",
           "caxis": {
            "gridcolor": "#DFE8F3",
            "linecolor": "#A2B1C6",
            "ticks": ""
           }
          },
          "title": {
           "x": 0.05
          },
          "xaxis": {
           "automargin": true,
           "gridcolor": "#EBF0F8",
           "linecolor": "#EBF0F8",
           "ticks": "",
           "title": {
            "standoff": 15
           },
           "zerolinecolor": "#EBF0F8",
           "zerolinewidth": 2
          },
          "yaxis": {
           "automargin": true,
           "gridcolor": "#EBF0F8",
           "linecolor": "#EBF0F8",
           "ticks": "",
           "title": {
            "standoff": 15
           },
           "zerolinecolor": "#EBF0F8",
           "zerolinewidth": 2
          }
         }
        },
        "title": {
         "font": {
          "color": "Black",
          "size": 22
         },
         "text": "<b>Hierarchical Clustering</b>",
         "x": 0.5,
         "xanchor": "center",
         "yanchor": "top"
        },
        "width": 1000,
        "xaxis": {
         "mirror": "allticks",
         "rangemode": "tozero",
         "showgrid": false,
         "showline": true,
         "showticklabels": true,
         "ticks": "outside",
         "type": "linear",
         "zeroline": false
        },
        "yaxis": {
         "mirror": "allticks",
         "range": [
          -200,
          0
         ],
         "rangemode": "tozero",
         "showgrid": false,
         "showline": true,
         "showticklabels": true,
         "tickmode": "array",
         "ticks": "outside",
         "ticktext": [
          "14_electronic_smoking_cigar...",
          "10_health_patients_qualitat...",
          "2_covid19_pandemic_health",
          "3_stress_coping_psychological",
          "19_personality_questionnair...",
          "15_anxiety_disorder_functio...",
          "16_autism_spectrum_disorder",
          "13_stress_fear_amygdala",
          "17_facial_gender_sex",
          "8_facial_emotional_emotion",
          "5_touch_perception_vestibular",
          "18_music_musical_acoustic",
          "11_auditory_hearing_speech",
          "9_language_lexical_chinese",
          "12_knowledge_students_engag...",
          "6_players_soccer_elite",
          "7_choice_decisions_uncertai...",
          "1_intergroup_prosocial_social",
          "0_foraging_ant_breeding",
          "4_cooperation_game_games"
         ],
         "tickvals": [
          -5,
          -15,
          -25,
          -35,
          -45,
          -55,
          -65,
          -75,
          -85,
          -95,
          -105,
          -115,
          -125,
          -135,
          -145,
          -155,
          -165,
          -175,
          -185,
          -195
         ],
         "type": "linear",
         "zeroline": false
        }
       }
      },
      "text/html": [
       "<div>                            <div id=\"8f199740-45d6-4fc3-a986-0f2c80137e1e\" class=\"plotly-graph-div\" style=\"height:500px; width:1000px;\"></div>            <script type=\"text/javascript\">                require([\"plotly\"], function(Plotly) {                    window.PLOTLYENV=window.PLOTLYENV || {};                                    if (document.getElementById(\"8f199740-45d6-4fc3-a986-0f2c80137e1e\")) {                    Plotly.newPlot(                        \"8f199740-45d6-4fc3-a986-0f2c80137e1e\",                        [{\"hoverinfo\":\"text\",\"marker\":{\"color\":\"rgb(61,153,112)\"},\"mode\":\"lines\",\"x\":[0.0,0.7561209600178747,0.7561209600178747,0.0],\"xaxis\":\"x\",\"y\":[-25.0,-25.0,-35.0,-35.0],\"yaxis\":\"y\",\"type\":\"scatter\"},{\"hoverinfo\":\"text\",\"marker\":{\"color\":\"rgb(61,153,112)\"},\"mode\":\"lines\",\"x\":[0.0,0.84773820743003,0.84773820743003,0.7561209600178747],\"xaxis\":\"x\",\"y\":[-15.0,-15.0,-30.0,-30.0],\"yaxis\":\"y\",\"type\":\"scatter\"},{\"hoverinfo\":\"text\",\"marker\":{\"color\":\"rgb(61,153,112)\"},\"mode\":\"lines\",\"x\":[0.0,0.9209551785004165,0.9209551785004165,0.84773820743003],\"xaxis\":\"x\",\"y\":[-5.0,-5.0,-22.5,-22.5],\"yaxis\":\"y\",\"type\":\"scatter\"},{\"hoverinfo\":\"text\",\"marker\":{\"color\":\"rgb(255,65,54)\"},\"mode\":\"lines\",\"x\":[0.0,0.8318917264629122,0.8318917264629122,0.0],\"xaxis\":\"x\",\"y\":[-45.0,-45.0,-55.0,-55.0],\"yaxis\":\"y\",\"type\":\"scatter\"},{\"hoverinfo\":\"text\",\"marker\":{\"color\":\"rgb(255,65,54)\"},\"mode\":\"lines\",\"x\":[0.8318917264629122,0.9364272630685664,0.9364272630685664,0.0],\"xaxis\":\"x\",\"y\":[-50.0,-50.0,-65.0,-65.0],\"yaxis\":\"y\",\"type\":\"scatter\"},{\"hoverinfo\":\"text\",\"marker\":{\"color\":\"rgb(255,65,54)\"},\"mode\":\"lines\",\"x\":[0.9364272630685664,0.9654824314947312,0.9654824314947312,0.0],\"xaxis\":\"x\",\"y\":[-57.5,-57.5,-75.0,-75.0],\"yaxis\":\"y\",\"type\":\"scatter\"},{\"hoverinfo\":\"text\",\"marker\":{\"color\":\"rgb(0,116,217)\"},\"mode\":\"lines\",\"x\":[0.9209551785004165,1.0522820857262885,1.0522820857262885,0.9654824314947312],\"xaxis\":\"x\",\"y\":[-13.75,-13.75,-66.25,-66.25],\"yaxis\":\"y\",\"type\":\"scatter\"},{\"hoverinfo\":\"text\",\"marker\":{\"color\":\"rgb(35,205,205)\"},\"mode\":\"lines\",\"x\":[0.0,0.8382401604323889,0.8382401604323889,0.0],\"xaxis\":\"x\",\"y\":[-85.0,-85.0,-95.0,-95.0],\"yaxis\":\"y\",\"type\":\"scatter\"},{\"hoverinfo\":\"text\",\"marker\":{\"color\":\"rgb(133,20,75)\"},\"mode\":\"lines\",\"x\":[0.0,0.8770455264419197,0.8770455264419197,0.0],\"xaxis\":\"x\",\"y\":[-115.0,-115.0,-125.0,-125.0],\"yaxis\":\"y\",\"type\":\"scatter\"},{\"hoverinfo\":\"text\",\"marker\":{\"color\":\"rgb(133,20,75)\"},\"mode\":\"lines\",\"x\":[0.0,0.917743107541342,0.917743107541342,0.8770455264419197],\"xaxis\":\"x\",\"y\":[-105.0,-105.0,-120.0,-120.0],\"yaxis\":\"y\",\"type\":\"scatter\"},{\"hoverinfo\":\"text\",\"marker\":{\"color\":\"rgb(0,116,217)\"},\"mode\":\"lines\",\"x\":[0.8382401604323889,1.0047443988917204,1.0047443988917204,0.917743107541342],\"xaxis\":\"x\",\"y\":[-90.0,-90.0,-112.5,-112.5],\"yaxis\":\"y\",\"type\":\"scatter\"},{\"hoverinfo\":\"text\",\"marker\":{\"color\":\"rgb(255,220,0)\"},\"mode\":\"lines\",\"x\":[0.0,0.908785035660213,0.908785035660213,0.0],\"xaxis\":\"x\",\"y\":[-145.0,-145.0,-155.0,-155.0],\"yaxis\":\"y\",\"type\":\"scatter\"},{\"hoverinfo\":\"text\",\"marker\":{\"color\":\"rgb(255,220,0)\"},\"mode\":\"lines\",\"x\":[0.0,0.9381180451609377,0.9381180451609377,0.908785035660213],\"xaxis\":\"x\",\"y\":[-135.0,-135.0,-150.0,-150.0],\"yaxis\":\"y\",\"type\":\"scatter\"},{\"hoverinfo\":\"text\",\"marker\":{\"color\":\"rgb(255,220,0)\"},\"mode\":\"lines\",\"x\":[0.0,0.8965461737499516,0.8965461737499516,0.0],\"xaxis\":\"x\",\"y\":[-175.0,-175.0,-185.0,-185.0],\"yaxis\":\"y\",\"type\":\"scatter\"},{\"hoverinfo\":\"text\",\"marker\":{\"color\":\"rgb(255,220,0)\"},\"mode\":\"lines\",\"x\":[0.0,0.9240646702079317,0.9240646702079317,0.8965461737499516],\"xaxis\":\"x\",\"y\":[-165.0,-165.0,-180.0,-180.0],\"yaxis\":\"y\",\"type\":\"scatter\"},{\"hoverinfo\":\"text\",\"marker\":{\"color\":\"rgb(255,220,0)\"},\"mode\":\"lines\",\"x\":[0.9240646702079317,0.930383838422749,0.930383838422749,0.0],\"xaxis\":\"x\",\"y\":[-172.5,-172.5,-195.0,-195.0],\"yaxis\":\"y\",\"type\":\"scatter\"},{\"hoverinfo\":\"text\",\"marker\":{\"color\":\"rgb(255,220,0)\"},\"mode\":\"lines\",\"x\":[0.9381180451609377,0.9947320307900747,0.9947320307900747,0.930383838422749],\"xaxis\":\"x\",\"y\":[-142.5,-142.5,-183.75,-183.75],\"yaxis\":\"y\",\"type\":\"scatter\"},{\"hoverinfo\":\"text\",\"marker\":{\"color\":\"rgb(0,116,217)\"},\"mode\":\"lines\",\"x\":[1.0047443988917204,1.0582910956561058,1.0582910956561058,0.9947320307900747],\"xaxis\":\"x\",\"y\":[-101.25,-101.25,-163.125,-163.125],\"yaxis\":\"y\",\"type\":\"scatter\"},{\"hoverinfo\":\"text\",\"marker\":{\"color\":\"rgb(0,116,217)\"},\"mode\":\"lines\",\"x\":[1.0522820857262885,1.1621214168518432,1.1621214168518432,1.0582910956561058],\"xaxis\":\"x\",\"y\":[-40.0,-40.0,-132.1875,-132.1875],\"yaxis\":\"y\",\"type\":\"scatter\"}],                        {\"autosize\":false,\"height\":500,\"hovermode\":\"closest\",\"showlegend\":false,\"width\":1000,\"xaxis\":{\"mirror\":\"allticks\",\"rangemode\":\"tozero\",\"showgrid\":false,\"showline\":true,\"showticklabels\":true,\"ticks\":\"outside\",\"type\":\"linear\",\"zeroline\":false},\"yaxis\":{\"mirror\":\"allticks\",\"rangemode\":\"tozero\",\"showgrid\":false,\"showline\":true,\"showticklabels\":true,\"tickmode\":\"array\",\"ticks\":\"outside\",\"ticktext\":[\"14_electronic_smoking_cigar...\",\"10_health_patients_qualitat...\",\"2_covid19_pandemic_health\",\"3_stress_coping_psychological\",\"19_personality_questionnair...\",\"15_anxiety_disorder_functio...\",\"16_autism_spectrum_disorder\",\"13_stress_fear_amygdala\",\"17_facial_gender_sex\",\"8_facial_emotional_emotion\",\"5_touch_perception_vestibular\",\"18_music_musical_acoustic\",\"11_auditory_hearing_speech\",\"9_language_lexical_chinese\",\"12_knowledge_students_engag...\",\"6_players_soccer_elite\",\"7_choice_decisions_uncertai...\",\"1_intergroup_prosocial_social\",\"0_foraging_ant_breeding\",\"4_cooperation_game_games\"],\"tickvals\":[-5.0,-15.0,-25.0,-35.0,-45.0,-55.0,-65.0,-75.0,-85.0,-95.0,-105.0,-115.0,-125.0,-135.0,-145.0,-155.0,-165.0,-175.0,-185.0,-195.0],\"type\":\"linear\",\"zeroline\":false,\"range\":[-200.0,0.0]},\"template\":{\"data\":{\"barpolar\":[{\"marker\":{\"line\":{\"color\":\"white\",\"width\":0.5},\"pattern\":{\"fillmode\":\"overlay\",\"size\":10,\"solidity\":0.2}},\"type\":\"barpolar\"}],\"bar\":[{\"error_x\":{\"color\":\"#2a3f5f\"},\"error_y\":{\"color\":\"#2a3f5f\"},\"marker\":{\"line\":{\"color\":\"white\",\"width\":0.5},\"pattern\":{\"fillmode\":\"overlay\",\"size\":10,\"solidity\":0.2}},\"type\":\"bar\"}],\"carpet\":[{\"aaxis\":{\"endlinecolor\":\"#2a3f5f\",\"gridcolor\":\"#C8D4E3\",\"linecolor\":\"#C8D4E3\",\"minorgridcolor\":\"#C8D4E3\",\"startlinecolor\":\"#2a3f5f\"},\"baxis\":{\"endlinecolor\":\"#2a3f5f\",\"gridcolor\":\"#C8D4E3\",\"linecolor\":\"#C8D4E3\",\"minorgridcolor\":\"#C8D4E3\",\"startlinecolor\":\"#2a3f5f\"},\"type\":\"carpet\"}],\"choropleth\":[{\"colorbar\":{\"outlinewidth\":0,\"ticks\":\"\"},\"type\":\"choropleth\"}],\"contourcarpet\":[{\"colorbar\":{\"outlinewidth\":0,\"ticks\":\"\"},\"type\":\"contourcarpet\"}],\"contour\":[{\"colorbar\":{\"outlinewidth\":0,\"ticks\":\"\"},\"colorscale\":[[0.0,\"#0d0887\"],[0.1111111111111111,\"#46039f\"],[0.2222222222222222,\"#7201a8\"],[0.3333333333333333,\"#9c179e\"],[0.4444444444444444,\"#bd3786\"],[0.5555555555555556,\"#d8576b\"],[0.6666666666666666,\"#ed7953\"],[0.7777777777777778,\"#fb9f3a\"],[0.8888888888888888,\"#fdca26\"],[1.0,\"#f0f921\"]],\"type\":\"contour\"}],\"heatmapgl\":[{\"colorbar\":{\"outlinewidth\":0,\"ticks\":\"\"},\"colorscale\":[[0.0,\"#0d0887\"],[0.1111111111111111,\"#46039f\"],[0.2222222222222222,\"#7201a8\"],[0.3333333333333333,\"#9c179e\"],[0.4444444444444444,\"#bd3786\"],[0.5555555555555556,\"#d8576b\"],[0.6666666666666666,\"#ed7953\"],[0.7777777777777778,\"#fb9f3a\"],[0.8888888888888888,\"#fdca26\"],[1.0,\"#f0f921\"]],\"type\":\"heatmapgl\"}],\"heatmap\":[{\"colorbar\":{\"outlinewidth\":0,\"ticks\":\"\"},\"colorscale\":[[0.0,\"#0d0887\"],[0.1111111111111111,\"#46039f\"],[0.2222222222222222,\"#7201a8\"],[0.3333333333333333,\"#9c179e\"],[0.4444444444444444,\"#bd3786\"],[0.5555555555555556,\"#d8576b\"],[0.6666666666666666,\"#ed7953\"],[0.7777777777777778,\"#fb9f3a\"],[0.8888888888888888,\"#fdca26\"],[1.0,\"#f0f921\"]],\"type\":\"heatmap\"}],\"histogram2dcontour\":[{\"colorbar\":{\"outlinewidth\":0,\"ticks\":\"\"},\"colorscale\":[[0.0,\"#0d0887\"],[0.1111111111111111,\"#46039f\"],[0.2222222222222222,\"#7201a8\"],[0.3333333333333333,\"#9c179e\"],[0.4444444444444444,\"#bd3786\"],[0.5555555555555556,\"#d8576b\"],[0.6666666666666666,\"#ed7953\"],[0.7777777777777778,\"#fb9f3a\"],[0.8888888888888888,\"#fdca26\"],[1.0,\"#f0f921\"]],\"type\":\"histogram2dcontour\"}],\"histogram2d\":[{\"colorbar\":{\"outlinewidth\":0,\"ticks\":\"\"},\"colorscale\":[[0.0,\"#0d0887\"],[0.1111111111111111,\"#46039f\"],[0.2222222222222222,\"#7201a8\"],[0.3333333333333333,\"#9c179e\"],[0.4444444444444444,\"#bd3786\"],[0.5555555555555556,\"#d8576b\"],[0.6666666666666666,\"#ed7953\"],[0.7777777777777778,\"#fb9f3a\"],[0.8888888888888888,\"#fdca26\"],[1.0,\"#f0f921\"]],\"type\":\"histogram2d\"}],\"histogram\":[{\"marker\":{\"pattern\":{\"fillmode\":\"overlay\",\"size\":10,\"solidity\":0.2}},\"type\":\"histogram\"}],\"mesh3d\":[{\"colorbar\":{\"outlinewidth\":0,\"ticks\":\"\"},\"type\":\"mesh3d\"}],\"parcoords\":[{\"line\":{\"colorbar\":{\"outlinewidth\":0,\"ticks\":\"\"}},\"type\":\"parcoords\"}],\"pie\":[{\"automargin\":true,\"type\":\"pie\"}],\"scatter3d\":[{\"line\":{\"colorbar\":{\"outlinewidth\":0,\"ticks\":\"\"}},\"marker\":{\"colorbar\":{\"outlinewidth\":0,\"ticks\":\"\"}},\"type\":\"scatter3d\"}],\"scattercarpet\":[{\"marker\":{\"colorbar\":{\"outlinewidth\":0,\"ticks\":\"\"}},\"type\":\"scattercarpet\"}],\"scattergeo\":[{\"marker\":{\"colorbar\":{\"outlinewidth\":0,\"ticks\":\"\"}},\"type\":\"scattergeo\"}],\"scattergl\":[{\"marker\":{\"colorbar\":{\"outlinewidth\":0,\"ticks\":\"\"}},\"type\":\"scattergl\"}],\"scattermapbox\":[{\"marker\":{\"colorbar\":{\"outlinewidth\":0,\"ticks\":\"\"}},\"type\":\"scattermapbox\"}],\"scatterpolargl\":[{\"marker\":{\"colorbar\":{\"outlinewidth\":0,\"ticks\":\"\"}},\"type\":\"scatterpolargl\"}],\"scatterpolar\":[{\"marker\":{\"colorbar\":{\"outlinewidth\":0,\"ticks\":\"\"}},\"type\":\"scatterpolar\"}],\"scatter\":[{\"fillpattern\":{\"fillmode\":\"overlay\",\"size\":10,\"solidity\":0.2},\"type\":\"scatter\"}],\"scatterternary\":[{\"marker\":{\"colorbar\":{\"outlinewidth\":0,\"ticks\":\"\"}},\"type\":\"scatterternary\"}],\"surface\":[{\"colorbar\":{\"outlinewidth\":0,\"ticks\":\"\"},\"colorscale\":[[0.0,\"#0d0887\"],[0.1111111111111111,\"#46039f\"],[0.2222222222222222,\"#7201a8\"],[0.3333333333333333,\"#9c179e\"],[0.4444444444444444,\"#bd3786\"],[0.5555555555555556,\"#d8576b\"],[0.6666666666666666,\"#ed7953\"],[0.7777777777777778,\"#fb9f3a\"],[0.8888888888888888,\"#fdca26\"],[1.0,\"#f0f921\"]],\"type\":\"surface\"}],\"table\":[{\"cells\":{\"fill\":{\"color\":\"#EBF0F8\"},\"line\":{\"color\":\"white\"}},\"header\":{\"fill\":{\"color\":\"#C8D4E3\"},\"line\":{\"color\":\"white\"}},\"type\":\"table\"}]},\"layout\":{\"annotationdefaults\":{\"arrowcolor\":\"#2a3f5f\",\"arrowhead\":0,\"arrowwidth\":1},\"autotypenumbers\":\"strict\",\"coloraxis\":{\"colorbar\":{\"outlinewidth\":0,\"ticks\":\"\"}},\"colorscale\":{\"diverging\":[[0,\"#8e0152\"],[0.1,\"#c51b7d\"],[0.2,\"#de77ae\"],[0.3,\"#f1b6da\"],[0.4,\"#fde0ef\"],[0.5,\"#f7f7f7\"],[0.6,\"#e6f5d0\"],[0.7,\"#b8e186\"],[0.8,\"#7fbc41\"],[0.9,\"#4d9221\"],[1,\"#276419\"]],\"sequential\":[[0.0,\"#0d0887\"],[0.1111111111111111,\"#46039f\"],[0.2222222222222222,\"#7201a8\"],[0.3333333333333333,\"#9c179e\"],[0.4444444444444444,\"#bd3786\"],[0.5555555555555556,\"#d8576b\"],[0.6666666666666666,\"#ed7953\"],[0.7777777777777778,\"#fb9f3a\"],[0.8888888888888888,\"#fdca26\"],[1.0,\"#f0f921\"]],\"sequentialminus\":[[0.0,\"#0d0887\"],[0.1111111111111111,\"#46039f\"],[0.2222222222222222,\"#7201a8\"],[0.3333333333333333,\"#9c179e\"],[0.4444444444444444,\"#bd3786\"],[0.5555555555555556,\"#d8576b\"],[0.6666666666666666,\"#ed7953\"],[0.7777777777777778,\"#fb9f3a\"],[0.8888888888888888,\"#fdca26\"],[1.0,\"#f0f921\"]]},\"colorway\":[\"#636efa\",\"#EF553B\",\"#00cc96\",\"#ab63fa\",\"#FFA15A\",\"#19d3f3\",\"#FF6692\",\"#B6E880\",\"#FF97FF\",\"#FECB52\"],\"font\":{\"color\":\"#2a3f5f\"},\"geo\":{\"bgcolor\":\"white\",\"lakecolor\":\"white\",\"landcolor\":\"white\",\"showlakes\":true,\"showland\":true,\"subunitcolor\":\"#C8D4E3\"},\"hoverlabel\":{\"align\":\"left\"},\"hovermode\":\"closest\",\"mapbox\":{\"style\":\"light\"},\"paper_bgcolor\":\"white\",\"plot_bgcolor\":\"white\",\"polar\":{\"angularaxis\":{\"gridcolor\":\"#EBF0F8\",\"linecolor\":\"#EBF0F8\",\"ticks\":\"\"},\"bgcolor\":\"white\",\"radialaxis\":{\"gridcolor\":\"#EBF0F8\",\"linecolor\":\"#EBF0F8\",\"ticks\":\"\"}},\"scene\":{\"xaxis\":{\"backgroundcolor\":\"white\",\"gridcolor\":\"#DFE8F3\",\"gridwidth\":2,\"linecolor\":\"#EBF0F8\",\"showbackground\":true,\"ticks\":\"\",\"zerolinecolor\":\"#EBF0F8\"},\"yaxis\":{\"backgroundcolor\":\"white\",\"gridcolor\":\"#DFE8F3\",\"gridwidth\":2,\"linecolor\":\"#EBF0F8\",\"showbackground\":true,\"ticks\":\"\",\"zerolinecolor\":\"#EBF0F8\"},\"zaxis\":{\"backgroundcolor\":\"white\",\"gridcolor\":\"#DFE8F3\",\"gridwidth\":2,\"linecolor\":\"#EBF0F8\",\"showbackground\":true,\"ticks\":\"\",\"zerolinecolor\":\"#EBF0F8\"}},\"shapedefaults\":{\"line\":{\"color\":\"#2a3f5f\"}},\"ternary\":{\"aaxis\":{\"gridcolor\":\"#DFE8F3\",\"linecolor\":\"#A2B1C6\",\"ticks\":\"\"},\"baxis\":{\"gridcolor\":\"#DFE8F3\",\"linecolor\":\"#A2B1C6\",\"ticks\":\"\"},\"bgcolor\":\"white\",\"caxis\":{\"gridcolor\":\"#DFE8F3\",\"linecolor\":\"#A2B1C6\",\"ticks\":\"\"}},\"title\":{\"x\":0.05},\"xaxis\":{\"automargin\":true,\"gridcolor\":\"#EBF0F8\",\"linecolor\":\"#EBF0F8\",\"ticks\":\"\",\"title\":{\"standoff\":15},\"zerolinecolor\":\"#EBF0F8\",\"zerolinewidth\":2},\"yaxis\":{\"automargin\":true,\"gridcolor\":\"#EBF0F8\",\"linecolor\":\"#EBF0F8\",\"ticks\":\"\",\"title\":{\"standoff\":15},\"zerolinecolor\":\"#EBF0F8\",\"zerolinewidth\":2}}},\"title\":{\"font\":{\"size\":22,\"color\":\"Black\"},\"text\":\"\\u003cb\\u003eHierarchical Clustering\\u003c\\u002fb\\u003e\",\"x\":0.5,\"xanchor\":\"center\",\"yanchor\":\"top\"},\"hoverlabel\":{\"font\":{\"size\":16,\"family\":\"Rockwell\"},\"bgcolor\":\"white\"},\"plot_bgcolor\":\"#ECEFF1\"},                        {\"responsive\": true}                    ).then(function(){\n",
       "                            \n",
       "var gd = document.getElementById('8f199740-45d6-4fc3-a986-0f2c80137e1e');\n",
       "var x = new MutationObserver(function (mutations, observer) {{\n",
       "        var display = window.getComputedStyle(gd).display;\n",
       "        if (!display || display === 'none') {{\n",
       "            console.log([gd, 'removed!']);\n",
       "            Plotly.purge(gd);\n",
       "            observer.disconnect();\n",
       "        }}\n",
       "}});\n",
       "\n",
       "// Listen for the removal of the full notebook cells\n",
       "var notebookContainer = gd.closest('#notebook-container');\n",
       "if (notebookContainer) {{\n",
       "    x.observe(notebookContainer, {childList: true});\n",
       "}}\n",
       "\n",
       "// Listen for the clearing of the current output cell\n",
       "var outputEl = gd.closest('.output');\n",
       "if (outputEl) {{\n",
       "    x.observe(outputEl, {childList: true});\n",
       "}}\n",
       "\n",
       "                        })                };                });            </script>        </div>"
      ]
     },
     "metadata": {},
     "output_type": "display_data"
    }
   ],
   "source": [
    "topic_model.visualize_hierarchy(top_n_topics=20)"
   ]
  },
  {
   "cell_type": "code",
   "execution_count": 18,
   "metadata": {
    "id": "reppjdxIEOxG"
   },
   "outputs": [
    {
     "data": {
      "application/vnd.plotly.v1+json": {
       "config": {
        "plotlyServerURL": "https://plot.ly"
       },
       "data": [
        {
         "marker": {
          "color": "#D55E00"
         },
         "orientation": "h",
         "type": "bar",
         "x": [
          0.024773819701951017,
          0.024946477913323443,
          0.024946477913323443,
          0.024946477913323443,
          0.038090747272365034
         ],
         "xaxis": "x",
         "y": [
          "female  ",
          "ants  ",
          "breeding  ",
          "ant  ",
          "foraging  "
         ],
         "yaxis": "y"
        },
        {
         "marker": {
          "color": "#0072B2"
         },
         "orientation": "h",
         "type": "bar",
         "x": [
          0.03263415840276504,
          0.0391584702224519,
          0.04324723301686027,
          0.04533579782623287,
          0.05289176413060502
         ],
         "xaxis": "x2",
         "y": [
          "ingroup  ",
          "stock  ",
          "social  ",
          "prosocial  ",
          "intergroup  "
         ],
         "yaxis": "y2"
        },
        {
         "marker": {
          "color": "#CC79A7"
         },
         "orientation": "h",
         "type": "bar",
         "x": [
          0.038931461409294967,
          0.04792175061457133,
          0.054499694477152055,
          0.0936831114935184,
          0.14677614359085037
         ],
         "xaxis": "x3",
         "y": [
          "distress  ",
          "mental  ",
          "health  ",
          "pandemic  ",
          "covid19  "
         ],
         "yaxis": "y3"
        },
        {
         "marker": {
          "color": "#E69F00"
         },
         "orientation": "h",
         "type": "bar",
         "x": [
          0.038315770408912826,
          0.042402220746614136,
          0.04391003633176856,
          0.06497796259457259,
          0.08530763492855971
         ],
         "xaxis": "x4",
         "y": [
          "older  ",
          "depression  ",
          "psychological  ",
          "coping  ",
          "stress  "
         ],
         "yaxis": "y4"
        },
        {
         "marker": {
          "color": "#56B4E9"
         },
         "orientation": "h",
         "type": "bar",
         "x": [
          0.06116129687048822,
          0.07645162108811028,
          0.08655692307530832,
          0.09680390345722038,
          0.11673388874966291
         ],
         "xaxis": "x5",
         "y": [
          "coordination  ",
          "reciprocity  ",
          "games  ",
          "game  ",
          "cooperation  "
         ],
         "yaxis": "y5"
        },
        {
         "marker": {
          "color": "#009E73"
         },
         "orientation": "h",
         "type": "bar",
         "x": [
          0.05871106691856053,
          0.07419164835026427,
          0.07645162108811028,
          0.08067276869361531,
          0.0960006142338772
         ],
         "xaxis": "x6",
         "y": [
          "postural  ",
          "body  ",
          "vestibular  ",
          "perception  ",
          "touch  "
         ],
         "yaxis": "y6"
        },
        {
         "marker": {
          "color": "#F0E442"
         },
         "orientation": "h",
         "type": "bar",
         "x": [
          0.0480809294541972,
          0.05767535730261404,
          0.05798520102658847,
          0.07212139418129582,
          0.09818417387873009
         ],
         "xaxis": "x7",
         "y": [
          "sport  ",
          "performance  ",
          "elite  ",
          "soccer  ",
          "players  "
         ],
         "yaxis": "y7"
        },
        {
         "marker": {
          "color": "#D55E00"
         },
         "orientation": "h",
         "type": "bar",
         "x": [
          0.04491680222374932,
          0.04491680222374932,
          0.04491680222374932,
          0.051200327591401175,
          0.07458803306268363
         ],
         "xaxis": "x8",
         "y": [
          "choices  ",
          "confidence  ",
          "uncertainty  ",
          "decisions  ",
          "choice  "
         ],
         "yaxis": "y8"
        },
        {
         "marker": {
          "color": "#0072B2"
         },
         "orientation": "h",
         "type": "bar",
         "x": [
          0.05893492760048763,
          0.060146798619700126,
          0.06469131639541364,
          0.0917088081111876,
          0.10440254132543048
         ],
         "xaxis": "x9",
         "y": [
          "processing  ",
          "faces  ",
          "emotion  ",
          "emotional  ",
          "facial  "
         ],
         "yaxis": "y9"
        },
        {
         "marker": {
          "color": "#CC79A7"
         },
         "orientation": "h",
         "type": "bar",
         "x": [
          0.048686158700153984,
          0.04869275995008871,
          0.05033395034337828,
          0.054170108267349686,
          0.08808441310091199
         ],
         "xaxis": "x10",
         "y": [
          "translation  ",
          "children  ",
          "chinese  ",
          "lexical  ",
          "language  "
         ],
         "yaxis": "y10"
        }
       ],
       "layout": {
        "annotations": [
         {
          "font": {
           "size": 16
          },
          "showarrow": false,
          "text": "Topic 0",
          "x": 0.0875,
          "xanchor": "center",
          "xref": "paper",
          "y": 1,
          "yanchor": "bottom",
          "yref": "paper"
         },
         {
          "font": {
           "size": 16
          },
          "showarrow": false,
          "text": "Topic 1",
          "x": 0.36250000000000004,
          "xanchor": "center",
          "xref": "paper",
          "y": 1,
          "yanchor": "bottom",
          "yref": "paper"
         },
         {
          "font": {
           "size": 16
          },
          "showarrow": false,
          "text": "Topic 2",
          "x": 0.6375000000000001,
          "xanchor": "center",
          "xref": "paper",
          "y": 1,
          "yanchor": "bottom",
          "yref": "paper"
         },
         {
          "font": {
           "size": 16
          },
          "showarrow": false,
          "text": "Topic 3",
          "x": 0.9125,
          "xanchor": "center",
          "xref": "paper",
          "y": 1,
          "yanchor": "bottom",
          "yref": "paper"
         },
         {
          "font": {
           "size": 16
          },
          "showarrow": false,
          "text": "Topic 4",
          "x": 0.0875,
          "xanchor": "center",
          "xref": "paper",
          "y": 0.6222222222222222,
          "yanchor": "bottom",
          "yref": "paper"
         },
         {
          "font": {
           "size": 16
          },
          "showarrow": false,
          "text": "Topic 5",
          "x": 0.36250000000000004,
          "xanchor": "center",
          "xref": "paper",
          "y": 0.6222222222222222,
          "yanchor": "bottom",
          "yref": "paper"
         },
         {
          "font": {
           "size": 16
          },
          "showarrow": false,
          "text": "Topic 6",
          "x": 0.6375000000000001,
          "xanchor": "center",
          "xref": "paper",
          "y": 0.6222222222222222,
          "yanchor": "bottom",
          "yref": "paper"
         },
         {
          "font": {
           "size": 16
          },
          "showarrow": false,
          "text": "Topic 7",
          "x": 0.9125,
          "xanchor": "center",
          "xref": "paper",
          "y": 0.6222222222222222,
          "yanchor": "bottom",
          "yref": "paper"
         },
         {
          "font": {
           "size": 16
          },
          "showarrow": false,
          "text": "Topic 8",
          "x": 0.0875,
          "xanchor": "center",
          "xref": "paper",
          "y": 0.24444444444444446,
          "yanchor": "bottom",
          "yref": "paper"
         },
         {
          "font": {
           "size": 16
          },
          "showarrow": false,
          "text": "Topic 9",
          "x": 0.36250000000000004,
          "xanchor": "center",
          "xref": "paper",
          "y": 0.24444444444444446,
          "yanchor": "bottom",
          "yref": "paper"
         }
        ],
        "height": 750,
        "hoverlabel": {
         "bgcolor": "white",
         "font": {
          "family": "Rockwell",
          "size": 16
         }
        },
        "showlegend": false,
        "template": {
         "data": {
          "bar": [
           {
            "error_x": {
             "color": "#2a3f5f"
            },
            "error_y": {
             "color": "#2a3f5f"
            },
            "marker": {
             "line": {
              "color": "white",
              "width": 0.5
             },
             "pattern": {
              "fillmode": "overlay",
              "size": 10,
              "solidity": 0.2
             }
            },
            "type": "bar"
           }
          ],
          "barpolar": [
           {
            "marker": {
             "line": {
              "color": "white",
              "width": 0.5
             },
             "pattern": {
              "fillmode": "overlay",
              "size": 10,
              "solidity": 0.2
             }
            },
            "type": "barpolar"
           }
          ],
          "carpet": [
           {
            "aaxis": {
             "endlinecolor": "#2a3f5f",
             "gridcolor": "#C8D4E3",
             "linecolor": "#C8D4E3",
             "minorgridcolor": "#C8D4E3",
             "startlinecolor": "#2a3f5f"
            },
            "baxis": {
             "endlinecolor": "#2a3f5f",
             "gridcolor": "#C8D4E3",
             "linecolor": "#C8D4E3",
             "minorgridcolor": "#C8D4E3",
             "startlinecolor": "#2a3f5f"
            },
            "type": "carpet"
           }
          ],
          "choropleth": [
           {
            "colorbar": {
             "outlinewidth": 0,
             "ticks": ""
            },
            "type": "choropleth"
           }
          ],
          "contour": [
           {
            "colorbar": {
             "outlinewidth": 0,
             "ticks": ""
            },
            "colorscale": [
             [
              0,
              "#0d0887"
             ],
             [
              0.1111111111111111,
              "#46039f"
             ],
             [
              0.2222222222222222,
              "#7201a8"
             ],
             [
              0.3333333333333333,
              "#9c179e"
             ],
             [
              0.4444444444444444,
              "#bd3786"
             ],
             [
              0.5555555555555556,
              "#d8576b"
             ],
             [
              0.6666666666666666,
              "#ed7953"
             ],
             [
              0.7777777777777778,
              "#fb9f3a"
             ],
             [
              0.8888888888888888,
              "#fdca26"
             ],
             [
              1,
              "#f0f921"
             ]
            ],
            "type": "contour"
           }
          ],
          "contourcarpet": [
           {
            "colorbar": {
             "outlinewidth": 0,
             "ticks": ""
            },
            "type": "contourcarpet"
           }
          ],
          "heatmap": [
           {
            "colorbar": {
             "outlinewidth": 0,
             "ticks": ""
            },
            "colorscale": [
             [
              0,
              "#0d0887"
             ],
             [
              0.1111111111111111,
              "#46039f"
             ],
             [
              0.2222222222222222,
              "#7201a8"
             ],
             [
              0.3333333333333333,
              "#9c179e"
             ],
             [
              0.4444444444444444,
              "#bd3786"
             ],
             [
              0.5555555555555556,
              "#d8576b"
             ],
             [
              0.6666666666666666,
              "#ed7953"
             ],
             [
              0.7777777777777778,
              "#fb9f3a"
             ],
             [
              0.8888888888888888,
              "#fdca26"
             ],
             [
              1,
              "#f0f921"
             ]
            ],
            "type": "heatmap"
           }
          ],
          "heatmapgl": [
           {
            "colorbar": {
             "outlinewidth": 0,
             "ticks": ""
            },
            "colorscale": [
             [
              0,
              "#0d0887"
             ],
             [
              0.1111111111111111,
              "#46039f"
             ],
             [
              0.2222222222222222,
              "#7201a8"
             ],
             [
              0.3333333333333333,
              "#9c179e"
             ],
             [
              0.4444444444444444,
              "#bd3786"
             ],
             [
              0.5555555555555556,
              "#d8576b"
             ],
             [
              0.6666666666666666,
              "#ed7953"
             ],
             [
              0.7777777777777778,
              "#fb9f3a"
             ],
             [
              0.8888888888888888,
              "#fdca26"
             ],
             [
              1,
              "#f0f921"
             ]
            ],
            "type": "heatmapgl"
           }
          ],
          "histogram": [
           {
            "marker": {
             "pattern": {
              "fillmode": "overlay",
              "size": 10,
              "solidity": 0.2
             }
            },
            "type": "histogram"
           }
          ],
          "histogram2d": [
           {
            "colorbar": {
             "outlinewidth": 0,
             "ticks": ""
            },
            "colorscale": [
             [
              0,
              "#0d0887"
             ],
             [
              0.1111111111111111,
              "#46039f"
             ],
             [
              0.2222222222222222,
              "#7201a8"
             ],
             [
              0.3333333333333333,
              "#9c179e"
             ],
             [
              0.4444444444444444,
              "#bd3786"
             ],
             [
              0.5555555555555556,
              "#d8576b"
             ],
             [
              0.6666666666666666,
              "#ed7953"
             ],
             [
              0.7777777777777778,
              "#fb9f3a"
             ],
             [
              0.8888888888888888,
              "#fdca26"
             ],
             [
              1,
              "#f0f921"
             ]
            ],
            "type": "histogram2d"
           }
          ],
          "histogram2dcontour": [
           {
            "colorbar": {
             "outlinewidth": 0,
             "ticks": ""
            },
            "colorscale": [
             [
              0,
              "#0d0887"
             ],
             [
              0.1111111111111111,
              "#46039f"
             ],
             [
              0.2222222222222222,
              "#7201a8"
             ],
             [
              0.3333333333333333,
              "#9c179e"
             ],
             [
              0.4444444444444444,
              "#bd3786"
             ],
             [
              0.5555555555555556,
              "#d8576b"
             ],
             [
              0.6666666666666666,
              "#ed7953"
             ],
             [
              0.7777777777777778,
              "#fb9f3a"
             ],
             [
              0.8888888888888888,
              "#fdca26"
             ],
             [
              1,
              "#f0f921"
             ]
            ],
            "type": "histogram2dcontour"
           }
          ],
          "mesh3d": [
           {
            "colorbar": {
             "outlinewidth": 0,
             "ticks": ""
            },
            "type": "mesh3d"
           }
          ],
          "parcoords": [
           {
            "line": {
             "colorbar": {
              "outlinewidth": 0,
              "ticks": ""
             }
            },
            "type": "parcoords"
           }
          ],
          "pie": [
           {
            "automargin": true,
            "type": "pie"
           }
          ],
          "scatter": [
           {
            "fillpattern": {
             "fillmode": "overlay",
             "size": 10,
             "solidity": 0.2
            },
            "type": "scatter"
           }
          ],
          "scatter3d": [
           {
            "line": {
             "colorbar": {
              "outlinewidth": 0,
              "ticks": ""
             }
            },
            "marker": {
             "colorbar": {
              "outlinewidth": 0,
              "ticks": ""
             }
            },
            "type": "scatter3d"
           }
          ],
          "scattercarpet": [
           {
            "marker": {
             "colorbar": {
              "outlinewidth": 0,
              "ticks": ""
             }
            },
            "type": "scattercarpet"
           }
          ],
          "scattergeo": [
           {
            "marker": {
             "colorbar": {
              "outlinewidth": 0,
              "ticks": ""
             }
            },
            "type": "scattergeo"
           }
          ],
          "scattergl": [
           {
            "marker": {
             "colorbar": {
              "outlinewidth": 0,
              "ticks": ""
             }
            },
            "type": "scattergl"
           }
          ],
          "scattermapbox": [
           {
            "marker": {
             "colorbar": {
              "outlinewidth": 0,
              "ticks": ""
             }
            },
            "type": "scattermapbox"
           }
          ],
          "scatterpolar": [
           {
            "marker": {
             "colorbar": {
              "outlinewidth": 0,
              "ticks": ""
             }
            },
            "type": "scatterpolar"
           }
          ],
          "scatterpolargl": [
           {
            "marker": {
             "colorbar": {
              "outlinewidth": 0,
              "ticks": ""
             }
            },
            "type": "scatterpolargl"
           }
          ],
          "scatterternary": [
           {
            "marker": {
             "colorbar": {
              "outlinewidth": 0,
              "ticks": ""
             }
            },
            "type": "scatterternary"
           }
          ],
          "surface": [
           {
            "colorbar": {
             "outlinewidth": 0,
             "ticks": ""
            },
            "colorscale": [
             [
              0,
              "#0d0887"
             ],
             [
              0.1111111111111111,
              "#46039f"
             ],
             [
              0.2222222222222222,
              "#7201a8"
             ],
             [
              0.3333333333333333,
              "#9c179e"
             ],
             [
              0.4444444444444444,
              "#bd3786"
             ],
             [
              0.5555555555555556,
              "#d8576b"
             ],
             [
              0.6666666666666666,
              "#ed7953"
             ],
             [
              0.7777777777777778,
              "#fb9f3a"
             ],
             [
              0.8888888888888888,
              "#fdca26"
             ],
             [
              1,
              "#f0f921"
             ]
            ],
            "type": "surface"
           }
          ],
          "table": [
           {
            "cells": {
             "fill": {
              "color": "#EBF0F8"
             },
             "line": {
              "color": "white"
             }
            },
            "header": {
             "fill": {
              "color": "#C8D4E3"
             },
             "line": {
              "color": "white"
             }
            },
            "type": "table"
           }
          ]
         },
         "layout": {
          "annotationdefaults": {
           "arrowcolor": "#2a3f5f",
           "arrowhead": 0,
           "arrowwidth": 1
          },
          "autotypenumbers": "strict",
          "coloraxis": {
           "colorbar": {
            "outlinewidth": 0,
            "ticks": ""
           }
          },
          "colorscale": {
           "diverging": [
            [
             0,
             "#8e0152"
            ],
            [
             0.1,
             "#c51b7d"
            ],
            [
             0.2,
             "#de77ae"
            ],
            [
             0.3,
             "#f1b6da"
            ],
            [
             0.4,
             "#fde0ef"
            ],
            [
             0.5,
             "#f7f7f7"
            ],
            [
             0.6,
             "#e6f5d0"
            ],
            [
             0.7,
             "#b8e186"
            ],
            [
             0.8,
             "#7fbc41"
            ],
            [
             0.9,
             "#4d9221"
            ],
            [
             1,
             "#276419"
            ]
           ],
           "sequential": [
            [
             0,
             "#0d0887"
            ],
            [
             0.1111111111111111,
             "#46039f"
            ],
            [
             0.2222222222222222,
             "#7201a8"
            ],
            [
             0.3333333333333333,
             "#9c179e"
            ],
            [
             0.4444444444444444,
             "#bd3786"
            ],
            [
             0.5555555555555556,
             "#d8576b"
            ],
            [
             0.6666666666666666,
             "#ed7953"
            ],
            [
             0.7777777777777778,
             "#fb9f3a"
            ],
            [
             0.8888888888888888,
             "#fdca26"
            ],
            [
             1,
             "#f0f921"
            ]
           ],
           "sequentialminus": [
            [
             0,
             "#0d0887"
            ],
            [
             0.1111111111111111,
             "#46039f"
            ],
            [
             0.2222222222222222,
             "#7201a8"
            ],
            [
             0.3333333333333333,
             "#9c179e"
            ],
            [
             0.4444444444444444,
             "#bd3786"
            ],
            [
             0.5555555555555556,
             "#d8576b"
            ],
            [
             0.6666666666666666,
             "#ed7953"
            ],
            [
             0.7777777777777778,
             "#fb9f3a"
            ],
            [
             0.8888888888888888,
             "#fdca26"
            ],
            [
             1,
             "#f0f921"
            ]
           ]
          },
          "colorway": [
           "#636efa",
           "#EF553B",
           "#00cc96",
           "#ab63fa",
           "#FFA15A",
           "#19d3f3",
           "#FF6692",
           "#B6E880",
           "#FF97FF",
           "#FECB52"
          ],
          "font": {
           "color": "#2a3f5f"
          },
          "geo": {
           "bgcolor": "white",
           "lakecolor": "white",
           "landcolor": "white",
           "showlakes": true,
           "showland": true,
           "subunitcolor": "#C8D4E3"
          },
          "hoverlabel": {
           "align": "left"
          },
          "hovermode": "closest",
          "mapbox": {
           "style": "light"
          },
          "paper_bgcolor": "white",
          "plot_bgcolor": "white",
          "polar": {
           "angularaxis": {
            "gridcolor": "#EBF0F8",
            "linecolor": "#EBF0F8",
            "ticks": ""
           },
           "bgcolor": "white",
           "radialaxis": {
            "gridcolor": "#EBF0F8",
            "linecolor": "#EBF0F8",
            "ticks": ""
           }
          },
          "scene": {
           "xaxis": {
            "backgroundcolor": "white",
            "gridcolor": "#DFE8F3",
            "gridwidth": 2,
            "linecolor": "#EBF0F8",
            "showbackground": true,
            "ticks": "",
            "zerolinecolor": "#EBF0F8"
           },
           "yaxis": {
            "backgroundcolor": "white",
            "gridcolor": "#DFE8F3",
            "gridwidth": 2,
            "linecolor": "#EBF0F8",
            "showbackground": true,
            "ticks": "",
            "zerolinecolor": "#EBF0F8"
           },
           "zaxis": {
            "backgroundcolor": "white",
            "gridcolor": "#DFE8F3",
            "gridwidth": 2,
            "linecolor": "#EBF0F8",
            "showbackground": true,
            "ticks": "",
            "zerolinecolor": "#EBF0F8"
           }
          },
          "shapedefaults": {
           "line": {
            "color": "#2a3f5f"
           }
          },
          "ternary": {
           "aaxis": {
            "gridcolor": "#DFE8F3",
            "linecolor": "#A2B1C6",
            "ticks": ""
           },
           "baxis": {
            "gridcolor": "#DFE8F3",
            "linecolor": "#A2B1C6",
            "ticks": ""
           },
           "bgcolor": "white",
           "caxis": {
            "gridcolor": "#DFE8F3",
            "linecolor": "#A2B1C6",
            "ticks": ""
           }
          },
          "title": {
           "x": 0.05
          },
          "xaxis": {
           "automargin": true,
           "gridcolor": "#EBF0F8",
           "linecolor": "#EBF0F8",
           "ticks": "",
           "title": {
            "standoff": 15
           },
           "zerolinecolor": "#EBF0F8",
           "zerolinewidth": 2
          },
          "yaxis": {
           "automargin": true,
           "gridcolor": "#EBF0F8",
           "linecolor": "#EBF0F8",
           "ticks": "",
           "title": {
            "standoff": 15
           },
           "zerolinecolor": "#EBF0F8",
           "zerolinewidth": 2
          }
         }
        },
        "title": {
         "font": {
          "color": "Black",
          "size": 22
         },
         "text": "Topic Word Scores",
         "x": 0.5,
         "xanchor": "center",
         "yanchor": "top"
        },
        "width": 1000,
        "xaxis": {
         "anchor": "y",
         "domain": [
          0,
          0.175
         ],
         "showgrid": true
        },
        "xaxis10": {
         "anchor": "y10",
         "domain": [
          0.275,
          0.45
         ],
         "showgrid": true
        },
        "xaxis11": {
         "anchor": "y11",
         "domain": [
          0.55,
          0.7250000000000001
         ],
         "showgrid": true
        },
        "xaxis12": {
         "anchor": "y12",
         "domain": [
          0.825,
          1
         ],
         "showgrid": true
        },
        "xaxis2": {
         "anchor": "y2",
         "domain": [
          0.275,
          0.45
         ],
         "showgrid": true
        },
        "xaxis3": {
         "anchor": "y3",
         "domain": [
          0.55,
          0.7250000000000001
         ],
         "showgrid": true
        },
        "xaxis4": {
         "anchor": "y4",
         "domain": [
          0.825,
          1
         ],
         "showgrid": true
        },
        "xaxis5": {
         "anchor": "y5",
         "domain": [
          0,
          0.175
         ],
         "showgrid": true
        },
        "xaxis6": {
         "anchor": "y6",
         "domain": [
          0.275,
          0.45
         ],
         "showgrid": true
        },
        "xaxis7": {
         "anchor": "y7",
         "domain": [
          0.55,
          0.7250000000000001
         ],
         "showgrid": true
        },
        "xaxis8": {
         "anchor": "y8",
         "domain": [
          0.825,
          1
         ],
         "showgrid": true
        },
        "xaxis9": {
         "anchor": "y9",
         "domain": [
          0,
          0.175
         ],
         "showgrid": true
        },
        "yaxis": {
         "anchor": "x",
         "domain": [
          0.7555555555555555,
          1
         ],
         "showgrid": true
        },
        "yaxis10": {
         "anchor": "x10",
         "domain": [
          0,
          0.24444444444444446
         ],
         "showgrid": true
        },
        "yaxis11": {
         "anchor": "x11",
         "domain": [
          0,
          0.24444444444444446
         ],
         "showgrid": true
        },
        "yaxis12": {
         "anchor": "x12",
         "domain": [
          0,
          0.24444444444444446
         ],
         "showgrid": true
        },
        "yaxis2": {
         "anchor": "x2",
         "domain": [
          0.7555555555555555,
          1
         ],
         "showgrid": true
        },
        "yaxis3": {
         "anchor": "x3",
         "domain": [
          0.7555555555555555,
          1
         ],
         "showgrid": true
        },
        "yaxis4": {
         "anchor": "x4",
         "domain": [
          0.7555555555555555,
          1
         ],
         "showgrid": true
        },
        "yaxis5": {
         "anchor": "x5",
         "domain": [
          0.37777777777777777,
          0.6222222222222222
         ],
         "showgrid": true
        },
        "yaxis6": {
         "anchor": "x6",
         "domain": [
          0.37777777777777777,
          0.6222222222222222
         ],
         "showgrid": true
        },
        "yaxis7": {
         "anchor": "x7",
         "domain": [
          0.37777777777777777,
          0.6222222222222222
         ],
         "showgrid": true
        },
        "yaxis8": {
         "anchor": "x8",
         "domain": [
          0.37777777777777777,
          0.6222222222222222
         ],
         "showgrid": true
        },
        "yaxis9": {
         "anchor": "x9",
         "domain": [
          0,
          0.24444444444444446
         ],
         "showgrid": true
        }
       }
      },
      "text/html": [
       "<div>                            <div id=\"70b61143-ffb4-4c6a-903a-ffa1e35fb2e9\" class=\"plotly-graph-div\" style=\"height:750px; width:1000px;\"></div>            <script type=\"text/javascript\">                require([\"plotly\"], function(Plotly) {                    window.PLOTLYENV=window.PLOTLYENV || {};                                    if (document.getElementById(\"70b61143-ffb4-4c6a-903a-ffa1e35fb2e9\")) {                    Plotly.newPlot(                        \"70b61143-ffb4-4c6a-903a-ffa1e35fb2e9\",                        [{\"marker\":{\"color\":\"#D55E00\"},\"orientation\":\"h\",\"x\":[0.024773819701951017,0.024946477913323443,0.024946477913323443,0.024946477913323443,0.038090747272365034],\"y\":[\"female  \",\"ants  \",\"breeding  \",\"ant  \",\"foraging  \"],\"type\":\"bar\",\"xaxis\":\"x\",\"yaxis\":\"y\"},{\"marker\":{\"color\":\"#0072B2\"},\"orientation\":\"h\",\"x\":[0.03263415840276504,0.0391584702224519,0.04324723301686027,0.04533579782623287,0.05289176413060502],\"y\":[\"ingroup  \",\"stock  \",\"social  \",\"prosocial  \",\"intergroup  \"],\"type\":\"bar\",\"xaxis\":\"x2\",\"yaxis\":\"y2\"},{\"marker\":{\"color\":\"#CC79A7\"},\"orientation\":\"h\",\"x\":[0.038931461409294967,0.04792175061457133,0.054499694477152055,0.0936831114935184,0.14677614359085037],\"y\":[\"distress  \",\"mental  \",\"health  \",\"pandemic  \",\"covid19  \"],\"type\":\"bar\",\"xaxis\":\"x3\",\"yaxis\":\"y3\"},{\"marker\":{\"color\":\"#E69F00\"},\"orientation\":\"h\",\"x\":[0.038315770408912826,0.042402220746614136,0.04391003633176856,0.06497796259457259,0.08530763492855971],\"y\":[\"older  \",\"depression  \",\"psychological  \",\"coping  \",\"stress  \"],\"type\":\"bar\",\"xaxis\":\"x4\",\"yaxis\":\"y4\"},{\"marker\":{\"color\":\"#56B4E9\"},\"orientation\":\"h\",\"x\":[0.06116129687048822,0.07645162108811028,0.08655692307530832,0.09680390345722038,0.11673388874966291],\"y\":[\"coordination  \",\"reciprocity  \",\"games  \",\"game  \",\"cooperation  \"],\"type\":\"bar\",\"xaxis\":\"x5\",\"yaxis\":\"y5\"},{\"marker\":{\"color\":\"#009E73\"},\"orientation\":\"h\",\"x\":[0.05871106691856053,0.07419164835026427,0.07645162108811028,0.08067276869361531,0.0960006142338772],\"y\":[\"postural  \",\"body  \",\"vestibular  \",\"perception  \",\"touch  \"],\"type\":\"bar\",\"xaxis\":\"x6\",\"yaxis\":\"y6\"},{\"marker\":{\"color\":\"#F0E442\"},\"orientation\":\"h\",\"x\":[0.0480809294541972,0.05767535730261404,0.05798520102658847,0.07212139418129582,0.09818417387873009],\"y\":[\"sport  \",\"performance  \",\"elite  \",\"soccer  \",\"players  \"],\"type\":\"bar\",\"xaxis\":\"x7\",\"yaxis\":\"y7\"},{\"marker\":{\"color\":\"#D55E00\"},\"orientation\":\"h\",\"x\":[0.04491680222374932,0.04491680222374932,0.04491680222374932,0.051200327591401175,0.07458803306268363],\"y\":[\"choices  \",\"confidence  \",\"uncertainty  \",\"decisions  \",\"choice  \"],\"type\":\"bar\",\"xaxis\":\"x8\",\"yaxis\":\"y8\"},{\"marker\":{\"color\":\"#0072B2\"},\"orientation\":\"h\",\"x\":[0.05893492760048763,0.060146798619700126,0.06469131639541364,0.0917088081111876,0.10440254132543048],\"y\":[\"processing  \",\"faces  \",\"emotion  \",\"emotional  \",\"facial  \"],\"type\":\"bar\",\"xaxis\":\"x9\",\"yaxis\":\"y9\"},{\"marker\":{\"color\":\"#CC79A7\"},\"orientation\":\"h\",\"x\":[0.048686158700153984,0.04869275995008871,0.05033395034337828,0.054170108267349686,0.08808441310091199],\"y\":[\"translation  \",\"children  \",\"chinese  \",\"lexical  \",\"language  \"],\"type\":\"bar\",\"xaxis\":\"x10\",\"yaxis\":\"y10\"}],                        {\"template\":{\"data\":{\"barpolar\":[{\"marker\":{\"line\":{\"color\":\"white\",\"width\":0.5},\"pattern\":{\"fillmode\":\"overlay\",\"size\":10,\"solidity\":0.2}},\"type\":\"barpolar\"}],\"bar\":[{\"error_x\":{\"color\":\"#2a3f5f\"},\"error_y\":{\"color\":\"#2a3f5f\"},\"marker\":{\"line\":{\"color\":\"white\",\"width\":0.5},\"pattern\":{\"fillmode\":\"overlay\",\"size\":10,\"solidity\":0.2}},\"type\":\"bar\"}],\"carpet\":[{\"aaxis\":{\"endlinecolor\":\"#2a3f5f\",\"gridcolor\":\"#C8D4E3\",\"linecolor\":\"#C8D4E3\",\"minorgridcolor\":\"#C8D4E3\",\"startlinecolor\":\"#2a3f5f\"},\"baxis\":{\"endlinecolor\":\"#2a3f5f\",\"gridcolor\":\"#C8D4E3\",\"linecolor\":\"#C8D4E3\",\"minorgridcolor\":\"#C8D4E3\",\"startlinecolor\":\"#2a3f5f\"},\"type\":\"carpet\"}],\"choropleth\":[{\"colorbar\":{\"outlinewidth\":0,\"ticks\":\"\"},\"type\":\"choropleth\"}],\"contourcarpet\":[{\"colorbar\":{\"outlinewidth\":0,\"ticks\":\"\"},\"type\":\"contourcarpet\"}],\"contour\":[{\"colorbar\":{\"outlinewidth\":0,\"ticks\":\"\"},\"colorscale\":[[0.0,\"#0d0887\"],[0.1111111111111111,\"#46039f\"],[0.2222222222222222,\"#7201a8\"],[0.3333333333333333,\"#9c179e\"],[0.4444444444444444,\"#bd3786\"],[0.5555555555555556,\"#d8576b\"],[0.6666666666666666,\"#ed7953\"],[0.7777777777777778,\"#fb9f3a\"],[0.8888888888888888,\"#fdca26\"],[1.0,\"#f0f921\"]],\"type\":\"contour\"}],\"heatmapgl\":[{\"colorbar\":{\"outlinewidth\":0,\"ticks\":\"\"},\"colorscale\":[[0.0,\"#0d0887\"],[0.1111111111111111,\"#46039f\"],[0.2222222222222222,\"#7201a8\"],[0.3333333333333333,\"#9c179e\"],[0.4444444444444444,\"#bd3786\"],[0.5555555555555556,\"#d8576b\"],[0.6666666666666666,\"#ed7953\"],[0.7777777777777778,\"#fb9f3a\"],[0.8888888888888888,\"#fdca26\"],[1.0,\"#f0f921\"]],\"type\":\"heatmapgl\"}],\"heatmap\":[{\"colorbar\":{\"outlinewidth\":0,\"ticks\":\"\"},\"colorscale\":[[0.0,\"#0d0887\"],[0.1111111111111111,\"#46039f\"],[0.2222222222222222,\"#7201a8\"],[0.3333333333333333,\"#9c179e\"],[0.4444444444444444,\"#bd3786\"],[0.5555555555555556,\"#d8576b\"],[0.6666666666666666,\"#ed7953\"],[0.7777777777777778,\"#fb9f3a\"],[0.8888888888888888,\"#fdca26\"],[1.0,\"#f0f921\"]],\"type\":\"heatmap\"}],\"histogram2dcontour\":[{\"colorbar\":{\"outlinewidth\":0,\"ticks\":\"\"},\"colorscale\":[[0.0,\"#0d0887\"],[0.1111111111111111,\"#46039f\"],[0.2222222222222222,\"#7201a8\"],[0.3333333333333333,\"#9c179e\"],[0.4444444444444444,\"#bd3786\"],[0.5555555555555556,\"#d8576b\"],[0.6666666666666666,\"#ed7953\"],[0.7777777777777778,\"#fb9f3a\"],[0.8888888888888888,\"#fdca26\"],[1.0,\"#f0f921\"]],\"type\":\"histogram2dcontour\"}],\"histogram2d\":[{\"colorbar\":{\"outlinewidth\":0,\"ticks\":\"\"},\"colorscale\":[[0.0,\"#0d0887\"],[0.1111111111111111,\"#46039f\"],[0.2222222222222222,\"#7201a8\"],[0.3333333333333333,\"#9c179e\"],[0.4444444444444444,\"#bd3786\"],[0.5555555555555556,\"#d8576b\"],[0.6666666666666666,\"#ed7953\"],[0.7777777777777778,\"#fb9f3a\"],[0.8888888888888888,\"#fdca26\"],[1.0,\"#f0f921\"]],\"type\":\"histogram2d\"}],\"histogram\":[{\"marker\":{\"pattern\":{\"fillmode\":\"overlay\",\"size\":10,\"solidity\":0.2}},\"type\":\"histogram\"}],\"mesh3d\":[{\"colorbar\":{\"outlinewidth\":0,\"ticks\":\"\"},\"type\":\"mesh3d\"}],\"parcoords\":[{\"line\":{\"colorbar\":{\"outlinewidth\":0,\"ticks\":\"\"}},\"type\":\"parcoords\"}],\"pie\":[{\"automargin\":true,\"type\":\"pie\"}],\"scatter3d\":[{\"line\":{\"colorbar\":{\"outlinewidth\":0,\"ticks\":\"\"}},\"marker\":{\"colorbar\":{\"outlinewidth\":0,\"ticks\":\"\"}},\"type\":\"scatter3d\"}],\"scattercarpet\":[{\"marker\":{\"colorbar\":{\"outlinewidth\":0,\"ticks\":\"\"}},\"type\":\"scattercarpet\"}],\"scattergeo\":[{\"marker\":{\"colorbar\":{\"outlinewidth\":0,\"ticks\":\"\"}},\"type\":\"scattergeo\"}],\"scattergl\":[{\"marker\":{\"colorbar\":{\"outlinewidth\":0,\"ticks\":\"\"}},\"type\":\"scattergl\"}],\"scattermapbox\":[{\"marker\":{\"colorbar\":{\"outlinewidth\":0,\"ticks\":\"\"}},\"type\":\"scattermapbox\"}],\"scatterpolargl\":[{\"marker\":{\"colorbar\":{\"outlinewidth\":0,\"ticks\":\"\"}},\"type\":\"scatterpolargl\"}],\"scatterpolar\":[{\"marker\":{\"colorbar\":{\"outlinewidth\":0,\"ticks\":\"\"}},\"type\":\"scatterpolar\"}],\"scatter\":[{\"fillpattern\":{\"fillmode\":\"overlay\",\"size\":10,\"solidity\":0.2},\"type\":\"scatter\"}],\"scatterternary\":[{\"marker\":{\"colorbar\":{\"outlinewidth\":0,\"ticks\":\"\"}},\"type\":\"scatterternary\"}],\"surface\":[{\"colorbar\":{\"outlinewidth\":0,\"ticks\":\"\"},\"colorscale\":[[0.0,\"#0d0887\"],[0.1111111111111111,\"#46039f\"],[0.2222222222222222,\"#7201a8\"],[0.3333333333333333,\"#9c179e\"],[0.4444444444444444,\"#bd3786\"],[0.5555555555555556,\"#d8576b\"],[0.6666666666666666,\"#ed7953\"],[0.7777777777777778,\"#fb9f3a\"],[0.8888888888888888,\"#fdca26\"],[1.0,\"#f0f921\"]],\"type\":\"surface\"}],\"table\":[{\"cells\":{\"fill\":{\"color\":\"#EBF0F8\"},\"line\":{\"color\":\"white\"}},\"header\":{\"fill\":{\"color\":\"#C8D4E3\"},\"line\":{\"color\":\"white\"}},\"type\":\"table\"}]},\"layout\":{\"annotationdefaults\":{\"arrowcolor\":\"#2a3f5f\",\"arrowhead\":0,\"arrowwidth\":1},\"autotypenumbers\":\"strict\",\"coloraxis\":{\"colorbar\":{\"outlinewidth\":0,\"ticks\":\"\"}},\"colorscale\":{\"diverging\":[[0,\"#8e0152\"],[0.1,\"#c51b7d\"],[0.2,\"#de77ae\"],[0.3,\"#f1b6da\"],[0.4,\"#fde0ef\"],[0.5,\"#f7f7f7\"],[0.6,\"#e6f5d0\"],[0.7,\"#b8e186\"],[0.8,\"#7fbc41\"],[0.9,\"#4d9221\"],[1,\"#276419\"]],\"sequential\":[[0.0,\"#0d0887\"],[0.1111111111111111,\"#46039f\"],[0.2222222222222222,\"#7201a8\"],[0.3333333333333333,\"#9c179e\"],[0.4444444444444444,\"#bd3786\"],[0.5555555555555556,\"#d8576b\"],[0.6666666666666666,\"#ed7953\"],[0.7777777777777778,\"#fb9f3a\"],[0.8888888888888888,\"#fdca26\"],[1.0,\"#f0f921\"]],\"sequentialminus\":[[0.0,\"#0d0887\"],[0.1111111111111111,\"#46039f\"],[0.2222222222222222,\"#7201a8\"],[0.3333333333333333,\"#9c179e\"],[0.4444444444444444,\"#bd3786\"],[0.5555555555555556,\"#d8576b\"],[0.6666666666666666,\"#ed7953\"],[0.7777777777777778,\"#fb9f3a\"],[0.8888888888888888,\"#fdca26\"],[1.0,\"#f0f921\"]]},\"colorway\":[\"#636efa\",\"#EF553B\",\"#00cc96\",\"#ab63fa\",\"#FFA15A\",\"#19d3f3\",\"#FF6692\",\"#B6E880\",\"#FF97FF\",\"#FECB52\"],\"font\":{\"color\":\"#2a3f5f\"},\"geo\":{\"bgcolor\":\"white\",\"lakecolor\":\"white\",\"landcolor\":\"white\",\"showlakes\":true,\"showland\":true,\"subunitcolor\":\"#C8D4E3\"},\"hoverlabel\":{\"align\":\"left\"},\"hovermode\":\"closest\",\"mapbox\":{\"style\":\"light\"},\"paper_bgcolor\":\"white\",\"plot_bgcolor\":\"white\",\"polar\":{\"angularaxis\":{\"gridcolor\":\"#EBF0F8\",\"linecolor\":\"#EBF0F8\",\"ticks\":\"\"},\"bgcolor\":\"white\",\"radialaxis\":{\"gridcolor\":\"#EBF0F8\",\"linecolor\":\"#EBF0F8\",\"ticks\":\"\"}},\"scene\":{\"xaxis\":{\"backgroundcolor\":\"white\",\"gridcolor\":\"#DFE8F3\",\"gridwidth\":2,\"linecolor\":\"#EBF0F8\",\"showbackground\":true,\"ticks\":\"\",\"zerolinecolor\":\"#EBF0F8\"},\"yaxis\":{\"backgroundcolor\":\"white\",\"gridcolor\":\"#DFE8F3\",\"gridwidth\":2,\"linecolor\":\"#EBF0F8\",\"showbackground\":true,\"ticks\":\"\",\"zerolinecolor\":\"#EBF0F8\"},\"zaxis\":{\"backgroundcolor\":\"white\",\"gridcolor\":\"#DFE8F3\",\"gridwidth\":2,\"linecolor\":\"#EBF0F8\",\"showbackground\":true,\"ticks\":\"\",\"zerolinecolor\":\"#EBF0F8\"}},\"shapedefaults\":{\"line\":{\"color\":\"#2a3f5f\"}},\"ternary\":{\"aaxis\":{\"gridcolor\":\"#DFE8F3\",\"linecolor\":\"#A2B1C6\",\"ticks\":\"\"},\"baxis\":{\"gridcolor\":\"#DFE8F3\",\"linecolor\":\"#A2B1C6\",\"ticks\":\"\"},\"bgcolor\":\"white\",\"caxis\":{\"gridcolor\":\"#DFE8F3\",\"linecolor\":\"#A2B1C6\",\"ticks\":\"\"}},\"title\":{\"x\":0.05},\"xaxis\":{\"automargin\":true,\"gridcolor\":\"#EBF0F8\",\"linecolor\":\"#EBF0F8\",\"ticks\":\"\",\"title\":{\"standoff\":15},\"zerolinecolor\":\"#EBF0F8\",\"zerolinewidth\":2},\"yaxis\":{\"automargin\":true,\"gridcolor\":\"#EBF0F8\",\"linecolor\":\"#EBF0F8\",\"ticks\":\"\",\"title\":{\"standoff\":15},\"zerolinecolor\":\"#EBF0F8\",\"zerolinewidth\":2}}},\"xaxis\":{\"anchor\":\"y\",\"domain\":[0.0,0.175],\"showgrid\":true},\"yaxis\":{\"anchor\":\"x\",\"domain\":[0.7555555555555555,1.0],\"showgrid\":true},\"xaxis2\":{\"anchor\":\"y2\",\"domain\":[0.275,0.45],\"showgrid\":true},\"yaxis2\":{\"anchor\":\"x2\",\"domain\":[0.7555555555555555,1.0],\"showgrid\":true},\"xaxis3\":{\"anchor\":\"y3\",\"domain\":[0.55,0.7250000000000001],\"showgrid\":true},\"yaxis3\":{\"anchor\":\"x3\",\"domain\":[0.7555555555555555,1.0],\"showgrid\":true},\"xaxis4\":{\"anchor\":\"y4\",\"domain\":[0.825,1.0],\"showgrid\":true},\"yaxis4\":{\"anchor\":\"x4\",\"domain\":[0.7555555555555555,1.0],\"showgrid\":true},\"xaxis5\":{\"anchor\":\"y5\",\"domain\":[0.0,0.175],\"showgrid\":true},\"yaxis5\":{\"anchor\":\"x5\",\"domain\":[0.37777777777777777,0.6222222222222222],\"showgrid\":true},\"xaxis6\":{\"anchor\":\"y6\",\"domain\":[0.275,0.45],\"showgrid\":true},\"yaxis6\":{\"anchor\":\"x6\",\"domain\":[0.37777777777777777,0.6222222222222222],\"showgrid\":true},\"xaxis7\":{\"anchor\":\"y7\",\"domain\":[0.55,0.7250000000000001],\"showgrid\":true},\"yaxis7\":{\"anchor\":\"x7\",\"domain\":[0.37777777777777777,0.6222222222222222],\"showgrid\":true},\"xaxis8\":{\"anchor\":\"y8\",\"domain\":[0.825,1.0],\"showgrid\":true},\"yaxis8\":{\"anchor\":\"x8\",\"domain\":[0.37777777777777777,0.6222222222222222],\"showgrid\":true},\"xaxis9\":{\"anchor\":\"y9\",\"domain\":[0.0,0.175],\"showgrid\":true},\"yaxis9\":{\"anchor\":\"x9\",\"domain\":[0.0,0.24444444444444446],\"showgrid\":true},\"xaxis10\":{\"anchor\":\"y10\",\"domain\":[0.275,0.45],\"showgrid\":true},\"yaxis10\":{\"anchor\":\"x10\",\"domain\":[0.0,0.24444444444444446],\"showgrid\":true},\"xaxis11\":{\"anchor\":\"y11\",\"domain\":[0.55,0.7250000000000001],\"showgrid\":true},\"yaxis11\":{\"anchor\":\"x11\",\"domain\":[0.0,0.24444444444444446],\"showgrid\":true},\"xaxis12\":{\"anchor\":\"y12\",\"domain\":[0.825,1.0],\"showgrid\":true},\"yaxis12\":{\"anchor\":\"x12\",\"domain\":[0.0,0.24444444444444446],\"showgrid\":true},\"annotations\":[{\"font\":{\"size\":16},\"showarrow\":false,\"text\":\"Topic 0\",\"x\":0.0875,\"xanchor\":\"center\",\"xref\":\"paper\",\"y\":1.0,\"yanchor\":\"bottom\",\"yref\":\"paper\"},{\"font\":{\"size\":16},\"showarrow\":false,\"text\":\"Topic 1\",\"x\":0.36250000000000004,\"xanchor\":\"center\",\"xref\":\"paper\",\"y\":1.0,\"yanchor\":\"bottom\",\"yref\":\"paper\"},{\"font\":{\"size\":16},\"showarrow\":false,\"text\":\"Topic 2\",\"x\":0.6375000000000001,\"xanchor\":\"center\",\"xref\":\"paper\",\"y\":1.0,\"yanchor\":\"bottom\",\"yref\":\"paper\"},{\"font\":{\"size\":16},\"showarrow\":false,\"text\":\"Topic 3\",\"x\":0.9125,\"xanchor\":\"center\",\"xref\":\"paper\",\"y\":1.0,\"yanchor\":\"bottom\",\"yref\":\"paper\"},{\"font\":{\"size\":16},\"showarrow\":false,\"text\":\"Topic 4\",\"x\":0.0875,\"xanchor\":\"center\",\"xref\":\"paper\",\"y\":0.6222222222222222,\"yanchor\":\"bottom\",\"yref\":\"paper\"},{\"font\":{\"size\":16},\"showarrow\":false,\"text\":\"Topic 5\",\"x\":0.36250000000000004,\"xanchor\":\"center\",\"xref\":\"paper\",\"y\":0.6222222222222222,\"yanchor\":\"bottom\",\"yref\":\"paper\"},{\"font\":{\"size\":16},\"showarrow\":false,\"text\":\"Topic 6\",\"x\":0.6375000000000001,\"xanchor\":\"center\",\"xref\":\"paper\",\"y\":0.6222222222222222,\"yanchor\":\"bottom\",\"yref\":\"paper\"},{\"font\":{\"size\":16},\"showarrow\":false,\"text\":\"Topic 7\",\"x\":0.9125,\"xanchor\":\"center\",\"xref\":\"paper\",\"y\":0.6222222222222222,\"yanchor\":\"bottom\",\"yref\":\"paper\"},{\"font\":{\"size\":16},\"showarrow\":false,\"text\":\"Topic 8\",\"x\":0.0875,\"xanchor\":\"center\",\"xref\":\"paper\",\"y\":0.24444444444444446,\"yanchor\":\"bottom\",\"yref\":\"paper\"},{\"font\":{\"size\":16},\"showarrow\":false,\"text\":\"Topic 9\",\"x\":0.36250000000000004,\"xanchor\":\"center\",\"xref\":\"paper\",\"y\":0.24444444444444446,\"yanchor\":\"bottom\",\"yref\":\"paper\"}],\"title\":{\"font\":{\"size\":22,\"color\":\"Black\"},\"text\":\"Topic Word Scores\",\"x\":0.5,\"xanchor\":\"center\",\"yanchor\":\"top\"},\"hoverlabel\":{\"font\":{\"size\":16,\"family\":\"Rockwell\"},\"bgcolor\":\"white\"},\"showlegend\":false,\"width\":1000,\"height\":750},                        {\"responsive\": true}                    ).then(function(){\n",
       "                            \n",
       "var gd = document.getElementById('70b61143-ffb4-4c6a-903a-ffa1e35fb2e9');\n",
       "var x = new MutationObserver(function (mutations, observer) {{\n",
       "        var display = window.getComputedStyle(gd).display;\n",
       "        if (!display || display === 'none') {{\n",
       "            console.log([gd, 'removed!']);\n",
       "            Plotly.purge(gd);\n",
       "            observer.disconnect();\n",
       "        }}\n",
       "}});\n",
       "\n",
       "// Listen for the removal of the full notebook cells\n",
       "var notebookContainer = gd.closest('#notebook-container');\n",
       "if (notebookContainer) {{\n",
       "    x.observe(notebookContainer, {childList: true});\n",
       "}}\n",
       "\n",
       "// Listen for the clearing of the current output cell\n",
       "var outputEl = gd.closest('.output');\n",
       "if (outputEl) {{\n",
       "    x.observe(outputEl, {childList: true});\n",
       "}}\n",
       "\n",
       "                        })                };                });            </script>        </div>"
      ]
     },
     "metadata": {},
     "output_type": "display_data"
    }
   ],
   "source": [
    "#topic_model.visualize_topics(top_n_topics=10)\n",
    "topic_model.visualize_barchart(top_n_topics=10)"
   ]
  },
  {
   "cell_type": "code",
   "execution_count": 64,
   "metadata": {
    "colab": {
     "base_uri": "https://localhost:8080/"
    },
    "id": "YtbDaRNqEI6U",
    "outputId": "cd916038-2508-4f63-c5e2-5837923da4cc"
   },
   "outputs": [
    {
     "data": {
      "text/html": [
       "<div>\n",
       "<style scoped>\n",
       "    .dataframe tbody tr th:only-of-type {\n",
       "        vertical-align: middle;\n",
       "    }\n",
       "\n",
       "    .dataframe tbody tr th {\n",
       "        vertical-align: top;\n",
       "    }\n",
       "\n",
       "    .dataframe thead th {\n",
       "        text-align: right;\n",
       "    }\n",
       "</style>\n",
       "<table border=\"1\" class=\"dataframe\">\n",
       "  <thead>\n",
       "    <tr style=\"text-align: right;\">\n",
       "      <th></th>\n",
       "      <th>Document</th>\n",
       "      <th>Topic</th>\n",
       "      <th>Name</th>\n",
       "      <th>Representation</th>\n",
       "      <th>Representative_Docs</th>\n",
       "      <th>Top_n_words</th>\n",
       "      <th>Probability</th>\n",
       "      <th>Representative_document</th>\n",
       "    </tr>\n",
       "  </thead>\n",
       "  <tbody>\n",
       "    <tr>\n",
       "      <th>0</th>\n",
       "      <td>Behavioural mimicry indicator affiliation</td>\n",
       "      <td>-1</td>\n",
       "      <td>-1_among_study_cognitive_effects</td>\n",
       "      <td>[among, study, cognitive, effects, learning, social, emotional, associated, analysis, time]</td>\n",
       "      <td>[High perceived stress social interaction behaviour among young adults. study based objective me...</td>\n",
       "      <td>among - study - cognitive - effects - learning - social - emotional - associated - analysis - time</td>\n",
       "      <td>0.522137</td>\n",
       "      <td>False</td>\n",
       "    </tr>\n",
       "    <tr>\n",
       "      <th>1</th>\n",
       "      <td>Categorical colour geometry</td>\n",
       "      <td>-1</td>\n",
       "      <td>-1_among_study_cognitive_effects</td>\n",
       "      <td>[among, study, cognitive, effects, learning, social, emotional, associated, analysis, time]</td>\n",
       "      <td>[High perceived stress social interaction behaviour among young adults. study based objective me...</td>\n",
       "      <td>among - study - cognitive - effects - learning - social - emotional - associated - analysis - time</td>\n",
       "      <td>0.440869</td>\n",
       "      <td>False</td>\n",
       "    </tr>\n",
       "    <tr>\n",
       "      <th>2</th>\n",
       "      <td>Body Space Social Interactions: Comparison Reaching Comfort Distance Immersive Virtual Reality</td>\n",
       "      <td>-1</td>\n",
       "      <td>-1_among_study_cognitive_effects</td>\n",
       "      <td>[among, study, cognitive, effects, learning, social, emotional, associated, analysis, time]</td>\n",
       "      <td>[High perceived stress social interaction behaviour among young adults. study based objective me...</td>\n",
       "      <td>among - study - cognitive - effects - learning - social - emotional - associated - analysis - time</td>\n",
       "      <td>0.509966</td>\n",
       "      <td>False</td>\n",
       "    </tr>\n",
       "    <tr>\n",
       "      <th>3</th>\n",
       "      <td>Madrid Affective Database Spanish (MADS): Ratings Dominance, Familiarity, Subjective Age Acquisi...</td>\n",
       "      <td>9</td>\n",
       "      <td>9_language_lexical_chinese_children</td>\n",
       "      <td>[language, lexical, chinese, children, translation, english, linguistic, word, spanish, translat...</td>\n",
       "      <td>[Language structure, attitudes, learning ambient exposure: Lexical phonotactic knowledge Spanish...</td>\n",
       "      <td>language - lexical - chinese - children - translation - english - linguistic - word - spanish - ...</td>\n",
       "      <td>0.040843</td>\n",
       "      <td>False</td>\n",
       "    </tr>\n",
       "    <tr>\n",
       "      <th>4</th>\n",
       "      <td>Spanish version reflective functioning questionnaire: Validity data general population individua...</td>\n",
       "      <td>19</td>\n",
       "      <td>19_personality_questionnaire_version_validity</td>\n",
       "      <td>[personality, questionnaire, version, validity, traits, validation, development, data, reflectiv...</td>\n",
       "      <td>[Internal external validity brief version Multidimensional Personality Questionnaire: Explorator...</td>\n",
       "      <td>personality - questionnaire - version - validity - traits - validation - development - data - re...</td>\n",
       "      <td>1.000000</td>\n",
       "      <td>True</td>\n",
       "    </tr>\n",
       "  </tbody>\n",
       "</table>\n",
       "</div>"
      ],
      "text/plain": [
       "                                                                                              Document  \\\n",
       "0                                                            Behavioural mimicry indicator affiliation   \n",
       "1                                                                          Categorical colour geometry   \n",
       "2       Body Space Social Interactions: Comparison Reaching Comfort Distance Immersive Virtual Reality   \n",
       "3  Madrid Affective Database Spanish (MADS): Ratings Dominance, Familiarity, Subjective Age Acquisi...   \n",
       "4  Spanish version reflective functioning questionnaire: Validity data general population individua...   \n",
       "\n",
       "   Topic                                           Name  \\\n",
       "0     -1               -1_among_study_cognitive_effects   \n",
       "1     -1               -1_among_study_cognitive_effects   \n",
       "2     -1               -1_among_study_cognitive_effects   \n",
       "3      9            9_language_lexical_chinese_children   \n",
       "4     19  19_personality_questionnaire_version_validity   \n",
       "\n",
       "                                                                                        Representation  \\\n",
       "0          [among, study, cognitive, effects, learning, social, emotional, associated, analysis, time]   \n",
       "1          [among, study, cognitive, effects, learning, social, emotional, associated, analysis, time]   \n",
       "2          [among, study, cognitive, effects, learning, social, emotional, associated, analysis, time]   \n",
       "3  [language, lexical, chinese, children, translation, english, linguistic, word, spanish, translat...   \n",
       "4  [personality, questionnaire, version, validity, traits, validation, development, data, reflectiv...   \n",
       "\n",
       "                                                                                   Representative_Docs  \\\n",
       "0  [High perceived stress social interaction behaviour among young adults. study based objective me...   \n",
       "1  [High perceived stress social interaction behaviour among young adults. study based objective me...   \n",
       "2  [High perceived stress social interaction behaviour among young adults. study based objective me...   \n",
       "3  [Language structure, attitudes, learning ambient exposure: Lexical phonotactic knowledge Spanish...   \n",
       "4  [Internal external validity brief version Multidimensional Personality Questionnaire: Explorator...   \n",
       "\n",
       "                                                                                           Top_n_words  \\\n",
       "0   among - study - cognitive - effects - learning - social - emotional - associated - analysis - time   \n",
       "1   among - study - cognitive - effects - learning - social - emotional - associated - analysis - time   \n",
       "2   among - study - cognitive - effects - learning - social - emotional - associated - analysis - time   \n",
       "3  language - lexical - chinese - children - translation - english - linguistic - word - spanish - ...   \n",
       "4  personality - questionnaire - version - validity - traits - validation - development - data - re...   \n",
       "\n",
       "   Probability  Representative_document  \n",
       "0     0.522137                    False  \n",
       "1     0.440869                    False  \n",
       "2     0.509966                    False  \n",
       "3     0.040843                    False  \n",
       "4     1.000000                     True  "
      ]
     },
     "execution_count": 64,
     "metadata": {},
     "output_type": "execute_result"
    }
   ],
   "source": [
    "#topic_model.reduce_topics(docs, nr_topics=10)\n",
    "#https://www.vennify.ai/bertopic-topic-modeling/\n",
    "#predict new topic\n",
    "infor_doc=topic_model.get_document_info(titles)\n",
    "infor_doc.head()"
   ]
  },
  {
   "cell_type": "code",
   "execution_count": 20,
   "metadata": {},
   "outputs": [],
   "source": [
    "#https://maartengr.github.io/BERTopic/faq.html#why-does-it-take-so-long-to-import-bertopic"
   ]
  },
  {
   "cell_type": "code",
   "execution_count": 21,
   "metadata": {
    "colab": {
     "base_uri": "https://localhost:8080/",
     "height": 352
    },
    "id": "414lnSgcEP48",
    "outputId": "dbd9645d-f51c-4916-e143-bf511b193833"
   },
   "outputs": [
    {
     "data": {
      "application/vnd.plotly.v1+json": {
       "config": {
        "plotlyServerURL": "https://plot.ly"
       },
       "data": [
        {
         "hoverinfo": "text",
         "marker": {
          "color": "rgb(61,153,112)"
         },
         "mode": "lines",
         "type": "scatter",
         "x": [
          0,
          0.7561209600178747,
          0.7561209600178747,
          0
         ],
         "xaxis": "x",
         "y": [
          -5,
          -5,
          -15,
          -15
         ],
         "yaxis": "y"
        },
        {
         "hoverinfo": "text",
         "marker": {
          "color": "rgb(255,65,54)"
         },
         "mode": "lines",
         "type": "scatter",
         "x": [
          0,
          0.9237549371109542,
          0.9237549371109542,
          0
         ],
         "xaxis": "x",
         "y": [
          -25,
          -25,
          -35,
          -35
         ],
         "yaxis": "y"
        },
        {
         "hoverinfo": "text",
         "marker": {
          "color": "rgb(255,65,54)"
         },
         "mode": "lines",
         "type": "scatter",
         "x": [
          0,
          0.8861957833295594,
          0.8861957833295594,
          0
         ],
         "xaxis": "x",
         "y": [
          -45,
          -45,
          -55,
          -55
         ],
         "yaxis": "y"
        },
        {
         "hoverinfo": "text",
         "marker": {
          "color": "rgb(255,65,54)"
         },
         "mode": "lines",
         "type": "scatter",
         "x": [
          0.9237549371109542,
          0.9466026572949124,
          0.9466026572949124,
          0.8861957833295594
         ],
         "xaxis": "x",
         "y": [
          -30,
          -30,
          -50,
          -50
         ],
         "yaxis": "y"
        },
        {
         "hoverinfo": "text",
         "marker": {
          "color": "rgb(255,65,54)"
         },
         "mode": "lines",
         "type": "scatter",
         "x": [
          0,
          0.9323182212678958,
          0.9323182212678958,
          0
         ],
         "xaxis": "x",
         "y": [
          -65,
          -65,
          -75,
          -75
         ],
         "yaxis": "y"
        },
        {
         "hoverinfo": "text",
         "marker": {
          "color": "rgb(255,65,54)"
         },
         "mode": "lines",
         "type": "scatter",
         "x": [
          0,
          0.9248662107956702,
          0.9248662107956702,
          0
         ],
         "xaxis": "x",
         "y": [
          -85,
          -85,
          -95,
          -95
         ],
         "yaxis": "y"
        },
        {
         "hoverinfo": "text",
         "marker": {
          "color": "rgb(255,65,54)"
         },
         "mode": "lines",
         "type": "scatter",
         "x": [
          0.9323182212678958,
          0.9516821798710415,
          0.9516821798710415,
          0.9248662107956702
         ],
         "xaxis": "x",
         "y": [
          -70,
          -70,
          -90,
          -90
         ],
         "yaxis": "y"
        },
        {
         "hoverinfo": "text",
         "marker": {
          "color": "rgb(255,65,54)"
         },
         "mode": "lines",
         "type": "scatter",
         "x": [
          0.9466026572949124,
          0.980888180642064,
          0.980888180642064,
          0.9516821798710415
         ],
         "xaxis": "x",
         "y": [
          -40,
          -40,
          -80,
          -80
         ],
         "yaxis": "y"
        },
        {
         "hoverinfo": "text",
         "marker": {
          "color": "rgb(0,116,217)"
         },
         "mode": "lines",
         "type": "scatter",
         "x": [
          0.7561209600178747,
          1.0613881613324705,
          1.0613881613324705,
          0.980888180642064
         ],
         "xaxis": "x",
         "y": [
          -10,
          -10,
          -60,
          -60
         ],
         "yaxis": "y"
        }
       ],
       "layout": {
        "autosize": false,
        "height": 350,
        "hoverlabel": {
         "bgcolor": "white",
         "font": {
          "family": "Rockwell",
          "size": 16
         }
        },
        "hovermode": "closest",
        "plot_bgcolor": "#ECEFF1",
        "showlegend": false,
        "template": {
         "data": {
          "bar": [
           {
            "error_x": {
             "color": "#2a3f5f"
            },
            "error_y": {
             "color": "#2a3f5f"
            },
            "marker": {
             "line": {
              "color": "white",
              "width": 0.5
             },
             "pattern": {
              "fillmode": "overlay",
              "size": 10,
              "solidity": 0.2
             }
            },
            "type": "bar"
           }
          ],
          "barpolar": [
           {
            "marker": {
             "line": {
              "color": "white",
              "width": 0.5
             },
             "pattern": {
              "fillmode": "overlay",
              "size": 10,
              "solidity": 0.2
             }
            },
            "type": "barpolar"
           }
          ],
          "carpet": [
           {
            "aaxis": {
             "endlinecolor": "#2a3f5f",
             "gridcolor": "#C8D4E3",
             "linecolor": "#C8D4E3",
             "minorgridcolor": "#C8D4E3",
             "startlinecolor": "#2a3f5f"
            },
            "baxis": {
             "endlinecolor": "#2a3f5f",
             "gridcolor": "#C8D4E3",
             "linecolor": "#C8D4E3",
             "minorgridcolor": "#C8D4E3",
             "startlinecolor": "#2a3f5f"
            },
            "type": "carpet"
           }
          ],
          "choropleth": [
           {
            "colorbar": {
             "outlinewidth": 0,
             "ticks": ""
            },
            "type": "choropleth"
           }
          ],
          "contour": [
           {
            "colorbar": {
             "outlinewidth": 0,
             "ticks": ""
            },
            "colorscale": [
             [
              0,
              "#0d0887"
             ],
             [
              0.1111111111111111,
              "#46039f"
             ],
             [
              0.2222222222222222,
              "#7201a8"
             ],
             [
              0.3333333333333333,
              "#9c179e"
             ],
             [
              0.4444444444444444,
              "#bd3786"
             ],
             [
              0.5555555555555556,
              "#d8576b"
             ],
             [
              0.6666666666666666,
              "#ed7953"
             ],
             [
              0.7777777777777778,
              "#fb9f3a"
             ],
             [
              0.8888888888888888,
              "#fdca26"
             ],
             [
              1,
              "#f0f921"
             ]
            ],
            "type": "contour"
           }
          ],
          "contourcarpet": [
           {
            "colorbar": {
             "outlinewidth": 0,
             "ticks": ""
            },
            "type": "contourcarpet"
           }
          ],
          "heatmap": [
           {
            "colorbar": {
             "outlinewidth": 0,
             "ticks": ""
            },
            "colorscale": [
             [
              0,
              "#0d0887"
             ],
             [
              0.1111111111111111,
              "#46039f"
             ],
             [
              0.2222222222222222,
              "#7201a8"
             ],
             [
              0.3333333333333333,
              "#9c179e"
             ],
             [
              0.4444444444444444,
              "#bd3786"
             ],
             [
              0.5555555555555556,
              "#d8576b"
             ],
             [
              0.6666666666666666,
              "#ed7953"
             ],
             [
              0.7777777777777778,
              "#fb9f3a"
             ],
             [
              0.8888888888888888,
              "#fdca26"
             ],
             [
              1,
              "#f0f921"
             ]
            ],
            "type": "heatmap"
           }
          ],
          "heatmapgl": [
           {
            "colorbar": {
             "outlinewidth": 0,
             "ticks": ""
            },
            "colorscale": [
             [
              0,
              "#0d0887"
             ],
             [
              0.1111111111111111,
              "#46039f"
             ],
             [
              0.2222222222222222,
              "#7201a8"
             ],
             [
              0.3333333333333333,
              "#9c179e"
             ],
             [
              0.4444444444444444,
              "#bd3786"
             ],
             [
              0.5555555555555556,
              "#d8576b"
             ],
             [
              0.6666666666666666,
              "#ed7953"
             ],
             [
              0.7777777777777778,
              "#fb9f3a"
             ],
             [
              0.8888888888888888,
              "#fdca26"
             ],
             [
              1,
              "#f0f921"
             ]
            ],
            "type": "heatmapgl"
           }
          ],
          "histogram": [
           {
            "marker": {
             "pattern": {
              "fillmode": "overlay",
              "size": 10,
              "solidity": 0.2
             }
            },
            "type": "histogram"
           }
          ],
          "histogram2d": [
           {
            "colorbar": {
             "outlinewidth": 0,
             "ticks": ""
            },
            "colorscale": [
             [
              0,
              "#0d0887"
             ],
             [
              0.1111111111111111,
              "#46039f"
             ],
             [
              0.2222222222222222,
              "#7201a8"
             ],
             [
              0.3333333333333333,
              "#9c179e"
             ],
             [
              0.4444444444444444,
              "#bd3786"
             ],
             [
              0.5555555555555556,
              "#d8576b"
             ],
             [
              0.6666666666666666,
              "#ed7953"
             ],
             [
              0.7777777777777778,
              "#fb9f3a"
             ],
             [
              0.8888888888888888,
              "#fdca26"
             ],
             [
              1,
              "#f0f921"
             ]
            ],
            "type": "histogram2d"
           }
          ],
          "histogram2dcontour": [
           {
            "colorbar": {
             "outlinewidth": 0,
             "ticks": ""
            },
            "colorscale": [
             [
              0,
              "#0d0887"
             ],
             [
              0.1111111111111111,
              "#46039f"
             ],
             [
              0.2222222222222222,
              "#7201a8"
             ],
             [
              0.3333333333333333,
              "#9c179e"
             ],
             [
              0.4444444444444444,
              "#bd3786"
             ],
             [
              0.5555555555555556,
              "#d8576b"
             ],
             [
              0.6666666666666666,
              "#ed7953"
             ],
             [
              0.7777777777777778,
              "#fb9f3a"
             ],
             [
              0.8888888888888888,
              "#fdca26"
             ],
             [
              1,
              "#f0f921"
             ]
            ],
            "type": "histogram2dcontour"
           }
          ],
          "mesh3d": [
           {
            "colorbar": {
             "outlinewidth": 0,
             "ticks": ""
            },
            "type": "mesh3d"
           }
          ],
          "parcoords": [
           {
            "line": {
             "colorbar": {
              "outlinewidth": 0,
              "ticks": ""
             }
            },
            "type": "parcoords"
           }
          ],
          "pie": [
           {
            "automargin": true,
            "type": "pie"
           }
          ],
          "scatter": [
           {
            "fillpattern": {
             "fillmode": "overlay",
             "size": 10,
             "solidity": 0.2
            },
            "type": "scatter"
           }
          ],
          "scatter3d": [
           {
            "line": {
             "colorbar": {
              "outlinewidth": 0,
              "ticks": ""
             }
            },
            "marker": {
             "colorbar": {
              "outlinewidth": 0,
              "ticks": ""
             }
            },
            "type": "scatter3d"
           }
          ],
          "scattercarpet": [
           {
            "marker": {
             "colorbar": {
              "outlinewidth": 0,
              "ticks": ""
             }
            },
            "type": "scattercarpet"
           }
          ],
          "scattergeo": [
           {
            "marker": {
             "colorbar": {
              "outlinewidth": 0,
              "ticks": ""
             }
            },
            "type": "scattergeo"
           }
          ],
          "scattergl": [
           {
            "marker": {
             "colorbar": {
              "outlinewidth": 0,
              "ticks": ""
             }
            },
            "type": "scattergl"
           }
          ],
          "scattermapbox": [
           {
            "marker": {
             "colorbar": {
              "outlinewidth": 0,
              "ticks": ""
             }
            },
            "type": "scattermapbox"
           }
          ],
          "scatterpolar": [
           {
            "marker": {
             "colorbar": {
              "outlinewidth": 0,
              "ticks": ""
             }
            },
            "type": "scatterpolar"
           }
          ],
          "scatterpolargl": [
           {
            "marker": {
             "colorbar": {
              "outlinewidth": 0,
              "ticks": ""
             }
            },
            "type": "scatterpolargl"
           }
          ],
          "scatterternary": [
           {
            "marker": {
             "colorbar": {
              "outlinewidth": 0,
              "ticks": ""
             }
            },
            "type": "scatterternary"
           }
          ],
          "surface": [
           {
            "colorbar": {
             "outlinewidth": 0,
             "ticks": ""
            },
            "colorscale": [
             [
              0,
              "#0d0887"
             ],
             [
              0.1111111111111111,
              "#46039f"
             ],
             [
              0.2222222222222222,
              "#7201a8"
             ],
             [
              0.3333333333333333,
              "#9c179e"
             ],
             [
              0.4444444444444444,
              "#bd3786"
             ],
             [
              0.5555555555555556,
              "#d8576b"
             ],
             [
              0.6666666666666666,
              "#ed7953"
             ],
             [
              0.7777777777777778,
              "#fb9f3a"
             ],
             [
              0.8888888888888888,
              "#fdca26"
             ],
             [
              1,
              "#f0f921"
             ]
            ],
            "type": "surface"
           }
          ],
          "table": [
           {
            "cells": {
             "fill": {
              "color": "#EBF0F8"
             },
             "line": {
              "color": "white"
             }
            },
            "header": {
             "fill": {
              "color": "#C8D4E3"
             },
             "line": {
              "color": "white"
             }
            },
            "type": "table"
           }
          ]
         },
         "layout": {
          "annotationdefaults": {
           "arrowcolor": "#2a3f5f",
           "arrowhead": 0,
           "arrowwidth": 1
          },
          "autotypenumbers": "strict",
          "coloraxis": {
           "colorbar": {
            "outlinewidth": 0,
            "ticks": ""
           }
          },
          "colorscale": {
           "diverging": [
            [
             0,
             "#8e0152"
            ],
            [
             0.1,
             "#c51b7d"
            ],
            [
             0.2,
             "#de77ae"
            ],
            [
             0.3,
             "#f1b6da"
            ],
            [
             0.4,
             "#fde0ef"
            ],
            [
             0.5,
             "#f7f7f7"
            ],
            [
             0.6,
             "#e6f5d0"
            ],
            [
             0.7,
             "#b8e186"
            ],
            [
             0.8,
             "#7fbc41"
            ],
            [
             0.9,
             "#4d9221"
            ],
            [
             1,
             "#276419"
            ]
           ],
           "sequential": [
            [
             0,
             "#0d0887"
            ],
            [
             0.1111111111111111,
             "#46039f"
            ],
            [
             0.2222222222222222,
             "#7201a8"
            ],
            [
             0.3333333333333333,
             "#9c179e"
            ],
            [
             0.4444444444444444,
             "#bd3786"
            ],
            [
             0.5555555555555556,
             "#d8576b"
            ],
            [
             0.6666666666666666,
             "#ed7953"
            ],
            [
             0.7777777777777778,
             "#fb9f3a"
            ],
            [
             0.8888888888888888,
             "#fdca26"
            ],
            [
             1,
             "#f0f921"
            ]
           ],
           "sequentialminus": [
            [
             0,
             "#0d0887"
            ],
            [
             0.1111111111111111,
             "#46039f"
            ],
            [
             0.2222222222222222,
             "#7201a8"
            ],
            [
             0.3333333333333333,
             "#9c179e"
            ],
            [
             0.4444444444444444,
             "#bd3786"
            ],
            [
             0.5555555555555556,
             "#d8576b"
            ],
            [
             0.6666666666666666,
             "#ed7953"
            ],
            [
             0.7777777777777778,
             "#fb9f3a"
            ],
            [
             0.8888888888888888,
             "#fdca26"
            ],
            [
             1,
             "#f0f921"
            ]
           ]
          },
          "colorway": [
           "#636efa",
           "#EF553B",
           "#00cc96",
           "#ab63fa",
           "#FFA15A",
           "#19d3f3",
           "#FF6692",
           "#B6E880",
           "#FF97FF",
           "#FECB52"
          ],
          "font": {
           "color": "#2a3f5f"
          },
          "geo": {
           "bgcolor": "white",
           "lakecolor": "white",
           "landcolor": "white",
           "showlakes": true,
           "showland": true,
           "subunitcolor": "#C8D4E3"
          },
          "hoverlabel": {
           "align": "left"
          },
          "hovermode": "closest",
          "mapbox": {
           "style": "light"
          },
          "paper_bgcolor": "white",
          "plot_bgcolor": "white",
          "polar": {
           "angularaxis": {
            "gridcolor": "#EBF0F8",
            "linecolor": "#EBF0F8",
            "ticks": ""
           },
           "bgcolor": "white",
           "radialaxis": {
            "gridcolor": "#EBF0F8",
            "linecolor": "#EBF0F8",
            "ticks": ""
           }
          },
          "scene": {
           "xaxis": {
            "backgroundcolor": "white",
            "gridcolor": "#DFE8F3",
            "gridwidth": 2,
            "linecolor": "#EBF0F8",
            "showbackground": true,
            "ticks": "",
            "zerolinecolor": "#EBF0F8"
           },
           "yaxis": {
            "backgroundcolor": "white",
            "gridcolor": "#DFE8F3",
            "gridwidth": 2,
            "linecolor": "#EBF0F8",
            "showbackground": true,
            "ticks": "",
            "zerolinecolor": "#EBF0F8"
           },
           "zaxis": {
            "backgroundcolor": "white",
            "gridcolor": "#DFE8F3",
            "gridwidth": 2,
            "linecolor": "#EBF0F8",
            "showbackground": true,
            "ticks": "",
            "zerolinecolor": "#EBF0F8"
           }
          },
          "shapedefaults": {
           "line": {
            "color": "#2a3f5f"
           }
          },
          "ternary": {
           "aaxis": {
            "gridcolor": "#DFE8F3",
            "linecolor": "#A2B1C6",
            "ticks": ""
           },
           "baxis": {
            "gridcolor": "#DFE8F3",
            "linecolor": "#A2B1C6",
            "ticks": ""
           },
           "bgcolor": "white",
           "caxis": {
            "gridcolor": "#DFE8F3",
            "linecolor": "#A2B1C6",
            "ticks": ""
           }
          },
          "title": {
           "x": 0.05
          },
          "xaxis": {
           "automargin": true,
           "gridcolor": "#EBF0F8",
           "linecolor": "#EBF0F8",
           "ticks": "",
           "title": {
            "standoff": 15
           },
           "zerolinecolor": "#EBF0F8",
           "zerolinewidth": 2
          },
          "yaxis": {
           "automargin": true,
           "gridcolor": "#EBF0F8",
           "linecolor": "#EBF0F8",
           "ticks": "",
           "title": {
            "standoff": 15
           },
           "zerolinecolor": "#EBF0F8",
           "zerolinewidth": 2
          }
         }
        },
        "title": {
         "font": {
          "color": "Black",
          "size": 22
         },
         "text": "<b>Hierarchical Clustering</b>",
         "x": 0.5,
         "xanchor": "center",
         "yanchor": "top"
        },
        "width": 1000,
        "xaxis": {
         "mirror": "allticks",
         "rangemode": "tozero",
         "showgrid": false,
         "showline": true,
         "showticklabels": true,
         "ticks": "outside",
         "type": "linear",
         "zeroline": false
        },
        "yaxis": {
         "mirror": "allticks",
         "range": [
          -100,
          0
         ],
         "rangemode": "tozero",
         "showgrid": false,
         "showline": true,
         "showticklabels": true,
         "tickmode": "array",
         "ticks": "outside",
         "ticktext": [
          "2_covid19_pandemic_health",
          "3_stress_coping_psychological",
          "9_language_lexical_chinese",
          "5_touch_perception_vestibular",
          "8_facial_emotional_emotion",
          "1_intergroup_prosocial_social",
          "4_cooperation_game_games",
          "7_choice_decisions_uncertai...",
          "0_foraging_ant_breeding",
          "6_players_soccer_elite"
         ],
         "tickvals": [
          -5,
          -15,
          -25,
          -35,
          -45,
          -55,
          -65,
          -75,
          -85,
          -95
         ],
         "type": "linear",
         "zeroline": false
        }
       }
      },
      "text/html": [
       "<div>                            <div id=\"e42a62a6-fbda-4f0c-8e0c-467120f8abac\" class=\"plotly-graph-div\" style=\"height:350px; width:1000px;\"></div>            <script type=\"text/javascript\">                require([\"plotly\"], function(Plotly) {                    window.PLOTLYENV=window.PLOTLYENV || {};                                    if (document.getElementById(\"e42a62a6-fbda-4f0c-8e0c-467120f8abac\")) {                    Plotly.newPlot(                        \"e42a62a6-fbda-4f0c-8e0c-467120f8abac\",                        [{\"hoverinfo\":\"text\",\"marker\":{\"color\":\"rgb(61,153,112)\"},\"mode\":\"lines\",\"x\":[0.0,0.7561209600178747,0.7561209600178747,0.0],\"xaxis\":\"x\",\"y\":[-5.0,-5.0,-15.0,-15.0],\"yaxis\":\"y\",\"type\":\"scatter\"},{\"hoverinfo\":\"text\",\"marker\":{\"color\":\"rgb(255,65,54)\"},\"mode\":\"lines\",\"x\":[0.0,0.9237549371109542,0.9237549371109542,0.0],\"xaxis\":\"x\",\"y\":[-25.0,-25.0,-35.0,-35.0],\"yaxis\":\"y\",\"type\":\"scatter\"},{\"hoverinfo\":\"text\",\"marker\":{\"color\":\"rgb(255,65,54)\"},\"mode\":\"lines\",\"x\":[0.0,0.8861957833295594,0.8861957833295594,0.0],\"xaxis\":\"x\",\"y\":[-45.0,-45.0,-55.0,-55.0],\"yaxis\":\"y\",\"type\":\"scatter\"},{\"hoverinfo\":\"text\",\"marker\":{\"color\":\"rgb(255,65,54)\"},\"mode\":\"lines\",\"x\":[0.9237549371109542,0.9466026572949124,0.9466026572949124,0.8861957833295594],\"xaxis\":\"x\",\"y\":[-30.0,-30.0,-50.0,-50.0],\"yaxis\":\"y\",\"type\":\"scatter\"},{\"hoverinfo\":\"text\",\"marker\":{\"color\":\"rgb(255,65,54)\"},\"mode\":\"lines\",\"x\":[0.0,0.9323182212678958,0.9323182212678958,0.0],\"xaxis\":\"x\",\"y\":[-65.0,-65.0,-75.0,-75.0],\"yaxis\":\"y\",\"type\":\"scatter\"},{\"hoverinfo\":\"text\",\"marker\":{\"color\":\"rgb(255,65,54)\"},\"mode\":\"lines\",\"x\":[0.0,0.9248662107956702,0.9248662107956702,0.0],\"xaxis\":\"x\",\"y\":[-85.0,-85.0,-95.0,-95.0],\"yaxis\":\"y\",\"type\":\"scatter\"},{\"hoverinfo\":\"text\",\"marker\":{\"color\":\"rgb(255,65,54)\"},\"mode\":\"lines\",\"x\":[0.9323182212678958,0.9516821798710415,0.9516821798710415,0.9248662107956702],\"xaxis\":\"x\",\"y\":[-70.0,-70.0,-90.0,-90.0],\"yaxis\":\"y\",\"type\":\"scatter\"},{\"hoverinfo\":\"text\",\"marker\":{\"color\":\"rgb(255,65,54)\"},\"mode\":\"lines\",\"x\":[0.9466026572949124,0.980888180642064,0.980888180642064,0.9516821798710415],\"xaxis\":\"x\",\"y\":[-40.0,-40.0,-80.0,-80.0],\"yaxis\":\"y\",\"type\":\"scatter\"},{\"hoverinfo\":\"text\",\"marker\":{\"color\":\"rgb(0,116,217)\"},\"mode\":\"lines\",\"x\":[0.7561209600178747,1.0613881613324705,1.0613881613324705,0.980888180642064],\"xaxis\":\"x\",\"y\":[-10.0,-10.0,-60.0,-60.0],\"yaxis\":\"y\",\"type\":\"scatter\"}],                        {\"autosize\":false,\"height\":350,\"hovermode\":\"closest\",\"showlegend\":false,\"width\":1000,\"xaxis\":{\"mirror\":\"allticks\",\"rangemode\":\"tozero\",\"showgrid\":false,\"showline\":true,\"showticklabels\":true,\"ticks\":\"outside\",\"type\":\"linear\",\"zeroline\":false},\"yaxis\":{\"mirror\":\"allticks\",\"rangemode\":\"tozero\",\"showgrid\":false,\"showline\":true,\"showticklabels\":true,\"tickmode\":\"array\",\"ticks\":\"outside\",\"ticktext\":[\"2_covid19_pandemic_health\",\"3_stress_coping_psychological\",\"9_language_lexical_chinese\",\"5_touch_perception_vestibular\",\"8_facial_emotional_emotion\",\"1_intergroup_prosocial_social\",\"4_cooperation_game_games\",\"7_choice_decisions_uncertai...\",\"0_foraging_ant_breeding\",\"6_players_soccer_elite\"],\"tickvals\":[-5.0,-15.0,-25.0,-35.0,-45.0,-55.0,-65.0,-75.0,-85.0,-95.0],\"type\":\"linear\",\"zeroline\":false,\"range\":[-100.0,0.0]},\"template\":{\"data\":{\"barpolar\":[{\"marker\":{\"line\":{\"color\":\"white\",\"width\":0.5},\"pattern\":{\"fillmode\":\"overlay\",\"size\":10,\"solidity\":0.2}},\"type\":\"barpolar\"}],\"bar\":[{\"error_x\":{\"color\":\"#2a3f5f\"},\"error_y\":{\"color\":\"#2a3f5f\"},\"marker\":{\"line\":{\"color\":\"white\",\"width\":0.5},\"pattern\":{\"fillmode\":\"overlay\",\"size\":10,\"solidity\":0.2}},\"type\":\"bar\"}],\"carpet\":[{\"aaxis\":{\"endlinecolor\":\"#2a3f5f\",\"gridcolor\":\"#C8D4E3\",\"linecolor\":\"#C8D4E3\",\"minorgridcolor\":\"#C8D4E3\",\"startlinecolor\":\"#2a3f5f\"},\"baxis\":{\"endlinecolor\":\"#2a3f5f\",\"gridcolor\":\"#C8D4E3\",\"linecolor\":\"#C8D4E3\",\"minorgridcolor\":\"#C8D4E3\",\"startlinecolor\":\"#2a3f5f\"},\"type\":\"carpet\"}],\"choropleth\":[{\"colorbar\":{\"outlinewidth\":0,\"ticks\":\"\"},\"type\":\"choropleth\"}],\"contourcarpet\":[{\"colorbar\":{\"outlinewidth\":0,\"ticks\":\"\"},\"type\":\"contourcarpet\"}],\"contour\":[{\"colorbar\":{\"outlinewidth\":0,\"ticks\":\"\"},\"colorscale\":[[0.0,\"#0d0887\"],[0.1111111111111111,\"#46039f\"],[0.2222222222222222,\"#7201a8\"],[0.3333333333333333,\"#9c179e\"],[0.4444444444444444,\"#bd3786\"],[0.5555555555555556,\"#d8576b\"],[0.6666666666666666,\"#ed7953\"],[0.7777777777777778,\"#fb9f3a\"],[0.8888888888888888,\"#fdca26\"],[1.0,\"#f0f921\"]],\"type\":\"contour\"}],\"heatmapgl\":[{\"colorbar\":{\"outlinewidth\":0,\"ticks\":\"\"},\"colorscale\":[[0.0,\"#0d0887\"],[0.1111111111111111,\"#46039f\"],[0.2222222222222222,\"#7201a8\"],[0.3333333333333333,\"#9c179e\"],[0.4444444444444444,\"#bd3786\"],[0.5555555555555556,\"#d8576b\"],[0.6666666666666666,\"#ed7953\"],[0.7777777777777778,\"#fb9f3a\"],[0.8888888888888888,\"#fdca26\"],[1.0,\"#f0f921\"]],\"type\":\"heatmapgl\"}],\"heatmap\":[{\"colorbar\":{\"outlinewidth\":0,\"ticks\":\"\"},\"colorscale\":[[0.0,\"#0d0887\"],[0.1111111111111111,\"#46039f\"],[0.2222222222222222,\"#7201a8\"],[0.3333333333333333,\"#9c179e\"],[0.4444444444444444,\"#bd3786\"],[0.5555555555555556,\"#d8576b\"],[0.6666666666666666,\"#ed7953\"],[0.7777777777777778,\"#fb9f3a\"],[0.8888888888888888,\"#fdca26\"],[1.0,\"#f0f921\"]],\"type\":\"heatmap\"}],\"histogram2dcontour\":[{\"colorbar\":{\"outlinewidth\":0,\"ticks\":\"\"},\"colorscale\":[[0.0,\"#0d0887\"],[0.1111111111111111,\"#46039f\"],[0.2222222222222222,\"#7201a8\"],[0.3333333333333333,\"#9c179e\"],[0.4444444444444444,\"#bd3786\"],[0.5555555555555556,\"#d8576b\"],[0.6666666666666666,\"#ed7953\"],[0.7777777777777778,\"#fb9f3a\"],[0.8888888888888888,\"#fdca26\"],[1.0,\"#f0f921\"]],\"type\":\"histogram2dcontour\"}],\"histogram2d\":[{\"colorbar\":{\"outlinewidth\":0,\"ticks\":\"\"},\"colorscale\":[[0.0,\"#0d0887\"],[0.1111111111111111,\"#46039f\"],[0.2222222222222222,\"#7201a8\"],[0.3333333333333333,\"#9c179e\"],[0.4444444444444444,\"#bd3786\"],[0.5555555555555556,\"#d8576b\"],[0.6666666666666666,\"#ed7953\"],[0.7777777777777778,\"#fb9f3a\"],[0.8888888888888888,\"#fdca26\"],[1.0,\"#f0f921\"]],\"type\":\"histogram2d\"}],\"histogram\":[{\"marker\":{\"pattern\":{\"fillmode\":\"overlay\",\"size\":10,\"solidity\":0.2}},\"type\":\"histogram\"}],\"mesh3d\":[{\"colorbar\":{\"outlinewidth\":0,\"ticks\":\"\"},\"type\":\"mesh3d\"}],\"parcoords\":[{\"line\":{\"colorbar\":{\"outlinewidth\":0,\"ticks\":\"\"}},\"type\":\"parcoords\"}],\"pie\":[{\"automargin\":true,\"type\":\"pie\"}],\"scatter3d\":[{\"line\":{\"colorbar\":{\"outlinewidth\":0,\"ticks\":\"\"}},\"marker\":{\"colorbar\":{\"outlinewidth\":0,\"ticks\":\"\"}},\"type\":\"scatter3d\"}],\"scattercarpet\":[{\"marker\":{\"colorbar\":{\"outlinewidth\":0,\"ticks\":\"\"}},\"type\":\"scattercarpet\"}],\"scattergeo\":[{\"marker\":{\"colorbar\":{\"outlinewidth\":0,\"ticks\":\"\"}},\"type\":\"scattergeo\"}],\"scattergl\":[{\"marker\":{\"colorbar\":{\"outlinewidth\":0,\"ticks\":\"\"}},\"type\":\"scattergl\"}],\"scattermapbox\":[{\"marker\":{\"colorbar\":{\"outlinewidth\":0,\"ticks\":\"\"}},\"type\":\"scattermapbox\"}],\"scatterpolargl\":[{\"marker\":{\"colorbar\":{\"outlinewidth\":0,\"ticks\":\"\"}},\"type\":\"scatterpolargl\"}],\"scatterpolar\":[{\"marker\":{\"colorbar\":{\"outlinewidth\":0,\"ticks\":\"\"}},\"type\":\"scatterpolar\"}],\"scatter\":[{\"fillpattern\":{\"fillmode\":\"overlay\",\"size\":10,\"solidity\":0.2},\"type\":\"scatter\"}],\"scatterternary\":[{\"marker\":{\"colorbar\":{\"outlinewidth\":0,\"ticks\":\"\"}},\"type\":\"scatterternary\"}],\"surface\":[{\"colorbar\":{\"outlinewidth\":0,\"ticks\":\"\"},\"colorscale\":[[0.0,\"#0d0887\"],[0.1111111111111111,\"#46039f\"],[0.2222222222222222,\"#7201a8\"],[0.3333333333333333,\"#9c179e\"],[0.4444444444444444,\"#bd3786\"],[0.5555555555555556,\"#d8576b\"],[0.6666666666666666,\"#ed7953\"],[0.7777777777777778,\"#fb9f3a\"],[0.8888888888888888,\"#fdca26\"],[1.0,\"#f0f921\"]],\"type\":\"surface\"}],\"table\":[{\"cells\":{\"fill\":{\"color\":\"#EBF0F8\"},\"line\":{\"color\":\"white\"}},\"header\":{\"fill\":{\"color\":\"#C8D4E3\"},\"line\":{\"color\":\"white\"}},\"type\":\"table\"}]},\"layout\":{\"annotationdefaults\":{\"arrowcolor\":\"#2a3f5f\",\"arrowhead\":0,\"arrowwidth\":1},\"autotypenumbers\":\"strict\",\"coloraxis\":{\"colorbar\":{\"outlinewidth\":0,\"ticks\":\"\"}},\"colorscale\":{\"diverging\":[[0,\"#8e0152\"],[0.1,\"#c51b7d\"],[0.2,\"#de77ae\"],[0.3,\"#f1b6da\"],[0.4,\"#fde0ef\"],[0.5,\"#f7f7f7\"],[0.6,\"#e6f5d0\"],[0.7,\"#b8e186\"],[0.8,\"#7fbc41\"],[0.9,\"#4d9221\"],[1,\"#276419\"]],\"sequential\":[[0.0,\"#0d0887\"],[0.1111111111111111,\"#46039f\"],[0.2222222222222222,\"#7201a8\"],[0.3333333333333333,\"#9c179e\"],[0.4444444444444444,\"#bd3786\"],[0.5555555555555556,\"#d8576b\"],[0.6666666666666666,\"#ed7953\"],[0.7777777777777778,\"#fb9f3a\"],[0.8888888888888888,\"#fdca26\"],[1.0,\"#f0f921\"]],\"sequentialminus\":[[0.0,\"#0d0887\"],[0.1111111111111111,\"#46039f\"],[0.2222222222222222,\"#7201a8\"],[0.3333333333333333,\"#9c179e\"],[0.4444444444444444,\"#bd3786\"],[0.5555555555555556,\"#d8576b\"],[0.6666666666666666,\"#ed7953\"],[0.7777777777777778,\"#fb9f3a\"],[0.8888888888888888,\"#fdca26\"],[1.0,\"#f0f921\"]]},\"colorway\":[\"#636efa\",\"#EF553B\",\"#00cc96\",\"#ab63fa\",\"#FFA15A\",\"#19d3f3\",\"#FF6692\",\"#B6E880\",\"#FF97FF\",\"#FECB52\"],\"font\":{\"color\":\"#2a3f5f\"},\"geo\":{\"bgcolor\":\"white\",\"lakecolor\":\"white\",\"landcolor\":\"white\",\"showlakes\":true,\"showland\":true,\"subunitcolor\":\"#C8D4E3\"},\"hoverlabel\":{\"align\":\"left\"},\"hovermode\":\"closest\",\"mapbox\":{\"style\":\"light\"},\"paper_bgcolor\":\"white\",\"plot_bgcolor\":\"white\",\"polar\":{\"angularaxis\":{\"gridcolor\":\"#EBF0F8\",\"linecolor\":\"#EBF0F8\",\"ticks\":\"\"},\"bgcolor\":\"white\",\"radialaxis\":{\"gridcolor\":\"#EBF0F8\",\"linecolor\":\"#EBF0F8\",\"ticks\":\"\"}},\"scene\":{\"xaxis\":{\"backgroundcolor\":\"white\",\"gridcolor\":\"#DFE8F3\",\"gridwidth\":2,\"linecolor\":\"#EBF0F8\",\"showbackground\":true,\"ticks\":\"\",\"zerolinecolor\":\"#EBF0F8\"},\"yaxis\":{\"backgroundcolor\":\"white\",\"gridcolor\":\"#DFE8F3\",\"gridwidth\":2,\"linecolor\":\"#EBF0F8\",\"showbackground\":true,\"ticks\":\"\",\"zerolinecolor\":\"#EBF0F8\"},\"zaxis\":{\"backgroundcolor\":\"white\",\"gridcolor\":\"#DFE8F3\",\"gridwidth\":2,\"linecolor\":\"#EBF0F8\",\"showbackground\":true,\"ticks\":\"\",\"zerolinecolor\":\"#EBF0F8\"}},\"shapedefaults\":{\"line\":{\"color\":\"#2a3f5f\"}},\"ternary\":{\"aaxis\":{\"gridcolor\":\"#DFE8F3\",\"linecolor\":\"#A2B1C6\",\"ticks\":\"\"},\"baxis\":{\"gridcolor\":\"#DFE8F3\",\"linecolor\":\"#A2B1C6\",\"ticks\":\"\"},\"bgcolor\":\"white\",\"caxis\":{\"gridcolor\":\"#DFE8F3\",\"linecolor\":\"#A2B1C6\",\"ticks\":\"\"}},\"title\":{\"x\":0.05},\"xaxis\":{\"automargin\":true,\"gridcolor\":\"#EBF0F8\",\"linecolor\":\"#EBF0F8\",\"ticks\":\"\",\"title\":{\"standoff\":15},\"zerolinecolor\":\"#EBF0F8\",\"zerolinewidth\":2},\"yaxis\":{\"automargin\":true,\"gridcolor\":\"#EBF0F8\",\"linecolor\":\"#EBF0F8\",\"ticks\":\"\",\"title\":{\"standoff\":15},\"zerolinecolor\":\"#EBF0F8\",\"zerolinewidth\":2}}},\"title\":{\"font\":{\"size\":22,\"color\":\"Black\"},\"text\":\"\\u003cb\\u003eHierarchical Clustering\\u003c\\u002fb\\u003e\",\"x\":0.5,\"xanchor\":\"center\",\"yanchor\":\"top\"},\"hoverlabel\":{\"font\":{\"size\":16,\"family\":\"Rockwell\"},\"bgcolor\":\"white\"},\"plot_bgcolor\":\"#ECEFF1\"},                        {\"responsive\": true}                    ).then(function(){\n",
       "                            \n",
       "var gd = document.getElementById('e42a62a6-fbda-4f0c-8e0c-467120f8abac');\n",
       "var x = new MutationObserver(function (mutations, observer) {{\n",
       "        var display = window.getComputedStyle(gd).display;\n",
       "        if (!display || display === 'none') {{\n",
       "            console.log([gd, 'removed!']);\n",
       "            Plotly.purge(gd);\n",
       "            observer.disconnect();\n",
       "        }}\n",
       "}});\n",
       "\n",
       "// Listen for the removal of the full notebook cells\n",
       "var notebookContainer = gd.closest('#notebook-container');\n",
       "if (notebookContainer) {{\n",
       "    x.observe(notebookContainer, {childList: true});\n",
       "}}\n",
       "\n",
       "// Listen for the clearing of the current output cell\n",
       "var outputEl = gd.closest('.output');\n",
       "if (outputEl) {{\n",
       "    x.observe(outputEl, {childList: true});\n",
       "}}\n",
       "\n",
       "                        })                };                });            </script>        </div>"
      ]
     },
     "metadata": {},
     "output_type": "display_data"
    }
   ],
   "source": [
    "topic_model.visualize_hierarchy(top_n_topics=10)"
   ]
  },
  {
   "cell_type": "markdown",
   "metadata": {
    "id": "iJ5DXpd9v9DU"
   },
   "source": [
    "### Calculate popularity and citation score adjusted for time"
   ]
  },
  {
   "cell_type": "code",
   "execution_count": 34,
   "metadata": {},
   "outputs": [],
   "source": []
  },
  {
   "cell_type": "code",
   "execution_count": 36,
   "metadata": {},
   "outputs": [
    {
     "data": {
      "text/plain": [
       "id                                         object\n",
       "title                                      object\n",
       "abstract                                   object\n",
       "journal                                    object\n",
       "publication_date              datetime64[ns, UTC]\n",
       "received_date                 datetime64[ns, UTC]\n",
       "accepted_date                 datetime64[ns, UTC]\n",
       "counter_total_all                           int64\n",
       "counter_total_month                         int64\n",
       "citation_count                             object\n",
       "textClean                                  object\n",
       "days_published                              int64\n",
       "views_per_day                             float64\n",
       "received_to_accepted_days                 float64\n",
       "accepted_to_published_days                float64\n",
       "citations_int                             float64\n",
       "dtype: object"
      ]
     },
     "execution_count": 36,
     "metadata": {},
     "output_type": "execute_result"
    }
   ],
   "source": [
    "data.dtypes"
   ]
  },
  {
   "cell_type": "code",
   "execution_count": 38,
   "metadata": {},
   "outputs": [
    {
     "data": {
      "text/html": [
       "<div>\n",
       "<style scoped>\n",
       "    .dataframe tbody tr th:only-of-type {\n",
       "        vertical-align: middle;\n",
       "    }\n",
       "\n",
       "    .dataframe tbody tr th {\n",
       "        vertical-align: top;\n",
       "    }\n",
       "\n",
       "    .dataframe thead th {\n",
       "        text-align: right;\n",
       "    }\n",
       "</style>\n",
       "<table border=\"1\" class=\"dataframe\">\n",
       "  <thead>\n",
       "    <tr style=\"text-align: right;\">\n",
       "      <th></th>\n",
       "      <th>id</th>\n",
       "      <th>title</th>\n",
       "      <th>abstract</th>\n",
       "      <th>journal</th>\n",
       "      <th>publication_date</th>\n",
       "      <th>received_date</th>\n",
       "      <th>accepted_date</th>\n",
       "      <th>counter_total_all</th>\n",
       "      <th>counter_total_month</th>\n",
       "      <th>citation_count</th>\n",
       "      <th>textClean</th>\n",
       "      <th>days_published</th>\n",
       "      <th>views_per_day</th>\n",
       "      <th>received_to_accepted_days</th>\n",
       "      <th>accepted_to_published_days</th>\n",
       "      <th>citations_int</th>\n",
       "      <th>citations_per_day</th>\n",
       "    </tr>\n",
       "  </thead>\n",
       "  <tbody>\n",
       "    <tr>\n",
       "      <th>0</th>\n",
       "      <td>10.1371/journal.pone.0236792</td>\n",
       "      <td>The link between childhood psychological maltr...</td>\n",
       "      <td>['\\nBased on Attachment Theory, the Barlett an...</td>\n",
       "      <td>PLOS ONE</td>\n",
       "      <td>2020-09-03 00:00:00+00:00</td>\n",
       "      <td>2020-01-09 00:00:00+00:00</td>\n",
       "      <td>2020-07-06 00:00:00+00:00</td>\n",
       "      <td>2465</td>\n",
       "      <td>48</td>\n",
       "      <td>14.0</td>\n",
       "      <td>link childhood psychological maltreatment cybe...</td>\n",
       "      <td>1028</td>\n",
       "      <td>2.397860</td>\n",
       "      <td>179.0</td>\n",
       "      <td>59.0</td>\n",
       "      <td>14.0</td>\n",
       "      <td>0.013619</td>\n",
       "    </tr>\n",
       "    <tr>\n",
       "      <th>2</th>\n",
       "      <td>10.1371/journal.pone.0192907</td>\n",
       "      <td>The dominance of introspective measures and wh...</td>\n",
       "      <td>['\\nThe behavioral sciences, including most of...</td>\n",
       "      <td>PLOS ONE</td>\n",
       "      <td>2018-02-15 00:00:00+00:00</td>\n",
       "      <td>2016-11-16 00:00:00+00:00</td>\n",
       "      <td>2018-02-01 00:00:00+00:00</td>\n",
       "      <td>2430</td>\n",
       "      <td>17</td>\n",
       "      <td>27.0</td>\n",
       "      <td>dominance introspective measures implies: exam...</td>\n",
       "      <td>1959</td>\n",
       "      <td>1.240429</td>\n",
       "      <td>442.0</td>\n",
       "      <td>14.0</td>\n",
       "      <td>27.0</td>\n",
       "      <td>0.013783</td>\n",
       "    </tr>\n",
       "    <tr>\n",
       "      <th>3</th>\n",
       "      <td>10.1371/journal.pone.0224326</td>\n",
       "      <td>Does the psychological profile influence the p...</td>\n",
       "      <td>['\\nStress control as well as other psychologi...</td>\n",
       "      <td>PLOS ONE</td>\n",
       "      <td>2019-11-12 00:00:00+00:00</td>\n",
       "      <td>2019-05-14 00:00:00+00:00</td>\n",
       "      <td>2019-10-11 00:00:00+00:00</td>\n",
       "      <td>2639</td>\n",
       "      <td>17</td>\n",
       "      <td>7.0</td>\n",
       "      <td>psychological profile influence position promi...</td>\n",
       "      <td>1324</td>\n",
       "      <td>1.993202</td>\n",
       "      <td>150.0</td>\n",
       "      <td>32.0</td>\n",
       "      <td>7.0</td>\n",
       "      <td>0.005287</td>\n",
       "    </tr>\n",
       "    <tr>\n",
       "      <th>4</th>\n",
       "      <td>10.1371/journal.pone.0245671</td>\n",
       "      <td>The effect of perceived interracial competitio...</td>\n",
       "      <td>['\\nThere remains a dearth of research on caus...</td>\n",
       "      <td>PLOS ONE</td>\n",
       "      <td>2021-01-29 00:00:00+00:00</td>\n",
       "      <td>2020-07-18 00:00:00+00:00</td>\n",
       "      <td>2021-01-05 00:00:00+00:00</td>\n",
       "      <td>2861</td>\n",
       "      <td>22</td>\n",
       "      <td>4.0</td>\n",
       "      <td>effect perceived interracial competition psych...</td>\n",
       "      <td>880</td>\n",
       "      <td>3.251136</td>\n",
       "      <td>171.0</td>\n",
       "      <td>24.0</td>\n",
       "      <td>4.0</td>\n",
       "      <td>0.004545</td>\n",
       "    </tr>\n",
       "    <tr>\n",
       "      <th>5</th>\n",
       "      <td>10.1371/journal.pone.0147275</td>\n",
       "      <td>Positive Affect and Cognitive Restoration: Inv...</td>\n",
       "      <td>['\\nPositive moods are thought to restore self...</td>\n",
       "      <td>PLOS ONE</td>\n",
       "      <td>2016-01-19 00:00:00+00:00</td>\n",
       "      <td>2015-09-15 00:00:00+00:00</td>\n",
       "      <td>2016-01-02 00:00:00+00:00</td>\n",
       "      <td>3771</td>\n",
       "      <td>5</td>\n",
       "      <td>8.0</td>\n",
       "      <td>Positive Affect Cognitive Restoration: Investi...</td>\n",
       "      <td>2717</td>\n",
       "      <td>1.387928</td>\n",
       "      <td>109.0</td>\n",
       "      <td>17.0</td>\n",
       "      <td>8.0</td>\n",
       "      <td>0.002944</td>\n",
       "    </tr>\n",
       "  </tbody>\n",
       "</table>\n",
       "</div>"
      ],
      "text/plain": [
       "                             id  \\\n",
       "0  10.1371/journal.pone.0236792   \n",
       "2  10.1371/journal.pone.0192907   \n",
       "3  10.1371/journal.pone.0224326   \n",
       "4  10.1371/journal.pone.0245671   \n",
       "5  10.1371/journal.pone.0147275   \n",
       "\n",
       "                                               title  \\\n",
       "0  The link between childhood psychological maltr...   \n",
       "2  The dominance of introspective measures and wh...   \n",
       "3  Does the psychological profile influence the p...   \n",
       "4  The effect of perceived interracial competitio...   \n",
       "5  Positive Affect and Cognitive Restoration: Inv...   \n",
       "\n",
       "                                            abstract   journal  \\\n",
       "0  ['\\nBased on Attachment Theory, the Barlett an...  PLOS ONE   \n",
       "2  ['\\nThe behavioral sciences, including most of...  PLOS ONE   \n",
       "3  ['\\nStress control as well as other psychologi...  PLOS ONE   \n",
       "4  ['\\nThere remains a dearth of research on caus...  PLOS ONE   \n",
       "5  ['\\nPositive moods are thought to restore self...  PLOS ONE   \n",
       "\n",
       "           publication_date             received_date  \\\n",
       "0 2020-09-03 00:00:00+00:00 2020-01-09 00:00:00+00:00   \n",
       "2 2018-02-15 00:00:00+00:00 2016-11-16 00:00:00+00:00   \n",
       "3 2019-11-12 00:00:00+00:00 2019-05-14 00:00:00+00:00   \n",
       "4 2021-01-29 00:00:00+00:00 2020-07-18 00:00:00+00:00   \n",
       "5 2016-01-19 00:00:00+00:00 2015-09-15 00:00:00+00:00   \n",
       "\n",
       "              accepted_date  counter_total_all  counter_total_month  \\\n",
       "0 2020-07-06 00:00:00+00:00               2465                   48   \n",
       "2 2018-02-01 00:00:00+00:00               2430                   17   \n",
       "3 2019-10-11 00:00:00+00:00               2639                   17   \n",
       "4 2021-01-05 00:00:00+00:00               2861                   22   \n",
       "5 2016-01-02 00:00:00+00:00               3771                    5   \n",
       "\n",
       "  citation_count                                          textClean  \\\n",
       "0           14.0  link childhood psychological maltreatment cybe...   \n",
       "2           27.0  dominance introspective measures implies: exam...   \n",
       "3            7.0  psychological profile influence position promi...   \n",
       "4            4.0  effect perceived interracial competition psych...   \n",
       "5            8.0  Positive Affect Cognitive Restoration: Investi...   \n",
       "\n",
       "   days_published  views_per_day  received_to_accepted_days  \\\n",
       "0            1028       2.397860                      179.0   \n",
       "2            1959       1.240429                      442.0   \n",
       "3            1324       1.993202                      150.0   \n",
       "4             880       3.251136                      171.0   \n",
       "5            2717       1.387928                      109.0   \n",
       "\n",
       "   accepted_to_published_days  citations_int  citations_per_day  \n",
       "0                        59.0           14.0           0.013619  \n",
       "2                        14.0           27.0           0.013783  \n",
       "3                        32.0            7.0           0.005287  \n",
       "4                        24.0            4.0           0.004545  \n",
       "5                        17.0            8.0           0.002944  "
      ]
     },
     "execution_count": 38,
     "metadata": {},
     "output_type": "execute_result"
    }
   ],
   "source": [
    "#count views per day, from the download day\n",
    "#date = 28/06/2023\n",
    "#days_published = date - publication_date\n",
    "#views_per_day =days_published/counter_total_all\n",
    "\n",
    "#import pandas as pd\n",
    "from datetime import datetime\n",
    "import pytz\n",
    "\n",
    "# Sample data\n",
    "#data = {'publication_date': ['2020-09-03T00:00:00Z', '2022-03-15T00:00:00Z', '2021-11-28T00:00:00Z']}\n",
    "#df = pd.DataFrame(data)\n",
    "\n",
    "# Convert publication_date column to datetime type\n",
    "data['publication_date'] = pd.to_datetime(data['publication_date'])\n",
    "\n",
    "# Convert given_date to datetime type and localize to UTC timezone\n",
    "given_date = datetime.strptime('28/06/2023', '%d/%m/%Y').replace(tzinfo=pytz.UTC)\n",
    "\n",
    "# Calculate the difference in days\n",
    "data['days_published'] = (given_date - data['publication_date']).dt.days\n",
    "\n",
    "# We have an issue here in that if we divide days published by 0 we will get infinity.\n",
    "# We should dump rows with 0 views\n",
    "\n",
    "data = data[data['counter_total_all'] != 0]\n",
    "\n",
    "data['views_per_day'] = data['counter_total_all']/data['days_published']\n",
    "\n",
    "################################################\n",
    "#do the same for citations\n",
    "################################################\n",
    "\n",
    "#clean citation column\n",
    "#check it only contains numbers>0\n",
    "#force convert to int, there may be some error values so they will be converted to nan\n",
    "data['citations_int'] = pd.to_numeric(data['citation_count'], errors='coerce')\n",
    "#not this is a float\n",
    "\n",
    "#remove 0 and NaN\n",
    "data = data[data['citations_int'] != 0]\n",
    "data=data.dropna(subset=['citations_int'])\n",
    "\n",
    "data['citations_per_day'] = (data['citations_int']/data['days_published'])\n",
    "# Display the resulting dataframe\n",
    "pd.set_option('display.max_colwidth', 50)\n",
    "data.head()"
   ]
  },
  {
   "cell_type": "markdown",
   "metadata": {},
   "source": [
    "### Top cited and viewed papers\n"
   ]
  },
  {
   "cell_type": "code",
   "execution_count": 40,
   "metadata": {},
   "outputs": [
    {
     "name": "stdout",
     "output_type": "stream",
     "text": [
      "Minimum value of views: 0.30027173913043476\n",
      "Maximum value of views: 3323.9326947315353\n",
      "Minimum value of citations: 0.00014255167498218105\n",
      "Maximum value of citations: 1.920863309352518\n"
     ]
    }
   ],
   "source": [
    "import numpy as np\n",
    "# Calculate the minimum and maximum values\n",
    "y = data['views_per_day'].values\n",
    "min_value_views = np.min(y)\n",
    "max_value_views = np.max(y)\n",
    "\n",
    "z = data['citations_per_day'].values\n",
    "min_value_cit = np.min(z)\n",
    "max_value_cit = np.max(z)\n",
    "\n",
    "print(\"Minimum value of views:\", min_value_views)\n",
    "print(\"Maximum value of views:\", max_value_views)\n",
    "print(\"Minimum value of citations:\", min_value_cit)\n",
    "print(\"Maximum value of citations:\", max_value_cit)"
   ]
  },
  {
   "cell_type": "code",
   "execution_count": 41,
   "metadata": {},
   "outputs": [
    {
     "name": "stdout",
     "output_type": "stream",
     "text": [
      "9856                                                                                                         Glass Shape Influences Consumption Rate for Alcoholic Beverages\n",
      "1110                                                                                                        Diurnal variations of psychometric indicators in Twitter content\n",
      "364                                                                                 Loneliness predicts a preference for larger interpersonal distance within intimate space\n",
      "7797                                                                                Battle for the thermostat: Gender and the effect of temperature on cognitive performance\n",
      "10071                                                                                             Altered smell and taste: Anosmia, parosmia and the impact of long Covid-19\n",
      "9795                                                                Performance of ChatGPT on USMLE: Potential for AI-assisted medical education using large language models\n",
      "14006                                                                                                       Mobile phones: The effect of its presence on learning and memory\n",
      "8453                                               The impact of COVID-19 pandemic on physical and mental health of Asians: A study of seven middle-income countries in Asia\n",
      "10613                                                                              Women's Preferences for Penis Size: A New Research Method Using Selection among 3D Models\n",
      "2598                                                                       A threat to loyalty: Fear of missing out (FOMO) leads to reluctance to repeat current experiences\n",
      "75                                                                                                  Psychological factors and consumer behavior during the COVID-19 pandemic\n",
      "3945                                                    Psychological impacts from COVID-19 among university students: Risk factors across seven states in the United States\n",
      "1115                                                                                                                          The impact of chronotype on prosocial behavior\n",
      "4739                                                                 University students’ strategies of coping with stress during the coronavirus pandemic: Data from Poland\n",
      "3191                          How does mathematics anxiety impair mathematical abilities? Investigating the link between math anxiety, working memory, and number processing\n",
      "3068                                Students under lockdown: Comparisons of students’ social networks and mental health before and during the COVID-19 crisis in Switzerland\n",
      "14025    Why do people spread false information online? The effects of message and viewer characteristics on self-reported likelihood of sharing social media disinformation\n",
      "7213                                                                                                        It's all about the sex, or is it? Humans, horses and temperament\n",
      "3548                             College students’ stress and health in the COVID-19 pandemic: The role of academic workload, separation from school, and fears of contagion\n",
      "12187                                                                                                Facebook Use Predicts Declines in Subjective Well-Being in Young Adults\n",
      "Name: title, dtype: object 9856     3323.932695\n",
      "1110     1196.783533\n",
      "364      1145.728360\n",
      "7797      662.795728\n",
      "10071     411.138629\n",
      "9795      395.489209\n",
      "14006     382.210677\n",
      "8453      370.049596\n",
      "10613     357.826331\n",
      "2598      335.241768\n",
      "75        295.778267\n",
      "3945      286.419069\n",
      "1115      254.057237\n",
      "4739      252.584046\n",
      "3191      224.052632\n",
      "3068      217.571028\n",
      "14025     215.352113\n",
      "7213      207.438911\n",
      "3548      206.404378\n",
      "12187     203.417476\n",
      "Name: views_per_day, dtype: float64 9856    2012-08-17 00:00:00+00:00\n",
      "1110    2018-06-20 00:00:00+00:00\n",
      "364     2018-09-06 00:00:00+00:00\n",
      "7797    2019-05-22 00:00:00+00:00\n",
      "10071   2021-09-24 00:00:00+00:00\n",
      "9795    2023-02-09 00:00:00+00:00\n",
      "14006   2020-08-13 00:00:00+00:00\n",
      "8453    2021-02-11 00:00:00+00:00\n",
      "10613   2015-09-02 00:00:00+00:00\n",
      "2598    2020-04-30 00:00:00+00:00\n",
      "75      2021-08-16 00:00:00+00:00\n",
      "3945    2021-01-07 00:00:00+00:00\n",
      "1115    2019-04-30 00:00:00+00:00\n",
      "4739    2021-07-26 00:00:00+00:00\n",
      "3191    2019-01-25 00:00:00+00:00\n",
      "3068    2020-07-23 00:00:00+00:00\n",
      "14025   2020-10-07 00:00:00+00:00\n",
      "7213    2019-05-14 00:00:00+00:00\n",
      "3548    2021-02-10 00:00:00+00:00\n",
      "12187   2013-08-14 00:00:00+00:00\n",
      "Name: publication_date, dtype: datetime64[ns, UTC]\n"
     ]
    }
   ],
   "source": [
    "#Let's look at the most viewed papers\n",
    "top_10_papers = data.nlargest(20, 'views_per_day')\n",
    "\n",
    "# Print the rows of the top 10 papers\n",
    "pd.set_option('display.max_colwidth', None)\n",
    "print(top_10_papers['title'], top_10_papers['views_per_day'], top_10_papers['publication_date'])"
   ]
  },
  {
   "cell_type": "code",
   "execution_count": 44,
   "metadata": {},
   "outputs": [
    {
     "name": "stdout",
     "output_type": "stream",
     "text": [
      "9795     Performance of ChatGPT on USMLE: Potential for AI-assisted medical education using large languag...\n",
      "3068     Students under lockdown: Comparisons of students’ social networks and mental health before and d...\n",
      "3945     Psychological impacts from COVID-19 among university students: Risk factors across seven states ...\n",
      "1774     The Ryerson Audio-Visual Database of Emotional Speech and Song (RAVDESS): A dynamic, multimodal ...\n",
      "5119     Emotional responses and coping strategies in nurses and nursing students during Covid-19 outbrea...\n",
      "8011                                    Impact of COVID-19 pandemic on mental health: An international study\n",
      "12408    Factors contributing to healthcare professional burnout during the COVID-19 pandemic: A rapid tu...\n",
      "8453     The impact of COVID-19 pandemic on physical and mental health of Asians: A study of seven middle...\n",
      "3976                                 Acute mental health responses during the COVID-19 pandemic in Australia\n",
      "3939                                                       Why the COVID-19 pandemic is a traumatic stressor\n",
      "10945    Physical, psychological and occupational consequences of job burnout: A systematic review of pro...\n",
      "8629              Personality, Gender, and Age in the Language of Social Media: The Open-Vocabulary Approach\n",
      "6068     The Covid-19 pandemic and mental health of first-year college students: Examining the effect of ...\n",
      "12187                                Facebook Use Predicts Declines in Subjective Well-Being in Young Adults\n",
      "11097                           Exposure to COVID-19 patients increases physician trainee stress and burnout\n",
      "5405           The Smartphone Addiction Scale: Development and Validation of a Short Version for Adolescents\n",
      "765      Barriers and facilitators of adherence to social distancing recommendations during COVID-19 amon...\n",
      "9353     Psychological distress, anxiety, family violence, suicidality, and wellbeing in New Zealand duri...\n",
      "3538     Determinants of burnout and other aspects of psychological well-being in healthcare workers duri...\n",
      "3064     Anxiety, depression, stress, fear and social support during COVID-19 pandemic among Jordanian he...\n",
      "Name: title, dtype: object 9795     1.920863\n",
      "3068     0.714019\n",
      "3945     0.497783\n",
      "1774     0.398074\n",
      "5119     0.340284\n",
      "8011     0.324532\n",
      "12408    0.315175\n",
      "8453     0.306805\n",
      "3976     0.296714\n",
      "3939     0.292873\n",
      "10945    0.287148\n",
      "8629     0.268875\n",
      "6068     0.263905\n",
      "12187    0.261859\n",
      "11097    0.253788\n",
      "5405     0.252741\n",
      "765      0.249497\n",
      "9353     0.240166\n",
      "3538     0.229141\n",
      "3064     0.229117\n",
      "Name: citations_per_day, dtype: float64 9795    2023-02-09 00:00:00+00:00\n",
      "3068    2020-07-23 00:00:00+00:00\n",
      "3945    2021-01-07 00:00:00+00:00\n",
      "1774    2018-05-16 00:00:00+00:00\n",
      "5119    2020-08-07 00:00:00+00:00\n",
      "8011    2020-12-31 00:00:00+00:00\n",
      "12408   2020-09-03 00:00:00+00:00\n",
      "8453    2021-02-11 00:00:00+00:00\n",
      "3976    2020-07-28 00:00:00+00:00\n",
      "3939    2021-01-11 00:00:00+00:00\n",
      "10945   2017-10-04 00:00:00+00:00\n",
      "8629    2013-09-25 00:00:00+00:00\n",
      "6068    2021-03-05 00:00:00+00:00\n",
      "12187   2013-08-14 00:00:00+00:00\n",
      "11097   2020-08-06 00:00:00+00:00\n",
      "5405    2013-12-31 00:00:00+00:00\n",
      "765     2020-10-07 00:00:00+00:00\n",
      "9353    2020-11-04 00:00:00+00:00\n",
      "3538    2021-04-16 00:00:00+00:00\n",
      "3064    2021-03-12 00:00:00+00:00\n",
      "Name: publication_date, dtype: datetime64[ns, UTC]\n"
     ]
    }
   ],
   "source": [
    "#Let's look at the most cited papers\n",
    "top_10_cited = data.nlargest(20, 'citations_per_day')\n",
    "\n",
    "# Print the rows of the top 10 papers\n",
    "pd.set_option('display.max_colwidth', 100)\n",
    "print(top_10_cited['title'], top_10_cited['citations_per_day'], top_10_cited['publication_date'])"
   ]
  },
  {
   "cell_type": "code",
   "execution_count": null,
   "metadata": {},
   "outputs": [],
   "source": []
  },
  {
   "cell_type": "code",
   "execution_count": 45,
   "metadata": {},
   "outputs": [
    {
     "data": {
      "text/html": [
       "<div>\n",
       "<style scoped>\n",
       "    .dataframe tbody tr th:only-of-type {\n",
       "        vertical-align: middle;\n",
       "    }\n",
       "\n",
       "    .dataframe tbody tr th {\n",
       "        vertical-align: top;\n",
       "    }\n",
       "\n",
       "    .dataframe thead th {\n",
       "        text-align: right;\n",
       "    }\n",
       "</style>\n",
       "<table border=\"1\" class=\"dataframe\">\n",
       "  <thead>\n",
       "    <tr style=\"text-align: right;\">\n",
       "      <th></th>\n",
       "      <th>id</th>\n",
       "      <th>title</th>\n",
       "      <th>abstract</th>\n",
       "      <th>journal</th>\n",
       "      <th>publication_date</th>\n",
       "      <th>received_date</th>\n",
       "      <th>accepted_date</th>\n",
       "      <th>counter_total_all</th>\n",
       "      <th>counter_total_month</th>\n",
       "      <th>citation_count</th>\n",
       "      <th>textClean</th>\n",
       "      <th>days_published</th>\n",
       "      <th>views_per_day</th>\n",
       "      <th>received_to_accepted_days</th>\n",
       "      <th>accepted_to_published_days</th>\n",
       "      <th>citations_int</th>\n",
       "      <th>citations_per_day</th>\n",
       "    </tr>\n",
       "  </thead>\n",
       "  <tbody>\n",
       "    <tr>\n",
       "      <th>0</th>\n",
       "      <td>10.1371/journal.pone.0236792</td>\n",
       "      <td>The link between childhood psychological maltreatment and cyberbullying perpetration attitudes a...</td>\n",
       "      <td>['\\nBased on Attachment Theory, the Barlett and Gentile Cyberbullying Model and General Aggressi...</td>\n",
       "      <td>PLOS ONE</td>\n",
       "      <td>2020-09-03 00:00:00+00:00</td>\n",
       "      <td>2020-01-09 00:00:00+00:00</td>\n",
       "      <td>2020-07-06 00:00:00+00:00</td>\n",
       "      <td>2465</td>\n",
       "      <td>48</td>\n",
       "      <td>14.0</td>\n",
       "      <td>link childhood psychological maltreatment cyberbullying perpetration attitudes among undergradua...</td>\n",
       "      <td>1028</td>\n",
       "      <td>2.397860</td>\n",
       "      <td>179.0</td>\n",
       "      <td>59.0</td>\n",
       "      <td>14.0</td>\n",
       "      <td>0.013619</td>\n",
       "    </tr>\n",
       "    <tr>\n",
       "      <th>2</th>\n",
       "      <td>10.1371/journal.pone.0192907</td>\n",
       "      <td>The dominance of introspective measures and what this implies: The example of environmental atti...</td>\n",
       "      <td>['\\nThe behavioral sciences, including most of psychology, seek to explain and predict behavior ...</td>\n",
       "      <td>PLOS ONE</td>\n",
       "      <td>2018-02-15 00:00:00+00:00</td>\n",
       "      <td>2016-11-16 00:00:00+00:00</td>\n",
       "      <td>2018-02-01 00:00:00+00:00</td>\n",
       "      <td>2430</td>\n",
       "      <td>17</td>\n",
       "      <td>27.0</td>\n",
       "      <td>dominance introspective measures implies: example environmental attitude</td>\n",
       "      <td>1959</td>\n",
       "      <td>1.240429</td>\n",
       "      <td>442.0</td>\n",
       "      <td>14.0</td>\n",
       "      <td>27.0</td>\n",
       "      <td>0.013783</td>\n",
       "    </tr>\n",
       "    <tr>\n",
       "      <th>3</th>\n",
       "      <td>10.1371/journal.pone.0224326</td>\n",
       "      <td>Does the psychological profile influence the position of promising young futsal players?</td>\n",
       "      <td>['\\nStress control as well as other psychological characteristics influence sports performance (...</td>\n",
       "      <td>PLOS ONE</td>\n",
       "      <td>2019-11-12 00:00:00+00:00</td>\n",
       "      <td>2019-05-14 00:00:00+00:00</td>\n",
       "      <td>2019-10-11 00:00:00+00:00</td>\n",
       "      <td>2639</td>\n",
       "      <td>17</td>\n",
       "      <td>7.0</td>\n",
       "      <td>psychological profile influence position promising young futsal players?</td>\n",
       "      <td>1324</td>\n",
       "      <td>1.993202</td>\n",
       "      <td>150.0</td>\n",
       "      <td>32.0</td>\n",
       "      <td>7.0</td>\n",
       "      <td>0.005287</td>\n",
       "    </tr>\n",
       "    <tr>\n",
       "      <th>4</th>\n",
       "      <td>10.1371/journal.pone.0245671</td>\n",
       "      <td>The effect of perceived interracial competition on psychological outcomes</td>\n",
       "      <td>['\\nThere remains a dearth of research on causal roles of perceived interracial competition on p...</td>\n",
       "      <td>PLOS ONE</td>\n",
       "      <td>2021-01-29 00:00:00+00:00</td>\n",
       "      <td>2020-07-18 00:00:00+00:00</td>\n",
       "      <td>2021-01-05 00:00:00+00:00</td>\n",
       "      <td>2861</td>\n",
       "      <td>22</td>\n",
       "      <td>4.0</td>\n",
       "      <td>effect perceived interracial competition psychological outcomes</td>\n",
       "      <td>880</td>\n",
       "      <td>3.251136</td>\n",
       "      <td>171.0</td>\n",
       "      <td>24.0</td>\n",
       "      <td>4.0</td>\n",
       "      <td>0.004545</td>\n",
       "    </tr>\n",
       "    <tr>\n",
       "      <th>5</th>\n",
       "      <td>10.1371/journal.pone.0147275</td>\n",
       "      <td>Positive Affect and Cognitive Restoration: Investigating the Role of Valence and Arousal</td>\n",
       "      <td>['\\nPositive moods are thought to restore self-control resources following depletion. However, i...</td>\n",
       "      <td>PLOS ONE</td>\n",
       "      <td>2016-01-19 00:00:00+00:00</td>\n",
       "      <td>2015-09-15 00:00:00+00:00</td>\n",
       "      <td>2016-01-02 00:00:00+00:00</td>\n",
       "      <td>3771</td>\n",
       "      <td>5</td>\n",
       "      <td>8.0</td>\n",
       "      <td>Positive Affect Cognitive Restoration: Investigating Role Valence Arousal</td>\n",
       "      <td>2717</td>\n",
       "      <td>1.387928</td>\n",
       "      <td>109.0</td>\n",
       "      <td>17.0</td>\n",
       "      <td>8.0</td>\n",
       "      <td>0.002944</td>\n",
       "    </tr>\n",
       "  </tbody>\n",
       "</table>\n",
       "</div>"
      ],
      "text/plain": [
       "                             id  \\\n",
       "0  10.1371/journal.pone.0236792   \n",
       "2  10.1371/journal.pone.0192907   \n",
       "3  10.1371/journal.pone.0224326   \n",
       "4  10.1371/journal.pone.0245671   \n",
       "5  10.1371/journal.pone.0147275   \n",
       "\n",
       "                                                                                                 title  \\\n",
       "0  The link between childhood psychological maltreatment and cyberbullying perpetration attitudes a...   \n",
       "2  The dominance of introspective measures and what this implies: The example of environmental atti...   \n",
       "3             Does the psychological profile influence the position of promising young futsal players?   \n",
       "4                            The effect of perceived interracial competition on psychological outcomes   \n",
       "5             Positive Affect and Cognitive Restoration: Investigating the Role of Valence and Arousal   \n",
       "\n",
       "                                                                                              abstract  \\\n",
       "0  ['\\nBased on Attachment Theory, the Barlett and Gentile Cyberbullying Model and General Aggressi...   \n",
       "2  ['\\nThe behavioral sciences, including most of psychology, seek to explain and predict behavior ...   \n",
       "3  ['\\nStress control as well as other psychological characteristics influence sports performance (...   \n",
       "4  ['\\nThere remains a dearth of research on causal roles of perceived interracial competition on p...   \n",
       "5  ['\\nPositive moods are thought to restore self-control resources following depletion. However, i...   \n",
       "\n",
       "    journal          publication_date             received_date  \\\n",
       "0  PLOS ONE 2020-09-03 00:00:00+00:00 2020-01-09 00:00:00+00:00   \n",
       "2  PLOS ONE 2018-02-15 00:00:00+00:00 2016-11-16 00:00:00+00:00   \n",
       "3  PLOS ONE 2019-11-12 00:00:00+00:00 2019-05-14 00:00:00+00:00   \n",
       "4  PLOS ONE 2021-01-29 00:00:00+00:00 2020-07-18 00:00:00+00:00   \n",
       "5  PLOS ONE 2016-01-19 00:00:00+00:00 2015-09-15 00:00:00+00:00   \n",
       "\n",
       "              accepted_date  counter_total_all  counter_total_month  \\\n",
       "0 2020-07-06 00:00:00+00:00               2465                   48   \n",
       "2 2018-02-01 00:00:00+00:00               2430                   17   \n",
       "3 2019-10-11 00:00:00+00:00               2639                   17   \n",
       "4 2021-01-05 00:00:00+00:00               2861                   22   \n",
       "5 2016-01-02 00:00:00+00:00               3771                    5   \n",
       "\n",
       "  citation_count  \\\n",
       "0           14.0   \n",
       "2           27.0   \n",
       "3            7.0   \n",
       "4            4.0   \n",
       "5            8.0   \n",
       "\n",
       "                                                                                             textClean  \\\n",
       "0  link childhood psychological maltreatment cyberbullying perpetration attitudes among undergradua...   \n",
       "2                             dominance introspective measures implies: example environmental attitude   \n",
       "3                             psychological profile influence position promising young futsal players?   \n",
       "4                                      effect perceived interracial competition psychological outcomes   \n",
       "5                            Positive Affect Cognitive Restoration: Investigating Role Valence Arousal   \n",
       "\n",
       "   days_published  views_per_day  received_to_accepted_days  \\\n",
       "0            1028       2.397860                      179.0   \n",
       "2            1959       1.240429                      442.0   \n",
       "3            1324       1.993202                      150.0   \n",
       "4             880       3.251136                      171.0   \n",
       "5            2717       1.387928                      109.0   \n",
       "\n",
       "   accepted_to_published_days  citations_int  citations_per_day  \n",
       "0                        59.0           14.0           0.013619  \n",
       "2                        14.0           27.0           0.013783  \n",
       "3                        32.0            7.0           0.005287  \n",
       "4                        24.0            4.0           0.004545  \n",
       "5                        17.0            8.0           0.002944  "
      ]
     },
     "execution_count": 45,
     "metadata": {},
     "output_type": "execute_result"
    }
   ],
   "source": [
    "#calculate received_to_accepted_days\n",
    "data['accepted_date'] = pd.to_datetime(data['accepted_date'])\n",
    "data['received_date'] = pd.to_datetime(data['received_date'])\n",
    "data['received_to_accepted_days'] = (data['accepted_date'] - data['received_date']).dt.days\n",
    "#accepted to published days\n",
    "data['accepted_to_published_days'] = (data['publication_date'] - data['accepted_date']).dt.days\n",
    "\n",
    "\n",
    "data.head()\n"
   ]
  },
  {
   "cell_type": "code",
   "execution_count": 61,
   "metadata": {},
   "outputs": [
    {
     "data": {
      "text/plain": [
       "<Axes: >"
      ]
     },
     "execution_count": 61,
     "metadata": {},
     "output_type": "execute_result"
    },
    {
     "data": {
      "image/png": "[encoded data removed]",
      "text/plain": [
       "<Figure size 640x480 with 2 Axes>"
      ]
     },
     "metadata": {},
     "output_type": "display_data"
    }
   ],
   "source": [
    "#!pip install seaborn\n",
    "#Is there any correlation between views and citations\n",
    "\n",
    "import seaborn as sns\n",
    "import matplotlib.pyplot as plt\n",
    "d = data[['citations_per_day','views_per_day','received_to_accepted_days','accepted_to_published_days']]\n",
    "sns.heatmap(d.corr())\n",
    "\n",
    "#very weak correlation of views per day and citations per day\n"
   ]
  },
  {
   "cell_type": "code",
   "execution_count": 86,
   "metadata": {},
   "outputs": [],
   "source": [
    "#get rid of everything related to covid #\n",
    "#search for covid and lockdown in titles\n",
    "#rerun analysis\n",
    "'''\n",
    "mini example\n",
    "\n",
    "foo = pd.DataFrame({'a' : [1,2,3,4], 'b' : ['hi', 'foo', 'fat', 'cat']})\n",
    "\n",
    "import re\n",
    "print(foo.b.str.contains('FO|FA',flags=re.IGNORECASE, regex=True))\n",
    "#print(foo.loc[foo.b.str.contains('^f'), :])\n",
    "\n",
    "'''\n",
    "\n",
    "\n",
    "\n",
    "\n",
    "\n",
    "import re\n",
    "data_cov = data.loc[data.title.str.contains('covid|lockdown',flags=re.IGNORECASE, regex=True), :]\n",
    "data_nocov = data.loc[~data.title.str.contains('covid|lockdown',flags=re.IGNORECASE, regex=True), :]\n",
    " #                 '(foo|bar)'\n",
    "#df.loc[df['column_name'] == some_value]\n",
    "#df['conference'].str.contains('').any()\n",
    "\n",
    "#if re.search('covid', 'Mandy Pande', re.IGNORECASE):"
   ]
  },
  {
   "cell_type": "code",
   "execution_count": 87,
   "metadata": {},
   "outputs": [
    {
     "data": {
      "text/html": [
       "<div>\n",
       "<style scoped>\n",
       "    .dataframe tbody tr th:only-of-type {\n",
       "        vertical-align: middle;\n",
       "    }\n",
       "\n",
       "    .dataframe tbody tr th {\n",
       "        vertical-align: top;\n",
       "    }\n",
       "\n",
       "    .dataframe thead th {\n",
       "        text-align: right;\n",
       "    }\n",
       "</style>\n",
       "<table border=\"1\" class=\"dataframe\">\n",
       "  <thead>\n",
       "    <tr style=\"text-align: right;\">\n",
       "      <th></th>\n",
       "      <th>id</th>\n",
       "      <th>title</th>\n",
       "      <th>abstract</th>\n",
       "      <th>journal</th>\n",
       "      <th>publication_date</th>\n",
       "      <th>received_date</th>\n",
       "      <th>accepted_date</th>\n",
       "      <th>counter_total_all</th>\n",
       "      <th>counter_total_month</th>\n",
       "      <th>citation_count</th>\n",
       "      <th>textClean</th>\n",
       "      <th>days_published</th>\n",
       "      <th>views_per_day</th>\n",
       "      <th>received_to_accepted_days</th>\n",
       "      <th>accepted_to_published_days</th>\n",
       "      <th>citations_int</th>\n",
       "      <th>citations_per_day</th>\n",
       "    </tr>\n",
       "  </thead>\n",
       "  <tbody>\n",
       "    <tr>\n",
       "      <th>0</th>\n",
       "      <td>10.1371/journal.pone.0236792</td>\n",
       "      <td>The link between childhood psychological maltreatment and cyberbullying perpetration attitudes a...</td>\n",
       "      <td>['\\nBased on Attachment Theory, the Barlett and Gentile Cyberbullying Model and General Aggressi...</td>\n",
       "      <td>PLOS ONE</td>\n",
       "      <td>2020-09-03 00:00:00+00:00</td>\n",
       "      <td>2020-01-09 00:00:00+00:00</td>\n",
       "      <td>2020-07-06 00:00:00+00:00</td>\n",
       "      <td>2465</td>\n",
       "      <td>48</td>\n",
       "      <td>14.0</td>\n",
       "      <td>link childhood psychological maltreatment cyberbullying perpetration attitudes among undergradua...</td>\n",
       "      <td>1028</td>\n",
       "      <td>2.397860</td>\n",
       "      <td>179.0</td>\n",
       "      <td>59.0</td>\n",
       "      <td>14.0</td>\n",
       "      <td>0.013619</td>\n",
       "    </tr>\n",
       "    <tr>\n",
       "      <th>2</th>\n",
       "      <td>10.1371/journal.pone.0192907</td>\n",
       "      <td>The dominance of introspective measures and what this implies: The example of environmental atti...</td>\n",
       "      <td>['\\nThe behavioral sciences, including most of psychology, seek to explain and predict behavior ...</td>\n",
       "      <td>PLOS ONE</td>\n",
       "      <td>2018-02-15 00:00:00+00:00</td>\n",
       "      <td>2016-11-16 00:00:00+00:00</td>\n",
       "      <td>2018-02-01 00:00:00+00:00</td>\n",
       "      <td>2430</td>\n",
       "      <td>17</td>\n",
       "      <td>27.0</td>\n",
       "      <td>dominance introspective measures implies: example environmental attitude</td>\n",
       "      <td>1959</td>\n",
       "      <td>1.240429</td>\n",
       "      <td>442.0</td>\n",
       "      <td>14.0</td>\n",
       "      <td>27.0</td>\n",
       "      <td>0.013783</td>\n",
       "    </tr>\n",
       "    <tr>\n",
       "      <th>3</th>\n",
       "      <td>10.1371/journal.pone.0224326</td>\n",
       "      <td>Does the psychological profile influence the position of promising young futsal players?</td>\n",
       "      <td>['\\nStress control as well as other psychological characteristics influence sports performance (...</td>\n",
       "      <td>PLOS ONE</td>\n",
       "      <td>2019-11-12 00:00:00+00:00</td>\n",
       "      <td>2019-05-14 00:00:00+00:00</td>\n",
       "      <td>2019-10-11 00:00:00+00:00</td>\n",
       "      <td>2639</td>\n",
       "      <td>17</td>\n",
       "      <td>7.0</td>\n",
       "      <td>psychological profile influence position promising young futsal players?</td>\n",
       "      <td>1324</td>\n",
       "      <td>1.993202</td>\n",
       "      <td>150.0</td>\n",
       "      <td>32.0</td>\n",
       "      <td>7.0</td>\n",
       "      <td>0.005287</td>\n",
       "    </tr>\n",
       "    <tr>\n",
       "      <th>4</th>\n",
       "      <td>10.1371/journal.pone.0245671</td>\n",
       "      <td>The effect of perceived interracial competition on psychological outcomes</td>\n",
       "      <td>['\\nThere remains a dearth of research on causal roles of perceived interracial competition on p...</td>\n",
       "      <td>PLOS ONE</td>\n",
       "      <td>2021-01-29 00:00:00+00:00</td>\n",
       "      <td>2020-07-18 00:00:00+00:00</td>\n",
       "      <td>2021-01-05 00:00:00+00:00</td>\n",
       "      <td>2861</td>\n",
       "      <td>22</td>\n",
       "      <td>4.0</td>\n",
       "      <td>effect perceived interracial competition psychological outcomes</td>\n",
       "      <td>880</td>\n",
       "      <td>3.251136</td>\n",
       "      <td>171.0</td>\n",
       "      <td>24.0</td>\n",
       "      <td>4.0</td>\n",
       "      <td>0.004545</td>\n",
       "    </tr>\n",
       "    <tr>\n",
       "      <th>5</th>\n",
       "      <td>10.1371/journal.pone.0147275</td>\n",
       "      <td>Positive Affect and Cognitive Restoration: Investigating the Role of Valence and Arousal</td>\n",
       "      <td>['\\nPositive moods are thought to restore self-control resources following depletion. However, i...</td>\n",
       "      <td>PLOS ONE</td>\n",
       "      <td>2016-01-19 00:00:00+00:00</td>\n",
       "      <td>2015-09-15 00:00:00+00:00</td>\n",
       "      <td>2016-01-02 00:00:00+00:00</td>\n",
       "      <td>3771</td>\n",
       "      <td>5</td>\n",
       "      <td>8.0</td>\n",
       "      <td>Positive Affect Cognitive Restoration: Investigating Role Valence Arousal</td>\n",
       "      <td>2717</td>\n",
       "      <td>1.387928</td>\n",
       "      <td>109.0</td>\n",
       "      <td>17.0</td>\n",
       "      <td>8.0</td>\n",
       "      <td>0.002944</td>\n",
       "    </tr>\n",
       "  </tbody>\n",
       "</table>\n",
       "</div>"
      ],
      "text/plain": [
       "                             id  \\\n",
       "0  10.1371/journal.pone.0236792   \n",
       "2  10.1371/journal.pone.0192907   \n",
       "3  10.1371/journal.pone.0224326   \n",
       "4  10.1371/journal.pone.0245671   \n",
       "5  10.1371/journal.pone.0147275   \n",
       "\n",
       "                                                                                                 title  \\\n",
       "0  The link between childhood psychological maltreatment and cyberbullying perpetration attitudes a...   \n",
       "2  The dominance of introspective measures and what this implies: The example of environmental atti...   \n",
       "3             Does the psychological profile influence the position of promising young futsal players?   \n",
       "4                            The effect of perceived interracial competition on psychological outcomes   \n",
       "5             Positive Affect and Cognitive Restoration: Investigating the Role of Valence and Arousal   \n",
       "\n",
       "                                                                                              abstract  \\\n",
       "0  ['\\nBased on Attachment Theory, the Barlett and Gentile Cyberbullying Model and General Aggressi...   \n",
       "2  ['\\nThe behavioral sciences, including most of psychology, seek to explain and predict behavior ...   \n",
       "3  ['\\nStress control as well as other psychological characteristics influence sports performance (...   \n",
       "4  ['\\nThere remains a dearth of research on causal roles of perceived interracial competition on p...   \n",
       "5  ['\\nPositive moods are thought to restore self-control resources following depletion. However, i...   \n",
       "\n",
       "    journal          publication_date             received_date  \\\n",
       "0  PLOS ONE 2020-09-03 00:00:00+00:00 2020-01-09 00:00:00+00:00   \n",
       "2  PLOS ONE 2018-02-15 00:00:00+00:00 2016-11-16 00:00:00+00:00   \n",
       "3  PLOS ONE 2019-11-12 00:00:00+00:00 2019-05-14 00:00:00+00:00   \n",
       "4  PLOS ONE 2021-01-29 00:00:00+00:00 2020-07-18 00:00:00+00:00   \n",
       "5  PLOS ONE 2016-01-19 00:00:00+00:00 2015-09-15 00:00:00+00:00   \n",
       "\n",
       "              accepted_date  counter_total_all  counter_total_month  \\\n",
       "0 2020-07-06 00:00:00+00:00               2465                   48   \n",
       "2 2018-02-01 00:00:00+00:00               2430                   17   \n",
       "3 2019-10-11 00:00:00+00:00               2639                   17   \n",
       "4 2021-01-05 00:00:00+00:00               2861                   22   \n",
       "5 2016-01-02 00:00:00+00:00               3771                    5   \n",
       "\n",
       "  citation_count  \\\n",
       "0           14.0   \n",
       "2           27.0   \n",
       "3            7.0   \n",
       "4            4.0   \n",
       "5            8.0   \n",
       "\n",
       "                                                                                             textClean  \\\n",
       "0  link childhood psychological maltreatment cyberbullying perpetration attitudes among undergradua...   \n",
       "2                             dominance introspective measures implies: example environmental attitude   \n",
       "3                             psychological profile influence position promising young futsal players?   \n",
       "4                                      effect perceived interracial competition psychological outcomes   \n",
       "5                            Positive Affect Cognitive Restoration: Investigating Role Valence Arousal   \n",
       "\n",
       "   days_published  views_per_day  received_to_accepted_days  \\\n",
       "0            1028       2.397860                      179.0   \n",
       "2            1959       1.240429                      442.0   \n",
       "3            1324       1.993202                      150.0   \n",
       "4             880       3.251136                      171.0   \n",
       "5            2717       1.387928                      109.0   \n",
       "\n",
       "   accepted_to_published_days  citations_int  citations_per_day  \n",
       "0                        59.0           14.0           0.013619  \n",
       "2                        14.0           27.0           0.013783  \n",
       "3                        32.0            7.0           0.005287  \n",
       "4                        24.0            4.0           0.004545  \n",
       "5                        17.0            8.0           0.002944  "
      ]
     },
     "execution_count": 87,
     "metadata": {},
     "output_type": "execute_result"
    }
   ],
   "source": [
    "data_nocov.head()"
   ]
  },
  {
   "cell_type": "code",
   "execution_count": 89,
   "metadata": {},
   "outputs": [],
   "source": [
    "#bert topic is very slow so selecting only 10% of data first\n",
    "# Determine the number of rows to select (10% of the total rows)\n",
    "subset_size = int(len(data_nocov) * 0.2)\n",
    "\n",
    "# Randomly select 10% of the rows\n",
    "random_subset_no_cov = data_nocov.sample(n=subset_size, random_state=42)  # Setting random_state for reproducibility\n",
    "\n",
    "# Create a new DataFrame with the selected rows\n",
    "subset20 = pd.DataFrame(random_subset_no_cov)"
   ]
  },
  {
   "cell_type": "code",
   "execution_count": 91,
   "metadata": {},
   "outputs": [
    {
     "name": "stderr",
     "output_type": "stream",
     "text": [
      "Batches: 100%|██████████████████████████████████████████████████████████████████████████████████████| 77/77 [00:37<00:00,  2.04it/s]\n",
      "2023-09-13 14:33:42,516 - BERTopic - Transformed documents to Embeddings\n",
      "2023-09-13 14:34:15,684 - BERTopic - Reduced dimensionality\n",
      "2023-09-13 14:34:16,386 - BERTopic - Clustered reduced embeddings\n"
     ]
    }
   ],
   "source": [
    "titles_no_cov = subset20.textClean.to_list()\n",
    "#from bertopic import BERTopic\n",
    "\n",
    "topic_model_no_cov = BERTopic(language=\"english\", calculate_probabilities=True, verbose=True)\n",
    "topics_nc, probs_nc = topic_model_no_cov.fit_transform(titles_no_cov)"
   ]
  },
  {
   "cell_type": "code",
   "execution_count": 92,
   "metadata": {},
   "outputs": [
    {
     "name": "stderr",
     "output_type": "stream",
     "text": [
      "20it [00:01, 15.72it/s]\n"
     ]
    },
    {
     "data": {
      "application/vnd.plotly.v1+json": {
       "config": {
        "plotlyServerURL": "https://plot.ly"
       },
       "data": [
        {
         "hoverinfo": "text",
         "hovertext": [
          "<b>Topic 0</b><br>Words: bitter, weakly, tastes, kinetics, buffering",
          "<b>Topic 0</b><br>Words: places, owls, openfield, faeces, feathers",
          "<b>Topic 0</b><br>Words: mice, victorious, asic3, snca, th",
          "<b>Topic 0</b><br>Words: declining, giant, sexspecific, transsaharan, otter",
          "<b>Topic 0</b><br>Words: gallus, postconflict, islands, cockroaches, opcambridge",
          "<b>Topic 0</b><br>Words: species, colony, foraging, reproductive, social",
          "<b>Topic 0</b><br>Words: foraging, dogs, tail, mating, chimpanzees",
          "<b>Topic 0</b><br>Words: species, invasive, migratory, ant, queens",
          "<b>Topic 0</b><br>Words: dogs, animal, timing, behavioural, novel",
          "<b>Topic 0</b><br>Words: elephants, season, birds, survival, wild",
          "<b>Topic 0</b><br>Words: breeding, resource, behavior, crows, horses",
          "<b>Topic 0</b><br>Words: calving, vocalizations, dogs, social, catus",
          "<b>Topic 0</b><br>Words: farm, conspecific, ant, dogs, influences",
          "<b>Topic 0</b><br>Words: foraging, species, activity, female, exposure",
          "<b>Topic 0</b><br>Words: dogs, behaviour, morphology, enemy, secreted",
          "<b>Topic 0</b><br>Words: mice, behavior, basking, highspeed, flyway",
          "<b>Topic 0</b><br>Words: anguilla, upstream, turtles, migrating, eel"
         ],
         "marker": {
          "color": "#E69F00"
         },
         "mode": "lines",
         "name": "0_dogs_mice_social_foraging",
         "type": "scatter",
         "x": [
          "2007-01-06T12:00:00+00:00",
          "2007-12-24T00:00:00+00:00",
          "2008-12-09T12:00:00+00:00",
          "2009-11-26T00:00:00+00:00",
          "2010-11-12T12:00:00+00:00",
          "2011-10-30T00:00:00+00:00",
          "2012-10-15T12:00:00+00:00",
          "2013-10-02T00:00:00+00:00",
          "2014-09-18T12:00:00+00:00",
          "2015-09-05T00:00:00+00:00",
          "2016-08-21T12:00:00+00:00",
          "2017-08-08T00:00:00+00:00",
          "2018-07-25T12:00:00+00:00",
          "2019-07-12T00:00:00+00:00",
          "2020-06-27T12:00:00+00:00",
          "2021-06-14T00:00:00+00:00",
          "2022-05-31T12:00:00+00:00"
         ],
         "y": [
          4,
          3,
          5,
          4,
          13,
          17,
          23,
          30,
          18,
          13,
          26,
          13,
          13,
          15,
          10,
          10,
          3
         ]
        },
        {
         "hoverinfo": "text",
         "hovertext": [
          "<b>Topic 1</b><br>Words: monkey, extrastriate, function, cortex, visual",
          "<b>Topic 1</b><br>Words: apparentmotion, trace, reflects, along, illusory",
          "<b>Topic 1</b><br>Words: timescales, interacting, underlie, world, neurons",
          "<b>Topic 1</b><br>Words: perceptual, hermann, quantify, cancellation, grid",
          "<b>Topic 1</b><br>Words: stabilization, repetition, visuomanual, guidance, haptic",
          "<b>Topic 1</b><br>Words: normalization, rectangle, kanizsa, disorientation, compression",
          "<b>Topic 1</b><br>Words: lowlevel, plausible, neurophysiologically, dependent, crowding",
          "<b>Topic 1</b><br>Words: visual, time, timing, perceptual, wrist",
          "<b>Topic 1</b><br>Words: visual, v1, perceptual, saliency, suppression",
          "<b>Topic 1</b><br>Words: binocular, attention, frequency, orientation, spatial",
          "<b>Topic 1</b><br>Words: visual, spatial, perceptual, targets, attention",
          "<b>Topic 1</b><br>Words: visual, macular, motion, information, based",
          "<b>Topic 1</b><br>Words: visual, motion, imitation, order, affects",
          "<b>Topic 1</b><br>Words: topdown, motor, perceptual, driven, mannerbased",
          "<b>Topic 1</b><br>Words: motor, actions, stabilises, interferes, triadic",
          "<b>Topic 1</b><br>Words: visual, motor, sensorimotor, perceptual, task",
          "<b>Topic 1</b><br>Words: localization, feedback, hand, motor, adaptation",
          "<b>Topic 1</b><br>Words: transient, mutually, modulating, quiet, proprioceptive",
          "<b>Topic 1</b><br>Words: initial, planning, movement, exist, cursor",
          "<b>Topic 1</b><br>Words: selfmotion, visuovestibular, visuotactile, bundle, multitask"
         ],
         "marker": {
          "color": "#56B4E9"
         },
         "mode": "lines",
         "name": "1_visual_perceptual_motor_spatial",
         "type": "scatter",
         "x": [
          "2004-02-09T23:16:48+00:00",
          "2005-02-02T12:00:00+00:00",
          "2006-01-20T00:00:00+00:00",
          "2007-01-06T12:00:00+00:00",
          "2007-12-24T00:00:00+00:00",
          "2008-12-09T12:00:00+00:00",
          "2009-11-26T00:00:00+00:00",
          "2010-11-12T12:00:00+00:00",
          "2011-10-30T00:00:00+00:00",
          "2012-10-15T12:00:00+00:00",
          "2013-10-02T00:00:00+00:00",
          "2014-09-18T12:00:00+00:00",
          "2015-09-05T00:00:00+00:00",
          "2016-08-21T12:00:00+00:00",
          "2017-08-08T00:00:00+00:00",
          "2018-07-25T12:00:00+00:00",
          "2019-07-12T00:00:00+00:00",
          "2020-06-27T12:00:00+00:00",
          "2021-06-14T00:00:00+00:00",
          "2022-05-31T12:00:00+00:00"
         ],
         "y": [
          1,
          1,
          2,
          4,
          3,
          3,
          3,
          8,
          12,
          10,
          23,
          17,
          14,
          10,
          6,
          14,
          6,
          3,
          5,
          3
         ]
        },
        {
         "hoverinfo": "text",
         "hovertext": [
          "<b>Topic 2</b><br>Words: voice, multisensory, implicit, recognition, associations",
          "<b>Topic 2</b><br>Words: auditory, approximates, spacespecific, suggests, holistic",
          "<b>Topic 2</b><br>Words: where, imagetosound, learningbydoing, deprivation, ears",
          "<b>Topic 2</b><br>Words: words, auditory, eeg, williams, sung",
          "<b>Topic 2</b><br>Words: voice, auditory, temporal, percept, um",
          "<b>Topic 2</b><br>Words: music, audiovisual, detection, auditory, interaural",
          "<b>Topic 2</b><br>Words: music, auditory, musical, pitch, domains",
          "<b>Topic 2</b><br>Words: auditory, musical, pitch, categorization, discrimination",
          "<b>Topic 2</b><br>Words: music, auditory, devices, hearing, detection",
          "<b>Topic 2</b><br>Words: music, musical, auditory, audiovisual, sounds",
          "<b>Topic 2</b><br>Words: music, contour, auditory, audiovisual, pitch",
          "<b>Topic 2</b><br>Words: auditory, mappings, stereosonic, own, nonmusicians",
          "<b>Topic 2</b><br>Words: music, musical, listening, hearing, practice",
          "<b>Topic 2</b><br>Words: sounds, musical, imitated, scaling, nontonal",
          "<b>Topic 2</b><br>Words: music, auditory, reading, musical, shed",
          "<b>Topic 2</b><br>Words: tngara, amplification, midbrain, hospitalbased, frog",
          "<b>Topic 2</b><br>Words: amazonian, frontoparietal, counting, indigenous, populationlevel"
         ],
         "marker": {
          "color": "#009E73"
         },
         "mode": "lines",
         "name": "2_music_auditory_musical_audiovisual",
         "type": "scatter",
         "x": [
          "2006-01-20T00:00:00+00:00",
          "2007-01-06T12:00:00+00:00",
          "2007-12-24T00:00:00+00:00",
          "2009-11-26T00:00:00+00:00",
          "2010-11-12T12:00:00+00:00",
          "2011-10-30T00:00:00+00:00",
          "2012-10-15T12:00:00+00:00",
          "2013-10-02T00:00:00+00:00",
          "2014-09-18T12:00:00+00:00",
          "2015-09-05T00:00:00+00:00",
          "2016-08-21T12:00:00+00:00",
          "2017-08-08T00:00:00+00:00",
          "2018-07-25T12:00:00+00:00",
          "2019-07-12T00:00:00+00:00",
          "2020-06-27T12:00:00+00:00",
          "2021-06-14T00:00:00+00:00",
          "2022-05-31T12:00:00+00:00"
         ],
         "y": [
          1,
          2,
          1,
          4,
          5,
          9,
          13,
          11,
          9,
          14,
          9,
          4,
          9,
          5,
          5,
          4,
          2
         ]
        },
        {
         "hoverinfo": "text",
         "hovertext": [
          "<b>Topic 3</b><br>Words: frequencies, preferred, class, machine, optimal",
          "<b>Topic 3</b><br>Words: selfface, myself, alters, input, looking",
          "<b>Topic 3</b><br>Words: soul, windows, fake, inversion, smiles",
          "<b>Topic 3</b><br>Words: facial, seeing, emotion, laughter, impression",
          "<b>Topic 3</b><br>Words: facial, expressions, emotional, eyes, context",
          "<b>Topic 3</b><br>Words: affective, facial, 47xxy, soundinduced, expressions",
          "<b>Topic 3</b><br>Words: cop, bad, facial, 2009, rtbased",
          "<b>Topic 3</b><br>Words: set, facial, intensity, amsterdam, extinction",
          "<b>Topic 3</b><br>Words: facial, irony, expressions, emotional, verbal",
          "<b>Topic 3</b><br>Words: subtle, exclusion, even, tuning, leads",
          "<b>Topic 3</b><br>Words: facial, emotional, blushing, much, interocular",
          "<b>Topic 3</b><br>Words: facial, contrast, expression, expressions, cinema",
          "<b>Topic 3</b><br>Words: facial, face, stranger, genuineness, smiling",
          "<b>Topic 3</b><br>Words: aversive, angry, expressions, actions, facial"
         ],
         "marker": {
          "color": "#F0E442"
         },
         "mode": "lines",
         "name": "3_facial_expressions_emotional_face",
         "type": "scatter",
         "x": [
          "2007-12-24T00:00:00+00:00",
          "2008-12-09T12:00:00+00:00",
          "2010-11-12T12:00:00+00:00",
          "2011-10-30T00:00:00+00:00",
          "2012-10-15T12:00:00+00:00",
          "2013-10-02T00:00:00+00:00",
          "2014-09-18T12:00:00+00:00",
          "2015-09-05T00:00:00+00:00",
          "2016-08-21T12:00:00+00:00",
          "2017-08-08T00:00:00+00:00",
          "2018-07-25T12:00:00+00:00",
          "2019-07-12T00:00:00+00:00",
          "2020-06-27T12:00:00+00:00",
          "2021-06-14T00:00:00+00:00"
         ],
         "y": [
          1,
          2,
          3,
          8,
          10,
          6,
          4,
          3,
          7,
          2,
          6,
          8,
          7,
          1
         ]
        },
        {
         "hoverinfo": "text",
         "hovertext": [
          "<b>Topic 4</b><br>Words: autism, spectrum, autistic, disorders, traits",
          "<b>Topic 4</b><br>Words: autism, spectrum, gene, candidate, sez6l2",
          "<b>Topic 4</b><br>Words: autism, spectrum, disorders, highfunctioning, stockholm",
          "<b>Topic 4</b><br>Words: autism, spectrum, atypical, children, disorders",
          "<b>Topic 4</b><br>Words: autism, spectrum, disorder, autistic, face",
          "<b>Topic 4</b><br>Words: autism, spectrum, autistic, disorder, disorders",
          "<b>Topic 4</b><br>Words: autism, employment, crebbp, ch1, histone",
          "<b>Topic 4</b><br>Words: beforeandafter, autism, intellectual, spectrum, disability",
          "<b>Topic 4</b><br>Words: autism, spectrum, disorder, autistic, children",
          "<b>Topic 4</b><br>Words: autism, spectrum, sympathy, disorder, autistic",
          "<b>Topic 4</b><br>Words: autism, spectrum, children, semantic, dementia",
          "<b>Topic 4</b><br>Words: masks, autistic, individuals, general, recognition",
          "<b>Topic 4</b><br>Words: neuroanatomical, diagnosis, identifying, autism, machine"
         ],
         "marker": {
          "color": "#D55E00"
         },
         "mode": "lines",
         "name": "4_autism_spectrum_autistic_disorder",
         "type": "scatter",
         "x": [
          "2009-11-26T00:00:00+00:00",
          "2010-11-12T12:00:00+00:00",
          "2011-10-30T00:00:00+00:00",
          "2012-10-15T12:00:00+00:00",
          "2013-10-02T00:00:00+00:00",
          "2014-09-18T12:00:00+00:00",
          "2015-09-05T00:00:00+00:00",
          "2016-08-21T12:00:00+00:00",
          "2017-08-08T00:00:00+00:00",
          "2018-07-25T12:00:00+00:00",
          "2020-06-27T12:00:00+00:00",
          "2021-06-14T00:00:00+00:00",
          "2022-05-31T12:00:00+00:00"
         ],
         "y": [
          5,
          3,
          3,
          9,
          8,
          7,
          2,
          1,
          8,
          4,
          6,
          1,
          1
         ]
        },
        {
         "hoverinfo": "text",
         "hovertext": [
          "<b>Topic 5</b><br>Words: successfailure, modeled, coach, dismissing, changing",
          "<b>Topic 5</b><br>Words: teams, basketball, strategic, networks, players",
          "<b>Topic 5</b><br>Words: lucrative, arts, pedagogy, cater, contracts",
          "<b>Topic 5</b><br>Words: players, soccer, processes, sport, iron",
          "<b>Topic 5</b><br>Words: advantage, play, 5050, pentathlon, intangible",
          "<b>Topic 5</b><br>Words: competition, identity, rugby, algorithms, under20s",
          "<b>Topic 5</b><br>Words: soccer, question, players, levels, physical",
          "<b>Topic 5</b><br>Words: soccer, players, tactical, 11, vs",
          "<b>Topic 5</b><br>Words: youth, caribbean, sportinjury, recreational, players",
          "<b>Topic 5</b><br>Words: players, physical, performance, seasons, esports",
          "<b>Topic 5</b><br>Words: youth, players, tactical, sport, technical",
          "<b>Topic 5</b><br>Words: tooth, sprint, players, deterrent, endurance"
         ],
         "marker": {
          "color": "#0072B2"
         },
         "mode": "lines",
         "name": "5_players_soccer_sport_sports",
         "type": "scatter",
         "x": [
          "2010-11-12T12:00:00+00:00",
          "2012-10-15T12:00:00+00:00",
          "2013-10-02T00:00:00+00:00",
          "2014-09-18T12:00:00+00:00",
          "2015-09-05T00:00:00+00:00",
          "2016-08-21T12:00:00+00:00",
          "2017-08-08T00:00:00+00:00",
          "2018-07-25T12:00:00+00:00",
          "2019-07-12T00:00:00+00:00",
          "2020-06-27T12:00:00+00:00",
          "2021-06-14T00:00:00+00:00",
          "2022-05-31T12:00:00+00:00"
         ],
         "y": [
          2,
          1,
          4,
          6,
          4,
          3,
          7,
          7,
          4,
          5,
          7,
          4
         ]
        },
        {
         "hoverinfo": "text",
         "hovertext": [
          "<b>Topic 6</b><br>Words: microorganisms, cooperation, among, game, fairness",
          "<b>Topic 6</b><br>Words: alliance, revolution, egalitarian, formation, dynamics",
          "<b>Topic 6</b><br>Words: impulses, periodic, stability, cooperation, game",
          "<b>Topic 6</b><br>Words: concluding, sentinels, coordinating, epr, threeplayer",
          "<b>Topic 6</b><br>Words: cooperation, vs, fair, split, theres",
          "<b>Topic 6</b><br>Words: qos, equality, gtxop, opportunity, theoretic",
          "<b>Topic 6</b><br>Words: cooperation, dilemmas, punishment, game, fairness",
          "<b>Topic 6</b><br>Words: inequality, cooperation, donor, gratefully, dilemmas",
          "<b>Topic 6</b><br>Words: cooperation, assurance, reciprocity, undermines, deception",
          "<b>Topic 6</b><br>Words: cooperation, rank, deadlock, extortion, fairness",
          "<b>Topic 6</b><br>Words: cooperation, prisoners, dilemma, sequential, totally",
          "<b>Topic 6</b><br>Words: justification, reasoningexperimental, centipede, cooperation, mechanism",
          "<b>Topic 6</b><br>Words: collaboration, trust, cooperation, zerodeterminant, calibration",
          "<b>Topic 6</b><br>Words: cooperation, stabilise, rockpaperscissors, publicgoods, nperson",
          "<b>Topic 6</b><br>Words: adapt, norm, fairness, computational, modeling"
         ],
         "marker": {
          "color": "#CC79A7"
         },
         "mode": "lines",
         "name": "6_cooperation_game_fairness_games",
         "type": "scatter",
         "x": [
          "2006-01-20T00:00:00+00:00",
          "2007-12-24T00:00:00+00:00",
          "2009-11-26T00:00:00+00:00",
          "2010-11-12T12:00:00+00:00",
          "2011-10-30T00:00:00+00:00",
          "2012-10-15T12:00:00+00:00",
          "2013-10-02T00:00:00+00:00",
          "2014-09-18T12:00:00+00:00",
          "2015-09-05T00:00:00+00:00",
          "2016-08-21T12:00:00+00:00",
          "2017-08-08T00:00:00+00:00",
          "2018-07-25T12:00:00+00:00",
          "2019-07-12T00:00:00+00:00",
          "2020-06-27T12:00:00+00:00",
          "2022-05-31T12:00:00+00:00"
         ],
         "y": [
          1,
          1,
          1,
          2,
          4,
          4,
          6,
          11,
          2,
          5,
          4,
          2,
          4,
          4,
          1
         ]
        },
        {
         "hoverinfo": "text",
         "hovertext": [
          "<b>Topic 7</b><br>Words: meaning, principal, components, semantic, measurement",
          "<b>Topic 7</b><br>Words: language, euphemisms, nonclassical, swearing, relativity",
          "<b>Topic 7</b><br>Words: masked, spoken, clarity, positivity, sentences",
          "<b>Topic 7</b><br>Words: reading, chinese, receptive, eight, vocabulary",
          "<b>Topic 7</b><br>Words: reading, chinese, lexical, language, characters",
          "<b>Topic 7</b><br>Words: word, preparation, keyword, retrieval, modality",
          "<b>Topic 7</b><br>Words: lexical, english, malaysia, grammar, vhi10",
          "<b>Topic 7</b><br>Words: chinese, cantonese, learners, 292, twocharacter",
          "<b>Topic 7</b><br>Words: reading, radar, classroom, reorganization, fastscreening",
          "<b>Topic 7</b><br>Words: illiterate, literate, speech, modulation, versus",
          "<b>Topic 7</b><br>Words: orthographic, better, secondlanguage, yours, written",
          "<b>Topic 7</b><br>Words: supervision, deep, cuneiform, transliteration, weak",
          "<b>Topic 7</b><br>Words: regularization, auber, bert, automated, language",
          "<b>Topic 7</b><br>Words: linguistic, speech, german, hearing, impairment"
         ],
         "marker": {
          "color": "#E69F00"
         },
         "mode": "lines",
         "name": "7_language_chinese_reading_lexical",
         "type": "scatter",
         "x": [
          "2009-11-26T00:00:00+00:00",
          "2010-11-12T12:00:00+00:00",
          "2011-10-30T00:00:00+00:00",
          "2012-10-15T12:00:00+00:00",
          "2013-10-02T00:00:00+00:00",
          "2014-09-18T12:00:00+00:00",
          "2015-09-05T00:00:00+00:00",
          "2016-08-21T12:00:00+00:00",
          "2017-08-08T00:00:00+00:00",
          "2018-07-25T12:00:00+00:00",
          "2019-07-12T00:00:00+00:00",
          "2020-06-27T12:00:00+00:00",
          "2021-06-14T00:00:00+00:00",
          "2022-05-31T12:00:00+00:00"
         ],
         "y": [
          1,
          2,
          3,
          5,
          6,
          4,
          4,
          5,
          4,
          1,
          4,
          2,
          1,
          1
         ]
        },
        {
         "hoverinfo": "text",
         "hovertext": [
          "<b>Topic 8</b><br>Words: bombay, salaam, mumbai, lowincome, foundation",
          "<b>Topic 8</b><br>Words: cigarette, 12month, nongenetic, experimentation, eclat",
          "<b>Topic 8</b><br>Words: smoking, tobacco, cigarette, use, intentions",
          "<b>Topic 8</b><br>Words: cigarette, florida, pancreatitis, 20112014, electronic",
          "<b>Topic 8</b><br>Words: pervasive, vaporous, advertisements, campaign, cigarette",
          "<b>Topic 8</b><br>Words: smoking, predispose, drd4, carbonyl, htr2a",
          "<b>Topic 8</b><br>Words: cigarette, flavor, ecigarette, electronic, switching",
          "<b>Topic 8</b><br>Words: smoking, tobacco, ecigarette, emirates, arab",
          "<b>Topic 8</b><br>Words: cigarettes, electronic, smoking, use, zhejiang",
          "<b>Topic 8</b><br>Words: smoking, smokers, ecigarette, smokefree, cigarette",
          "<b>Topic 8</b><br>Words: ecigarette, smoking, quit, relieve, cooling",
          "<b>Topic 8</b><br>Words: adipocytes, ecigarette, cessation, smoking, residential"
         ],
         "marker": {
          "color": "#56B4E9"
         },
         "mode": "lines",
         "name": "8_smoking_cigarette_tobacco_ecigarette",
         "type": "scatter",
         "x": [
          "2011-10-30T00:00:00+00:00",
          "2012-10-15T12:00:00+00:00",
          "2013-10-02T00:00:00+00:00",
          "2014-09-18T12:00:00+00:00",
          "2015-09-05T00:00:00+00:00",
          "2016-08-21T12:00:00+00:00",
          "2017-08-08T00:00:00+00:00",
          "2018-07-25T12:00:00+00:00",
          "2019-07-12T00:00:00+00:00",
          "2020-06-27T12:00:00+00:00",
          "2021-06-14T00:00:00+00:00",
          "2022-05-31T12:00:00+00:00"
         ],
         "y": [
          1,
          2,
          7,
          2,
          2,
          2,
          5,
          4,
          3,
          7,
          3,
          2
         ]
        },
        {
         "hoverinfo": "text",
         "hovertext": [
          "<b>Topic 9</b><br>Words: crossroads, conspicuous, categories, concealable, communicate",
          "<b>Topic 9</b><br>Words: sexual, fertility, trigger, sticklebacks, jealousy",
          "<b>Topic 9</b><br>Words: flaunt, it, sexual, youve, condom",
          "<b>Topic 9</b><br>Words: sexual, orientation, psychogenic, erotic, erectile",
          "<b>Topic 9</b><br>Words: sexual, disgust, interactions, orientation, faafafine",
          "<b>Topic 9</b><br>Words: inconsistency, expressivity, gender, experience, differences",
          "<b>Topic 9</b><br>Words: recommendations, surveys, sexgender, transgenderinclusive, bisexual",
          "<b>Topic 9</b><br>Words: sexual, orientation, concurrency, britain, gendera",
          "<b>Topic 9</b><br>Words: sexual, american, gender, men, bisexual",
          "<b>Topic 9</b><br>Words: sexual, excitation, assertiveness, oromia, nekemte",
          "<b>Topic 9</b><br>Words: sexual, mens, shortterm, orientation, faceshape",
          "<b>Topic 9</b><br>Words: genderaffirming, coming, transgender, sexual, fire"
         ],
         "marker": {
          "color": "#009E73"
         },
         "mode": "lines",
         "name": "9_sexual_orientation_men_gender",
         "type": "scatter",
         "x": [
          "2010-11-12T12:00:00+00:00",
          "2011-10-30T00:00:00+00:00",
          "2012-10-15T12:00:00+00:00",
          "2013-10-02T00:00:00+00:00",
          "2014-09-18T12:00:00+00:00",
          "2015-09-05T00:00:00+00:00",
          "2016-08-21T12:00:00+00:00",
          "2017-08-08T00:00:00+00:00",
          "2018-07-25T12:00:00+00:00",
          "2019-07-12T00:00:00+00:00",
          "2020-06-27T12:00:00+00:00",
          "2021-06-14T00:00:00+00:00"
         ],
         "y": [
          1,
          5,
          2,
          4,
          6,
          1,
          2,
          4,
          5,
          2,
          4,
          2
         ]
        }
       ],
       "layout": {
        "height": 450,
        "hoverlabel": {
         "bgcolor": "white",
         "font": {
          "family": "Rockwell",
          "size": 16
         }
        },
        "legend": {
         "title": {
          "text": "<b>Global Topic Representation"
         }
        },
        "template": {
         "data": {
          "bar": [
           {
            "error_x": {
             "color": "rgb(36,36,36)"
            },
            "error_y": {
             "color": "rgb(36,36,36)"
            },
            "marker": {
             "line": {
              "color": "white",
              "width": 0.5
             },
             "pattern": {
              "fillmode": "overlay",
              "size": 10,
              "solidity": 0.2
             }
            },
            "type": "bar"
           }
          ],
          "barpolar": [
           {
            "marker": {
             "line": {
              "color": "white",
              "width": 0.5
             },
             "pattern": {
              "fillmode": "overlay",
              "size": 10,
              "solidity": 0.2
             }
            },
            "type": "barpolar"
           }
          ],
          "carpet": [
           {
            "aaxis": {
             "endlinecolor": "rgb(36,36,36)",
             "gridcolor": "white",
             "linecolor": "white",
             "minorgridcolor": "white",
             "startlinecolor": "rgb(36,36,36)"
            },
            "baxis": {
             "endlinecolor": "rgb(36,36,36)",
             "gridcolor": "white",
             "linecolor": "white",
             "minorgridcolor": "white",
             "startlinecolor": "rgb(36,36,36)"
            },
            "type": "carpet"
           }
          ],
          "choropleth": [
           {
            "colorbar": {
             "outlinewidth": 1,
             "tickcolor": "rgb(36,36,36)",
             "ticks": "outside"
            },
            "type": "choropleth"
           }
          ],
          "contour": [
           {
            "colorbar": {
             "outlinewidth": 1,
             "tickcolor": "rgb(36,36,36)",
             "ticks": "outside"
            },
            "colorscale": [
             [
              0,
              "#440154"
             ],
             [
              0.1111111111111111,
              "#482878"
             ],
             [
              0.2222222222222222,
              "#3e4989"
             ],
             [
              0.3333333333333333,
              "#31688e"
             ],
             [
              0.4444444444444444,
              "#26828e"
             ],
             [
              0.5555555555555556,
              "#1f9e89"
             ],
             [
              0.6666666666666666,
              "#35b779"
             ],
             [
              0.7777777777777778,
              "#6ece58"
             ],
             [
              0.8888888888888888,
              "#b5de2b"
             ],
             [
              1,
              "#fde725"
             ]
            ],
            "type": "contour"
           }
          ],
          "contourcarpet": [
           {
            "colorbar": {
             "outlinewidth": 1,
             "tickcolor": "rgb(36,36,36)",
             "ticks": "outside"
            },
            "type": "contourcarpet"
           }
          ],
          "heatmap": [
           {
            "colorbar": {
             "outlinewidth": 1,
             "tickcolor": "rgb(36,36,36)",
             "ticks": "outside"
            },
            "colorscale": [
             [
              0,
              "#440154"
             ],
             [
              0.1111111111111111,
              "#482878"
             ],
             [
              0.2222222222222222,
              "#3e4989"
             ],
             [
              0.3333333333333333,
              "#31688e"
             ],
             [
              0.4444444444444444,
              "#26828e"
             ],
             [
              0.5555555555555556,
              "#1f9e89"
             ],
             [
              0.6666666666666666,
              "#35b779"
             ],
             [
              0.7777777777777778,
              "#6ece58"
             ],
             [
              0.8888888888888888,
              "#b5de2b"
             ],
             [
              1,
              "#fde725"
             ]
            ],
            "type": "heatmap"
           }
          ],
          "heatmapgl": [
           {
            "colorbar": {
             "outlinewidth": 1,
             "tickcolor": "rgb(36,36,36)",
             "ticks": "outside"
            },
            "colorscale": [
             [
              0,
              "#440154"
             ],
             [
              0.1111111111111111,
              "#482878"
             ],
             [
              0.2222222222222222,
              "#3e4989"
             ],
             [
              0.3333333333333333,
              "#31688e"
             ],
             [
              0.4444444444444444,
              "#26828e"
             ],
             [
              0.5555555555555556,
              "#1f9e89"
             ],
             [
              0.6666666666666666,
              "#35b779"
             ],
             [
              0.7777777777777778,
              "#6ece58"
             ],
             [
              0.8888888888888888,
              "#b5de2b"
             ],
             [
              1,
              "#fde725"
             ]
            ],
            "type": "heatmapgl"
           }
          ],
          "histogram": [
           {
            "marker": {
             "line": {
              "color": "white",
              "width": 0.6
             }
            },
            "type": "histogram"
           }
          ],
          "histogram2d": [
           {
            "colorbar": {
             "outlinewidth": 1,
             "tickcolor": "rgb(36,36,36)",
             "ticks": "outside"
            },
            "colorscale": [
             [
              0,
              "#440154"
             ],
             [
              0.1111111111111111,
              "#482878"
             ],
             [
              0.2222222222222222,
              "#3e4989"
             ],
             [
              0.3333333333333333,
              "#31688e"
             ],
             [
              0.4444444444444444,
              "#26828e"
             ],
             [
              0.5555555555555556,
              "#1f9e89"
             ],
             [
              0.6666666666666666,
              "#35b779"
             ],
             [
              0.7777777777777778,
              "#6ece58"
             ],
             [
              0.8888888888888888,
              "#b5de2b"
             ],
             [
              1,
              "#fde725"
             ]
            ],
            "type": "histogram2d"
           }
          ],
          "histogram2dcontour": [
           {
            "colorbar": {
             "outlinewidth": 1,
             "tickcolor": "rgb(36,36,36)",
             "ticks": "outside"
            },
            "colorscale": [
             [
              0,
              "#440154"
             ],
             [
              0.1111111111111111,
              "#482878"
             ],
             [
              0.2222222222222222,
              "#3e4989"
             ],
             [
              0.3333333333333333,
              "#31688e"
             ],
             [
              0.4444444444444444,
              "#26828e"
             ],
             [
              0.5555555555555556,
              "#1f9e89"
             ],
             [
              0.6666666666666666,
              "#35b779"
             ],
             [
              0.7777777777777778,
              "#6ece58"
             ],
             [
              0.8888888888888888,
              "#b5de2b"
             ],
             [
              1,
              "#fde725"
             ]
            ],
            "type": "histogram2dcontour"
           }
          ],
          "mesh3d": [
           {
            "colorbar": {
             "outlinewidth": 1,
             "tickcolor": "rgb(36,36,36)",
             "ticks": "outside"
            },
            "type": "mesh3d"
           }
          ],
          "parcoords": [
           {
            "line": {
             "colorbar": {
              "outlinewidth": 1,
              "tickcolor": "rgb(36,36,36)",
              "ticks": "outside"
             }
            },
            "type": "parcoords"
           }
          ],
          "pie": [
           {
            "automargin": true,
            "type": "pie"
           }
          ],
          "scatter": [
           {
            "fillpattern": {
             "fillmode": "overlay",
             "size": 10,
             "solidity": 0.2
            },
            "type": "scatter"
           }
          ],
          "scatter3d": [
           {
            "line": {
             "colorbar": {
              "outlinewidth": 1,
              "tickcolor": "rgb(36,36,36)",
              "ticks": "outside"
             }
            },
            "marker": {
             "colorbar": {
              "outlinewidth": 1,
              "tickcolor": "rgb(36,36,36)",
              "ticks": "outside"
             }
            },
            "type": "scatter3d"
           }
          ],
          "scattercarpet": [
           {
            "marker": {
             "colorbar": {
              "outlinewidth": 1,
              "tickcolor": "rgb(36,36,36)",
              "ticks": "outside"
             }
            },
            "type": "scattercarpet"
           }
          ],
          "scattergeo": [
           {
            "marker": {
             "colorbar": {
              "outlinewidth": 1,
              "tickcolor": "rgb(36,36,36)",
              "ticks": "outside"
             }
            },
            "type": "scattergeo"
           }
          ],
          "scattergl": [
           {
            "marker": {
             "colorbar": {
              "outlinewidth": 1,
              "tickcolor": "rgb(36,36,36)",
              "ticks": "outside"
             }
            },
            "type": "scattergl"
           }
          ],
          "scattermapbox": [
           {
            "marker": {
             "colorbar": {
              "outlinewidth": 1,
              "tickcolor": "rgb(36,36,36)",
              "ticks": "outside"
             }
            },
            "type": "scattermapbox"
           }
          ],
          "scatterpolar": [
           {
            "marker": {
             "colorbar": {
              "outlinewidth": 1,
              "tickcolor": "rgb(36,36,36)",
              "ticks": "outside"
             }
            },
            "type": "scatterpolar"
           }
          ],
          "scatterpolargl": [
           {
            "marker": {
             "colorbar": {
              "outlinewidth": 1,
              "tickcolor": "rgb(36,36,36)",
              "ticks": "outside"
             }
            },
            "type": "scatterpolargl"
           }
          ],
          "scatterternary": [
           {
            "marker": {
             "colorbar": {
              "outlinewidth": 1,
              "tickcolor": "rgb(36,36,36)",
              "ticks": "outside"
             }
            },
            "type": "scatterternary"
           }
          ],
          "surface": [
           {
            "colorbar": {
             "outlinewidth": 1,
             "tickcolor": "rgb(36,36,36)",
             "ticks": "outside"
            },
            "colorscale": [
             [
              0,
              "#440154"
             ],
             [
              0.1111111111111111,
              "#482878"
             ],
             [
              0.2222222222222222,
              "#3e4989"
             ],
             [
              0.3333333333333333,
              "#31688e"
             ],
             [
              0.4444444444444444,
              "#26828e"
             ],
             [
              0.5555555555555556,
              "#1f9e89"
             ],
             [
              0.6666666666666666,
              "#35b779"
             ],
             [
              0.7777777777777778,
              "#6ece58"
             ],
             [
              0.8888888888888888,
              "#b5de2b"
             ],
             [
              1,
              "#fde725"
             ]
            ],
            "type": "surface"
           }
          ],
          "table": [
           {
            "cells": {
             "fill": {
              "color": "rgb(237,237,237)"
             },
             "line": {
              "color": "white"
             }
            },
            "header": {
             "fill": {
              "color": "rgb(217,217,217)"
             },
             "line": {
              "color": "white"
             }
            },
            "type": "table"
           }
          ]
         },
         "layout": {
          "annotationdefaults": {
           "arrowhead": 0,
           "arrowwidth": 1
          },
          "autotypenumbers": "strict",
          "coloraxis": {
           "colorbar": {
            "outlinewidth": 1,
            "tickcolor": "rgb(36,36,36)",
            "ticks": "outside"
           }
          },
          "colorscale": {
           "diverging": [
            [
             0,
             "rgb(103,0,31)"
            ],
            [
             0.1,
             "rgb(178,24,43)"
            ],
            [
             0.2,
             "rgb(214,96,77)"
            ],
            [
             0.3,
             "rgb(244,165,130)"
            ],
            [
             0.4,
             "rgb(253,219,199)"
            ],
            [
             0.5,
             "rgb(247,247,247)"
            ],
            [
             0.6,
             "rgb(209,229,240)"
            ],
            [
             0.7,
             "rgb(146,197,222)"
            ],
            [
             0.8,
             "rgb(67,147,195)"
            ],
            [
             0.9,
             "rgb(33,102,172)"
            ],
            [
             1,
             "rgb(5,48,97)"
            ]
           ],
           "sequential": [
            [
             0,
             "#440154"
            ],
            [
             0.1111111111111111,
             "#482878"
            ],
            [
             0.2222222222222222,
             "#3e4989"
            ],
            [
             0.3333333333333333,
             "#31688e"
            ],
            [
             0.4444444444444444,
             "#26828e"
            ],
            [
             0.5555555555555556,
             "#1f9e89"
            ],
            [
             0.6666666666666666,
             "#35b779"
            ],
            [
             0.7777777777777778,
             "#6ece58"
            ],
            [
             0.8888888888888888,
             "#b5de2b"
            ],
            [
             1,
             "#fde725"
            ]
           ],
           "sequentialminus": [
            [
             0,
             "#440154"
            ],
            [
             0.1111111111111111,
             "#482878"
            ],
            [
             0.2222222222222222,
             "#3e4989"
            ],
            [
             0.3333333333333333,
             "#31688e"
            ],
            [
             0.4444444444444444,
             "#26828e"
            ],
            [
             0.5555555555555556,
             "#1f9e89"
            ],
            [
             0.6666666666666666,
             "#35b779"
            ],
            [
             0.7777777777777778,
             "#6ece58"
            ],
            [
             0.8888888888888888,
             "#b5de2b"
            ],
            [
             1,
             "#fde725"
            ]
           ]
          },
          "colorway": [
           "#1F77B4",
           "#FF7F0E",
           "#2CA02C",
           "#D62728",
           "#9467BD",
           "#8C564B",
           "#E377C2",
           "#7F7F7F",
           "#BCBD22",
           "#17BECF"
          ],
          "font": {
           "color": "rgb(36,36,36)"
          },
          "geo": {
           "bgcolor": "white",
           "lakecolor": "white",
           "landcolor": "white",
           "showlakes": true,
           "showland": true,
           "subunitcolor": "white"
          },
          "hoverlabel": {
           "align": "left"
          },
          "hovermode": "closest",
          "mapbox": {
           "style": "light"
          },
          "paper_bgcolor": "white",
          "plot_bgcolor": "white",
          "polar": {
           "angularaxis": {
            "gridcolor": "rgb(232,232,232)",
            "linecolor": "rgb(36,36,36)",
            "showgrid": false,
            "showline": true,
            "ticks": "outside"
           },
           "bgcolor": "white",
           "radialaxis": {
            "gridcolor": "rgb(232,232,232)",
            "linecolor": "rgb(36,36,36)",
            "showgrid": false,
            "showline": true,
            "ticks": "outside"
           }
          },
          "scene": {
           "xaxis": {
            "backgroundcolor": "white",
            "gridcolor": "rgb(232,232,232)",
            "gridwidth": 2,
            "linecolor": "rgb(36,36,36)",
            "showbackground": true,
            "showgrid": false,
            "showline": true,
            "ticks": "outside",
            "zeroline": false,
            "zerolinecolor": "rgb(36,36,36)"
           },
           "yaxis": {
            "backgroundcolor": "white",
            "gridcolor": "rgb(232,232,232)",
            "gridwidth": 2,
            "linecolor": "rgb(36,36,36)",
            "showbackground": true,
            "showgrid": false,
            "showline": true,
            "ticks": "outside",
            "zeroline": false,
            "zerolinecolor": "rgb(36,36,36)"
           },
           "zaxis": {
            "backgroundcolor": "white",
            "gridcolor": "rgb(232,232,232)",
            "gridwidth": 2,
            "linecolor": "rgb(36,36,36)",
            "showbackground": true,
            "showgrid": false,
            "showline": true,
            "ticks": "outside",
            "zeroline": false,
            "zerolinecolor": "rgb(36,36,36)"
           }
          },
          "shapedefaults": {
           "fillcolor": "black",
           "line": {
            "width": 0
           },
           "opacity": 0.3
          },
          "ternary": {
           "aaxis": {
            "gridcolor": "rgb(232,232,232)",
            "linecolor": "rgb(36,36,36)",
            "showgrid": false,
            "showline": true,
            "ticks": "outside"
           },
           "baxis": {
            "gridcolor": "rgb(232,232,232)",
            "linecolor": "rgb(36,36,36)",
            "showgrid": false,
            "showline": true,
            "ticks": "outside"
           },
           "bgcolor": "white",
           "caxis": {
            "gridcolor": "rgb(232,232,232)",
            "linecolor": "rgb(36,36,36)",
            "showgrid": false,
            "showline": true,
            "ticks": "outside"
           }
          },
          "title": {
           "x": 0.05
          },
          "xaxis": {
           "automargin": true,
           "gridcolor": "rgb(232,232,232)",
           "linecolor": "rgb(36,36,36)",
           "showgrid": false,
           "showline": true,
           "ticks": "outside",
           "title": {
            "standoff": 15
           },
           "zeroline": false,
           "zerolinecolor": "rgb(36,36,36)"
          },
          "yaxis": {
           "automargin": true,
           "gridcolor": "rgb(232,232,232)",
           "linecolor": "rgb(36,36,36)",
           "showgrid": false,
           "showline": true,
           "ticks": "outside",
           "title": {
            "standoff": 15
           },
           "zeroline": false,
           "zerolinecolor": "rgb(36,36,36)"
          }
         }
        },
        "title": {
         "font": {
          "color": "Black",
          "size": 22
         },
         "text": "<b>Topics over Time</b>",
         "x": 0.4,
         "xanchor": "center",
         "y": 0.95,
         "yanchor": "top"
        },
        "width": 1250,
        "xaxis": {
         "showgrid": true
        },
        "yaxis": {
         "showgrid": true,
         "title": {
          "text": "Frequency"
         }
        }
       }
      },
      "text/html": [
       "<div>                            <div id=\"72bdec5c-5301-48b8-849d-2dc9e3a04b16\" class=\"plotly-graph-div\" style=\"height:450px; width:1250px;\"></div>            <script type=\"text/javascript\">                require([\"plotly\"], function(Plotly) {                    window.PLOTLYENV=window.PLOTLYENV || {};                                    if (document.getElementById(\"72bdec5c-5301-48b8-849d-2dc9e3a04b16\")) {                    Plotly.newPlot(                        \"72bdec5c-5301-48b8-849d-2dc9e3a04b16\",                        [{\"hoverinfo\":\"text\",\"hovertext\":[\"\\u003cb\\u003eTopic 0\\u003c\\u002fb\\u003e\\u003cbr\\u003eWords: bitter, weakly, tastes, kinetics, buffering\",\"\\u003cb\\u003eTopic 0\\u003c\\u002fb\\u003e\\u003cbr\\u003eWords: places, owls, openfield, faeces, feathers\",\"\\u003cb\\u003eTopic 0\\u003c\\u002fb\\u003e\\u003cbr\\u003eWords: mice, victorious, asic3, snca, th\",\"\\u003cb\\u003eTopic 0\\u003c\\u002fb\\u003e\\u003cbr\\u003eWords: declining, giant, sexspecific, transsaharan, otter\",\"\\u003cb\\u003eTopic 0\\u003c\\u002fb\\u003e\\u003cbr\\u003eWords: gallus, postconflict, islands, cockroaches, opcambridge\",\"\\u003cb\\u003eTopic 0\\u003c\\u002fb\\u003e\\u003cbr\\u003eWords: species, colony, foraging, reproductive, social\",\"\\u003cb\\u003eTopic 0\\u003c\\u002fb\\u003e\\u003cbr\\u003eWords: foraging, dogs, tail, mating, chimpanzees\",\"\\u003cb\\u003eTopic 0\\u003c\\u002fb\\u003e\\u003cbr\\u003eWords: species, invasive, migratory, ant, queens\",\"\\u003cb\\u003eTopic 0\\u003c\\u002fb\\u003e\\u003cbr\\u003eWords: dogs, animal, timing, behavioural, novel\",\"\\u003cb\\u003eTopic 0\\u003c\\u002fb\\u003e\\u003cbr\\u003eWords: elephants, season, birds, survival, wild\",\"\\u003cb\\u003eTopic 0\\u003c\\u002fb\\u003e\\u003cbr\\u003eWords: breeding, resource, behavior, crows, horses\",\"\\u003cb\\u003eTopic 0\\u003c\\u002fb\\u003e\\u003cbr\\u003eWords: calving, vocalizations, dogs, social, catus\",\"\\u003cb\\u003eTopic 0\\u003c\\u002fb\\u003e\\u003cbr\\u003eWords: farm, conspecific, ant, dogs, influences\",\"\\u003cb\\u003eTopic 0\\u003c\\u002fb\\u003e\\u003cbr\\u003eWords: foraging, species, activity, female, exposure\",\"\\u003cb\\u003eTopic 0\\u003c\\u002fb\\u003e\\u003cbr\\u003eWords: dogs, behaviour, morphology, enemy, secreted\",\"\\u003cb\\u003eTopic 0\\u003c\\u002fb\\u003e\\u003cbr\\u003eWords: mice, behavior, basking, highspeed, flyway\",\"\\u003cb\\u003eTopic 0\\u003c\\u002fb\\u003e\\u003cbr\\u003eWords: anguilla, upstream, turtles, migrating, eel\"],\"marker\":{\"color\":\"#E69F00\"},\"mode\":\"lines\",\"name\":\"0_dogs_mice_social_foraging\",\"x\":[\"2007-01-06T12:00:00+00:00\",\"2007-12-24T00:00:00+00:00\",\"2008-12-09T12:00:00+00:00\",\"2009-11-26T00:00:00+00:00\",\"2010-11-12T12:00:00+00:00\",\"2011-10-30T00:00:00+00:00\",\"2012-10-15T12:00:00+00:00\",\"2013-10-02T00:00:00+00:00\",\"2014-09-18T12:00:00+00:00\",\"2015-09-05T00:00:00+00:00\",\"2016-08-21T12:00:00+00:00\",\"2017-08-08T00:00:00+00:00\",\"2018-07-25T12:00:00+00:00\",\"2019-07-12T00:00:00+00:00\",\"2020-06-27T12:00:00+00:00\",\"2021-06-14T00:00:00+00:00\",\"2022-05-31T12:00:00+00:00\"],\"y\":[4,3,5,4,13,17,23,30,18,13,26,13,13,15,10,10,3],\"type\":\"scatter\"},{\"hoverinfo\":\"text\",\"hovertext\":[\"\\u003cb\\u003eTopic 1\\u003c\\u002fb\\u003e\\u003cbr\\u003eWords: monkey, extrastriate, function, cortex, visual\",\"\\u003cb\\u003eTopic 1\\u003c\\u002fb\\u003e\\u003cbr\\u003eWords: apparentmotion, trace, reflects, along, illusory\",\"\\u003cb\\u003eTopic 1\\u003c\\u002fb\\u003e\\u003cbr\\u003eWords: timescales, interacting, underlie, world, neurons\",\"\\u003cb\\u003eTopic 1\\u003c\\u002fb\\u003e\\u003cbr\\u003eWords: perceptual, hermann, quantify, cancellation, grid\",\"\\u003cb\\u003eTopic 1\\u003c\\u002fb\\u003e\\u003cbr\\u003eWords: stabilization, repetition, visuomanual, guidance, haptic\",\"\\u003cb\\u003eTopic 1\\u003c\\u002fb\\u003e\\u003cbr\\u003eWords: normalization, rectangle, kanizsa, disorientation, compression\",\"\\u003cb\\u003eTopic 1\\u003c\\u002fb\\u003e\\u003cbr\\u003eWords: lowlevel, plausible, neurophysiologically, dependent, crowding\",\"\\u003cb\\u003eTopic 1\\u003c\\u002fb\\u003e\\u003cbr\\u003eWords: visual, time, timing, perceptual, wrist\",\"\\u003cb\\u003eTopic 1\\u003c\\u002fb\\u003e\\u003cbr\\u003eWords: visual, v1, perceptual, saliency, suppression\",\"\\u003cb\\u003eTopic 1\\u003c\\u002fb\\u003e\\u003cbr\\u003eWords: binocular, attention, frequency, orientation, spatial\",\"\\u003cb\\u003eTopic 1\\u003c\\u002fb\\u003e\\u003cbr\\u003eWords: visual, spatial, perceptual, targets, attention\",\"\\u003cb\\u003eTopic 1\\u003c\\u002fb\\u003e\\u003cbr\\u003eWords: visual, macular, motion, information, based\",\"\\u003cb\\u003eTopic 1\\u003c\\u002fb\\u003e\\u003cbr\\u003eWords: visual, motion, imitation, order, affects\",\"\\u003cb\\u003eTopic 1\\u003c\\u002fb\\u003e\\u003cbr\\u003eWords: topdown, motor, perceptual, driven, mannerbased\",\"\\u003cb\\u003eTopic 1\\u003c\\u002fb\\u003e\\u003cbr\\u003eWords: motor, actions, stabilises, interferes, triadic\",\"\\u003cb\\u003eTopic 1\\u003c\\u002fb\\u003e\\u003cbr\\u003eWords: visual, motor, sensorimotor, perceptual, task\",\"\\u003cb\\u003eTopic 1\\u003c\\u002fb\\u003e\\u003cbr\\u003eWords: localization, feedback, hand, motor, adaptation\",\"\\u003cb\\u003eTopic 1\\u003c\\u002fb\\u003e\\u003cbr\\u003eWords: transient, mutually, modulating, quiet, proprioceptive\",\"\\u003cb\\u003eTopic 1\\u003c\\u002fb\\u003e\\u003cbr\\u003eWords: initial, planning, movement, exist, cursor\",\"\\u003cb\\u003eTopic 1\\u003c\\u002fb\\u003e\\u003cbr\\u003eWords: selfmotion, visuovestibular, visuotactile, bundle, multitask\"],\"marker\":{\"color\":\"#56B4E9\"},\"mode\":\"lines\",\"name\":\"1_visual_perceptual_motor_spatial\",\"x\":[\"2004-02-09T23:16:48+00:00\",\"2005-02-02T12:00:00+00:00\",\"2006-01-20T00:00:00+00:00\",\"2007-01-06T12:00:00+00:00\",\"2007-12-24T00:00:00+00:00\",\"2008-12-09T12:00:00+00:00\",\"2009-11-26T00:00:00+00:00\",\"2010-11-12T12:00:00+00:00\",\"2011-10-30T00:00:00+00:00\",\"2012-10-15T12:00:00+00:00\",\"2013-10-02T00:00:00+00:00\",\"2014-09-18T12:00:00+00:00\",\"2015-09-05T00:00:00+00:00\",\"2016-08-21T12:00:00+00:00\",\"2017-08-08T00:00:00+00:00\",\"2018-07-25T12:00:00+00:00\",\"2019-07-12T00:00:00+00:00\",\"2020-06-27T12:00:00+00:00\",\"2021-06-14T00:00:00+00:00\",\"2022-05-31T12:00:00+00:00\"],\"y\":[1,1,2,4,3,3,3,8,12,10,23,17,14,10,6,14,6,3,5,3],\"type\":\"scatter\"},{\"hoverinfo\":\"text\",\"hovertext\":[\"\\u003cb\\u003eTopic 2\\u003c\\u002fb\\u003e\\u003cbr\\u003eWords: voice, multisensory, implicit, recognition, associations\",\"\\u003cb\\u003eTopic 2\\u003c\\u002fb\\u003e\\u003cbr\\u003eWords: auditory, approximates, spacespecific, suggests, holistic\",\"\\u003cb\\u003eTopic 2\\u003c\\u002fb\\u003e\\u003cbr\\u003eWords: where, imagetosound, learningbydoing, deprivation, ears\",\"\\u003cb\\u003eTopic 2\\u003c\\u002fb\\u003e\\u003cbr\\u003eWords: words, auditory, eeg, williams, sung\",\"\\u003cb\\u003eTopic 2\\u003c\\u002fb\\u003e\\u003cbr\\u003eWords: voice, auditory, temporal, percept, um\",\"\\u003cb\\u003eTopic 2\\u003c\\u002fb\\u003e\\u003cbr\\u003eWords: music, audiovisual, detection, auditory, interaural\",\"\\u003cb\\u003eTopic 2\\u003c\\u002fb\\u003e\\u003cbr\\u003eWords: music, auditory, musical, pitch, domains\",\"\\u003cb\\u003eTopic 2\\u003c\\u002fb\\u003e\\u003cbr\\u003eWords: auditory, musical, pitch, categorization, discrimination\",\"\\u003cb\\u003eTopic 2\\u003c\\u002fb\\u003e\\u003cbr\\u003eWords: music, auditory, devices, hearing, detection\",\"\\u003cb\\u003eTopic 2\\u003c\\u002fb\\u003e\\u003cbr\\u003eWords: music, musical, auditory, audiovisual, sounds\",\"\\u003cb\\u003eTopic 2\\u003c\\u002fb\\u003e\\u003cbr\\u003eWords: music, contour, auditory, audiovisual, pitch\",\"\\u003cb\\u003eTopic 2\\u003c\\u002fb\\u003e\\u003cbr\\u003eWords: auditory, mappings, stereosonic, own, nonmusicians\",\"\\u003cb\\u003eTopic 2\\u003c\\u002fb\\u003e\\u003cbr\\u003eWords: music, musical, listening, hearing, practice\",\"\\u003cb\\u003eTopic 2\\u003c\\u002fb\\u003e\\u003cbr\\u003eWords: sounds, musical, imitated, scaling, nontonal\",\"\\u003cb\\u003eTopic 2\\u003c\\u002fb\\u003e\\u003cbr\\u003eWords: music, auditory, reading, musical, shed\",\"\\u003cb\\u003eTopic 2\\u003c\\u002fb\\u003e\\u003cbr\\u003eWords: tngara, amplification, midbrain, hospitalbased, frog\",\"\\u003cb\\u003eTopic 2\\u003c\\u002fb\\u003e\\u003cbr\\u003eWords: amazonian, frontoparietal, counting, indigenous, populationlevel\"],\"marker\":{\"color\":\"#009E73\"},\"mode\":\"lines\",\"name\":\"2_music_auditory_musical_audiovisual\",\"x\":[\"2006-01-20T00:00:00+00:00\",\"2007-01-06T12:00:00+00:00\",\"2007-12-24T00:00:00+00:00\",\"2009-11-26T00:00:00+00:00\",\"2010-11-12T12:00:00+00:00\",\"2011-10-30T00:00:00+00:00\",\"2012-10-15T12:00:00+00:00\",\"2013-10-02T00:00:00+00:00\",\"2014-09-18T12:00:00+00:00\",\"2015-09-05T00:00:00+00:00\",\"2016-08-21T12:00:00+00:00\",\"2017-08-08T00:00:00+00:00\",\"2018-07-25T12:00:00+00:00\",\"2019-07-12T00:00:00+00:00\",\"2020-06-27T12:00:00+00:00\",\"2021-06-14T00:00:00+00:00\",\"2022-05-31T12:00:00+00:00\"],\"y\":[1,2,1,4,5,9,13,11,9,14,9,4,9,5,5,4,2],\"type\":\"scatter\"},{\"hoverinfo\":\"text\",\"hovertext\":[\"\\u003cb\\u003eTopic 3\\u003c\\u002fb\\u003e\\u003cbr\\u003eWords: frequencies, preferred, class, machine, optimal\",\"\\u003cb\\u003eTopic 3\\u003c\\u002fb\\u003e\\u003cbr\\u003eWords: selfface, myself, alters, input, looking\",\"\\u003cb\\u003eTopic 3\\u003c\\u002fb\\u003e\\u003cbr\\u003eWords: soul, windows, fake, inversion, smiles\",\"\\u003cb\\u003eTopic 3\\u003c\\u002fb\\u003e\\u003cbr\\u003eWords: facial, seeing, emotion, laughter, impression\",\"\\u003cb\\u003eTopic 3\\u003c\\u002fb\\u003e\\u003cbr\\u003eWords: facial, expressions, emotional, eyes, context\",\"\\u003cb\\u003eTopic 3\\u003c\\u002fb\\u003e\\u003cbr\\u003eWords: affective, facial, 47xxy, soundinduced, expressions\",\"\\u003cb\\u003eTopic 3\\u003c\\u002fb\\u003e\\u003cbr\\u003eWords: cop, bad, facial, 2009, rtbased\",\"\\u003cb\\u003eTopic 3\\u003c\\u002fb\\u003e\\u003cbr\\u003eWords: set, facial, intensity, amsterdam, extinction\",\"\\u003cb\\u003eTopic 3\\u003c\\u002fb\\u003e\\u003cbr\\u003eWords: facial, irony, expressions, emotional, verbal\",\"\\u003cb\\u003eTopic 3\\u003c\\u002fb\\u003e\\u003cbr\\u003eWords: subtle, exclusion, even, tuning, leads\",\"\\u003cb\\u003eTopic 3\\u003c\\u002fb\\u003e\\u003cbr\\u003eWords: facial, emotional, blushing, much, interocular\",\"\\u003cb\\u003eTopic 3\\u003c\\u002fb\\u003e\\u003cbr\\u003eWords: facial, contrast, expression, expressions, cinema\",\"\\u003cb\\u003eTopic 3\\u003c\\u002fb\\u003e\\u003cbr\\u003eWords: facial, face, stranger, genuineness, smiling\",\"\\u003cb\\u003eTopic 3\\u003c\\u002fb\\u003e\\u003cbr\\u003eWords: aversive, angry, expressions, actions, facial\"],\"marker\":{\"color\":\"#F0E442\"},\"mode\":\"lines\",\"name\":\"3_facial_expressions_emotional_face\",\"x\":[\"2007-12-24T00:00:00+00:00\",\"2008-12-09T12:00:00+00:00\",\"2010-11-12T12:00:00+00:00\",\"2011-10-30T00:00:00+00:00\",\"2012-10-15T12:00:00+00:00\",\"2013-10-02T00:00:00+00:00\",\"2014-09-18T12:00:00+00:00\",\"2015-09-05T00:00:00+00:00\",\"2016-08-21T12:00:00+00:00\",\"2017-08-08T00:00:00+00:00\",\"2018-07-25T12:00:00+00:00\",\"2019-07-12T00:00:00+00:00\",\"2020-06-27T12:00:00+00:00\",\"2021-06-14T00:00:00+00:00\"],\"y\":[1,2,3,8,10,6,4,3,7,2,6,8,7,1],\"type\":\"scatter\"},{\"hoverinfo\":\"text\",\"hovertext\":[\"\\u003cb\\u003eTopic 4\\u003c\\u002fb\\u003e\\u003cbr\\u003eWords: autism, spectrum, autistic, disorders, traits\",\"\\u003cb\\u003eTopic 4\\u003c\\u002fb\\u003e\\u003cbr\\u003eWords: autism, spectrum, gene, candidate, sez6l2\",\"\\u003cb\\u003eTopic 4\\u003c\\u002fb\\u003e\\u003cbr\\u003eWords: autism, spectrum, disorders, highfunctioning, stockholm\",\"\\u003cb\\u003eTopic 4\\u003c\\u002fb\\u003e\\u003cbr\\u003eWords: autism, spectrum, atypical, children, disorders\",\"\\u003cb\\u003eTopic 4\\u003c\\u002fb\\u003e\\u003cbr\\u003eWords: autism, spectrum, disorder, autistic, face\",\"\\u003cb\\u003eTopic 4\\u003c\\u002fb\\u003e\\u003cbr\\u003eWords: autism, spectrum, autistic, disorder, disorders\",\"\\u003cb\\u003eTopic 4\\u003c\\u002fb\\u003e\\u003cbr\\u003eWords: autism, employment, crebbp, ch1, histone\",\"\\u003cb\\u003eTopic 4\\u003c\\u002fb\\u003e\\u003cbr\\u003eWords: beforeandafter, autism, intellectual, spectrum, disability\",\"\\u003cb\\u003eTopic 4\\u003c\\u002fb\\u003e\\u003cbr\\u003eWords: autism, spectrum, disorder, autistic, children\",\"\\u003cb\\u003eTopic 4\\u003c\\u002fb\\u003e\\u003cbr\\u003eWords: autism, spectrum, sympathy, disorder, autistic\",\"\\u003cb\\u003eTopic 4\\u003c\\u002fb\\u003e\\u003cbr\\u003eWords: autism, spectrum, children, semantic, dementia\",\"\\u003cb\\u003eTopic 4\\u003c\\u002fb\\u003e\\u003cbr\\u003eWords: masks, autistic, individuals, general, recognition\",\"\\u003cb\\u003eTopic 4\\u003c\\u002fb\\u003e\\u003cbr\\u003eWords: neuroanatomical, diagnosis, identifying, autism, machine\"],\"marker\":{\"color\":\"#D55E00\"},\"mode\":\"lines\",\"name\":\"4_autism_spectrum_autistic_disorder\",\"x\":[\"2009-11-26T00:00:00+00:00\",\"2010-11-12T12:00:00+00:00\",\"2011-10-30T00:00:00+00:00\",\"2012-10-15T12:00:00+00:00\",\"2013-10-02T00:00:00+00:00\",\"2014-09-18T12:00:00+00:00\",\"2015-09-05T00:00:00+00:00\",\"2016-08-21T12:00:00+00:00\",\"2017-08-08T00:00:00+00:00\",\"2018-07-25T12:00:00+00:00\",\"2020-06-27T12:00:00+00:00\",\"2021-06-14T00:00:00+00:00\",\"2022-05-31T12:00:00+00:00\"],\"y\":[5,3,3,9,8,7,2,1,8,4,6,1,1],\"type\":\"scatter\"},{\"hoverinfo\":\"text\",\"hovertext\":[\"\\u003cb\\u003eTopic 5\\u003c\\u002fb\\u003e\\u003cbr\\u003eWords: successfailure, modeled, coach, dismissing, changing\",\"\\u003cb\\u003eTopic 5\\u003c\\u002fb\\u003e\\u003cbr\\u003eWords: teams, basketball, strategic, networks, players\",\"\\u003cb\\u003eTopic 5\\u003c\\u002fb\\u003e\\u003cbr\\u003eWords: lucrative, arts, pedagogy, cater, contracts\",\"\\u003cb\\u003eTopic 5\\u003c\\u002fb\\u003e\\u003cbr\\u003eWords: players, soccer, processes, sport, iron\",\"\\u003cb\\u003eTopic 5\\u003c\\u002fb\\u003e\\u003cbr\\u003eWords: advantage, play, 5050, pentathlon, intangible\",\"\\u003cb\\u003eTopic 5\\u003c\\u002fb\\u003e\\u003cbr\\u003eWords: competition, identity, rugby, algorithms, under20s\",\"\\u003cb\\u003eTopic 5\\u003c\\u002fb\\u003e\\u003cbr\\u003eWords: soccer, question, players, levels, physical\",\"\\u003cb\\u003eTopic 5\\u003c\\u002fb\\u003e\\u003cbr\\u003eWords: soccer, players, tactical, 11, vs\",\"\\u003cb\\u003eTopic 5\\u003c\\u002fb\\u003e\\u003cbr\\u003eWords: youth, caribbean, sportinjury, recreational, players\",\"\\u003cb\\u003eTopic 5\\u003c\\u002fb\\u003e\\u003cbr\\u003eWords: players, physical, performance, seasons, esports\",\"\\u003cb\\u003eTopic 5\\u003c\\u002fb\\u003e\\u003cbr\\u003eWords: youth, players, tactical, sport, technical\",\"\\u003cb\\u003eTopic 5\\u003c\\u002fb\\u003e\\u003cbr\\u003eWords: tooth, sprint, players, deterrent, endurance\"],\"marker\":{\"color\":\"#0072B2\"},\"mode\":\"lines\",\"name\":\"5_players_soccer_sport_sports\",\"x\":[\"2010-11-12T12:00:00+00:00\",\"2012-10-15T12:00:00+00:00\",\"2013-10-02T00:00:00+00:00\",\"2014-09-18T12:00:00+00:00\",\"2015-09-05T00:00:00+00:00\",\"2016-08-21T12:00:00+00:00\",\"2017-08-08T00:00:00+00:00\",\"2018-07-25T12:00:00+00:00\",\"2019-07-12T00:00:00+00:00\",\"2020-06-27T12:00:00+00:00\",\"2021-06-14T00:00:00+00:00\",\"2022-05-31T12:00:00+00:00\"],\"y\":[2,1,4,6,4,3,7,7,4,5,7,4],\"type\":\"scatter\"},{\"hoverinfo\":\"text\",\"hovertext\":[\"\\u003cb\\u003eTopic 6\\u003c\\u002fb\\u003e\\u003cbr\\u003eWords: microorganisms, cooperation, among, game, fairness\",\"\\u003cb\\u003eTopic 6\\u003c\\u002fb\\u003e\\u003cbr\\u003eWords: alliance, revolution, egalitarian, formation, dynamics\",\"\\u003cb\\u003eTopic 6\\u003c\\u002fb\\u003e\\u003cbr\\u003eWords: impulses, periodic, stability, cooperation, game\",\"\\u003cb\\u003eTopic 6\\u003c\\u002fb\\u003e\\u003cbr\\u003eWords: concluding, sentinels, coordinating, epr, threeplayer\",\"\\u003cb\\u003eTopic 6\\u003c\\u002fb\\u003e\\u003cbr\\u003eWords: cooperation, vs, fair, split, theres\",\"\\u003cb\\u003eTopic 6\\u003c\\u002fb\\u003e\\u003cbr\\u003eWords: qos, equality, gtxop, opportunity, theoretic\",\"\\u003cb\\u003eTopic 6\\u003c\\u002fb\\u003e\\u003cbr\\u003eWords: cooperation, dilemmas, punishment, game, fairness\",\"\\u003cb\\u003eTopic 6\\u003c\\u002fb\\u003e\\u003cbr\\u003eWords: inequality, cooperation, donor, gratefully, dilemmas\",\"\\u003cb\\u003eTopic 6\\u003c\\u002fb\\u003e\\u003cbr\\u003eWords: cooperation, assurance, reciprocity, undermines, deception\",\"\\u003cb\\u003eTopic 6\\u003c\\u002fb\\u003e\\u003cbr\\u003eWords: cooperation, rank, deadlock, extortion, fairness\",\"\\u003cb\\u003eTopic 6\\u003c\\u002fb\\u003e\\u003cbr\\u003eWords: cooperation, prisoners, dilemma, sequential, totally\",\"\\u003cb\\u003eTopic 6\\u003c\\u002fb\\u003e\\u003cbr\\u003eWords: justification, reasoningexperimental, centipede, cooperation, mechanism\",\"\\u003cb\\u003eTopic 6\\u003c\\u002fb\\u003e\\u003cbr\\u003eWords: collaboration, trust, cooperation, zerodeterminant, calibration\",\"\\u003cb\\u003eTopic 6\\u003c\\u002fb\\u003e\\u003cbr\\u003eWords: cooperation, stabilise, rockpaperscissors, publicgoods, nperson\",\"\\u003cb\\u003eTopic 6\\u003c\\u002fb\\u003e\\u003cbr\\u003eWords: adapt, norm, fairness, computational, modeling\"],\"marker\":{\"color\":\"#CC79A7\"},\"mode\":\"lines\",\"name\":\"6_cooperation_game_fairness_games\",\"x\":[\"2006-01-20T00:00:00+00:00\",\"2007-12-24T00:00:00+00:00\",\"2009-11-26T00:00:00+00:00\",\"2010-11-12T12:00:00+00:00\",\"2011-10-30T00:00:00+00:00\",\"2012-10-15T12:00:00+00:00\",\"2013-10-02T00:00:00+00:00\",\"2014-09-18T12:00:00+00:00\",\"2015-09-05T00:00:00+00:00\",\"2016-08-21T12:00:00+00:00\",\"2017-08-08T00:00:00+00:00\",\"2018-07-25T12:00:00+00:00\",\"2019-07-12T00:00:00+00:00\",\"2020-06-27T12:00:00+00:00\",\"2022-05-31T12:00:00+00:00\"],\"y\":[1,1,1,2,4,4,6,11,2,5,4,2,4,4,1],\"type\":\"scatter\"},{\"hoverinfo\":\"text\",\"hovertext\":[\"\\u003cb\\u003eTopic 7\\u003c\\u002fb\\u003e\\u003cbr\\u003eWords: meaning, principal, components, semantic, measurement\",\"\\u003cb\\u003eTopic 7\\u003c\\u002fb\\u003e\\u003cbr\\u003eWords: language, euphemisms, nonclassical, swearing, relativity\",\"\\u003cb\\u003eTopic 7\\u003c\\u002fb\\u003e\\u003cbr\\u003eWords: masked, spoken, clarity, positivity, sentences\",\"\\u003cb\\u003eTopic 7\\u003c\\u002fb\\u003e\\u003cbr\\u003eWords: reading, chinese, receptive, eight, vocabulary\",\"\\u003cb\\u003eTopic 7\\u003c\\u002fb\\u003e\\u003cbr\\u003eWords: reading, chinese, lexical, language, characters\",\"\\u003cb\\u003eTopic 7\\u003c\\u002fb\\u003e\\u003cbr\\u003eWords: word, preparation, keyword, retrieval, modality\",\"\\u003cb\\u003eTopic 7\\u003c\\u002fb\\u003e\\u003cbr\\u003eWords: lexical, english, malaysia, grammar, vhi10\",\"\\u003cb\\u003eTopic 7\\u003c\\u002fb\\u003e\\u003cbr\\u003eWords: chinese, cantonese, learners, 292, twocharacter\",\"\\u003cb\\u003eTopic 7\\u003c\\u002fb\\u003e\\u003cbr\\u003eWords: reading, radar, classroom, reorganization, fastscreening\",\"\\u003cb\\u003eTopic 7\\u003c\\u002fb\\u003e\\u003cbr\\u003eWords: illiterate, literate, speech, modulation, versus\",\"\\u003cb\\u003eTopic 7\\u003c\\u002fb\\u003e\\u003cbr\\u003eWords: orthographic, better, secondlanguage, yours, written\",\"\\u003cb\\u003eTopic 7\\u003c\\u002fb\\u003e\\u003cbr\\u003eWords: supervision, deep, cuneiform, transliteration, weak\",\"\\u003cb\\u003eTopic 7\\u003c\\u002fb\\u003e\\u003cbr\\u003eWords: regularization, auber, bert, automated, language\",\"\\u003cb\\u003eTopic 7\\u003c\\u002fb\\u003e\\u003cbr\\u003eWords: linguistic, speech, german, hearing, impairment\"],\"marker\":{\"color\":\"#E69F00\"},\"mode\":\"lines\",\"name\":\"7_language_chinese_reading_lexical\",\"x\":[\"2009-11-26T00:00:00+00:00\",\"2010-11-12T12:00:00+00:00\",\"2011-10-30T00:00:00+00:00\",\"2012-10-15T12:00:00+00:00\",\"2013-10-02T00:00:00+00:00\",\"2014-09-18T12:00:00+00:00\",\"2015-09-05T00:00:00+00:00\",\"2016-08-21T12:00:00+00:00\",\"2017-08-08T00:00:00+00:00\",\"2018-07-25T12:00:00+00:00\",\"2019-07-12T00:00:00+00:00\",\"2020-06-27T12:00:00+00:00\",\"2021-06-14T00:00:00+00:00\",\"2022-05-31T12:00:00+00:00\"],\"y\":[1,2,3,5,6,4,4,5,4,1,4,2,1,1],\"type\":\"scatter\"},{\"hoverinfo\":\"text\",\"hovertext\":[\"\\u003cb\\u003eTopic 8\\u003c\\u002fb\\u003e\\u003cbr\\u003eWords: bombay, salaam, mumbai, lowincome, foundation\",\"\\u003cb\\u003eTopic 8\\u003c\\u002fb\\u003e\\u003cbr\\u003eWords: cigarette, 12month, nongenetic, experimentation, eclat\",\"\\u003cb\\u003eTopic 8\\u003c\\u002fb\\u003e\\u003cbr\\u003eWords: smoking, tobacco, cigarette, use, intentions\",\"\\u003cb\\u003eTopic 8\\u003c\\u002fb\\u003e\\u003cbr\\u003eWords: cigarette, florida, pancreatitis, 20112014, electronic\",\"\\u003cb\\u003eTopic 8\\u003c\\u002fb\\u003e\\u003cbr\\u003eWords: pervasive, vaporous, advertisements, campaign, cigarette\",\"\\u003cb\\u003eTopic 8\\u003c\\u002fb\\u003e\\u003cbr\\u003eWords: smoking, predispose, drd4, carbonyl, htr2a\",\"\\u003cb\\u003eTopic 8\\u003c\\u002fb\\u003e\\u003cbr\\u003eWords: cigarette, flavor, ecigarette, electronic, switching\",\"\\u003cb\\u003eTopic 8\\u003c\\u002fb\\u003e\\u003cbr\\u003eWords: smoking, tobacco, ecigarette, emirates, arab\",\"\\u003cb\\u003eTopic 8\\u003c\\u002fb\\u003e\\u003cbr\\u003eWords: cigarettes, electronic, smoking, use, zhejiang\",\"\\u003cb\\u003eTopic 8\\u003c\\u002fb\\u003e\\u003cbr\\u003eWords: smoking, smokers, ecigarette, smokefree, cigarette\",\"\\u003cb\\u003eTopic 8\\u003c\\u002fb\\u003e\\u003cbr\\u003eWords: ecigarette, smoking, quit, relieve, cooling\",\"\\u003cb\\u003eTopic 8\\u003c\\u002fb\\u003e\\u003cbr\\u003eWords: adipocytes, ecigarette, cessation, smoking, residential\"],\"marker\":{\"color\":\"#56B4E9\"},\"mode\":\"lines\",\"name\":\"8_smoking_cigarette_tobacco_ecigarette\",\"x\":[\"2011-10-30T00:00:00+00:00\",\"2012-10-15T12:00:00+00:00\",\"2013-10-02T00:00:00+00:00\",\"2014-09-18T12:00:00+00:00\",\"2015-09-05T00:00:00+00:00\",\"2016-08-21T12:00:00+00:00\",\"2017-08-08T00:00:00+00:00\",\"2018-07-25T12:00:00+00:00\",\"2019-07-12T00:00:00+00:00\",\"2020-06-27T12:00:00+00:00\",\"2021-06-14T00:00:00+00:00\",\"2022-05-31T12:00:00+00:00\"],\"y\":[1,2,7,2,2,2,5,4,3,7,3,2],\"type\":\"scatter\"},{\"hoverinfo\":\"text\",\"hovertext\":[\"\\u003cb\\u003eTopic 9\\u003c\\u002fb\\u003e\\u003cbr\\u003eWords: crossroads, conspicuous, categories, concealable, communicate\",\"\\u003cb\\u003eTopic 9\\u003c\\u002fb\\u003e\\u003cbr\\u003eWords: sexual, fertility, trigger, sticklebacks, jealousy\",\"\\u003cb\\u003eTopic 9\\u003c\\u002fb\\u003e\\u003cbr\\u003eWords: flaunt, it, sexual, youve, condom\",\"\\u003cb\\u003eTopic 9\\u003c\\u002fb\\u003e\\u003cbr\\u003eWords: sexual, orientation, psychogenic, erotic, erectile\",\"\\u003cb\\u003eTopic 9\\u003c\\u002fb\\u003e\\u003cbr\\u003eWords: sexual, disgust, interactions, orientation, faafafine\",\"\\u003cb\\u003eTopic 9\\u003c\\u002fb\\u003e\\u003cbr\\u003eWords: inconsistency, expressivity, gender, experience, differences\",\"\\u003cb\\u003eTopic 9\\u003c\\u002fb\\u003e\\u003cbr\\u003eWords: recommendations, surveys, sexgender, transgenderinclusive, bisexual\",\"\\u003cb\\u003eTopic 9\\u003c\\u002fb\\u003e\\u003cbr\\u003eWords: sexual, orientation, concurrency, britain, gendera\",\"\\u003cb\\u003eTopic 9\\u003c\\u002fb\\u003e\\u003cbr\\u003eWords: sexual, american, gender, men, bisexual\",\"\\u003cb\\u003eTopic 9\\u003c\\u002fb\\u003e\\u003cbr\\u003eWords: sexual, excitation, assertiveness, oromia, nekemte\",\"\\u003cb\\u003eTopic 9\\u003c\\u002fb\\u003e\\u003cbr\\u003eWords: sexual, mens, shortterm, orientation, faceshape\",\"\\u003cb\\u003eTopic 9\\u003c\\u002fb\\u003e\\u003cbr\\u003eWords: genderaffirming, coming, transgender, sexual, fire\"],\"marker\":{\"color\":\"#009E73\"},\"mode\":\"lines\",\"name\":\"9_sexual_orientation_men_gender\",\"x\":[\"2010-11-12T12:00:00+00:00\",\"2011-10-30T00:00:00+00:00\",\"2012-10-15T12:00:00+00:00\",\"2013-10-02T00:00:00+00:00\",\"2014-09-18T12:00:00+00:00\",\"2015-09-05T00:00:00+00:00\",\"2016-08-21T12:00:00+00:00\",\"2017-08-08T00:00:00+00:00\",\"2018-07-25T12:00:00+00:00\",\"2019-07-12T00:00:00+00:00\",\"2020-06-27T12:00:00+00:00\",\"2021-06-14T00:00:00+00:00\"],\"y\":[1,5,2,4,6,1,2,4,5,2,4,2],\"type\":\"scatter\"}],                        {\"template\":{\"data\":{\"barpolar\":[{\"marker\":{\"line\":{\"color\":\"white\",\"width\":0.5},\"pattern\":{\"fillmode\":\"overlay\",\"size\":10,\"solidity\":0.2}},\"type\":\"barpolar\"}],\"bar\":[{\"error_x\":{\"color\":\"rgb(36,36,36)\"},\"error_y\":{\"color\":\"rgb(36,36,36)\"},\"marker\":{\"line\":{\"color\":\"white\",\"width\":0.5},\"pattern\":{\"fillmode\":\"overlay\",\"size\":10,\"solidity\":0.2}},\"type\":\"bar\"}],\"carpet\":[{\"aaxis\":{\"endlinecolor\":\"rgb(36,36,36)\",\"gridcolor\":\"white\",\"linecolor\":\"white\",\"minorgridcolor\":\"white\",\"startlinecolor\":\"rgb(36,36,36)\"},\"baxis\":{\"endlinecolor\":\"rgb(36,36,36)\",\"gridcolor\":\"white\",\"linecolor\":\"white\",\"minorgridcolor\":\"white\",\"startlinecolor\":\"rgb(36,36,36)\"},\"type\":\"carpet\"}],\"choropleth\":[{\"colorbar\":{\"outlinewidth\":1,\"tickcolor\":\"rgb(36,36,36)\",\"ticks\":\"outside\"},\"type\":\"choropleth\"}],\"contourcarpet\":[{\"colorbar\":{\"outlinewidth\":1,\"tickcolor\":\"rgb(36,36,36)\",\"ticks\":\"outside\"},\"type\":\"contourcarpet\"}],\"contour\":[{\"colorbar\":{\"outlinewidth\":1,\"tickcolor\":\"rgb(36,36,36)\",\"ticks\":\"outside\"},\"colorscale\":[[0.0,\"#440154\"],[0.1111111111111111,\"#482878\"],[0.2222222222222222,\"#3e4989\"],[0.3333333333333333,\"#31688e\"],[0.4444444444444444,\"#26828e\"],[0.5555555555555556,\"#1f9e89\"],[0.6666666666666666,\"#35b779\"],[0.7777777777777778,\"#6ece58\"],[0.8888888888888888,\"#b5de2b\"],[1.0,\"#fde725\"]],\"type\":\"contour\"}],\"heatmapgl\":[{\"colorbar\":{\"outlinewidth\":1,\"tickcolor\":\"rgb(36,36,36)\",\"ticks\":\"outside\"},\"colorscale\":[[0.0,\"#440154\"],[0.1111111111111111,\"#482878\"],[0.2222222222222222,\"#3e4989\"],[0.3333333333333333,\"#31688e\"],[0.4444444444444444,\"#26828e\"],[0.5555555555555556,\"#1f9e89\"],[0.6666666666666666,\"#35b779\"],[0.7777777777777778,\"#6ece58\"],[0.8888888888888888,\"#b5de2b\"],[1.0,\"#fde725\"]],\"type\":\"heatmapgl\"}],\"heatmap\":[{\"colorbar\":{\"outlinewidth\":1,\"tickcolor\":\"rgb(36,36,36)\",\"ticks\":\"outside\"},\"colorscale\":[[0.0,\"#440154\"],[0.1111111111111111,\"#482878\"],[0.2222222222222222,\"#3e4989\"],[0.3333333333333333,\"#31688e\"],[0.4444444444444444,\"#26828e\"],[0.5555555555555556,\"#1f9e89\"],[0.6666666666666666,\"#35b779\"],[0.7777777777777778,\"#6ece58\"],[0.8888888888888888,\"#b5de2b\"],[1.0,\"#fde725\"]],\"type\":\"heatmap\"}],\"histogram2dcontour\":[{\"colorbar\":{\"outlinewidth\":1,\"tickcolor\":\"rgb(36,36,36)\",\"ticks\":\"outside\"},\"colorscale\":[[0.0,\"#440154\"],[0.1111111111111111,\"#482878\"],[0.2222222222222222,\"#3e4989\"],[0.3333333333333333,\"#31688e\"],[0.4444444444444444,\"#26828e\"],[0.5555555555555556,\"#1f9e89\"],[0.6666666666666666,\"#35b779\"],[0.7777777777777778,\"#6ece58\"],[0.8888888888888888,\"#b5de2b\"],[1.0,\"#fde725\"]],\"type\":\"histogram2dcontour\"}],\"histogram2d\":[{\"colorbar\":{\"outlinewidth\":1,\"tickcolor\":\"rgb(36,36,36)\",\"ticks\":\"outside\"},\"colorscale\":[[0.0,\"#440154\"],[0.1111111111111111,\"#482878\"],[0.2222222222222222,\"#3e4989\"],[0.3333333333333333,\"#31688e\"],[0.4444444444444444,\"#26828e\"],[0.5555555555555556,\"#1f9e89\"],[0.6666666666666666,\"#35b779\"],[0.7777777777777778,\"#6ece58\"],[0.8888888888888888,\"#b5de2b\"],[1.0,\"#fde725\"]],\"type\":\"histogram2d\"}],\"histogram\":[{\"marker\":{\"line\":{\"color\":\"white\",\"width\":0.6}},\"type\":\"histogram\"}],\"mesh3d\":[{\"colorbar\":{\"outlinewidth\":1,\"tickcolor\":\"rgb(36,36,36)\",\"ticks\":\"outside\"},\"type\":\"mesh3d\"}],\"parcoords\":[{\"line\":{\"colorbar\":{\"outlinewidth\":1,\"tickcolor\":\"rgb(36,36,36)\",\"ticks\":\"outside\"}},\"type\":\"parcoords\"}],\"pie\":[{\"automargin\":true,\"type\":\"pie\"}],\"scatter3d\":[{\"line\":{\"colorbar\":{\"outlinewidth\":1,\"tickcolor\":\"rgb(36,36,36)\",\"ticks\":\"outside\"}},\"marker\":{\"colorbar\":{\"outlinewidth\":1,\"tickcolor\":\"rgb(36,36,36)\",\"ticks\":\"outside\"}},\"type\":\"scatter3d\"}],\"scattercarpet\":[{\"marker\":{\"colorbar\":{\"outlinewidth\":1,\"tickcolor\":\"rgb(36,36,36)\",\"ticks\":\"outside\"}},\"type\":\"scattercarpet\"}],\"scattergeo\":[{\"marker\":{\"colorbar\":{\"outlinewidth\":1,\"tickcolor\":\"rgb(36,36,36)\",\"ticks\":\"outside\"}},\"type\":\"scattergeo\"}],\"scattergl\":[{\"marker\":{\"colorbar\":{\"outlinewidth\":1,\"tickcolor\":\"rgb(36,36,36)\",\"ticks\":\"outside\"}},\"type\":\"scattergl\"}],\"scattermapbox\":[{\"marker\":{\"colorbar\":{\"outlinewidth\":1,\"tickcolor\":\"rgb(36,36,36)\",\"ticks\":\"outside\"}},\"type\":\"scattermapbox\"}],\"scatterpolargl\":[{\"marker\":{\"colorbar\":{\"outlinewidth\":1,\"tickcolor\":\"rgb(36,36,36)\",\"ticks\":\"outside\"}},\"type\":\"scatterpolargl\"}],\"scatterpolar\":[{\"marker\":{\"colorbar\":{\"outlinewidth\":1,\"tickcolor\":\"rgb(36,36,36)\",\"ticks\":\"outside\"}},\"type\":\"scatterpolar\"}],\"scatter\":[{\"fillpattern\":{\"fillmode\":\"overlay\",\"size\":10,\"solidity\":0.2},\"type\":\"scatter\"}],\"scatterternary\":[{\"marker\":{\"colorbar\":{\"outlinewidth\":1,\"tickcolor\":\"rgb(36,36,36)\",\"ticks\":\"outside\"}},\"type\":\"scatterternary\"}],\"surface\":[{\"colorbar\":{\"outlinewidth\":1,\"tickcolor\":\"rgb(36,36,36)\",\"ticks\":\"outside\"},\"colorscale\":[[0.0,\"#440154\"],[0.1111111111111111,\"#482878\"],[0.2222222222222222,\"#3e4989\"],[0.3333333333333333,\"#31688e\"],[0.4444444444444444,\"#26828e\"],[0.5555555555555556,\"#1f9e89\"],[0.6666666666666666,\"#35b779\"],[0.7777777777777778,\"#6ece58\"],[0.8888888888888888,\"#b5de2b\"],[1.0,\"#fde725\"]],\"type\":\"surface\"}],\"table\":[{\"cells\":{\"fill\":{\"color\":\"rgb(237,237,237)\"},\"line\":{\"color\":\"white\"}},\"header\":{\"fill\":{\"color\":\"rgb(217,217,217)\"},\"line\":{\"color\":\"white\"}},\"type\":\"table\"}]},\"layout\":{\"annotationdefaults\":{\"arrowhead\":0,\"arrowwidth\":1},\"autotypenumbers\":\"strict\",\"coloraxis\":{\"colorbar\":{\"outlinewidth\":1,\"tickcolor\":\"rgb(36,36,36)\",\"ticks\":\"outside\"}},\"colorscale\":{\"diverging\":[[0.0,\"rgb(103,0,31)\"],[0.1,\"rgb(178,24,43)\"],[0.2,\"rgb(214,96,77)\"],[0.3,\"rgb(244,165,130)\"],[0.4,\"rgb(253,219,199)\"],[0.5,\"rgb(247,247,247)\"],[0.6,\"rgb(209,229,240)\"],[0.7,\"rgb(146,197,222)\"],[0.8,\"rgb(67,147,195)\"],[0.9,\"rgb(33,102,172)\"],[1.0,\"rgb(5,48,97)\"]],\"sequential\":[[0.0,\"#440154\"],[0.1111111111111111,\"#482878\"],[0.2222222222222222,\"#3e4989\"],[0.3333333333333333,\"#31688e\"],[0.4444444444444444,\"#26828e\"],[0.5555555555555556,\"#1f9e89\"],[0.6666666666666666,\"#35b779\"],[0.7777777777777778,\"#6ece58\"],[0.8888888888888888,\"#b5de2b\"],[1.0,\"#fde725\"]],\"sequentialminus\":[[0.0,\"#440154\"],[0.1111111111111111,\"#482878\"],[0.2222222222222222,\"#3e4989\"],[0.3333333333333333,\"#31688e\"],[0.4444444444444444,\"#26828e\"],[0.5555555555555556,\"#1f9e89\"],[0.6666666666666666,\"#35b779\"],[0.7777777777777778,\"#6ece58\"],[0.8888888888888888,\"#b5de2b\"],[1.0,\"#fde725\"]]},\"colorway\":[\"#1F77B4\",\"#FF7F0E\",\"#2CA02C\",\"#D62728\",\"#9467BD\",\"#8C564B\",\"#E377C2\",\"#7F7F7F\",\"#BCBD22\",\"#17BECF\"],\"font\":{\"color\":\"rgb(36,36,36)\"},\"geo\":{\"bgcolor\":\"white\",\"lakecolor\":\"white\",\"landcolor\":\"white\",\"showlakes\":true,\"showland\":true,\"subunitcolor\":\"white\"},\"hoverlabel\":{\"align\":\"left\"},\"hovermode\":\"closest\",\"mapbox\":{\"style\":\"light\"},\"paper_bgcolor\":\"white\",\"plot_bgcolor\":\"white\",\"polar\":{\"angularaxis\":{\"gridcolor\":\"rgb(232,232,232)\",\"linecolor\":\"rgb(36,36,36)\",\"showgrid\":false,\"showline\":true,\"ticks\":\"outside\"},\"bgcolor\":\"white\",\"radialaxis\":{\"gridcolor\":\"rgb(232,232,232)\",\"linecolor\":\"rgb(36,36,36)\",\"showgrid\":false,\"showline\":true,\"ticks\":\"outside\"}},\"scene\":{\"xaxis\":{\"backgroundcolor\":\"white\",\"gridcolor\":\"rgb(232,232,232)\",\"gridwidth\":2,\"linecolor\":\"rgb(36,36,36)\",\"showbackground\":true,\"showgrid\":false,\"showline\":true,\"ticks\":\"outside\",\"zeroline\":false,\"zerolinecolor\":\"rgb(36,36,36)\"},\"yaxis\":{\"backgroundcolor\":\"white\",\"gridcolor\":\"rgb(232,232,232)\",\"gridwidth\":2,\"linecolor\":\"rgb(36,36,36)\",\"showbackground\":true,\"showgrid\":false,\"showline\":true,\"ticks\":\"outside\",\"zeroline\":false,\"zerolinecolor\":\"rgb(36,36,36)\"},\"zaxis\":{\"backgroundcolor\":\"white\",\"gridcolor\":\"rgb(232,232,232)\",\"gridwidth\":2,\"linecolor\":\"rgb(36,36,36)\",\"showbackground\":true,\"showgrid\":false,\"showline\":true,\"ticks\":\"outside\",\"zeroline\":false,\"zerolinecolor\":\"rgb(36,36,36)\"}},\"shapedefaults\":{\"fillcolor\":\"black\",\"line\":{\"width\":0},\"opacity\":0.3},\"ternary\":{\"aaxis\":{\"gridcolor\":\"rgb(232,232,232)\",\"linecolor\":\"rgb(36,36,36)\",\"showgrid\":false,\"showline\":true,\"ticks\":\"outside\"},\"baxis\":{\"gridcolor\":\"rgb(232,232,232)\",\"linecolor\":\"rgb(36,36,36)\",\"showgrid\":false,\"showline\":true,\"ticks\":\"outside\"},\"bgcolor\":\"white\",\"caxis\":{\"gridcolor\":\"rgb(232,232,232)\",\"linecolor\":\"rgb(36,36,36)\",\"showgrid\":false,\"showline\":true,\"ticks\":\"outside\"}},\"title\":{\"x\":0.05},\"xaxis\":{\"automargin\":true,\"gridcolor\":\"rgb(232,232,232)\",\"linecolor\":\"rgb(36,36,36)\",\"showgrid\":false,\"showline\":true,\"ticks\":\"outside\",\"title\":{\"standoff\":15},\"zeroline\":false,\"zerolinecolor\":\"rgb(36,36,36)\"},\"yaxis\":{\"automargin\":true,\"gridcolor\":\"rgb(232,232,232)\",\"linecolor\":\"rgb(36,36,36)\",\"showgrid\":false,\"showline\":true,\"ticks\":\"outside\",\"title\":{\"standoff\":15},\"zeroline\":false,\"zerolinecolor\":\"rgb(36,36,36)\"}}},\"xaxis\":{\"showgrid\":true},\"yaxis\":{\"showgrid\":true,\"title\":{\"text\":\"Frequency\"}},\"title\":{\"font\":{\"size\":22,\"color\":\"Black\"},\"text\":\"\\u003cb\\u003eTopics over Time\\u003c\\u002fb\\u003e\",\"y\":0.95,\"x\":0.4,\"xanchor\":\"center\",\"yanchor\":\"top\"},\"hoverlabel\":{\"font\":{\"size\":16,\"family\":\"Rockwell\"},\"bgcolor\":\"white\"},\"width\":1250,\"height\":450,\"legend\":{\"title\":{\"text\":\"\\u003cb\\u003eGlobal Topic Representation\"}}},                        {\"responsive\": true}                    ).then(function(){\n",
       "                            \n",
       "var gd = document.getElementById('72bdec5c-5301-48b8-849d-2dc9e3a04b16');\n",
       "var x = new MutationObserver(function (mutations, observer) {{\n",
       "        var display = window.getComputedStyle(gd).display;\n",
       "        if (!display || display === 'none') {{\n",
       "            console.log([gd, 'removed!']);\n",
       "            Plotly.purge(gd);\n",
       "            observer.disconnect();\n",
       "        }}\n",
       "}});\n",
       "\n",
       "// Listen for the removal of the full notebook cells\n",
       "var notebookContainer = gd.closest('#notebook-container');\n",
       "if (notebookContainer) {{\n",
       "    x.observe(notebookContainer, {childList: true});\n",
       "}}\n",
       "\n",
       "// Listen for the clearing of the current output cell\n",
       "var outputEl = gd.closest('.output');\n",
       "if (outputEl) {{\n",
       "    x.observe(outputEl, {childList: true});\n",
       "}}\n",
       "\n",
       "                        })                };                });            </script>        </div>"
      ]
     },
     "metadata": {},
     "output_type": "display_data"
    }
   ],
   "source": [
    "timestamps20 = subset20.publication_date.to_list()\n",
    "\n",
    "topics_over_time_nc = topic_model_no_cov.topics_over_time(titles_no_cov, timestamps20, nr_bins=20)\n",
    "topic_model_no_cov.visualize_topics_over_time(topics_over_time_nc, top_n_topics=10)"
   ]
  },
  {
   "cell_type": "code",
   "execution_count": 93,
   "metadata": {},
   "outputs": [
    {
     "data": {
      "text/plain": [
       "<Axes: >"
      ]
     },
     "execution_count": 93,
     "metadata": {},
     "output_type": "execute_result"
    },
    {
     "data": {
      "image/png": "[encoded data removed]",
      "text/plain": [
       "<Figure size 640x480 with 2 Axes>"
      ]
     },
     "metadata": {},
     "output_type": "display_data"
    }
   ],
   "source": [
    "dnc = data_nocov[['citations_per_day','views_per_day','received_to_accepted_days','accepted_to_published_days']]\n",
    "sns.heatmap(dnc.corr())"
   ]
  },
  {
   "cell_type": "code",
   "execution_count": null,
   "metadata": {},
   "outputs": [],
   "source": []
  }
 ],
 "metadata": {
  "accelerator": "GPU",
  "colab": {
   "gpuType": "T4",
   "provenance": []
  },
  "kernelspec": {
   "display_name": "Python 3 (ipykernel)",
   "language": "python",
   "name": "python3"
  },
  "language_info": {
   "codemirror_mode": {
    "name": "ipython",
    "version": 3
   },
   "file_extension": ".py",
   "mimetype": "text/x-python",
   "name": "python",
   "nbconvert_exporter": "python",
   "pygments_lexer": "ipython3",
   "version": "3.11.0"
  },
  "widgets": {
   "application/vnd.jupyter.widget-state+json": {
    "0c8f136c59b7415ba8125e44362095e8": {
     "model_module": "@jupyter-widgets/controls",
     "model_module_version": "1.5.0",
     "model_name": "DescriptionStyleModel",
     "state": {
      "_model_module": "@jupyter-widgets/controls",
      "_model_module_version": "1.5.0",
      "_model_name": "DescriptionStyleModel",
      "_view_count": null,
      "_view_module": "@jupyter-widgets/base",
      "_view_module_version": "1.2.0",
      "_view_name": "StyleView",
      "description_width": ""
     }
    },
    "2ef21d394aed4b1db1d02cd8ae0f6457": {
     "model_module": "@jupyter-widgets/controls",
     "model_module_version": "1.5.0",
     "model_name": "HTMLModel",
     "state": {
      "_dom_classes": [],
      "_model_module": "@jupyter-widgets/controls",
      "_model_module_version": "1.5.0",
      "_model_name": "HTMLModel",
      "_view_count": null,
      "_view_module": "@jupyter-widgets/controls",
      "_view_module_version": "1.5.0",
      "_view_name": "HTMLView",
      "description": "",
      "description_tooltip": null,
      "layout": "IPY_MODEL_fed28e7d6c5d4213ad5809d2a7724d4b",
      "placeholder": "​",
      "style": "IPY_MODEL_d2347e4e99eb47e2999b6ec02b2e8891",
      "value": "Batches: 100%"
     }
    },
    "41783c46f0b645c08898e41a840fbce2": {
     "model_module": "@jupyter-widgets/controls",
     "model_module_version": "1.5.0",
     "model_name": "HTMLModel",
     "state": {
      "_dom_classes": [],
      "_model_module": "@jupyter-widgets/controls",
      "_model_module_version": "1.5.0",
      "_model_name": "HTMLModel",
      "_view_count": null,
      "_view_module": "@jupyter-widgets/controls",
      "_view_module_version": "1.5.0",
      "_view_name": "HTMLView",
      "description": "",
      "description_tooltip": null,
      "layout": "IPY_MODEL_900bf7543e384c6cb2e1482d82e3a55e",
      "placeholder": "​",
      "style": "IPY_MODEL_0c8f136c59b7415ba8125e44362095e8",
      "value": " 1556/1556 [00:21&lt;00:00, 96.97it/s]"
     }
    },
    "44f812f51e6e49ca9b0af7be7d855ebe": {
     "model_module": "@jupyter-widgets/controls",
     "model_module_version": "1.5.0",
     "model_name": "HBoxModel",
     "state": {
      "_dom_classes": [],
      "_model_module": "@jupyter-widgets/controls",
      "_model_module_version": "1.5.0",
      "_model_name": "HBoxModel",
      "_view_count": null,
      "_view_module": "@jupyter-widgets/controls",
      "_view_module_version": "1.5.0",
      "_view_name": "HBoxView",
      "box_style": "",
      "children": [
       "IPY_MODEL_2ef21d394aed4b1db1d02cd8ae0f6457",
       "IPY_MODEL_ca568a3e59894ae6bb07c9508b7a09dc",
       "IPY_MODEL_41783c46f0b645c08898e41a840fbce2"
      ],
      "layout": "IPY_MODEL_dc5959a0334443b38bf2fdae68637c99"
     }
    },
    "8b4f7b16fa444469993bac193d9a9846": {
     "model_module": "@jupyter-widgets/controls",
     "model_module_version": "1.5.0",
     "model_name": "ProgressStyleModel",
     "state": {
      "_model_module": "@jupyter-widgets/controls",
      "_model_module_version": "1.5.0",
      "_model_name": "ProgressStyleModel",
      "_view_count": null,
      "_view_module": "@jupyter-widgets/base",
      "_view_module_version": "1.2.0",
      "_view_name": "StyleView",
      "bar_color": null,
      "description_width": ""
     }
    },
    "8c4553522e1144898dd47380db8a3297": {
     "model_module": "@jupyter-widgets/base",
     "model_module_version": "1.2.0",
     "model_name": "LayoutModel",
     "state": {
      "_model_module": "@jupyter-widgets/base",
      "_model_module_version": "1.2.0",
      "_model_name": "LayoutModel",
      "_view_count": null,
      "_view_module": "@jupyter-widgets/base",
      "_view_module_version": "1.2.0",
      "_view_name": "LayoutView",
      "align_content": null,
      "align_items": null,
      "align_self": null,
      "border": null,
      "bottom": null,
      "display": null,
      "flex": null,
      "flex_flow": null,
      "grid_area": null,
      "grid_auto_columns": null,
      "grid_auto_flow": null,
      "grid_auto_rows": null,
      "grid_column": null,
      "grid_gap": null,
      "grid_row": null,
      "grid_template_areas": null,
      "grid_template_columns": null,
      "grid_template_rows": null,
      "height": null,
      "justify_content": null,
      "justify_items": null,
      "left": null,
      "margin": null,
      "max_height": null,
      "max_width": null,
      "min_height": null,
      "min_width": null,
      "object_fit": null,
      "object_position": null,
      "order": null,
      "overflow": null,
      "overflow_x": null,
      "overflow_y": null,
      "padding": null,
      "right": null,
      "top": null,
      "visibility": null,
      "width": null
     }
    },
    "900bf7543e384c6cb2e1482d82e3a55e": {
     "model_module": "@jupyter-widgets/base",
     "model_module_version": "1.2.0",
     "model_name": "LayoutModel",
     "state": {
      "_model_module": "@jupyter-widgets/base",
      "_model_module_version": "1.2.0",
      "_model_name": "LayoutModel",
      "_view_count": null,
      "_view_module": "@jupyter-widgets/base",
      "_view_module_version": "1.2.0",
      "_view_name": "LayoutView",
      "align_content": null,
      "align_items": null,
      "align_self": null,
      "border": null,
      "bottom": null,
      "display": null,
      "flex": null,
      "flex_flow": null,
      "grid_area": null,
      "grid_auto_columns": null,
      "grid_auto_flow": null,
      "grid_auto_rows": null,
      "grid_column": null,
      "grid_gap": null,
      "grid_row": null,
      "grid_template_areas": null,
      "grid_template_columns": null,
      "grid_template_rows": null,
      "height": null,
      "justify_content": null,
      "justify_items": null,
      "left": null,
      "margin": null,
      "max_height": null,
      "max_width": null,
      "min_height": null,
      "min_width": null,
      "object_fit": null,
      "object_position": null,
      "order": null,
      "overflow": null,
      "overflow_x": null,
      "overflow_y": null,
      "padding": null,
      "right": null,
      "top": null,
      "visibility": null,
      "width": null
     }
    },
    "ca568a3e59894ae6bb07c9508b7a09dc": {
     "model_module": "@jupyter-widgets/controls",
     "model_module_version": "1.5.0",
     "model_name": "FloatProgressModel",
     "state": {
      "_dom_classes": [],
      "_model_module": "@jupyter-widgets/controls",
      "_model_module_version": "1.5.0",
      "_model_name": "FloatProgressModel",
      "_view_count": null,
      "_view_module": "@jupyter-widgets/controls",
      "_view_module_version": "1.5.0",
      "_view_name": "ProgressView",
      "bar_style": "success",
      "description": "",
      "description_tooltip": null,
      "layout": "IPY_MODEL_8c4553522e1144898dd47380db8a3297",
      "max": 1556,
      "min": 0,
      "orientation": "horizontal",
      "style": "IPY_MODEL_8b4f7b16fa444469993bac193d9a9846",
      "value": 1556
     }
    },
    "d2347e4e99eb47e2999b6ec02b2e8891": {
     "model_module": "@jupyter-widgets/controls",
     "model_module_version": "1.5.0",
     "model_name": "DescriptionStyleModel",
     "state": {
      "_model_module": "@jupyter-widgets/controls",
      "_model_module_version": "1.5.0",
      "_model_name": "DescriptionStyleModel",
      "_view_count": null,
      "_view_module": "@jupyter-widgets/base",
      "_view_module_version": "1.2.0",
      "_view_name": "StyleView",
      "description_width": ""
     }
    },
    "dc5959a0334443b38bf2fdae68637c99": {
     "model_module": "@jupyter-widgets/base",
     "model_module_version": "1.2.0",
     "model_name": "LayoutModel",
     "state": {
      "_model_module": "@jupyter-widgets/base",
      "_model_module_version": "1.2.0",
      "_model_name": "LayoutModel",
      "_view_count": null,
      "_view_module": "@jupyter-widgets/base",
      "_view_module_version": "1.2.0",
      "_view_name": "LayoutView",
      "align_content": null,
      "align_items": null,
      "align_self": null,
      "border": null,
      "bottom": null,
      "display": null,
      "flex": null,
      "flex_flow": null,
      "grid_area": null,
      "grid_auto_columns": null,
      "grid_auto_flow": null,
      "grid_auto_rows": null,
      "grid_column": null,
      "grid_gap": null,
      "grid_row": null,
      "grid_template_areas": null,
      "grid_template_columns": null,
      "grid_template_rows": null,
      "height": null,
      "justify_content": null,
      "justify_items": null,
      "left": null,
      "margin": null,
      "max_height": null,
      "max_width": null,
      "min_height": null,
      "min_width": null,
      "object_fit": null,
      "object_position": null,
      "order": null,
      "overflow": null,
      "overflow_x": null,
      "overflow_y": null,
      "padding": null,
      "right": null,
      "top": null,
      "visibility": null,
      "width": null
     }
    },
    "fed28e7d6c5d4213ad5809d2a7724d4b": {
     "model_module": "@jupyter-widgets/base",
     "model_module_version": "1.2.0",
     "model_name": "LayoutModel",
     "state": {
      "_model_module": "@jupyter-widgets/base",
      "_model_module_version": "1.2.0",
      "_model_name": "LayoutModel",
      "_view_count": null,
      "_view_module": "@jupyter-widgets/base",
      "_view_module_version": "1.2.0",
      "_view_name": "LayoutView",
      "align_content": null,
      "align_items": null,
      "align_self": null,
      "border": null,
      "bottom": null,
      "display": null,
      "flex": null,
      "flex_flow": null,
      "grid_area": null,
      "grid_auto_columns": null,
      "grid_auto_flow": null,
      "grid_auto_rows": null,
      "grid_column": null,
      "grid_gap": null,
      "grid_row": null,
      "grid_template_areas": null,
      "grid_template_columns": null,
      "grid_template_rows": null,
      "height": null,
      "justify_content": null,
      "justify_items": null,
      "left": null,
      "margin": null,
      "max_height": null,
      "max_width": null,
      "min_height": null,
      "min_width": null,
      "object_fit": null,
      "object_position": null,
      "order": null,
      "overflow": null,
      "overflow_x": null,
      "overflow_y": null,
      "padding": null,
      "right": null,
      "top": null,
      "visibility": null,
      "width": null
     }
    }
   }
  }
 },
 "nbformat": 4,
 "nbformat_minor": 1
}
